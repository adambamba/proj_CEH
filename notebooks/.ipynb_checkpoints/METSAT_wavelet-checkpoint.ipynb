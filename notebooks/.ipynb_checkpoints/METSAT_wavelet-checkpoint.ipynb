{
 "metadata": {
  "name": "",
  "signature": "sha256:11b9ff5087243265bbc3cbf97d8d81e81d43e40257607fa9d7015ef4eb838ff4"
 },
 "nbformat": 3,
 "nbformat_minor": 0,
 "worksheets": [
  {
   "cells": [
    {
     "cell_type": "code",
     "collapsed": false,
     "input": [
      "import numpy as np\n",
      "import os.path\n",
      "from scipy import ndimage\n",
      "import twod as w2d\n",
      "import itertools\n",
      "import matplotlib as mpl\n",
      "import matplotlib.pyplot as plt\n",
      "%matplotlib inline"
     ],
     "language": "python",
     "metadata": {},
     "outputs": [],
     "prompt_number": 64
    },
    {
     "cell_type": "code",
     "collapsed": false,
     "input": [
      "dt = 3. # the resolution in km (3km)\n",
      "#coordinates of lake volta in the meteosat data\n",
      "indxb = 65\n",
      "indxe= 195\n",
      "indyb = 452\n",
      "indye = 538\n",
      "\n",
      "Powers=[]\n",
      "Scales=[]\n",
      "xLocs=[]\n",
      "yLocs=[]\n",
      "years=[]\n",
      "months=[]\n",
      "days=[]\n",
      "hours=[]\n",
      "tirmin=[]\n",
      "tirmean=[]\n",
      "tirloc=[]\n",
      "mn = 0"
     ],
     "language": "python",
     "metadata": {},
     "outputs": [],
     "prompt_number": 34
    },
    {
     "cell_type": "code",
     "collapsed": false,
     "input": [
      "xx=indxe-indxb  # x direction number\n",
      "yy=indye-indyb # y direction number\n",
      "print xx, yy"
     ],
     "language": "python",
     "metadata": {},
     "outputs": [
      {
       "output_type": "stream",
       "stream": "stdout",
       "text": [
        "130 86\n"
       ]
      }
     ],
     "prompt_number": 91
    },
    {
     "cell_type": "code",
     "collapsed": false,
     "input": [
      "d = np.array([2012,1,1,10,0])\n",
      "print yr,mo,dy,hr\n",
      "date=d    "
     ],
     "language": "python",
     "metadata": {},
     "outputs": [
      {
       "output_type": "stream",
       "stream": "stdout",
       "text": [
        "2012 1 1 10\n"
       ]
      }
     ],
     "prompt_number": 50
    },
    {
     "cell_type": "code",
     "collapsed": false,
     "input": [
      "filePattern = \"/users/global/cmt/msg/tropWA/archive_tropWA/ch9/{0:d}/{1:02d}/{0:d}{1:02d}{2:02d}{3:02d}{4:02d}.gra\"\n",
      "if (date[0] > 2012):\n",
      "        filePattern = \"/users/global/danbel/msg/tropWA/archive_tropWA/ch9/{0:d}/{1:02d}/{0:d}{1:02d}{2:02d}{3:02d}{4:02d}.gra\"\n",
      "rrFile = filePattern.format(date[0],date[1],date[2],date[3],date[4])\n",
      "FileExists = os.path.isfile(rrFile)\n",
      "print FileExists\n",
      "print rrFile"
     ],
     "language": "python",
     "metadata": {},
     "outputs": [
      {
       "output_type": "stream",
       "stream": "stdout",
       "text": [
        "True\n",
        "/users/global/cmt/msg/tropWA/archive_tropWA/ch9/2012/01/201201011000.gra\n"
       ]
      }
     ],
     "prompt_number": 73
    },
    {
     "cell_type": "code",
     "collapsed": false,
     "input": [
      "if FileExists:\n",
      "        rrShape = (222,1384) # shape of the meteosat domain\n",
      "        rrMDI = np.uint8(255)\n",
      "        rr = np.fromfile(rrFile,dtype=rrMDI.dtype) # reads from file where rrFile is path\n",
      "        rr.shape = rrShape\n",
      "        rr = rr.astype(np.int32) - 173  # change K to degC\n",
      "        filexist, tir = FileExists, rr\n",
      "else:\n",
      "        filexist, tir = FileExists, np.zeros(1)"
     ],
     "language": "python",
     "metadata": {},
     "outputs": [],
     "prompt_number": 52
    },
    {
     "cell_type": "code",
     "collapsed": false,
     "input": [
      "cs=plt.contourf(tir)\n",
      "cbar = plt.colorbar(cs)\n",
      "plt.figure() \n",
      "# This shows meteosat temperatures in degC over the whole domain (no georeferencing yet)"
     ],
     "language": "python",
     "metadata": {},
     "outputs": [
      {
       "metadata": {},
       "output_type": "pyout",
       "prompt_number": 72,
       "text": [
        "<matplotlib.figure.Figure at 0x7f4f707df250>"
       ]
      },
      {
       "metadata": {},
       "output_type": "display_data",
       "png": "[encoded data removed]",
       "text": [
        "<matplotlib.figure.Figure at 0x7f4f70899210>"
       ]
      },
      {
       "metadata": {},
       "output_type": "display_data",
       "text": [
        "<matplotlib.figure.Figure at 0x7f4f707df250>"
       ]
      }
     ],
     "prompt_number": 72
    },
    {
     "cell_type": "code",
     "collapsed": false,
     "input": [
      "if filexist:\n",
      "        tir = tir.astype(np.float)\n",
      "        tir = tir[indxb:indxe,indyb:indye]  # choose volta region only\n",
      "        tiror = np.copy(tir) # save tiror as original, do not change it\n",
      "        tir[tir>0] = 0.1   # set all warm bits of meteosat to 0.1 (represent land), removes noise\n",
      "        tir = tir - np.mean(tir)"
     ],
     "language": "python",
     "metadata": {},
     "outputs": [],
     "prompt_number": 74
    },
    {
     "cell_type": "code",
     "collapsed": false,
     "input": [
      "mother2d = w2d.Mexican_hat() # create mother wavelet mexican hat\n",
      "# apply wavelet and do the scaling stuff\n",
      "#what you get:\n",
      "#x, y scale needs to be same = needs to be square \n",
      "wavel2d, scales2d, freqs2d = w2d.cwt2d(tir, dt, dt, dj=1./12, s0=6./mother2d.flambda(), J=106)\n",
      "wavel2d[np.real(wavel2d>=0)] = 0.01\n",
      "power2d = (np.abs(wavel2d)) ** 2 # Normalized wavelet power spectrum \n",
      "period2d = 1. / freqs2d\n",
      "scales2d.shape = (len(scales2d),1,1)\n",
      "power2ds = power2d / (scales2d**2)"
     ],
     "language": "python",
     "metadata": {},
     "outputs": [],
     "prompt_number": 109
    },
    {
     "cell_type": "code",
     "collapsed": false,
     "input": [
      "scales2d.shape\n",
      "#plt.contourf(scales2d[0,:,:])\n",
      "# the python shape is [ time * y * x ] in np arrays, so time is first dimension! "
     ],
     "language": "python",
     "metadata": {},
     "outputs": [
      {
       "metadata": {},
       "output_type": "pyout",
       "prompt_number": 111,
       "text": [
        "(107, 1, 1)"
       ]
      }
     ],
     "prompt_number": 111
    },
    {
     "cell_type": "code",
     "collapsed": false,
     "input": [
      " #Find maxima of the 2D wavelet spectrum    \n",
      "igra = power2ds\n",
      "maxigra = (igra == ndimage.maximum_filter(igra,size=(5,5,5),\n",
      "                   mode='constant',cval=np.amax(igra)+1))\n",
      "maxigra = maxigra.astype(int)\n",
      "#igrathresh = np.repeat(50*(scales2d/5.)**.5,igra.shape[1],axis=1) #NOTICE the scale-dependant threshold for power\n",
      "igrathresh = np.repeat(1*(scales2d/1.)**.5,igra.shape[1],axis=1) #NOTICE the scale-dependant threshold for power\n",
      "igrathresh = np.repeat(igrathresh,igra.shape[2],axis=2)\n",
      "igrabkg = (igra < igrathresh).astype(int) #Apply the threshold\n",
      "igrapeaks = maxigra - igrabkg  #Remove all smaller than the threshold\n",
      "zpks,ypks,xpks = np.argwhere(igrapeaks == 1).T\n",
      "        \n",
      "       "
     ],
     "language": "python",
     "metadata": {},
     "outputs": [],
     "prompt_number": 113
    },
    {
     "cell_type": "code",
     "collapsed": false,
     "input": [
      "Powers = np.concatenate((Powers,igra[zpks,ypks,xpks]),axis=0)\n",
      "Scales = np.concatenate((Scales,period2d[zpks]/2.),axis=0)\n",
      "xLocs = np.concatenate((xLocs,xpks),axis=0)\n",
      "yLocs = np.concatenate((yLocs,ypks),axis=0)\n",
      "years = np.concatenate((years,np.repeat(yr,len(xpks))),axis=0)\n",
      "months = np.concatenate((months,np.repeat(mo,len(xpks))),axis=0)\n",
      "days = np.concatenate((days,np.repeat(dy,len(xpks))),axis=0)\n",
      "hours = np.concatenate((hours,np.repeat(hr,len(xpks))),axis=0)\n",
      "tirloc = np.concatenate((tirloc,tiror[ypks,xpks]),axis=0)\n",
      "iscale = (np.ceil(period2d[zpks]/4./dt)).astype(int)\n",
      "mintir = []\n",
      "meantir = []\n",
      "for imtir in range(len(xpks)):\n",
      "            #Find all indices within the local circle of radius iscale...\n",
      "            # ... Then average over those indices\n",
      "            xloc1 = np.arange(xpks[imtir]-iscale[imtir],xpks[imtir]+iscale[imtir]+1)\n",
      "            yloc1 = np.arange(ypks[imtir]-iscale[imtir],ypks[imtir]+iscale[imtir]+1)\n",
      "            xloc,yloc = np.meshgrid(xloc1,yloc1)\n",
      "            distloc = ( (xloc-xpks[imtir])**2 + (yloc-ypks[imtir])**2 ) ** .5\n",
      "            indloc = (distloc <= iscale[imtir]).nonzero()\n",
      "            yindtir = indloc[0] - iscale[imtir] + ypks[imtir]\n",
      "            xindtir = indloc[1] - iscale[imtir] + xpks[imtir]\n",
      "            #remove indices outside the whole study domain\n",
      "            idel = np.nonzero( (yindtir<0) | (yindtir>tiror.shape[0]-1) | \n",
      "            (xindtir<0) | (xindtir>tiror.shape[1]-1) )\n",
      "            xindtir = np.delete(xindtir,idel)\n",
      "            yindtir = np.delete(yindtir,idel)\n",
      "            #calculate mean and min temperature\n",
      "            mintir = np.append(mintir,np.amin(tiror[yindtir,xindtir]))\n",
      "            meantir = np.append(meantir,np.mean(tiror[yindtir,xindtir]))\n",
      "            tirmin = np.concatenate((tirmin,mintir),axis=0)\n",
      "            tirmean = np.concatenate((tirmean,meantir),axis=0)\n",
      "                            \n",
      "filePattern = \"/users/global/cornkle/data/pythonWorkspace/wavelet/saves/VERAwav2DpeaksT20Volta{0:d}_{1:d}\"\n",
      "rrFile = filePattern.format(yrange[0],yrange[-1])\n",
      "np.savez(rrFile,tirmin=tirmin,tirmean=tirmean,tirloc=tirloc,Scales=Scales,xLocs=xLocs,yLocs=yLocs,Powers=Powers,years=years,months=months,days=days,hours=hours)"
     ],
     "language": "python",
     "metadata": {},
     "outputs": [],
     "prompt_number": 116
    },
    {
     "cell_type": "code",
     "collapsed": false,
     "input": [],
     "language": "python",
     "metadata": {},
     "outputs": []
    }
   ],
   "metadata": {}
  }
 ]
}