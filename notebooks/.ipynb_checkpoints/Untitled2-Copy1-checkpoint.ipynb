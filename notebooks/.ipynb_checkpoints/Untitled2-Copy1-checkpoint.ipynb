{
 "cells": [
  {
   "cell_type": "code",
   "execution_count": null,
   "metadata": {},
   "outputs": [],
   "source": [
    "from utils import u_time as ut\n",
    "from utils import u_arrays as ua\n",
    "\n",
    "import salem\n",
    "import numpy as np\n",
    "from scipy.ndimage.measurements import label \n",
    "import pyproj\n",
    "import matplotlib.pyplot as plt\n",
    "from mpl_toolkits.basemap import Basemap\n",
    "from scipy.interpolate import griddata\n",
    "import cartopy.crs as ccrs\n",
    "import cartopy.feature as cfeature\n",
    "import matplotlib.pylab as pylab\n",
    "import cartopy.feature as cfeature\n",
    "\n",
    "import pickle as pkl\n",
    "import os\n",
    "import math\n",
    "\n",
    "\n",
    "pylab.rcParams['figure.figsize'] = 20., 12.\n",
    "%matplotlib inline"
   ]
  },
  {
   "cell_type": "code",
   "execution_count": null,
   "metadata": {},
   "outputs": [],
   "source": [
    "wv = pkl.load( open ('/users/global/cornkle/MCSfiles/save/MCS_allyears_label.p', 'rb'))"
   ]
  },
  {
   "cell_type": "code",
   "execution_count": null,
   "metadata": {},
   "outputs": [],
   "source": [
    "wv.keys()"
   ]
  },
  {
   "cell_type": "code",
   "execution_count": null,
   "metadata": {},
   "outputs": [],
   "source": [
    "wv['t0_min'].size"
   ]
  },
  {
   "cell_type": "code",
   "execution_count": null,
   "metadata": {},
   "outputs": [],
   "source": [
    "uni=np.unique(wv['scales1'], return_counts=True)"
   ]
  },
  {
   "cell_type": "code",
   "execution_count": null,
   "metadata": {},
   "outputs": [],
   "source": [
    "wv['scales1']"
   ]
  },
  {
   "cell_type": "code",
   "execution_count": null,
   "metadata": {},
   "outputs": [],
   "source": [
    "plt.scatter(uni[0], uni[1]*uni[0]**2)\n",
    "plt.xlabel('Scale')\n",
    "plt.ylabel('Scaled number of maxima')\n",
    "#plt.savefig('/users/global/cornkle/figs/lmax/scale_max.jpg')"
   ]
  },
  {
   "cell_type": "code",
   "execution_count": null,
   "metadata": {},
   "outputs": [],
   "source": [
    "plt.scatter(wv['t3_mean'][wv['t3_mean']<-40], wv['p3_max'][wv['t3_mean']<-40])\n",
    "plt.xlabel('T')\n",
    "plt.ylabel('P')\n",
    "plt.title('Tmin Pmax t-0')\n",
    "#plt.savefig('/users/global/cornkle/figs/lmax/t_p_noW0.jpg')"
   ]
  },
  {
   "cell_type": "code",
   "execution_count": null,
   "metadata": {},
   "outputs": [],
   "source": [
    "plt.scatter(wv['t2_mean'][wv['t2_mean']<-40], wv['p2_max'][wv['t2_mean']<-40])\n",
    "plt.xlabel('T')\n",
    "plt.ylabel('P')\n",
    "plt.title('Tmin Pmax t-15')\n",
    "plt.savefig('/users/global/cornkle/figs/lmax/t_p_noW1.jpg')\n"
   ]
  },
  {
   "cell_type": "code",
   "execution_count": null,
   "metadata": {},
   "outputs": [],
   "source": [
    "np.ones((5,5))"
   ]
  },
  {
   "cell_type": "code",
   "execution_count": null,
   "metadata": {},
   "outputs": [],
   "source": [
    "plt.scatter(np.sqrt(wv['tw0_max'])[pos],wv['p0_max'][pos])\n",
    "plt.xlabel('tmean(t0)')\n",
    "plt.ylabel('pmax(t0)')\n",
    "#plt.savefig('/users/global/cornkle/figs/lmax/tmean_pmax_t0.jpg')"
   ]
  },
  {
   "cell_type": "code",
   "execution_count": null,
   "metadata": {},
   "outputs": [],
   "source": [
    "plt.scatter(wv['t2_mean'][wv['t2_mean']<-30],wv['p2_max'][wv['t2_mean']<-30])\n",
    "plt.xlabel('tmean(t2)')\n",
    "plt.ylabel('pmax(t2)')\n",
    "plt.savefig('/users/global/cornkle/figs/lmax/tmean_pmax_t2.jpg')"
   ]
  },
  {
   "cell_type": "code",
   "execution_count": null,
   "metadata": {},
   "outputs": [],
   "source": [
    "sc=20\n",
    "pos=np.where((wv['scales0']==sc))\n",
    "plt.scatter(wv['scales0'],wv['p0_mean'])\n",
    "plt.xlabel('Scale')\n",
    "plt.ylabel('Ppower_max')\n",
    "#plt.savefig('/users/global/cornkle/figs/lmax/pp_scale.jpg')"
   ]
  },
  {
   "cell_type": "code",
   "execution_count": null,
   "metadata": {},
   "outputs": [],
   "source": [
    "plt.pcolormesh(wv['torigx'][0])"
   ]
  },
  {
   "cell_type": "code",
   "execution_count": null,
   "metadata": {
    "collapsed": true
   },
   "outputs": [],
   "source": [
    "H1, bins1 = np.histogram(to30, bins=9, range=(tm.min(), tm.max()))\n",
    "H, bins = np.histogram(tm, bins=9, range=(tm.min(), tm.max()))\n",
    "#width=np.diff(bins)\n",
    "#freq=float(H)/float(to30.size)\n",
    "#plt.bar(bins[:-1], freq, width)\n",
    "H=H.astype(float)\n",
    "H1=H1.astype(float)\n",
    "print H1\n",
    "print H\n",
    "hist=H1/H*100.\n",
    "print hist\n",
    "width = 0.7 * (bins[1] - bins[0])\n",
    "print bins[1] - bins[0]\n",
    "center = (bins[:-1] + bins[1:]) / 2\n",
    "print center\n",
    "plt.bar(center, hist, align='center', width=width)\n",
    "plt.xlabel('Mean T per MCS')\n",
    "plt.ylabel('MCS max. PCP > 30mm h-1 (%)')"
   ]
  },
  {
   "cell_type": "code",
   "execution_count": null,
   "metadata": {
    "collapsed": true
   },
   "outputs": [],
   "source": [
    "plt.plot([0,1], [2,2], marker='o')"
   ]
  },
  {
   "cell_type": "code",
   "execution_count": null,
   "metadata": {
    "collapsed": true
   },
   "outputs": [],
   "source": []
  }
 ],
 "metadata": {
  "kernelspec": {
   "display_name": "Python 3",
   "language": "python",
   "name": "python3"
  },
  "language_info": {
   "codemirror_mode": {
    "name": "ipython",
    "version": 3
   },
   "file_extension": ".py",
   "mimetype": "text/x-python",
   "name": "python",
   "nbconvert_exporter": "python",
   "pygments_lexer": "ipython3",
   "version": "3.5.3"
  }
 },
 "nbformat": 4,
 "nbformat_minor": 1
}
