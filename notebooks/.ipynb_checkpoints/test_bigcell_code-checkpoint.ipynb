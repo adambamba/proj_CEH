{
 "metadata": {
  "name": "",
  "signature": "sha256:dc5ec447a47f3817dcb057a0bf0447f3e09add8888cd59223067e1ffba340eed"
 },
 "nbformat": 3,
 "nbformat_minor": 0,
 "worksheets": [
  {
   "cells": [
    {
     "cell_type": "code",
     "collapsed": false,
     "input": [
      "import numpy as np\n",
      "import os.path\n",
      "from scipy import ndimage\n",
      "import itertools\n",
      "import matplotlib as mpl\n",
      "import math\n",
      "import matplotlib.pyplot as plt\n",
      "from mapping import creategrid as grd\n",
      "from mpl_toolkits.basemap import Basemap\n",
      "import cartopy.crs as ccrs\n",
      "import cartopy.feature as cfeature\n",
      "import matplotlib.pylab as pylab\n",
      "import pandas as pd\n",
      "from eod import msg as msg\n",
      "pylab.rcParams['figure.figsize'] = (16., 9.)\n",
      "%matplotlib inline"
     ],
     "language": "python",
     "metadata": {},
     "outputs": [],
     "prompt_number": 72
    },
    {
     "cell_type": "code",
     "collapsed": false,
     "input": [
      "# read only trmm files that I need and give out proper lons lats etc\n",
      "files = \"/users/global/cornkle/data/OBS/TRMM/trmm_swaths_WA/2011/06/2A25.20110612.77322.7.gra\"\n",
      " # /2011/06/2A25.20110612.77322.7.gra\"  good to show\n",
      "rr = np.fromfile(files,dtype=np.int16) \n",
      "x = 49\n",
      "nb = rr.size\n",
      "single = nb/4 # variables lon lat rainrate flag\n",
      "\n",
      "lons = rr[0:single]\n",
      "lats = rr[single:2*single]\n",
      "rainrs = rr[2*single:3*single]\n",
      "flags = rr[3*single:4*single]"
     ],
     "language": "python",
     "metadata": {},
     "outputs": [],
     "prompt_number": 116
    },
    {
     "cell_type": "code",
     "collapsed": false,
     "input": [
      "y = lons.size/x\n",
      "lons = np.resize(lons, (y,x))\n",
      "lats = np.resize(lats, (y,x))\n",
      "rainrs = np.resize(rainrs, (y,x))\n",
      "flags = np.resize(flags, (y,x))\n",
      "lon=lons/100.\n",
      "lat=lats/100.\n",
      "rainr=rainrs/10.\n",
      "lonmin, lonmax=np.amin(lon),np.amax(lon)\n",
      "latmin, latmax=np.amin(lat),np.amax(lat)\n",
      "lonx=lon[0,:]\n",
      "laty=lat[:,0]\n",
      "rainrs.shape"
     ],
     "language": "python",
     "metadata": {},
     "outputs": [
      {
       "metadata": {},
       "output_type": "pyout",
       "prompt_number": 117,
       "text": [
        "(1159, 49)"
       ]
      }
     ],
     "prompt_number": 117
    },
    {
     "cell_type": "code",
     "collapsed": false,
     "input": [
      "ax = plt.axes(projection=ccrs.PlateCarree())\n",
      "plt.contour(lon, lat, rainrs, levels=np.arange(0,15,0.5), transform=ccrs.PlateCarree())\n",
      "ax.coastlines()"
     ],
     "language": "python",
     "metadata": {},
     "outputs": [
      {
       "metadata": {},
       "output_type": "pyout",
       "prompt_number": 118,
       "text": [
        "<cartopy.mpl.feature_artist.FeatureArtist at 0x7f5cde31a290>"
       ]
      },
      {
       "metadata": {},
       "output_type": "display_data",
       "png": "[encoded data removed]",
       "text": [
        "<matplotlib.figure.Figure at 0x7f5cde6b7250>"
       ]
      }
     ],
     "prompt_number": 118
    },
    {
     "cell_type": "code",
     "collapsed": false,
     "input": [
      "path = \"/users/global/cornkle/data/OBS/meteosat/cell_blob_files/2011/06/\"  # 201106122130 good to show\n",
      "filename = \"201106122130.gra\"\n",
      "files = path + filename\n",
      "rrShape = (580,1640)\n",
      "rrMDI = np.uint16()\n",
      "rr = np.fromfile(files,dtype=rrMDI.dtype) \n",
      "print rr.shape\n",
      "rr.shape = rrShape\n",
      "rr"
     ],
     "language": "python",
     "metadata": {},
     "outputs": [
      {
       "output_type": "stream",
       "stream": "stdout",
       "text": [
        "(951200,)\n"
       ]
      },
      {
       "metadata": {},
       "output_type": "pyout",
       "prompt_number": 119,
       "text": [
        "array([[0, 0, 0, ..., 0, 0, 0],\n",
        "       [0, 0, 0, ..., 0, 0, 0],\n",
        "       [0, 0, 0, ..., 0, 0, 0],\n",
        "       ..., \n",
        "       [0, 0, 0, ..., 0, 0, 0],\n",
        "       [0, 0, 0, ..., 0, 0, 0],\n",
        "       [0, 0, 0, ..., 0, 0, 0]], dtype=uint16)"
       ]
      }
     ],
     "prompt_number": 119
    },
    {
     "cell_type": "code",
     "collapsed": false,
     "input": [
      "ax = plt.axes(projection=ccrs.PlateCarree())\n",
      "plt.contourf(mlon, mlat, rr, levels=np.arange(1,100,1), transform=ccrs.PlateCarree())\n",
      "ax.coastlines()\n"
     ],
     "language": "python",
     "metadata": {},
     "outputs": [
      {
       "metadata": {},
       "output_type": "pyout",
       "prompt_number": 120,
       "text": [
        "<cartopy.mpl.feature_artist.FeatureArtist at 0x7f5cddf53a10>"
       ]
      },
      {
       "metadata": {},
       "output_type": "display_data",
       "png": "[encoded data removed]",
       "text": [
        "<matplotlib.figure.Figure at 0x7f5cde5fdd90>"
       ]
      }
     ],
     "prompt_number": 120
    },
    {
     "cell_type": "code",
     "collapsed": false,
     "input": [
      "img=plt.contourf(rr, [29,30, 31], interpolation='none')\n",
      "plt.colorbar()"
     ],
     "language": "python",
     "metadata": {},
     "outputs": [
      {
       "metadata": {},
       "output_type": "pyout",
       "prompt_number": 122,
       "text": [
        "<matplotlib.colorbar.Colorbar instance at 0x7f5cddcd2320>"
       ]
      },
      {
       "metadata": {},
       "output_type": "display_data",
       "png": "[encoded data removed]",
       "text": [
        "<matplotlib.figure.Figure at 0x7f5cde6a4390>"
       ]
      }
     ],
     "prompt_number": 122
    },
    {
     "cell_type": "code",
     "collapsed": false,
     "input": [
      "df = pd.read_csv(\"/users/global/cornkle/data/OBS/meteosat/bigcell_area_table/rewrite/cell_40c_2230_JJAS.txt\")\n",
      "sel=df.loc[df['Date'] == '2011-06-09 22:30:00']\n",
      "#print sel\n",
      "#if '2013-09-01 20:00:00' in df['Date'].as_matrix(): print 'yes'\n",
      "big = sel.loc[sel['Area'] >= 25000]\n",
      "big.head()"
     ],
     "language": "python",
     "metadata": {},
     "outputs": [
      {
       "html": [
        "<div style=\"max-height:1000px;max-width:1500px;overflow:auto;\">\n",
        "<table border=\"1\" class=\"dataframe\">\n",
        "  <thead>\n",
        "    <tr style=\"text-align: right;\">\n",
        "      <th></th>\n",
        "      <th>Unnamed: 0</th>\n",
        "      <th>Area</th>\n",
        "      <th>Lat</th>\n",
        "      <th>Lon</th>\n",
        "      <th>Mincol</th>\n",
        "      <th>Temp</th>\n",
        "      <th>Tresh</th>\n",
        "      <th>Date</th>\n",
        "    </tr>\n",
        "  </thead>\n",
        "  <tbody>\n",
        "    <tr>\n",
        "      <th>43171</th>\n",
        "      <td> 43171</td>\n",
        "      <td>   48540</td>\n",
        "      <td> 13.9</td>\n",
        "      <td>  8.1</td>\n",
        "      <td>  853</td>\n",
        "      <td>-61.01</td>\n",
        "      <td>-90</td>\n",
        "      <td> 2011-06-09 22:30:00</td>\n",
        "    </tr>\n",
        "    <tr>\n",
        "      <th>43176</th>\n",
        "      <td> 43176</td>\n",
        "      <td>  172859</td>\n",
        "      <td> 11.4</td>\n",
        "      <td>-12.3</td>\n",
        "      <td>   64</td>\n",
        "      <td>-59.59</td>\n",
        "      <td>-88</td>\n",
        "      <td> 2011-06-09 22:30:00</td>\n",
        "    </tr>\n",
        "    <tr>\n",
        "      <th>43204</th>\n",
        "      <td> 43204</td>\n",
        "      <td> 1093372</td>\n",
        "      <td>  7.3</td>\n",
        "      <td> 17.5</td>\n",
        "      <td>  798</td>\n",
        "      <td>-62.99</td>\n",
        "      <td>-92</td>\n",
        "      <td> 2011-06-09 22:30:00</td>\n",
        "    </tr>\n",
        "    <tr>\n",
        "      <th>43316</th>\n",
        "      <td> 43316</td>\n",
        "      <td>   25715</td>\n",
        "      <td>  4.3</td>\n",
        "      <td> 23.5</td>\n",
        "      <td> 1377</td>\n",
        "      <td>-65.54</td>\n",
        "      <td>-83</td>\n",
        "      <td> 2011-06-09 22:30:00</td>\n",
        "    </tr>\n",
        "  </tbody>\n",
        "</table>\n",
        "</div>"
       ],
       "metadata": {},
       "output_type": "pyout",
       "prompt_number": 101,
       "text": [
        "       Unnamed: 0     Area   Lat   Lon  Mincol   Temp  Tresh  \\\n",
        "43171       43171    48540  13.9   8.1     853 -61.01    -90   \n",
        "43176       43176   172859  11.4 -12.3      64 -59.59    -88   \n",
        "43204       43204  1093372   7.3  17.5     798 -62.99    -92   \n",
        "43316       43316    25715   4.3  23.5    1377 -65.54    -83   \n",
        "\n",
        "                      Date  \n",
        "43171  2011-06-09 22:30:00  \n",
        "43176  2011-06-09 22:30:00  \n",
        "43204  2011-06-09 22:30:00  \n",
        "43316  2011-06-09 22:30:00  "
       ]
      }
     ],
     "prompt_number": 101
    },
    {
     "cell_type": "code",
     "collapsed": false,
     "input": [
      "msg_latlon=np.load('/users/global/cornkle/data/OBS/meteosat/MSG_1640_580_lat_lon.npz')\n",
      "mlon = msg_latlon['lon']\n",
      "mlat = msg_latlon['lat']\n",
      "mlat"
     ],
     "language": "python",
     "metadata": {},
     "outputs": [
      {
       "metadata": {},
       "output_type": "pyout",
       "prompt_number": 112,
       "text": [
        "array([[  3.94719744,   3.94708943,   3.9469614 , ...,   4.02024937,\n",
        "          4.02049541,   4.02072763],\n",
        "       [  3.97467399,   3.97457552,   3.97443843, ...,   4.04824352,\n",
        "          4.04849911,   4.04873514],\n",
        "       [  4.00216055,   4.00205374,   4.00191498, ...,   4.07623863,\n",
        "          4.07649755,   4.07673502],\n",
        "       ..., \n",
        "       [ 20.41603279,  20.41537476,  20.41458893, ...,  20.8565979 ,\n",
        "         20.85813713,  20.85949516],\n",
        "       [ 20.44630051,  20.44569588,  20.44486427, ...,  20.8877697 ,\n",
        "         20.8893261 ,  20.89079285],\n",
        "       [ 20.47672844,  20.4761219 ,  20.47529411, ...,  20.91907501,\n",
        "         20.92054749,  20.92202568]], dtype=float32)"
       ]
      }
     ],
     "prompt_number": 112
    },
    {
     "cell_type": "code",
     "collapsed": false,
     "input": [
      "a = abs(mlat - lat[0]) + abs(mlon - lon[0])\n",
      "#i,j = np.unravel_index(a.argmin(), a.shape)\n",
      "#nb = rr[i,j]\n",
      "nb = rr.flatten()[a.argmin()]"
     ],
     "language": "python",
     "metadata": {},
     "outputs": []
    },
    {
     "cell_type": "code",
     "collapsed": false,
     "input": [
      "isblob = np.where(rr == 146)\n",
      "isblob[1].size"
     ],
     "language": "python",
     "metadata": {},
     "outputs": [
      {
       "metadata": {},
       "output_type": "pyout",
       "prompt_number": 111,
       "text": [
        "4"
       ]
      }
     ],
     "prompt_number": 111
    },
    {
     "cell_type": "code",
     "collapsed": false,
     "input": [],
     "language": "python",
     "metadata": {},
     "outputs": []
    },
    {
     "cell_type": "code",
     "collapsed": false,
     "input": [
      "farray=[7]\n",
      "is_set=[0,1]\n",
      "not_set=[] \n",
      "conf_check=0\n",
      "conf_ok=0\n",
      "    \n",
      "if not len(is_set)==0:\n",
      "    for bit in is_set:\n",
      "        conf_check=conf_check+2**bit        \n",
      "        conf_ok=conf_ok+2**bit\n",
      "if not len(not_set)==0:\n",
      "    for bit in not_set:\n",
      "        conf_check=conf_check+2**bit\n",
      "print conf_check\n",
      "print conf_ok"
     ],
     "language": "python",
     "metadata": {},
     "outputs": [
      {
       "output_type": "stream",
       "stream": "stdout",
       "text": [
        "3\n",
        "3\n"
       ]
      }
     ],
     "prompt_number": 80
    },
    {
     "cell_type": "code",
     "collapsed": false,
     "input": [
      "for a in range(len(farray)):\n",
      "    if (farray.flatten()[a] & conf_check) == conf_ok:\n",
      "        result.flatten()[a]=True \n",
      "    else:\n",
      "        result.flatten()[a]=False\n",
      "print np.where(result.flatten()==1)\n",
      "print flags.flatten()[19]"
     ],
     "language": "python",
     "metadata": {},
     "outputs": []
    },
    {
     "cell_type": "code",
     "collapsed": false,
     "input": [
      "msg.checkTRMMflag(flags[0:10], [5], [])"
     ],
     "language": "python",
     "metadata": {},
     "outputs": [
      {
       "ename": "ValueError",
       "evalue": "The truth value of an array with more than one element is ambiguous. Use a.any() or a.all()",
       "output_type": "pyerr",
       "traceback": [
        "\u001b[1;31m---------------------------------------------------------------------------\u001b[0m\n\u001b[1;31mValueError\u001b[0m                                Traceback (most recent call last)",
        "\u001b[1;32m<ipython-input-5-50d875c26f75>\u001b[0m in \u001b[0;36m<module>\u001b[1;34m()\u001b[0m\n\u001b[1;32m----> 1\u001b[1;33m \u001b[0mmsg\u001b[0m\u001b[1;33m.\u001b[0m\u001b[0mcheckTRMMflag\u001b[0m\u001b[1;33m(\u001b[0m\u001b[0mflags\u001b[0m\u001b[1;33m[\u001b[0m\u001b[1;36m0\u001b[0m\u001b[1;33m:\u001b[0m\u001b[1;36m10\u001b[0m\u001b[1;33m]\u001b[0m\u001b[1;33m,\u001b[0m \u001b[1;33m[\u001b[0m\u001b[1;36m5\u001b[0m\u001b[1;33m]\u001b[0m\u001b[1;33m,\u001b[0m \u001b[1;33m[\u001b[0m\u001b[1;33m]\u001b[0m\u001b[1;33m)\u001b[0m\u001b[1;33m\u001b[0m\u001b[0m\n\u001b[0m",
        "\u001b[1;32m/users/global/cornkle/data/pythonWorkspace/proj_CEH/eod/msg.py\u001b[0m in \u001b[0;36mcheckTRMMflag\u001b[1;34m(farray, is_set, not_set)\u001b[0m\n\u001b[0;32m    413\u001b[0m     \u001b[0mresult\u001b[0m\u001b[1;33m=\u001b[0m\u001b[0mfarray\u001b[0m\u001b[1;33m.\u001b[0m\u001b[0mastype\u001b[0m\u001b[1;33m(\u001b[0m\u001b[0mint\u001b[0m\u001b[1;33m)\u001b[0m\u001b[1;33m\u001b[0m\u001b[0m\n\u001b[0;32m    414\u001b[0m     \u001b[1;32mfor\u001b[0m \u001b[0ma\u001b[0m \u001b[1;32min\u001b[0m \u001b[0mrange\u001b[0m\u001b[1;33m(\u001b[0m\u001b[0mlen\u001b[0m\u001b[1;33m(\u001b[0m\u001b[0mfarray\u001b[0m\u001b[1;33m)\u001b[0m\u001b[1;33m)\u001b[0m\u001b[1;33m:\u001b[0m\u001b[1;33m\u001b[0m\u001b[0m\n\u001b[1;32m--> 415\u001b[1;33m         \u001b[1;32mif\u001b[0m \u001b[1;33m(\u001b[0m\u001b[0mfarray\u001b[0m\u001b[1;33m[\u001b[0m\u001b[0ma\u001b[0m\u001b[1;33m]\u001b[0m \u001b[1;33m&\u001b[0m \u001b[0mconf_check\u001b[0m\u001b[1;33m)\u001b[0m \u001b[1;33m==\u001b[0m \u001b[0mconf_ok\u001b[0m\u001b[1;33m:\u001b[0m\u001b[1;33m\u001b[0m\u001b[0m\n\u001b[0m\u001b[0;32m    416\u001b[0m             \u001b[0mresult\u001b[0m\u001b[1;33m[\u001b[0m\u001b[0ma\u001b[0m\u001b[1;33m]\u001b[0m\u001b[1;33m=\u001b[0m\u001b[0mTrue\u001b[0m\u001b[1;33m\u001b[0m\u001b[0m\n\u001b[0;32m    417\u001b[0m         \u001b[1;32melse\u001b[0m\u001b[1;33m:\u001b[0m\u001b[1;33m\u001b[0m\u001b[0m\n",
        "\u001b[1;31mValueError\u001b[0m: The truth value of an array with more than one element is ambiguous. Use a.any() or a.all()"
       ]
      }
     ],
     "prompt_number": 5
    },
    {
     "cell_type": "code",
     "collapsed": false,
     "input": [
      "trll = msg.ll_toMSG(lon,lat)\n",
      "plt.plot((trll['x']+trll['y']).flatten()[0:100])"
     ],
     "language": "python",
     "metadata": {},
     "outputs": [
      {
       "metadata": {},
       "output_type": "pyout",
       "prompt_number": 52,
       "text": [
        "[<matplotlib.lines.Line2D at 0x7f7bca7a3410>]"
       ]
      },
      {
       "metadata": {},
       "output_type": "display_data",
       "png": "[encoded data removed]",
       "text": [
        "<matplotlib.figure.Figure at 0x7f7bcac32890>"
       ]
      }
     ],
     "prompt_number": 52
    },
    {
     "cell_type": "code",
     "collapsed": false,
     "input": [
      "df = pd.read_csv(msgs+'cell_40c_'+str(hs).zfill(2)+str(mins).zfill(2)+'_JJAS.txt')\n",
      "df.head()"
     ],
     "language": "python",
     "metadata": {},
     "outputs": [
      {
       "html": [
        "<div style=\"max-height:1000px;max-width:1500px;overflow:auto;\">\n",
        "<table border=\"1\" class=\"dataframe\">\n",
        "  <thead>\n",
        "    <tr style=\"text-align: right;\">\n",
        "      <th></th>\n",
        "      <th>Unnamed: 0</th>\n",
        "      <th>Area</th>\n",
        "      <th>Lat</th>\n",
        "      <th>Lon</th>\n",
        "      <th>Mincol</th>\n",
        "      <th>Temp</th>\n",
        "      <th>Tresh</th>\n",
        "      <th>Date</th>\n",
        "    </tr>\n",
        "  </thead>\n",
        "  <tbody>\n",
        "    <tr>\n",
        "      <th>0</th>\n",
        "      <td> 0</td>\n",
        "      <td> 16611</td>\n",
        "      <td> 19.8</td>\n",
        "      <td> 1.9</td>\n",
        "      <td> 645</td>\n",
        "      <td>-44.39</td>\n",
        "      <td>-56</td>\n",
        "      <td> 2004-06-01 19:00:00</td>\n",
        "    </tr>\n",
        "    <tr>\n",
        "      <th>1</th>\n",
        "      <td> 1</td>\n",
        "      <td>   269</td>\n",
        "      <td> 18.9</td>\n",
        "      <td> 0.7</td>\n",
        "      <td> 628</td>\n",
        "      <td>-44.26</td>\n",
        "      <td>-49</td>\n",
        "      <td> 2004-06-01 19:00:00</td>\n",
        "    </tr>\n",
        "    <tr>\n",
        "      <th>2</th>\n",
        "      <td> 2</td>\n",
        "      <td>   259</td>\n",
        "      <td> 18.9</td>\n",
        "      <td> 0.9</td>\n",
        "      <td> 635</td>\n",
        "      <td>-44.42</td>\n",
        "      <td>-49</td>\n",
        "      <td> 2004-06-01 19:00:00</td>\n",
        "    </tr>\n",
        "    <tr>\n",
        "      <th>3</th>\n",
        "      <td> 3</td>\n",
        "      <td>    30</td>\n",
        "      <td> 18.1</td>\n",
        "      <td> 0.8</td>\n",
        "      <td> 637</td>\n",
        "      <td>-41.00</td>\n",
        "      <td>-42</td>\n",
        "      <td> 2004-06-01 19:00:00</td>\n",
        "    </tr>\n",
        "    <tr>\n",
        "      <th>4</th>\n",
        "      <td> 4</td>\n",
        "      <td>    39</td>\n",
        "      <td> 18.0</td>\n",
        "      <td> 0.8</td>\n",
        "      <td> 636</td>\n",
        "      <td>-41.50</td>\n",
        "      <td>-42</td>\n",
        "      <td> 2004-06-01 19:00:00</td>\n",
        "    </tr>\n",
        "  </tbody>\n",
        "</table>\n",
        "</div>"
       ],
       "metadata": {},
       "output_type": "pyout",
       "prompt_number": 11,
       "text": [
        "   Unnamed: 0   Area   Lat  Lon  Mincol   Temp  Tresh                 Date\n",
        "0           0  16611  19.8  1.9     645 -44.39    -56  2004-06-01 19:00:00\n",
        "1           1    269  18.9  0.7     628 -44.26    -49  2004-06-01 19:00:00\n",
        "2           2    259  18.9  0.9     635 -44.42    -49  2004-06-01 19:00:00\n",
        "3           3     30  18.1  0.8     637 -41.00    -42  2004-06-01 19:00:00\n",
        "4           4     39  18.0  0.8     636 -41.50    -42  2004-06-01 19:00:00"
       ]
      }
     ],
     "prompt_number": 11
    },
    {
     "cell_type": "code",
     "collapsed": false,
     "input": [
      "sel=df.loc[df['Date'] == '2006-06-01 19:00:00'] "
     ],
     "language": "python",
     "metadata": {},
     "outputs": [],
     "prompt_number": 12
    },
    {
     "cell_type": "code",
     "collapsed": false,
     "input": [
      "sel.tail()"
     ],
     "language": "python",
     "metadata": {},
     "outputs": [
      {
       "html": [
        "<div style=\"max-height:1000px;max-width:1500px;overflow:auto;\">\n",
        "<table border=\"1\" class=\"dataframe\">\n",
        "  <thead>\n",
        "    <tr style=\"text-align: right;\">\n",
        "      <th></th>\n",
        "      <th>Unnamed: 0</th>\n",
        "      <th>Area</th>\n",
        "      <th>Lat</th>\n",
        "      <th>Lon</th>\n",
        "      <th>Mincol</th>\n",
        "      <th>Temp</th>\n",
        "      <th>Tresh</th>\n",
        "      <th>Date</th>\n",
        "    </tr>\n",
        "  </thead>\n",
        "  <tbody>\n",
        "    <tr>\n",
        "      <th>12952</th>\n",
        "      <td> 12952</td>\n",
        "      <td> 123</td>\n",
        "      <td> 4.0</td>\n",
        "      <td>-12.5</td>\n",
        "      <td> 148</td>\n",
        "      <td>-41.23</td>\n",
        "      <td>-44</td>\n",
        "      <td> 2006-06-01 19:00:00</td>\n",
        "    </tr>\n",
        "    <tr>\n",
        "      <th>12953</th>\n",
        "      <td> 12953</td>\n",
        "      <td> 119</td>\n",
        "      <td> 4.0</td>\n",
        "      <td> -5.9</td>\n",
        "      <td> 387</td>\n",
        "      <td>-41.69</td>\n",
        "      <td>-44</td>\n",
        "      <td> 2006-06-01 19:00:00</td>\n",
        "    </tr>\n",
        "    <tr>\n",
        "      <th>12954</th>\n",
        "      <td> 12954</td>\n",
        "      <td> 128</td>\n",
        "      <td> 4.0</td>\n",
        "      <td> -5.7</td>\n",
        "      <td> 395</td>\n",
        "      <td>-43.07</td>\n",
        "      <td>-49</td>\n",
        "      <td> 2006-06-01 19:00:00</td>\n",
        "    </tr>\n",
        "    <tr>\n",
        "      <th>12955</th>\n",
        "      <td> 12955</td>\n",
        "      <td> 191</td>\n",
        "      <td> 3.9</td>\n",
        "      <td>  0.0</td>\n",
        "      <td> 606</td>\n",
        "      <td>-50.71</td>\n",
        "      <td>-60</td>\n",
        "      <td> 2006-06-01 19:00:00</td>\n",
        "    </tr>\n",
        "    <tr>\n",
        "      <th>12956</th>\n",
        "      <td> 12956</td>\n",
        "      <td>  54</td>\n",
        "      <td> 4.0</td>\n",
        "      <td> -0.4</td>\n",
        "      <td> 594</td>\n",
        "      <td>-49.50</td>\n",
        "      <td>-60</td>\n",
        "      <td> 2006-06-01 19:00:00</td>\n",
        "    </tr>\n",
        "  </tbody>\n",
        "</table>\n",
        "</div>"
       ],
       "metadata": {},
       "output_type": "pyout",
       "prompt_number": 13,
       "text": [
        "       Unnamed: 0  Area  Lat   Lon  Mincol   Temp  Tresh                 Date\n",
        "12952       12952   123  4.0 -12.5     148 -41.23    -44  2006-06-01 19:00:00\n",
        "12953       12953   119  4.0  -5.9     387 -41.69    -44  2006-06-01 19:00:00\n",
        "12954       12954   128  4.0  -5.7     395 -43.07    -49  2006-06-01 19:00:00\n",
        "12955       12955   191  3.9   0.0     606 -50.71    -60  2006-06-01 19:00:00\n",
        "12956       12956    54  4.0  -0.4     594 -49.50    -60  2006-06-01 19:00:00"
       ]
      }
     ],
     "prompt_number": 13
    },
    {
     "cell_type": "code",
     "collapsed": false,
     "input": [
      "path = \"/users/global/cornkle/data/OBS/meteosat/cell_blob_files/2006/06/\"\n",
      "filename = \"200606011900.gra\"\n",
      "files = path + filename\n",
      "rrShape = (580,1640)\n",
      "rrMDI = np.uint16()\n",
      "rr = np.fromfile(files,dtype=rrMDI.dtype) \n",
      "print rr.shape\n",
      "rr.shape = rrShape"
     ],
     "language": "python",
     "metadata": {},
     "outputs": [
      {
       "output_type": "stream",
       "stream": "stdout",
       "text": [
        "(951200,)\n"
       ]
      }
     ],
     "prompt_number": 78
    },
    {
     "cell_type": "code",
     "collapsed": false,
     "input": [],
     "language": "python",
     "metadata": {},
     "outputs": [
      {
       "metadata": {},
       "output_type": "pyout",
       "prompt_number": 79,
       "text": [
        "<matplotlib.colorbar.Colorbar instance at 0x7f7bca54a248>"
       ]
      },
      {
       "metadata": {},
       "output_type": "display_data",
       "png": "[encoded data removed]",
       "text": [
        "<matplotlib.figure.Figure at 0x7f7bca89d210>"
       ]
      }
     ],
     "prompt_number": 79
    },
    {
     "cell_type": "code",
     "collapsed": false,
     "input": [],
     "language": "python",
     "metadata": {},
     "outputs": [
      {
       "metadata": {},
       "output_type": "display_data",
       "png": "[encoded data removed]",
       "text": [
        "<matplotlib.figure.Figure at 0x7f7bca5c3f90>"
       ]
      }
     ],
     "prompt_number": 80
    },
    {
     "cell_type": "code",
     "collapsed": false,
     "input": [
      "big = sel.loc[sel['Area'] >= 25000]\n"
     ],
     "language": "python",
     "metadata": {},
     "outputs": [],
     "prompt_number": 81
    },
    {
     "cell_type": "code",
     "collapsed": false,
     "input": [
      "lon=big['Lon'].as_matrix()\n",
      "lat=big['Lat'].as_matrix()\n",
      "lat[0], lon[0]"
     ],
     "language": "python",
     "metadata": {},
     "outputs": [
      {
       "metadata": {},
       "output_type": "pyout",
       "prompt_number": 82,
       "text": [
        "(15.0, -5.0)"
       ]
      }
     ],
     "prompt_number": 82
    },
    {
     "cell_type": "code",
     "collapsed": false,
     "input": [],
     "language": "python",
     "metadata": {},
     "outputs": [
      {
       "metadata": {},
       "output_type": "pyout",
       "prompt_number": 83,
       "text": [
        "3.9123871"
       ]
      }
     ],
     "prompt_number": 83
    },
    {
     "cell_type": "code",
     "collapsed": false,
     "input": [],
     "language": "python",
     "metadata": {},
     "outputs": [
      {
       "metadata": {},
       "output_type": "pyout",
       "prompt_number": 84,
       "text": [
        "2"
       ]
      }
     ],
     "prompt_number": 84
    },
    {
     "cell_type": "code",
     "collapsed": false,
     "input": [],
     "language": "python",
     "metadata": {},
     "outputs": [
      {
       "metadata": {},
       "output_type": "pyout",
       "prompt_number": 92,
       "text": [
        "(array([371, 371, 371, ..., 428, 428, 428]),\n",
        " array([403, 404, 405, ..., 457, 458, 459]))"
       ]
      }
     ],
     "prompt_number": 92
    }
   ],
   "metadata": {}
  }
 ]
}