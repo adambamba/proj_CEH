{
 "metadata": {
  "name": "",
  "signature": "sha256:47143ac57f8b0085eec2bf857e733c8404f745a62f33109b438a73bc0851e31d"
 },
 "nbformat": 3,
 "nbformat_minor": 0,
 "worksheets": [
  {
   "cells": [
    {
     "cell_type": "code",
     "collapsed": false,
     "input": [
      "import numpy as np\n",
      "import os.path\n",
      "from scipy import ndimage\n",
      "import itertools\n",
      "import matplotlib as mpl\n",
      "import math\n",
      "import matplotlib.pyplot as plt\n",
      "from mapping import creategrid as grd\n",
      "from mpl_toolkits.basemap import Basemap\n",
      "import cartopy.crs as ccrs\n",
      "import cartopy.feature as cfeature\n",
      "import matplotlib.pylab as pylab\n",
      "import pandas as pd\n",
      "from eod import msg as msg\n",
      "pylab.rcParams['figure.figsize'] = (16., 9.)\n",
      "%matplotlib inline"
     ],
     "language": "python",
     "metadata": {},
     "outputs": [],
     "prompt_number": 169
    },
    {
     "cell_type": "code",
     "collapsed": false,
     "input": [
      "# read only trmm files that I need and give out proper lons lats etc\n",
      "files = \"/users/global/cornkle/data/OBS/TRMM/trmm_swaths_WA/2011/06/2A25.20110612.77322.7.gra\"\n",
      " # /2011/06/2A25.20110612.77322.7.gra\"  good to show\n",
      "trr = np.fromfile(files,dtype=np.int16) \n",
      "x = 49\n",
      "nb = trr.size\n",
      "single = nb/4 # variables lon lat rainrate flag\n",
      "\n",
      "lons = trr[0:single]\n",
      "lats = trr[single:2*single]\n",
      "rainrs = trr[2*single:3*single]\n",
      "flags = trr[3*single:4*single]"
     ],
     "language": "python",
     "metadata": {},
     "outputs": [],
     "prompt_number": 316
    },
    {
     "cell_type": "code",
     "collapsed": false,
     "input": [
      "y = lons.size/x\n",
      "lons = np.resize(lons, (y,x))\n",
      "lats = np.resize(lats, (y,x))\n",
      "rainrs = np.resize(rainrs, (y,x))\n",
      "flags = np.resize(flags, (y,x))\n",
      "lon=lons/100.\n",
      "lat=lats/100.\n",
      "rainr=rainrs/10.\n",
      "lonmin, lonmax=np.amin(lon),np.amax(lon)\n",
      "latmin, latmax=np.amin(lat),np.amax(lat)\n",
      "lonx=lon[0,:]\n",
      "laty=lat[:,0]\n",
      "rainrs.shape"
     ],
     "language": "python",
     "metadata": {},
     "outputs": [
      {
       "metadata": {},
       "output_type": "pyout",
       "prompt_number": 317,
       "text": [
        "(1159, 49)"
       ]
      }
     ],
     "prompt_number": 317
    },
    {
     "cell_type": "code",
     "collapsed": false,
     "input": [
      "ax = plt.axes(projection=ccrs.PlateCarree())\n",
      "plt.contourf(lon, lat, rainrs, levels=np.arange(0,15, 0.5), transform=ccrs.PlateCarree())\n",
      "ax.coastlines()\n",
      "plt.colorbar()"
     ],
     "language": "python",
     "metadata": {},
     "outputs": [
      {
       "metadata": {},
       "output_type": "pyout",
       "prompt_number": 329,
       "text": [
        "<matplotlib.colorbar.Colorbar instance at 0x7f5c9d8f0e60>"
       ]
      },
      {
       "metadata": {},
       "output_type": "display_data",
       "png": "[encoded data removed]",
       "text": [
        "<matplotlib.figure.Figure at 0x7f5c9fdcc950>"
       ]
      }
     ],
     "prompt_number": 329
    },
    {
     "cell_type": "code",
     "collapsed": false,
     "input": [
      "path = \"/users/global/cornkle/data/OBS/meteosat/cell_blob_files/2011/06/\"  # 201106122130 good to show\n",
      "filename = \"201106122130.gra\"\n",
      "files = path + filename\n",
      "rrShape = (580,1640)\n",
      "rrMDI = np.uint16()\n",
      "rr = np.fromfile(files,dtype=rrMDI.dtype) \n",
      "print rr.shape\n",
      "rr.shape = rrShape\n",
      "rr"
     ],
     "language": "python",
     "metadata": {},
     "outputs": [
      {
       "output_type": "stream",
       "stream": "stdout",
       "text": [
        "(951200,)\n"
       ]
      },
      {
       "metadata": {},
       "output_type": "pyout",
       "prompt_number": 242,
       "text": [
        "array([[0, 0, 0, ..., 0, 0, 0],\n",
        "       [0, 0, 0, ..., 0, 0, 0],\n",
        "       [0, 0, 0, ..., 0, 0, 0],\n",
        "       ..., \n",
        "       [0, 0, 0, ..., 0, 0, 0],\n",
        "       [0, 0, 0, ..., 0, 0, 0],\n",
        "       [0, 0, 0, ..., 0, 0, 0]], dtype=uint16)"
       ]
      }
     ],
     "prompt_number": 242
    },
    {
     "cell_type": "code",
     "collapsed": false,
     "input": [
      "ax = plt.axes(projection=ccrs.PlateCarree())\n",
      "plt.contourf(lon, lat, rainrs, levels=np.arange(0,15, 0.5), transform=ccrs.PlateCarree())\n",
      "plt.contourf(mlon, mlat, rr, levels=np.arange(1,100,1), transform=ccrs.PlateCarree())\n",
      "plt.contourf(mlon, mlat, maski, levels=np.arange(999,1001,1), transform=ccrs.PlateCarree())\n",
      "\n",
      "\n",
      "plt.contour(lon, lat, rtest+200, levels=np.arange(1000,1200,10), transform=ccrs.PlateCarree())\n",
      "ax.coastlines()\n"
     ],
     "language": "python",
     "metadata": {},
     "outputs": [
      {
       "metadata": {},
       "output_type": "pyout",
       "prompt_number": 339,
       "text": [
        "<cartopy.mpl.feature_artist.FeatureArtist at 0x7f5c9a77efd0>"
       ]
      },
      {
       "metadata": {},
       "output_type": "display_data",
       "png": "[encoded data removed]",
       "text": [
        "<matplotlib.figure.Figure at 0x7f5c9d892a10>"
       ]
      }
     ],
     "prompt_number": 339
    },
    {
     "cell_type": "code",
     "collapsed": false,
     "input": [
      "img=plt.contourf(rr, [29,30, 31], interpolation='none')\n",
      "plt.colorbar()"
     ],
     "language": "python",
     "metadata": {},
     "outputs": [
      {
       "metadata": {},
       "output_type": "pyout",
       "prompt_number": 181,
       "text": [
        "<matplotlib.colorbar.Colorbar instance at 0x7f5cccd299e0>"
       ]
      },
      {
       "metadata": {},
       "output_type": "display_data",
       "png": "[encoded data removed]",
       "text": [
        "<matplotlib.figure.Figure at 0x7f5cc152d2d0>"
       ]
      }
     ],
     "prompt_number": 181
    },
    {
     "cell_type": "code",
     "collapsed": false,
     "input": [
      "rfile='/users/global/cmt/msg/WAfrica/archive_WAfrica/ch9/2011/06/201106122130.gra' #works!\n",
      "\n",
      "rShape = (580,1640)\n",
      "rMDI = np.uint8(255)\n",
      "r = np.fromfile(rfile,dtype=rMDI.dtype)\n",
      "r.shape = rShape\n",
      "r = r.astype(np.int32) - 173"
     ],
     "language": "python",
     "metadata": {},
     "outputs": [],
     "prompt_number": 183
    },
    {
     "cell_type": "code",
     "collapsed": false,
     "input": [
      "ax = plt.axes(projection=ccrs.PlateCarree())\n",
      "plt.contourf(mlon, mlat, r, levels=np.arange(-80,0,2), transform=ccrs.PlateCarree())\n",
      "ax.coastlines()\n",
      "plt.colorbar()"
     ],
     "language": "python",
     "metadata": {},
     "outputs": [
      {
       "metadata": {},
       "output_type": "pyout",
       "prompt_number": 237,
       "text": [
        "<matplotlib.colorbar.Colorbar instance at 0x7f5caa03a050>"
       ]
      },
      {
       "metadata": {},
       "output_type": "display_data",
       "png": "[encoded data removed]",
       "text": [
        "<matplotlib.figure.Figure at 0x7f5cde4ef8d0>"
       ]
      }
     ],
     "prompt_number": 237
    },
    {
     "cell_type": "code",
     "collapsed": false,
     "input": [
      "df = pd.read_csv(\"/users/global/cornkle/data/OBS/meteosat/bigcell_area_table/rewrite/cell_40c_2130_JJAS.txt\")\n",
      "sel=df.loc[df['Date'] == '2011-06-12 21:30:00']\n",
      "#print sel\n",
      "#if '2013-09-01 20:00:00' in df['Date'].as_matrix(): print 'yes'\n",
      "big = sel.loc[sel['Area'] >= 25000]\n",
      "big.head()"
     ],
     "language": "python",
     "metadata": {},
     "outputs": [
      {
       "html": [
        "<div style=\"max-height:1000px;max-width:1500px;overflow:auto;\">\n",
        "<table border=\"1\" class=\"dataframe\">\n",
        "  <thead>\n",
        "    <tr style=\"text-align: right;\">\n",
        "      <th></th>\n",
        "      <th>Unnamed: 0</th>\n",
        "      <th>Area</th>\n",
        "      <th>Lat</th>\n",
        "      <th>Lon</th>\n",
        "      <th>Mincol</th>\n",
        "      <th>Temp</th>\n",
        "      <th>Tresh</th>\n",
        "      <th>Date</th>\n",
        "    </tr>\n",
        "  </thead>\n",
        "  <tbody>\n",
        "    <tr>\n",
        "      <th>43501</th>\n",
        "      <td> 43501</td>\n",
        "      <td>  26486</td>\n",
        "      <td> 17.3</td>\n",
        "      <td>  6.6</td>\n",
        "      <td>  806</td>\n",
        "      <td>-50.95</td>\n",
        "      <td>-78</td>\n",
        "      <td> 2011-06-12 21:30:00</td>\n",
        "    </tr>\n",
        "    <tr>\n",
        "      <th>43511</th>\n",
        "      <td> 43511</td>\n",
        "      <td>  25026</td>\n",
        "      <td> 14.7</td>\n",
        "      <td> 18.1</td>\n",
        "      <td> 1211</td>\n",
        "      <td>-53.97</td>\n",
        "      <td>-77</td>\n",
        "      <td> 2011-06-12 21:30:00</td>\n",
        "    </tr>\n",
        "    <tr>\n",
        "      <th>43519</th>\n",
        "      <td> 43519</td>\n",
        "      <td>  61346</td>\n",
        "      <td> 12.6</td>\n",
        "      <td> 22.3</td>\n",
        "      <td> 1342</td>\n",
        "      <td>-65.45</td>\n",
        "      <td>-81</td>\n",
        "      <td> 2011-06-12 21:30:00</td>\n",
        "    </tr>\n",
        "    <tr>\n",
        "      <th>43523</th>\n",
        "      <td> 43523</td>\n",
        "      <td>  94640</td>\n",
        "      <td> 11.2</td>\n",
        "      <td> 10.4</td>\n",
        "      <td>  919</td>\n",
        "      <td>-60.19</td>\n",
        "      <td>-86</td>\n",
        "      <td> 2011-06-12 21:30:00</td>\n",
        "    </tr>\n",
        "    <tr>\n",
        "      <th>43531</th>\n",
        "      <td> 43531</td>\n",
        "      <td> 148267</td>\n",
        "      <td>  9.6</td>\n",
        "      <td>-14.0</td>\n",
        "      <td>    6</td>\n",
        "      <td>-62.30</td>\n",
        "      <td>-91</td>\n",
        "      <td> 2011-06-12 21:30:00</td>\n",
        "    </tr>\n",
        "  </tbody>\n",
        "</table>\n",
        "</div>"
       ],
       "metadata": {},
       "output_type": "pyout",
       "prompt_number": 185,
       "text": [
        "       Unnamed: 0    Area   Lat   Lon  Mincol   Temp  Tresh  \\\n",
        "43501       43501   26486  17.3   6.6     806 -50.95    -78   \n",
        "43511       43511   25026  14.7  18.1    1211 -53.97    -77   \n",
        "43519       43519   61346  12.6  22.3    1342 -65.45    -81   \n",
        "43523       43523   94640  11.2  10.4     919 -60.19    -86   \n",
        "43531       43531  148267   9.6 -14.0       6 -62.30    -91   \n",
        "\n",
        "                      Date  \n",
        "43501  2011-06-12 21:30:00  \n",
        "43511  2011-06-12 21:30:00  \n",
        "43519  2011-06-12 21:30:00  \n",
        "43523  2011-06-12 21:30:00  \n",
        "43531  2011-06-12 21:30:00  "
       ]
      }
     ],
     "prompt_number": 185
    },
    {
     "cell_type": "code",
     "collapsed": false,
     "input": [
      "msg_latlon=np.load('/users/global/cornkle/data/OBS/meteosat/MSG_1640_580_lat_lon.npz')\n",
      "mlon = msg_latlon['lon']\n",
      "mlat = msg_latlon['lat']"
     ],
     "language": "python",
     "metadata": {},
     "outputs": [],
     "prompt_number": 229
    },
    {
     "cell_type": "code",
     "collapsed": false,
     "input": [
      "#a = abs(mlat - lat[0]) + abs(mlon - lon[0])\n",
      "#i,j = np.unravel_index(a.argmin(), a.shape)\n",
      "#nb = rr[i,j]\n",
      "#nb = rr.flatten()[a.argmin()]\n",
      "mll = msg.ll_toMSG(mlon,mlat)\n"
     ],
     "language": "python",
     "metadata": {},
     "outputs": [],
     "prompt_number": 230
    },
    {
     "cell_type": "code",
     "collapsed": false,
     "input": [
      "ax = plt.axes(projection=ccrs.PlateCarree())\n",
      "plt.contourf(mlon, mlat, mll['x'], levels=np.arange(1000,3000,1), transform=ccrs.PlateCarree())\n",
      "ax.coastlines()\n",
      "plt.colorbar()"
     ],
     "language": "python",
     "metadata": {},
     "outputs": [
      {
       "metadata": {},
       "output_type": "pyout",
       "prompt_number": 222,
       "text": [
        "<matplotlib.colorbar.Colorbar instance at 0x7f5cac81fbd8>"
       ]
      },
      {
       "metadata": {},
       "output_type": "display_data",
       "png": "[encoded data removed]",
       "text": [
        "<matplotlib.figure.Figure at 0x7f5cae80ae10>"
       ]
      }
     ],
     "prompt_number": 222
    },
    {
     "cell_type": "code",
     "collapsed": false,
     "input": [
      "path = \"/users/global/cornkle/data/OBS/meteosat/cell_blob_files/2011/06/\"  # 201106122130 good to show\n",
      "filename = \"201106122130.gra\"\n",
      "files = path + filename\n",
      "rrShape = (580,1640)\n",
      "rrMDI = np.uint16()\n",
      "rr = np.fromfile(files,dtype=rrMDI.dtype) \n",
      "rr.shape = rrShape\n",
      "isblob = np.where(rr == 30)\n",
      "my=str(mll['y'][isblob].astype(int).tolist())\n",
      "mx=str(mll['x'][isblob].astype(int).tolist())  \n",
      "print isblob[0].size\n",
      "print my.size"
     ],
     "language": "python",
     "metadata": {},
     "outputs": [
      {
       "output_type": "stream",
       "stream": "stdout",
       "text": [
        "10361\n",
        "10361\n"
       ]
      }
     ],
     "prompt_number": 353
    },
    {
     "cell_type": "code",
     "collapsed": false,
     "input": [
      "ll_trmm = msg.ll_toMSG(lon,lat) #rainr         \n",
      "tx = str(ll_trmm['x'].astype(int).tolist())\n",
      "ty = str(ll_trmm['y'].astype(int).tolist())                    "
     ],
     "language": "python",
     "metadata": {},
     "outputs": [],
     "prompt_number": 351
    },
    {
     "cell_type": "code",
     "collapsed": false,
     "input": [
      "ax = plt.axes(projection=ccrs.PlateCarree())\n",
      "plt.contour(lon, lat, tx, levels=np.arange(1000,3000,1), transform=ccrs.PlateCarree())\n",
      "ax.coastlines()\n",
      "plt.colorbar()"
     ],
     "language": "python",
     "metadata": {},
     "outputs": [
      {
       "metadata": {},
       "output_type": "pyout",
       "prompt_number": 331,
       "text": [
        "<matplotlib.colorbar.Colorbar instance at 0x7f5c9b54b560>"
       ]
      },
      {
       "metadata": {},
       "output_type": "display_data",
       "png": "[encoded data removed]",
       "text": [
        "<matplotlib.figure.Figure at 0x7f5c9d886e90>"
       ]
      }
     ],
     "prompt_number": 331
    },
    {
     "cell_type": "code",
     "collapsed": false,
     "input": [
      "#mpair=np.array(zip(mx,my))\n",
      "#tpair=np.array(zip(tx,ty))\n",
      "#mpair = my.astype(str)+mx.astype(str)#)*(mx+my+1)/2+my\n",
      "#tpair = ty.astype(str)+tx.astype(str)#)*(tx+ty+1)/2+ty\n",
      "#p1=np.where()\n",
      "print mx[0]\n",
      "print my[0]\n",
      "test=[\"{}{}\".format(my_, mx_) for mx_, my_ in zip(mx, my)]\n",
      "test[0:10]"
     ],
     "language": "python",
     "metadata": {},
     "outputs": [
      {
       "output_type": "stream",
       "stream": "stdout",
       "text": [
        "1454\n",
        "2197\n"
       ]
      },
      {
       "metadata": {},
       "output_type": "pyout",
       "prompt_number": 357,
       "text": [
        "['21971454',\n",
        " '21981456',\n",
        " '21981455',\n",
        " '21981454',\n",
        " '21981453',\n",
        " '21981452',\n",
        " '21981451',\n",
        " '21981450',\n",
        " '21981449',\n",
        " '21981448']"
       ]
      }
     ],
     "prompt_number": 357
    },
    {
     "cell_type": "code",
     "collapsed": false,
     "input": [
      "maski=np.zeros_like(rr)\n",
      "maski.shape\n",
      "maski[isblob]=1000\n",
      "np.where(maski>999)"
     ],
     "language": "python",
     "metadata": {},
     "outputs": [
      {
       "metadata": {},
       "output_type": "pyout",
       "prompt_number": 299,
       "text": [
        "(array([197, 198, 198, ..., 358, 358, 358]),\n",
        " array([1009, 1007, 1008, ...,  964,  965,  966]))"
       ]
      }
     ],
     "prompt_number": 299
    },
    {
     "cell_type": "code",
     "collapsed": false,
     "input": [
      "inter=np.in1d(tpair, mpair)    #returns false and true! whole grid\n",
      "#unval=np.intersect1d(tx, mx, assume_unique=False)\n",
      "#inter_rev=np.in1d(mpair, tpair.flatten()[inter])\n",
      "          \n",
      "# No intersection between Trmm and MSG? Continue!\n",
      "if not inter.any(): \n",
      "    print 'No intersec'\n",
      "rtest=np.copy(rainr)          \n",
      "#sum(inter)\n",
      "rtest.size\n",
      "np.where(inter)\n",
      "rtest.flat[np.where(inter)]=1000"
     ],
     "language": "python",
     "metadata": {},
     "outputs": [],
     "prompt_number": 338
    },
    {
     "cell_type": "code",
     "collapsed": false,
     "input": [
      "#np.place(rainr.flatten(),inter, 1000)\n",
      "sum(rainr.flatten()>999)"
     ],
     "language": "python",
     "metadata": {},
     "outputs": [
      {
       "metadata": {},
       "output_type": "pyout",
       "prompt_number": 285,
       "text": [
        "2043"
       ]
      }
     ],
     "prompt_number": 285
    },
    {
     "cell_type": "code",
     "collapsed": false,
     "input": [
      "\n",
      "ax = plt.axes(projection=ccrs.PlateCarree())\n",
      "plt.contourf(lon, lat, rainrs, levels=np.arange(0,15, 0.5), transform=ccrs.PlateCarree())\n",
      "plt.contour(lon, lat, rainr, levels=np.arange(900,1100,1), transform=ccrs.PlateCarree())\n",
      "ax.coastlines()\n",
      "plt.colorbar()"
     ],
     "language": "python",
     "metadata": {},
     "outputs": [
      {
       "metadata": {},
       "output_type": "pyout",
       "prompt_number": 294,
       "text": [
        "<matplotlib.colorbar.Colorbar instance at 0x7f5ca29a0518>"
       ]
      },
      {
       "metadata": {},
       "output_type": "display_data",
       "png": "[encoded data removed]",
       "text": [
        "<matplotlib.figure.Figure at 0x7f5ca31d6b10>"
       ]
      }
     ],
     "prompt_number": 294
    },
    {
     "cell_type": "code",
     "collapsed": false,
     "input": [],
     "language": "python",
     "metadata": {},
     "outputs": []
    }
   ],
   "metadata": {}
  }
 ]
}