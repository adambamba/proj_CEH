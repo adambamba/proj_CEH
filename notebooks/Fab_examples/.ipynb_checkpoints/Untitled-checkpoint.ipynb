{
 "cells": [
  {
   "cell_type": "code",
   "execution_count": 3,
   "metadata": {
    "collapsed": false
   },
   "outputs": [],
   "source": [
    "import numpy as np\n",
    "import matplotlib.pyplot as plt\n",
    "import shapely.geometry as shpg\n",
    "from scipy.interpolate import griddata\n",
    "import pyproj\n",
    "import salem\n",
    "%matplotlib inline"
   ]
  },
  {
   "cell_type": "code",
   "execution_count": 4,
   "metadata": {
    "collapsed": false
   },
   "outputs": [],
   "source": [
    "# make a salem grid\n",
    "proj = pyproj.Proj('+proj=merc +lat_0=0. +lon_0=0.')\n",
    "grid = salem.Grid(nxny=(800, 500), dxdy=(5000, 5000), ll_corner=(-2200000., -100000.), proj=proj)"
   ]
  },
  {
   "cell_type": "code",
   "execution_count": 5,
   "metadata": {
    "collapsed": true
   },
   "outputs": [],
   "source": [
    "# Generate random data\n",
    "ndata = 100\n",
    "lons = 25 * np.random.random(ndata) - 15\n",
    "lats = 15 * np.random.random(ndata)\n",
    "data = lons + 2*lats"
   ]
  },
  {
   "cell_type": "code",
   "execution_count": 6,
   "metadata": {
    "collapsed": true
   },
   "outputs": [],
   "source": [
    "# Transform lons, lats to grid\n",
    "x, y = grid.transform(lons, lats, crs=salem.wgs84)"
   ]
  },
  {
   "cell_type": "code",
   "execution_count": 7,
   "metadata": {
    "collapsed": true
   },
   "outputs": [],
   "source": [
    "# Grid x, y\n",
    "xi, yi = grid.ij_coordinates"
   ]
  },
  {
   "cell_type": "code",
   "execution_count": 8,
   "metadata": {
    "collapsed": true
   },
   "outputs": [],
   "source": [
    "# Convert for griddata input \n",
    "points = np.array((y, x)).T\n",
    "inter = np.array((np.ravel(yi), np.ravel(xi))).T"
   ]
  },
  {
   "cell_type": "code",
   "execution_count": 9,
   "metadata": {
    "collapsed": true
   },
   "outputs": [],
   "source": [
    "# Interpolate using delaunay triangularization \n",
    "out = griddata(points, data, inter, method='linear')\n",
    "out = out.reshape((grid.ny, grid.nx))"
   ]
  },
  {
   "cell_type": "code",
   "execution_count": null,
   "metadata": {
    "collapsed": true
   },
   "outputs": [],
   "source": []
  }
 ],
 "metadata": {
  "kernelspec": {
   "display_name": "Python 3",
   "language": "python",
   "name": "python3"
  },
  "language_info": {
   "codemirror_mode": {
    "name": "ipython",
    "version": 3
   },
   "file_extension": ".py",
   "mimetype": "text/x-python",
   "name": "python",
   "nbconvert_exporter": "python",
   "pygments_lexer": "ipython3",
   "version": "3.5.2"
  }
 },
 "nbformat": 4,
 "nbformat_minor": 0
}
