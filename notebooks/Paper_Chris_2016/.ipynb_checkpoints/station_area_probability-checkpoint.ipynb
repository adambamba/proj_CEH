{
 "cells": [
  {
   "cell_type": "code",
   "execution_count": 3,
   "metadata": {
    "collapsed": false
   },
   "outputs": [
    {
     "name": "stdout",
     "output_type": "stream",
     "text": [
      "Populating the interactive namespace from numpy and matplotlib\n"
     ]
    }
   ],
   "source": [
    "%pylab inline\n",
    "import os\n",
    "import seaborn as sns\n",
    "import pickle as pkl\n",
    "pal = sns.color_palette('Blues')\n",
    "sns.set_context(\"paper\", font_scale=1.5)\n",
    "sns.set_style(\"ticks\")\n",
    "#sns.set(color_codes=True)\n",
    "from scipy.stats import gaussian_kde\n",
    "import pandas as pd\n",
    "from eod import stations_cc"
   ]
  },
  {
   "cell_type": "code",
   "execution_count": 9,
   "metadata": {
    "collapsed": false
   },
   "outputs": [],
   "source": [
    "dic70 = stations_cc.readStation(40)"
   ]
  },
  {
   "cell_type": "code",
   "execution_count": 10,
   "metadata": {
    "collapsed": false
   },
   "outputs": [],
   "source": [
    "alog = dic70['area']\n",
    "log=np.log10(alog)\n",
    "drain = dic70['rain']\n",
    "\n",
    "thresh = np.squeeze(dic70['thresh'])\n",
    "rthresh = np.array([thresh]*500).transpose()\n",
    "\n",
    "ok = np.where(~np.isnan(drain))\n",
    "drain70=drain[ok]\n",
    "alog70 = alog[ok]\n",
    "log70 = log[ok]\n",
    "dthresh70 = rthresh.copy()[ok]\n",
    "\n",
    "nok = np.where(~np.isfinite(log70))\n",
    "\n",
    "log70[nok]=0.\n"
   ]
  },
  {
   "cell_type": "code",
   "execution_count": 11,
   "metadata": {
    "collapsed": false
   },
   "outputs": [],
   "source": [
    "sizes = np.array([1000,5000,15000,25000,50000,100000,200000,300000, 500000])\n",
    "center = sizes[0:-1] + (sizes[1::] - sizes[0:-1]) / 2\n",
    "\n",
    "ll = []\n",
    "area = []\n",
    "nb = []\n",
    "   \n",
    "for ind, siz in enumerate(sizes):\n",
    "       \n",
    "    if siz == 1000:\n",
    "        continue\n",
    "        \n",
    "    pos = np.where((alog70 <= siz) & (alog70 >= sizes[ind-1]))\n",
    "    aarea = alog70[pos]\n",
    "    ptresh = drain70[pos]\n",
    "    ttresh = dthresh70[pos]\n",
    "    prob=np.sum(ptresh>ttresh)\n",
    "    \n",
    "    ll.append(prob)\n",
    "    area.append(np.sum(aarea))\n",
    "    nb.append(ptresh.size)"
   ]
  },
  {
   "cell_type": "code",
   "execution_count": 12,
   "metadata": {
    "collapsed": false
   },
   "outputs": [
    {
     "name": "stdout",
     "output_type": "stream",
     "text": [
      "8\n",
      "[  9.94740000e+04   5.88642000e+05   1.02997100e+06   5.54360400e+06\n",
      "   2.04399400e+07   1.00207654e+08   1.46899470e+08   2.33487320e+08]\n",
      "8\n",
      "8\n"
     ]
    }
   ],
   "source": [
    "ll = np.array(ll)\n",
    "area = np.array(area)\n",
    "nb = np.array(nb)\n",
    "print(ll.size)\n",
    "print(area)\n",
    "print(nb.size)\n",
    "print(center.size)"
   ]
  },
  {
   "cell_type": "code",
   "execution_count": 13,
   "metadata": {
    "collapsed": false
   },
   "outputs": [
    {
     "data": {
      "image/png": "[encoded data removed]",
      "text/plain": [
       "<matplotlib.figure.Figure at 0x7f1780a357b8>"
      ]
     },
     "metadata": {},
     "output_type": "display_data"
    }
   ],
   "source": [
    "path = '/users/global/cornkle/C_paper/chris2016/figs/'\n",
    "f = plt.figure(figsize=(15,10), dpi=400)\n",
    "ax = f.add_subplot(221)\n",
    "plt.scatter(center, ll/(area/1000))\n",
    "plt.ylabel(\"P | Precip > Thresh / 1000km2 (-40C)\" )\n",
    "ax = f.add_subplot(222)\n",
    "plt.scatter(center, ll/nb)\n",
    "plt.ylabel(\"P | Precip > Thresh / storm (-40C)\" )\n",
    "plt.tight_layout()\n",
    "ax = f.add_subplot(223)\n",
    "plt.scatter(np.log10(center), ll/(area/1000))\n",
    "plt.ylabel(\"P | Precip > Thresh / 1000km2 (-40C)\" )\n",
    "plt.tight_layout()\n",
    "ax = f.add_subplot(224)\n",
    "plt.scatter(np.log10(center), ll/nb)\n",
    "plt.ylabel(\"P | Precip > Thresh / storm (-40C)\" )\n",
    "plt.tight_layout()\n",
    "plt.savefig(path+'40C_areabins.png')"
   ]
  },
  {
   "cell_type": "code",
   "execution_count": null,
   "metadata": {
    "collapsed": true
   },
   "outputs": [],
   "source": []
  }
 ],
 "metadata": {
  "kernelspec": {
   "display_name": "Python 3",
   "language": "python",
   "name": "python3"
  },
  "language_info": {
   "codemirror_mode": {
    "name": "ipython",
    "version": 3
   },
   "file_extension": ".py",
   "mimetype": "text/x-python",
   "name": "python",
   "nbconvert_exporter": "python",
   "pygments_lexer": "ipython3",
   "version": "3.5.2"
  }
 },
 "nbformat": 4,
 "nbformat_minor": 0
}
