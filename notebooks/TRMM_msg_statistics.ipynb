{
 "metadata": {
  "name": "",
  "signature": "sha256:939c60cd7cb0f56320dfc7b4eda0afbd161812a9537415824c90d743e9add43f"
 },
 "nbformat": 3,
 "nbformat_minor": 0,
 "worksheets": [
  {
   "cells": [
    {
     "cell_type": "code",
     "collapsed": false,
     "input": [
      "import numpy as np\n",
      "from scipy import ndimage\n",
      "import itertools\n",
      "import matplotlib as mpl\n",
      "import matplotlib.pyplot as plt\n",
      "from utils import u_time as ut\n",
      "from mpl_toolkits.basemap import Basemap\n",
      "from eod import msg\n",
      "import cartopy.crs as ccrs\n",
      "import cartopy.feature as cfeature\n",
      "import matplotlib.pylab as pylab\n",
      "pylab.rcParams['figure.figsize'] = (16., 9.)\n",
      "%matplotlib inline"
     ],
     "language": "python",
     "metadata": {},
     "outputs": [],
     "prompt_number": 1
    },
    {
     "cell_type": "code",
     "collapsed": false,
     "input": [
      "mstr=np.load('/users/global/cornkle/data/OBS/MSG_TRMM_temp_pcp.npy').item()"
     ],
     "language": "python",
     "metadata": {},
     "outputs": [],
     "prompt_number": 26
    },
    {
     "cell_type": "code",
     "collapsed": false,
     "input": [
      "dic=msg.compare_TRMMmsg(hod=range(19,20))\n",
      "#print 'bla'"
     ],
     "language": "python",
     "metadata": {},
     "outputs": [
      {
       "output_type": "stream",
       "stream": "stdout",
       "text": [
        "Start extract Trmm\n",
        "['/users/global/cornkle/data/OBS/TRMM/trmm_swaths_WA/2013/08/2A25.20130801.89493.7.gra']\n",
        "Doing 2013-08-01 19:30\n",
        "-53.77"
       ]
      },
      {
       "output_type": "stream",
       "stream": "stdout",
       "text": [
        "\n",
        "-56.01"
       ]
      },
      {
       "output_type": "stream",
       "stream": "stdout",
       "text": [
        "\n",
        "-57.73"
       ]
      },
      {
       "output_type": "stream",
       "stream": "stdout",
       "text": [
        "\n",
        "-55.91"
       ]
      },
      {
       "output_type": "stream",
       "stream": "stdout",
       "text": [
        "\n",
        "-58.52"
       ]
      },
      {
       "output_type": "stream",
       "stream": "stdout",
       "text": [
        "\n",
        "-52.38"
       ]
      },
      {
       "output_type": "stream",
       "stream": "stdout",
       "text": [
        "\n",
        "-53.28"
       ]
      },
      {
       "output_type": "stream",
       "stream": "stdout",
       "text": [
        "\n",
        "-48.35"
       ]
      },
      {
       "output_type": "stream",
       "stream": "stdout",
       "text": [
        "\n",
        "-49.77"
       ]
      },
      {
       "output_type": "stream",
       "stream": "stdout",
       "text": [
        "\n",
        "-45.01"
       ]
      },
      {
       "output_type": "stream",
       "stream": "stdout",
       "text": [
        "\n"
       ]
      }
     ],
     "prompt_number": 2
    },
    {
     "cell_type": "code",
     "collapsed": false,
     "input": [],
     "language": "python",
     "metadata": {},
     "outputs": [
      {
       "ename": "AttributeError",
       "evalue": "'list' object has no attribute 'shape'",
       "output_type": "pyerr",
       "traceback": [
        "\u001b[1;31m---------------------------------------------------------------------------\u001b[0m\n\u001b[1;31mAttributeError\u001b[0m                            Traceback (most recent call last)",
        "\u001b[1;32m<ipython-input-38-20eacd1d1155>\u001b[0m in \u001b[0;36m<module>\u001b[1;34m()\u001b[0m\n\u001b[0;32m      1\u001b[0m \u001b[0mnok\u001b[0m \u001b[1;33m=\u001b[0m \u001b[0mnp\u001b[0m\u001b[1;33m.\u001b[0m\u001b[0mwhere\u001b[0m\u001b[1;33m(\u001b[0m\u001b[0mmstr\u001b[0m\u001b[1;33m[\u001b[0m\u001b[1;34m'trmm_pcp'\u001b[0m\u001b[1;33m]\u001b[0m \u001b[1;33m==\u001b[0m \u001b[1;36m0\u001b[0m\u001b[1;33m)\u001b[0m\u001b[1;33m\u001b[0m\u001b[0m\n\u001b[1;32m----> 2\u001b[1;33m \u001b[0mmstr\u001b[0m\u001b[1;33m[\u001b[0m\u001b[1;34m'trmm_pcp'\u001b[0m\u001b[1;33m]\u001b[0m\u001b[1;33m.\u001b[0m\u001b[0mshape\u001b[0m\u001b[1;33m\u001b[0m\u001b[0m\n\u001b[0m",
        "\u001b[1;31mAttributeError\u001b[0m: 'list' object has no attribute 'shape'"
       ]
      }
     ],
     "prompt_number": 38
    },
    {
     "cell_type": "code",
     "collapsed": false,
     "input": [
      "tr=np.array(mstr['trmm_pcp']) \n",
      "ms=np.array(mstr['msg_temp']) "
     ],
     "language": "python",
     "metadata": {},
     "outputs": [],
     "prompt_number": 47
    },
    {
     "cell_type": "code",
     "collapsed": false,
     "input": [
      "pc = tr[tr>0]\n",
      "tm = ms[tr>0]\n",
      "tm"
     ],
     "language": "python",
     "metadata": {},
     "outputs": [
      {
       "metadata": {},
       "output_type": "pyout",
       "prompt_number": 52,
       "text": [
        "array([-61.66, -60.47, -60.24, -58.7 , -59.06, -60.12, -50.01, -56.66,\n",
        "       -51.46, -49.39, -56.34, -52.07, -58.91, -63.9 , -55.12, -54.08,\n",
        "       -57.23, -52.61, -52.99, -56.32, -59.94, -49.72, -53.77, -56.01,\n",
        "       -52.38, -53.28, -48.35, -49.77, -45.01, -54.46, -60.79, -53.74,\n",
        "       -50.82, -62.07, -62.2 , -50.91, -59.62, -54.77, -62.63, -49.28,\n",
        "       -60.22, -58.08, -59.91, -53.16, -56.61, -58.28, -47.33, -62.53,\n",
        "       -51.7 , -60.56, -59.77, -49.77, -54.89, -65.05, -54.92, -67.83,\n",
        "       -57.56, -57.13, -59.07, -55.27, -54.05, -50.2 , -55.97, -60.3 ,\n",
        "       -61.97, -55.22, -49.63, -52.95, -60.43, -60.11, -63.38, -59.7 ,\n",
        "       -54.24, -60.15, -63.12, -59.53])"
       ]
      }
     ],
     "prompt_number": 52
    },
    {
     "cell_type": "code",
     "collapsed": false,
     "input": [
      "plt.scatter(pc, tm)"
     ],
     "language": "python",
     "metadata": {},
     "outputs": [
      {
       "metadata": {},
       "output_type": "pyout",
       "prompt_number": 50,
       "text": [
        "<matplotlib.collections.PathCollection at 0x7fd8cabee4d0>"
       ]
      },
      {
       "metadata": {},
       "output_type": "display_data",
       "png": "[encoded data removed]",
       "text": [
        "<matplotlib.figure.Figure at 0x7fd8cafe9cd0>"
       ]
      }
     ],
     "prompt_number": 50
    },
    {
     "cell_type": "code",
     "collapsed": false,
     "input": [
      "savefile = '/users/global/cornkle/data/OBS/MSG_TRMM_temp_pcp'"
     ],
     "language": "python",
     "metadata": {},
     "outputs": [],
     "prompt_number": 18
    },
    {
     "cell_type": "code",
     "collapsed": false,
     "input": [
      "\n",
      "np.save(savefile, dic)       "
     ],
     "language": "python",
     "metadata": {},
     "outputs": [],
     "prompt_number": 19
    },
    {
     "cell_type": "code",
     "collapsed": false,
     "input": [
      "test=np.load('/users/global/cornkle/data/OBS/MSG_TRMM_temp_pcp.npy').item()"
     ],
     "language": "python",
     "metadata": {},
     "outputs": [],
     "prompt_number": 20
    },
    {
     "cell_type": "code",
     "collapsed": false,
     "input": [
      "test['msg_temp']"
     ],
     "language": "python",
     "metadata": {},
     "outputs": [
      {
       "metadata": {},
       "output_type": "pyout",
       "prompt_number": 21,
       "text": [
        "[-53.77,\n",
        " -56.01,\n",
        " -57.73,\n",
        " -55.91,\n",
        " -58.52,\n",
        " -52.38,\n",
        " -53.28,\n",
        " -48.35,\n",
        " -49.77,\n",
        " -45.01]"
       ]
      }
     ],
     "prompt_number": 21
    },
    {
     "cell_type": "code",
     "collapsed": false,
     "input": [],
     "language": "python",
     "metadata": {},
     "outputs": []
    }
   ],
   "metadata": {}
  }
 ]
}