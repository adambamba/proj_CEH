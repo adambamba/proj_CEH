{
 "metadata": {
  "name": "",
  "signature": "sha256:4cbd3fb08f90e54d6a9fcbe94a003ba34fed09d07a4c49abf7ad74d32dcbe46e"
 },
 "nbformat": 3,
 "nbformat_minor": 0,
 "worksheets": [
  {
   "cells": [
    {
     "cell_type": "code",
     "collapsed": false,
     "input": [
      "import numpy as np\n",
      "from scipy import ndimage\n",
      "import itertools\n",
      "import matplotlib as mpl\n",
      "import matplotlib.pyplot as plt\n",
      "from utils import u_time as ut\n",
      "from mpl_toolkits.basemap import Basemap\n",
      "from eod import msg\n",
      "import cartopy.crs as ccrs\n",
      "import cartopy.feature as cfeature\n",
      "import matplotlib.pylab as pylab\n",
      "pylab.rcParams['figure.figsize'] = (16., 9.)\n",
      "%matplotlib inline\n",
      "from scipy.stats import pearsonr"
     ],
     "language": "python",
     "metadata": {},
     "outputs": [],
     "prompt_number": 72
    },
    {
     "cell_type": "code",
     "collapsed": false,
     "input": [
      "mstr=np.load('/users/global/cornkle/data/OBS/MSG_TRMM_temp_pcp_inds_all_2011-2013.npy').item()"
     ],
     "language": "python",
     "metadata": {},
     "outputs": [],
     "prompt_number": 123
    },
    {
     "cell_type": "code",
     "collapsed": false,
     "input": [
      "tr=np.array(mstr['trmm_pcp']) \n",
      "ms=np.array(mstr['msg_temp']) \n",
      "hod=np.array(mstr['hod']) \n",
      "lat=np.array(mstr['lat'])\n",
      "yr=np.array(mstr['yr'])\n",
      "area=np.array(mstr['area'])"
     ],
     "language": "python",
     "metadata": {},
     "outputs": [],
     "prompt_number": 125
    },
    {
     "cell_type": "code",
     "collapsed": false,
     "input": [
      "pc = tr[tr<7]\n",
      "tm = ms[tr<7]\n",
      "len(tm)\n",
      "tm.size\n",
      "#m,b = np.polyfit(pc,tm,1)\n",
      "print pearsonr(pc,tm)"
     ],
     "language": "python",
     "metadata": {},
     "outputs": [
      {
       "output_type": "stream",
       "stream": "stdout",
       "text": [
        "(0.025697649918826865, 0.58958749417103307)\n"
       ]
      }
     ],
     "prompt_number": 128
    },
    {
     "cell_type": "code",
     "collapsed": false,
     "input": [
      "plt.plot(pc, tm, '.')\n",
      "plt.plot(pc, m*pc+b, '-')"
     ],
     "language": "python",
     "metadata": {},
     "outputs": [
      {
       "metadata": {},
       "output_type": "pyout",
       "prompt_number": 129,
       "text": [
        "[<matplotlib.lines.Line2D at 0x7fe9e2751710>]"
       ]
      },
      {
       "metadata": {},
       "output_type": "display_data",
       "png": "[encoded data removed]",
       "text": [
        "<matplotlib.figure.Figure at 0x7fe9e2751650>"
       ]
      }
     ],
     "prompt_number": 129
    },
    {
     "cell_type": "code",
     "collapsed": false,
     "input": [
      "savefile = '/users/global/cornkle/data/OBS/MSG_TRMM_temp_pcp'"
     ],
     "language": "python",
     "metadata": {},
     "outputs": [],
     "prompt_number": 18
    },
    {
     "cell_type": "code",
     "collapsed": false,
     "input": [
      "\n",
      "np.save(savefile, dic)       "
     ],
     "language": "python",
     "metadata": {},
     "outputs": [],
     "prompt_number": 19
    },
    {
     "cell_type": "code",
     "collapsed": false,
     "input": [
      "test=np.load('/users/global/cornkle/data/OBS/MSG_TRMM_temp_pcp.npy').item()"
     ],
     "language": "python",
     "metadata": {},
     "outputs": [],
     "prompt_number": 20
    },
    {
     "cell_type": "code",
     "collapsed": false,
     "input": [
      "def unq_searchsorted(A,B):\n",
      "\n",
      "    # Get unique elements of A and B and the indices based on the uniqueness\n",
      "    unqA,idx1 = np.unique(A,return_inverse=True)\n",
      "    unqB,idx2 = np.unique(B,return_inverse=True)\n",
      "\n",
      "    # Create mask equivalent to np.in1d(A,B) and np.in1d(B,A) for unique elements\n",
      "    mask1 = (np.searchsorted(unqB,unqA,'right') - np.searchsorted(unqB,unqA,'left'))==1\n",
      "    mask2 = (np.searchsorted(unqA,unqB,'right') - np.searchsorted(unqA,unqB,'left'))==1\n",
      "\n",
      "    # Map back to all non-unique indices to get equivalent of np.in1d(A,B), \n",
      "    # np.in1d(B,A) results for non-unique elements\n",
      "    return mask1[idx1],mask2[idx2]"
     ],
     "language": "python",
     "metadata": {},
     "outputs": [],
     "prompt_number": 8
    },
    {
     "cell_type": "code",
     "collapsed": false,
     "input": [
      "a= np.array([1,3,4,5,6,7,8])\n",
      "b=np.array([4,6,6,7,8,9])\n",
      "t=unq_searchsorted(a,b)"
     ],
     "language": "python",
     "metadata": {},
     "outputs": [],
     "prompt_number": 18
    },
    {
     "cell_type": "code",
     "collapsed": false,
     "input": [
      "g=t[1]\n",
      "g"
     ],
     "language": "python",
     "metadata": {},
     "outputs": [
      {
       "metadata": {},
       "output_type": "pyout",
       "prompt_number": 19,
       "text": [
        "array([ True,  True,  True,  True,  True, False], dtype=bool)"
       ]
      }
     ],
     "prompt_number": 19
    },
    {
     "cell_type": "code",
     "collapsed": false,
     "input": [
      "a[g]"
     ],
     "language": "python",
     "metadata": {},
     "outputs": [
      {
       "metadata": {},
       "output_type": "pyout",
       "prompt_number": 17,
       "text": [
        "array([4, 6, 7, 8])"
       ]
      }
     ],
     "prompt_number": 17
    },
    {
     "cell_type": "code",
     "collapsed": false,
     "input": [],
     "language": "python",
     "metadata": {},
     "outputs": []
    }
   ],
   "metadata": {}
  }
 ]
}