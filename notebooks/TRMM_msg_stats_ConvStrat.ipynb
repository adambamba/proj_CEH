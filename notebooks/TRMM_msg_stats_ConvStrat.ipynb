{
 "cells": [
  {
   "cell_type": "code",
   "execution_count": 252,
   "metadata": {
    "collapsed": true
   },
   "outputs": [],
   "source": [
    "import numpy as np\n",
    "from scipy import ndimage\n",
    "import itertools\n",
    "import matplotlib as mpl\n",
    "import matplotlib.pyplot as plt\n",
    "from utils import u_time as ut\n",
    "from mpl_toolkits.basemap import Basemap\n",
    "from eod import msg\n",
    "import cartopy.crs as ccrs\n",
    "import cartopy.feature as cfeature\n",
    "import matplotlib.pylab as pylab\n",
    "pylab.rcParams['figure.figsize'] = (16., 9.)\n",
    "%matplotlib inline\n",
    "from scipy.stats import pearsonr\n",
    "from scipy.stats import gaussian_kde\n",
    "from scipy.stats import ttest_ind\n",
    "\n",
    "import scipy.optimize as so\n",
    "import pickle as pkl"
   ]
  },
  {
   "cell_type": "code",
   "execution_count": 29,
   "metadata": {
    "collapsed": true
   },
   "outputs": [],
   "source": [
    "myDicts = pkl.load( open ('/users/global/cornkle/data/OBS/MSG_TRMM_temp_pcp_300px2004-2013_new.p', 'rb'))"
   ]
  },
  {
   "cell_type": "code",
   "execution_count": 30,
   "metadata": {
    "collapsed": true
   },
   "outputs": [],
   "source": [
    "dic=myDicts[0]\n",
    "dicf=myDicts[1]"
   ]
  },
  {
   "cell_type": "code",
   "execution_count": 31,
   "metadata": {
    "collapsed": false
   },
   "outputs": [
    {
     "name": "stdout",
     "output_type": "stream",
     "text": [
      "dict_keys(['perc', 'lat', 'tpixel_conv', 'yr', 'area', 'tpixel_zero', 'pmax', 'pi', 'hod', 'tpixel_derived', 'tpixel_strat', 'twhole', 'tpixel', 'tpixel_nzero', 'mon', 'lon', 'pp', 't', 'p'])\n",
      "dict_keys(['perc', 'lat', 'ppconv', 'yr', 'pmaxconv', 'piconv', 'tnfconv', 'tpixel_convNZ', 'hod', 'mon', 'tpixel_stratNZ', 'lon', 'tconv', 'pconv'])\n"
     ]
    }
   ],
   "source": [
    "print(dic.keys())\n",
    "print(dicf.keys())"
   ]
  },
  {
   "cell_type": "code",
   "execution_count": 217,
   "metadata": {
    "collapsed": false
   },
   "outputs": [],
   "source": [
    "pdev=np.array(dic['tpixel_derived'])\n",
    "pix=np.array(dic['tpixel'])\n",
    "pixnz=np.array(dic['tpixel_nzero'])\n",
    "pixconv=np.array(dic['tpixel_conv'])\n",
    "pixstrat=np.array(dic['tpixel_strat'])\n",
    "pixz=np.array(dic['tpixel_zero'])\n",
    "t=np.array(dic['t'])\n",
    "pixstratNZ=np.array(dicf['tpixel_stratNZ'])\n",
    "pixconvNZ=np.array(dicf['tpixel_convNZ'])\n",
    "tw=np.array(dic['twhole'])\n",
    "area=np.array(dic['area'])"
   ]
  },
  {
   "cell_type": "code",
   "execution_count": 218,
   "metadata": {
    "collapsed": false
   },
   "outputs": [],
   "source": [
    "pixconv=np.array(dic['tpixel_conv'])\n",
    "pdev=pdev[pixconv>40]\n",
    "pix=pix[pixconv>40]\n",
    "pixnz=pixnz[pixconv>40]\n",
    "pixstrat=pixstrat[pixconv>40]\n",
    "pixz=pixz[pixconv>40]\n",
    "t=t[pixconv>40]\n",
    "pixstratNZ=pixstratNZ[pixconv>40]\n",
    "pixconvNZ=pixconvNZ[pixconv>40]\n",
    "tw=tw[pixconv>40]\n",
    "area=area[pixconv>40]\n",
    "pixconv=pixconv[pixconv>40]"
   ]
  },
  {
   "cell_type": "code",
   "execution_count": 264,
   "metadata": {
    "collapsed": false
   },
   "outputs": [],
   "source": [
    "ratio = pixconv/ pixnz#(pixstrat+pixconv)\n",
    "#ratiozero = pixconvNZ / pix\n",
    "ratiozero = pixconvNZ / pixnz\n",
    "#ratiozero = pixstratNZ/pixstrat"
   ]
  },
  {
   "cell_type": "code",
   "execution_count": 265,
   "metadata": {
    "collapsed": false
   },
   "outputs": [
    {
     "name": "stdout",
     "output_type": "stream",
     "text": [
      "461\n",
      "6334\n"
     ]
    }
   ],
   "source": [
    "print(pixstratNZ[1]+pixconvNZ[1])\n",
    "print(pix[1])"
   ]
  },
  {
   "cell_type": "code",
   "execution_count": 266,
   "metadata": {
    "collapsed": false
   },
   "outputs": [
    {
     "name": "stdout",
     "output_type": "stream",
     "text": [
      "All derived: 2674\n",
      "All: 2505\n",
      "No zero: 1380\n",
      "Convective: 110\n",
      "Stratiform: 1439\n",
      "Pixel zero rain: 1125\n",
      "ConvectiveNZ: 105\n",
      "StratiformNZ: 1274\n"
     ]
    }
   ],
   "source": [
    "print('All derived:', pdev[0])\n",
    "print('All:', pix[0])\n",
    "print('No zero:', pixnz[0])\n",
    "print('Convective:', pixconv[0])\n",
    "print('Stratiform:', pixstrat[0])\n",
    "print('Pixel zero rain:', pixz[0])\n",
    "print('ConvectiveNZ:', pixconvNZ[0])\n",
    "print('StratiformNZ:', pixstratNZ[0])"
   ]
  },
  {
   "cell_type": "code",
   "execution_count": 291,
   "metadata": {
    "collapsed": false
   },
   "outputs": [
    {
     "data": {
      "text/plain": [
       "<matplotlib.collections.PathCollection at 0x7fdc57c229b0>"
      ]
     },
     "execution_count": 291,
     "metadata": {},
     "output_type": "execute_result"
    },
    {
     "data": {
      "image/png": "[encoded data removed]",
      "text/plain": [
       "<matplotlib.figure.Figure at 0x7fdc57b0abe0>"
      ]
     },
     "metadata": {},
     "output_type": "display_data"
    }
   ],
   "source": [
    "plt.scatter(tsort, zratiosort)"
   ]
  },
  {
   "cell_type": "code",
   "execution_count": 290,
   "metadata": {
    "collapsed": false
   },
   "outputs": [
    {
     "data": {
      "image/png": "[encoded data removed]",
      "text/plain": [
       "<matplotlib.figure.Figure at 0x7fdc57ecf470>"
      ]
     },
     "metadata": {},
     "output_type": "display_data"
    }
   ],
   "source": [
    "plt.hist2d(tsort, zratiosort, bins=15, cmap=plt.cm.jet)\n",
    "cbar=plt.colorbar()\n",
    "cbar.set_label('Number of systems', rotation=270, labelpad=+11)\n",
    "plt.title('Fraction of pixels flagged convective')\n",
    "plt.xlabel('MCS mean T (degC)')\n",
    "plt.ylabel('Convective fraction')\n",
    "plt.savefig('/users/global/cornkle/grpm/conv_frac.pdf')"
   ]
  },
  {
   "cell_type": "code",
   "execution_count": 289,
   "metadata": {
    "collapsed": false
   },
   "outputs": [],
   "source": [
    "tsort, ratiosort, zratiosort, csort, ssort = zip(*sorted(zip(tw, ratio, ratiozero, pixconv, pixstrat), reverse=True))"
   ]
  },
  {
   "cell_type": "code",
   "execution_count": 287,
   "metadata": {
    "collapsed": false
   },
   "outputs": [
    {
     "data": {
      "text/plain": [
       "0.23071508243879404"
      ]
     },
     "execution_count": 287,
     "metadata": {},
     "output_type": "execute_result"
    }
   ],
   "source": [
    "np.mean(zratiosort[0:500])"
   ]
  },
  {
   "cell_type": "code",
   "execution_count": 288,
   "metadata": {
    "collapsed": false
   },
   "outputs": [
    {
     "data": {
      "text/plain": [
       "0.31724573076106449"
      ]
     },
     "execution_count": 288,
     "metadata": {},
     "output_type": "execute_result"
    }
   ],
   "source": [
    "np.mean(zratiosort[-500:-1])"
   ]
  },
  {
   "cell_type": "code",
   "execution_count": 284,
   "metadata": {
    "collapsed": false
   },
   "outputs": [
    {
     "data": {
      "text/plain": [
       "Ttest_indResult(statistic=-8.7384889441050131, pvalue=9.8543876035071185e-18)"
      ]
     },
     "execution_count": 284,
     "metadata": {},
     "output_type": "execute_result"
    }
   ],
   "source": [
    "ttest_ind(ratiosort[0:500], ratiosort[-500:-1])"
   ]
  },
  {
   "cell_type": "code",
   "execution_count": 254,
   "metadata": {
    "collapsed": false
   },
   "outputs": [
    {
     "data": {
      "text/plain": [
       "Ttest_indResult(statistic=0.0, pvalue=1.0)"
      ]
     },
     "execution_count": 254,
     "metadata": {},
     "output_type": "execute_result"
    }
   ],
   "source": [
    "ttest_ind(zratiosort[0:500], zratiosort[0:500])"
   ]
  },
  {
   "cell_type": "code",
   "execution_count": null,
   "metadata": {
    "collapsed": true
   },
   "outputs": [],
   "source": []
  }
 ],
 "metadata": {
  "kernelspec": {
   "display_name": "Python 3",
   "language": "python",
   "name": "python3"
  },
  "language_info": {
   "codemirror_mode": {
    "name": "ipython",
    "version": 3
   },
   "file_extension": ".py",
   "mimetype": "text/x-python",
   "name": "python",
   "nbconvert_exporter": "python",
   "pygments_lexer": "ipython3",
   "version": "3.5.1"
  }
 },
 "nbformat": 4,
 "nbformat_minor": 0
}
