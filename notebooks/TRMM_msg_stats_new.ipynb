{
 "cells": [
  {
   "cell_type": "code",
   "execution_count": 72,
   "metadata": {
    "collapsed": true
   },
   "outputs": [],
   "source": [
    "import numpy as np\n",
    "import matplotlib as mpl\n",
    "import matplotlib.pyplot as plt\n",
    "from mpl_toolkits.basemap import Basemap\n",
    "import cartopy.crs as ccrs\n",
    "import cartopy.feature as cfeature\n",
    "import matplotlib.pylab as pylab\n",
    "from scipy.stats import gaussian_kde\n",
    "import pandas as pd\n",
    "pylab.rcParams['figure.figsize'] = (16., 9.)\n",
    "%matplotlib inline"
   ]
  },
  {
   "cell_type": "code",
   "execution_count": 92,
   "metadata": {
    "collapsed": false
   },
   "outputs": [],
   "source": [
    "df = pd.read_pickle('/users/global/cornkle/C_paper/MCS_blobs/df_MCS.pkl')"
   ]
  },
  {
   "cell_type": "code",
   "execution_count": 93,
   "metadata": {
    "collapsed": false
   },
   "outputs": [
    {
     "data": {
      "text/html": [
       "<div>\n",
       "<table border=\"1\" class=\"dataframe\">\n",
       "  <thead>\n",
       "    <tr style=\"text-align: right;\">\n",
       "      <th></th>\n",
       "      <th>area_tab</th>\n",
       "      <th>hod</th>\n",
       "      <th>lat</th>\n",
       "      <th>lon</th>\n",
       "      <th>mon</th>\n",
       "      <th>p98</th>\n",
       "      <th>p_nb_conv</th>\n",
       "      <th>p_nb_gt30</th>\n",
       "      <th>p_nb_nz</th>\n",
       "      <th>p_znb</th>\n",
       "      <th>p_znb_conv</th>\n",
       "      <th>pmax</th>\n",
       "      <th>pmean</th>\n",
       "      <th>tmean</th>\n",
       "      <th>tmean_tab</th>\n",
       "      <th>tmin</th>\n",
       "      <th>yr</th>\n",
       "    </tr>\n",
       "  </thead>\n",
       "  <tbody>\n",
       "    <tr>\n",
       "      <th>599</th>\n",
       "      <td>43738</td>\n",
       "      <td>5</td>\n",
       "      <td>12.4</td>\n",
       "      <td>8.1</td>\n",
       "      <td>9</td>\n",
       "      <td>33.160</td>\n",
       "      <td>123</td>\n",
       "      <td>24</td>\n",
       "      <td>873</td>\n",
       "      <td>873</td>\n",
       "      <td>130</td>\n",
       "      <td>77.7</td>\n",
       "      <td>4.418671</td>\n",
       "      <td>-52.570447</td>\n",
       "      <td>-57.26</td>\n",
       "      <td>-77</td>\n",
       "      <td>2013</td>\n",
       "    </tr>\n",
       "    <tr>\n",
       "      <th>600</th>\n",
       "      <td>143492</td>\n",
       "      <td>6</td>\n",
       "      <td>15.3</td>\n",
       "      <td>-12.6</td>\n",
       "      <td>9</td>\n",
       "      <td>8.620</td>\n",
       "      <td>20</td>\n",
       "      <td>0</td>\n",
       "      <td>521</td>\n",
       "      <td>521</td>\n",
       "      <td>24</td>\n",
       "      <td>24.7</td>\n",
       "      <td>1.999616</td>\n",
       "      <td>-44.827255</td>\n",
       "      <td>-53.43</td>\n",
       "      <td>-51</td>\n",
       "      <td>2013</td>\n",
       "    </tr>\n",
       "    <tr>\n",
       "      <th>601</th>\n",
       "      <td>56190</td>\n",
       "      <td>6</td>\n",
       "      <td>11.9</td>\n",
       "      <td>-14.0</td>\n",
       "      <td>9</td>\n",
       "      <td>19.964</td>\n",
       "      <td>113</td>\n",
       "      <td>15</td>\n",
       "      <td>1779</td>\n",
       "      <td>1779</td>\n",
       "      <td>130</td>\n",
       "      <td>64.7</td>\n",
       "      <td>3.557055</td>\n",
       "      <td>-51.912310</td>\n",
       "      <td>-52.48</td>\n",
       "      <td>-72</td>\n",
       "      <td>2013</td>\n",
       "    </tr>\n",
       "    <tr>\n",
       "      <th>602</th>\n",
       "      <td>49509</td>\n",
       "      <td>6</td>\n",
       "      <td>10.1</td>\n",
       "      <td>-15.4</td>\n",
       "      <td>9</td>\n",
       "      <td>19.964</td>\n",
       "      <td>113</td>\n",
       "      <td>15</td>\n",
       "      <td>1779</td>\n",
       "      <td>1779</td>\n",
       "      <td>130</td>\n",
       "      <td>64.7</td>\n",
       "      <td>3.557055</td>\n",
       "      <td>-51.912310</td>\n",
       "      <td>-51.51</td>\n",
       "      <td>-72</td>\n",
       "      <td>2013</td>\n",
       "    </tr>\n",
       "    <tr>\n",
       "      <th>603</th>\n",
       "      <td>34191</td>\n",
       "      <td>13</td>\n",
       "      <td>10.4</td>\n",
       "      <td>13.1</td>\n",
       "      <td>9</td>\n",
       "      <td>31.100</td>\n",
       "      <td>72</td>\n",
       "      <td>11</td>\n",
       "      <td>531</td>\n",
       "      <td>531</td>\n",
       "      <td>203</td>\n",
       "      <td>98.6</td>\n",
       "      <td>5.316384</td>\n",
       "      <td>-61.967985</td>\n",
       "      <td>-60.36</td>\n",
       "      <td>-81</td>\n",
       "      <td>2013</td>\n",
       "    </tr>\n",
       "  </tbody>\n",
       "</table>\n",
       "</div>"
      ],
      "text/plain": [
       "     area_tab  hod   lat   lon  mon     p98  p_nb_conv  p_nb_gt30  p_nb_nz  \\\n",
       "599     43738    5  12.4   8.1    9  33.160        123         24      873   \n",
       "600    143492    6  15.3 -12.6    9   8.620         20          0      521   \n",
       "601     56190    6  11.9 -14.0    9  19.964        113         15     1779   \n",
       "602     49509    6  10.1 -15.4    9  19.964        113         15     1779   \n",
       "603     34191   13  10.4  13.1    9  31.100         72         11      531   \n",
       "\n",
       "     p_znb  p_znb_conv  pmax     pmean      tmean  tmean_tab  tmin    yr  \n",
       "599    873         130  77.7  4.418671 -52.570447     -57.26   -77  2013  \n",
       "600    521          24  24.7  1.999616 -44.827255     -53.43   -51  2013  \n",
       "601   1779         130  64.7  3.557055 -51.912310     -52.48   -72  2013  \n",
       "602   1779         130  64.7  3.557055 -51.912310     -51.51   -72  2013  \n",
       "603    531         203  98.6  5.316384 -61.967985     -60.36   -81  2013  "
      ]
     },
     "execution_count": 93,
     "metadata": {},
     "output_type": "execute_result"
    }
   ],
   "source": [
    "df.tail()"
   ]
  },
  {
   "cell_type": "code",
   "execution_count": 96,
   "metadata": {
    "collapsed": false
   },
   "outputs": [
    {
     "data": {
      "text/plain": [
       "<matplotlib.collections.PathCollection at 0x7f7251919c18>"
      ]
     },
     "execution_count": 96,
     "metadata": {},
     "output_type": "execute_result"
    },
    {
     "data": {
      "image/png": "[encoded data removed]",
      "text/plain": [
       "<matplotlib.figure.Figure at 0x7f725194a4a8>"
      ]
     },
     "metadata": {},
     "output_type": "display_data"
    }
   ],
   "source": [
    "p = df.p98[(df.tmean<-40)]\n",
    "t = df.tmean[(df.tmean<-40)]\n",
    "plt.scatter(p,t)"
   ]
  },
  {
   "cell_type": "code",
   "execution_count": 91,
   "metadata": {
    "collapsed": false
   },
   "outputs": [
    {
     "data": {
      "text/plain": [
       "<matplotlib.text.Text at 0x7f7251b3f748>"
      ]
     },
     "execution_count": 91,
     "metadata": {},
     "output_type": "execute_result"
    },
    {
     "data": {
      "image/png": "[encoded data removed]",
      "text/plain": [
       "<matplotlib.figure.Figure at 0x7f7251a28278>"
      ]
     },
     "metadata": {},
     "output_type": "display_data"
    }
   ],
   "source": [
    "# Calculate the point density\n",
    "xy = np.vstack([p,t])\n",
    "z = gaussian_kde(xy)(xy)\n",
    "\n",
    "fig, ax = plt.subplots()\n",
    "ax.scatter(p, t, c=z, edgecolor='', )\n",
    "\n",
    "plt.xlabel('Max. Pcp (mm h-1)')\n",
    "plt.ylabel('TIR (degC)')"
   ]
  },
  {
   "cell_type": "code",
   "execution_count": 68,
   "metadata": {
    "collapsed": false
   },
   "outputs": [
    {
     "name": "stdout",
     "output_type": "stream",
     "text": [
      "-40 11.474195063198822\n",
      "-70 10.107876627167585\n"
     ]
    }
   ],
   "source": [
    "print('-40', (np.mean(df.p_nb_conv[(df.tmean_tab<-40)]/df.p_nb_nz[(df.tmean_tab<-40)]))*100.)\n",
    "print('-70', (np.mean(df.p_nb_conv[(df.tmean_tab<-70)]/df.p_nb_nz[(df.tmean_tab<-70)]))*100.)"
   ]
  },
  {
   "cell_type": "code",
   "execution_count": 97,
   "metadata": {
    "collapsed": true
   },
   "outputs": [],
   "source": [
    "dfg = pd.read_pickle('/users/global/cornkle/C_paper/MCS_blobs/df_allPT_inMCS.pkl')"
   ]
  },
  {
   "cell_type": "code",
   "execution_count": 98,
   "metadata": {
    "collapsed": false
   },
   "outputs": [
    {
     "data": {
      "text/html": [
       "<div>\n",
       "<table border=\"1\" class=\"dataframe\">\n",
       "  <thead>\n",
       "    <tr style=\"text-align: right;\">\n",
       "      <th></th>\n",
       "      <th>all_p_nz</th>\n",
       "      <th>all_t_nz</th>\n",
       "    </tr>\n",
       "  </thead>\n",
       "  <tbody>\n",
       "    <tr>\n",
       "      <th>0</th>\n",
       "      <td>9.0</td>\n",
       "      <td>-40</td>\n",
       "    </tr>\n",
       "    <tr>\n",
       "      <th>1</th>\n",
       "      <td>2.5</td>\n",
       "      <td>-43</td>\n",
       "    </tr>\n",
       "    <tr>\n",
       "      <th>2</th>\n",
       "      <td>4.6</td>\n",
       "      <td>-50</td>\n",
       "    </tr>\n",
       "    <tr>\n",
       "      <th>3</th>\n",
       "      <td>0.5</td>\n",
       "      <td>-51</td>\n",
       "    </tr>\n",
       "    <tr>\n",
       "      <th>4</th>\n",
       "      <td>3.8</td>\n",
       "      <td>-44</td>\n",
       "    </tr>\n",
       "  </tbody>\n",
       "</table>\n",
       "</div>"
      ],
      "text/plain": [
       "   all_p_nz  all_t_nz\n",
       "0       9.0       -40\n",
       "1       2.5       -43\n",
       "2       4.6       -50\n",
       "3       0.5       -51\n",
       "4       3.8       -44"
      ]
     },
     "execution_count": 98,
     "metadata": {},
     "output_type": "execute_result"
    }
   ],
   "source": [
    "dfg.head()"
   ]
  },
  {
   "cell_type": "code",
   "execution_count": 99,
   "metadata": {
    "collapsed": false
   },
   "outputs": [
    {
     "data": {
      "text/plain": [
       "28.5"
      ]
     },
     "execution_count": 99,
     "metadata": {},
     "output_type": "execute_result"
    }
   ],
   "source": [
    "np.percentile(dfg.all_p_nz, 98)"
   ]
  },
  {
   "cell_type": "code",
   "execution_count": 70,
   "metadata": {
    "collapsed": false
   },
   "outputs": [
    {
     "data": {
      "text/plain": [
       "(array([], dtype=int64),)"
      ]
     },
     "execution_count": 70,
     "metadata": {},
     "output_type": "execute_result"
    }
   ],
   "source": [
    "np.where(dfg.all_p_nz == 0)"
   ]
  },
  {
   "cell_type": "code",
   "execution_count": 71,
   "metadata": {
    "collapsed": false
   },
   "outputs": [
    {
     "data": {
      "text/html": [
       "<div>\n",
       "<table border=\"1\" class=\"dataframe\">\n",
       "  <thead>\n",
       "    <tr style=\"text-align: right;\">\n",
       "      <th></th>\n",
       "      <th>area_tab</th>\n",
       "      <th>hod</th>\n",
       "      <th>lat</th>\n",
       "      <th>lon</th>\n",
       "      <th>mon</th>\n",
       "      <th>p98</th>\n",
       "      <th>p_nb_conv</th>\n",
       "      <th>p_nb_gt30</th>\n",
       "      <th>p_nb_nz</th>\n",
       "      <th>pmax</th>\n",
       "      <th>pmean</th>\n",
       "      <th>tmean</th>\n",
       "      <th>tmean_tab</th>\n",
       "      <th>tmin</th>\n",
       "      <th>yr</th>\n",
       "    </tr>\n",
       "  </thead>\n",
       "  <tbody>\n",
       "    <tr>\n",
       "      <th>0</th>\n",
       "      <td>108706</td>\n",
       "      <td>10</td>\n",
       "      <td>12.7</td>\n",
       "      <td>-8.5</td>\n",
       "      <td>6</td>\n",
       "      <td>22.624</td>\n",
       "      <td>133</td>\n",
       "      <td>10</td>\n",
       "      <td>737</td>\n",
       "      <td>52.8</td>\n",
       "      <td>3.509905</td>\n",
       "      <td>-42.519674</td>\n",
       "      <td>-48.21</td>\n",
       "      <td>-48</td>\n",
       "      <td>2004</td>\n",
       "    </tr>\n",
       "    <tr>\n",
       "      <th>1</th>\n",
       "      <td>191386</td>\n",
       "      <td>21</td>\n",
       "      <td>10.8</td>\n",
       "      <td>7.4</td>\n",
       "      <td>6</td>\n",
       "      <td>23.124</td>\n",
       "      <td>404</td>\n",
       "      <td>28</td>\n",
       "      <td>2948</td>\n",
       "      <td>70.4</td>\n",
       "      <td>3.878460</td>\n",
       "      <td>-59.585821</td>\n",
       "      <td>-60.38</td>\n",
       "      <td>-82</td>\n",
       "      <td>2004</td>\n",
       "    </tr>\n",
       "    <tr>\n",
       "      <th>2</th>\n",
       "      <td>302712</td>\n",
       "      <td>22</td>\n",
       "      <td>11.7</td>\n",
       "      <td>-11.3</td>\n",
       "      <td>6</td>\n",
       "      <td>47.156</td>\n",
       "      <td>501</td>\n",
       "      <td>92</td>\n",
       "      <td>1912</td>\n",
       "      <td>111.3</td>\n",
       "      <td>6.476046</td>\n",
       "      <td>-62.786611</td>\n",
       "      <td>-59.76</td>\n",
       "      <td>-81</td>\n",
       "      <td>2004</td>\n",
       "    </tr>\n",
       "    <tr>\n",
       "      <th>3</th>\n",
       "      <td>163243</td>\n",
       "      <td>6</td>\n",
       "      <td>11.3</td>\n",
       "      <td>-1.2</td>\n",
       "      <td>6</td>\n",
       "      <td>19.300</td>\n",
       "      <td>311</td>\n",
       "      <td>15</td>\n",
       "      <td>2287</td>\n",
       "      <td>65.4</td>\n",
       "      <td>4.398819</td>\n",
       "      <td>-55.781373</td>\n",
       "      <td>-56.81</td>\n",
       "      <td>-81</td>\n",
       "      <td>2004</td>\n",
       "    </tr>\n",
       "    <tr>\n",
       "      <th>4</th>\n",
       "      <td>119379</td>\n",
       "      <td>2</td>\n",
       "      <td>12.3</td>\n",
       "      <td>9.1</td>\n",
       "      <td>6</td>\n",
       "      <td>8.256</td>\n",
       "      <td>3</td>\n",
       "      <td>0</td>\n",
       "      <td>923</td>\n",
       "      <td>29.8</td>\n",
       "      <td>2.678332</td>\n",
       "      <td>-53.302275</td>\n",
       "      <td>-60.85</td>\n",
       "      <td>-64</td>\n",
       "      <td>2004</td>\n",
       "    </tr>\n",
       "  </tbody>\n",
       "</table>\n",
       "</div>"
      ],
      "text/plain": [
       "   area_tab  hod   lat   lon  mon     p98  p_nb_conv  p_nb_gt30  p_nb_nz  \\\n",
       "0    108706   10  12.7  -8.5    6  22.624        133         10      737   \n",
       "1    191386   21  10.8   7.4    6  23.124        404         28     2948   \n",
       "2    302712   22  11.7 -11.3    6  47.156        501         92     1912   \n",
       "3    163243    6  11.3  -1.2    6  19.300        311         15     2287   \n",
       "4    119379    2  12.3   9.1    6   8.256          3          0      923   \n",
       "\n",
       "    pmax     pmean      tmean  tmean_tab  tmin    yr  \n",
       "0   52.8  3.509905 -42.519674     -48.21   -48  2004  \n",
       "1   70.4  3.878460 -59.585821     -60.38   -82  2004  \n",
       "2  111.3  6.476046 -62.786611     -59.76   -81  2004  \n",
       "3   65.4  4.398819 -55.781373     -56.81   -81  2004  \n",
       "4   29.8  2.678332 -53.302275     -60.85   -64  2004  "
      ]
     },
     "execution_count": 71,
     "metadata": {},
     "output_type": "execute_result"
    }
   ],
   "source": [
    "df.head()"
   ]
  },
  {
   "cell_type": "code",
   "execution_count": null,
   "metadata": {
    "collapsed": true
   },
   "outputs": [],
   "source": [
    "df."
   ]
  }
 ],
 "metadata": {
  "kernelspec": {
   "display_name": "Python 3",
   "language": "python",
   "name": "python3"
  },
  "language_info": {
   "codemirror_mode": {
    "name": "ipython",
    "version": 3
   },
   "file_extension": ".py",
   "mimetype": "text/x-python",
   "name": "python",
   "nbconvert_exporter": "python",
   "pygments_lexer": "ipython3",
   "version": "3.5.2"
  }
 },
 "nbformat": 4,
 "nbformat_minor": 0
}
