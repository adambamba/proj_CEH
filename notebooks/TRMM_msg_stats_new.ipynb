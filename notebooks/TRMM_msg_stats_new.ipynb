{
 "cells": [
  {
   "cell_type": "code",
   "execution_count": 72,
   "metadata": {
    "collapsed": true
   },
   "outputs": [],
   "source": [
    "import numpy as np\n",
    "import matplotlib as mpl\n",
    "import matplotlib.pyplot as plt\n",
    "from mpl_toolkits.basemap import Basemap\n",
    "import cartopy.crs as ccrs\n",
    "import cartopy.feature as cfeature\n",
    "import matplotlib.pylab as pylab\n",
    "from scipy.stats import gaussian_kde\n",
    "import pandas as pd\n",
    "pylab.rcParams['figure.figsize'] = (16., 9.)\n",
    "%matplotlib inline"
   ]
  },
  {
   "cell_type": "code",
   "execution_count": 74,
   "metadata": {
    "collapsed": false
   },
   "outputs": [],
   "source": [
    "df = pd.read_pickle('/users/global/cornkle/C_paper/MCS_blobs/df_MCS.pkl')"
   ]
  },
  {
   "cell_type": "code",
   "execution_count": 75,
   "metadata": {
    "collapsed": false
   },
   "outputs": [
    {
     "data": {
      "text/html": [
       "<div>\n",
       "<table border=\"1\" class=\"dataframe\">\n",
       "  <thead>\n",
       "    <tr style=\"text-align: right;\">\n",
       "      <th></th>\n",
       "      <th>area_tab</th>\n",
       "      <th>hod</th>\n",
       "      <th>lat</th>\n",
       "      <th>lon</th>\n",
       "      <th>mon</th>\n",
       "      <th>p98</th>\n",
       "      <th>p_nb_conv</th>\n",
       "      <th>p_nb_gt30</th>\n",
       "      <th>p_nb_nz</th>\n",
       "      <th>p_znb</th>\n",
       "      <th>p_znb_conv</th>\n",
       "      <th>pmax</th>\n",
       "      <th>pmean</th>\n",
       "      <th>tmean</th>\n",
       "      <th>tmean_tab</th>\n",
       "      <th>tmin</th>\n",
       "      <th>yr</th>\n",
       "    </tr>\n",
       "  </thead>\n",
       "  <tbody>\n",
       "    <tr>\n",
       "      <th>0</th>\n",
       "      <td>74252</td>\n",
       "      <td>3</td>\n",
       "      <td>12.7</td>\n",
       "      <td>-16.0</td>\n",
       "      <td>6</td>\n",
       "      <td>16.810</td>\n",
       "      <td>103</td>\n",
       "      <td>16</td>\n",
       "      <td>1380</td>\n",
       "      <td>1380</td>\n",
       "      <td>110</td>\n",
       "      <td>59.4</td>\n",
       "      <td>2.860290</td>\n",
       "      <td>-55.335507</td>\n",
       "      <td>-50.47</td>\n",
       "      <td>-78</td>\n",
       "      <td>2004</td>\n",
       "    </tr>\n",
       "    <tr>\n",
       "      <th>1</th>\n",
       "      <td>236835</td>\n",
       "      <td>1</td>\n",
       "      <td>10.3</td>\n",
       "      <td>-13.1</td>\n",
       "      <td>6</td>\n",
       "      <td>30.080</td>\n",
       "      <td>31</td>\n",
       "      <td>4</td>\n",
       "      <td>161</td>\n",
       "      <td>161</td>\n",
       "      <td>92</td>\n",
       "      <td>37.3</td>\n",
       "      <td>6.214286</td>\n",
       "      <td>-56.714286</td>\n",
       "      <td>-66.48</td>\n",
       "      <td>-69</td>\n",
       "      <td>2004</td>\n",
       "    </tr>\n",
       "    <tr>\n",
       "      <th>2</th>\n",
       "      <td>321286</td>\n",
       "      <td>0</td>\n",
       "      <td>12.0</td>\n",
       "      <td>-9.4</td>\n",
       "      <td>6</td>\n",
       "      <td>12.642</td>\n",
       "      <td>6</td>\n",
       "      <td>0</td>\n",
       "      <td>680</td>\n",
       "      <td>680</td>\n",
       "      <td>275</td>\n",
       "      <td>24.5</td>\n",
       "      <td>2.441765</td>\n",
       "      <td>-3.725000</td>\n",
       "      <td>-60.08</td>\n",
       "      <td>-39</td>\n",
       "      <td>2004</td>\n",
       "    </tr>\n",
       "    <tr>\n",
       "      <th>3</th>\n",
       "      <td>58938</td>\n",
       "      <td>0</td>\n",
       "      <td>10.2</td>\n",
       "      <td>21.7</td>\n",
       "      <td>6</td>\n",
       "      <td>12.642</td>\n",
       "      <td>6</td>\n",
       "      <td>0</td>\n",
       "      <td>680</td>\n",
       "      <td>680</td>\n",
       "      <td>275</td>\n",
       "      <td>24.5</td>\n",
       "      <td>2.441765</td>\n",
       "      <td>-3.725000</td>\n",
       "      <td>-59.81</td>\n",
       "      <td>-39</td>\n",
       "      <td>2004</td>\n",
       "    </tr>\n",
       "    <tr>\n",
       "      <th>4</th>\n",
       "      <td>29961</td>\n",
       "      <td>0</td>\n",
       "      <td>10.1</td>\n",
       "      <td>18.0</td>\n",
       "      <td>6</td>\n",
       "      <td>12.642</td>\n",
       "      <td>6</td>\n",
       "      <td>0</td>\n",
       "      <td>680</td>\n",
       "      <td>680</td>\n",
       "      <td>275</td>\n",
       "      <td>24.5</td>\n",
       "      <td>2.441765</td>\n",
       "      <td>-3.725000</td>\n",
       "      <td>-58.80</td>\n",
       "      <td>-39</td>\n",
       "      <td>2004</td>\n",
       "    </tr>\n",
       "  </tbody>\n",
       "</table>\n",
       "</div>"
      ],
      "text/plain": [
       "   area_tab  hod   lat   lon  mon     p98  p_nb_conv  p_nb_gt30  p_nb_nz  \\\n",
       "0     74252    3  12.7 -16.0    6  16.810        103         16     1380   \n",
       "1    236835    1  10.3 -13.1    6  30.080         31          4      161   \n",
       "2    321286    0  12.0  -9.4    6  12.642          6          0      680   \n",
       "3     58938    0  10.2  21.7    6  12.642          6          0      680   \n",
       "4     29961    0  10.1  18.0    6  12.642          6          0      680   \n",
       "\n",
       "   p_znb  p_znb_conv  pmax     pmean      tmean  tmean_tab  tmin    yr  \n",
       "0   1380         110  59.4  2.860290 -55.335507     -50.47   -78  2004  \n",
       "1    161          92  37.3  6.214286 -56.714286     -66.48   -69  2004  \n",
       "2    680         275  24.5  2.441765  -3.725000     -60.08   -39  2004  \n",
       "3    680         275  24.5  2.441765  -3.725000     -59.81   -39  2004  \n",
       "4    680         275  24.5  2.441765  -3.725000     -58.80   -39  2004  "
      ]
     },
     "execution_count": 75,
     "metadata": {},
     "output_type": "execute_result"
    }
   ],
   "source": [
    "df.head()"
   ]
  },
  {
   "cell_type": "code",
   "execution_count": 90,
   "metadata": {
    "collapsed": false
   },
   "outputs": [
    {
     "data": {
      "text/plain": [
       "<matplotlib.collections.PathCollection at 0x7f7251a85908>"
      ]
     },
     "execution_count": 90,
     "metadata": {},
     "output_type": "execute_result"
    },
    {
     "data": {
      "image/png": "[encoded data removed]",
      "text/plain": [
       "<matplotlib.figure.Figure at 0x7f7251b1eb00>"
      ]
     },
     "metadata": {},
     "output_type": "display_data"
    }
   ],
   "source": [
    "p = df.p98[(df.tmean<-40)]\n",
    "t = df.tmean[(df.tmean<-40)]\n",
    "plt.scatter(p,t)"
   ]
  },
  {
   "cell_type": "code",
   "execution_count": 91,
   "metadata": {
    "collapsed": false
   },
   "outputs": [
    {
     "data": {
      "text/plain": [
       "<matplotlib.text.Text at 0x7f7251b3f748>"
      ]
     },
     "execution_count": 91,
     "metadata": {},
     "output_type": "execute_result"
    },
    {
     "data": {
      "image/png": "[encoded data removed]",
      "text/plain": [
       "<matplotlib.figure.Figure at 0x7f7251a28278>"
      ]
     },
     "metadata": {},
     "output_type": "display_data"
    }
   ],
   "source": [
    "# Calculate the point density\n",
    "xy = np.vstack([p,t])\n",
    "z = gaussian_kde(xy)(xy)\n",
    "\n",
    "fig, ax = plt.subplots()\n",
    "ax.scatter(p, t, c=z, edgecolor='', )\n",
    "\n",
    "plt.xlabel('Max. Pcp (mm h-1)')\n",
    "plt.ylabel('TIR (degC)')"
   ]
  },
  {
   "cell_type": "code",
   "execution_count": 68,
   "metadata": {
    "collapsed": false
   },
   "outputs": [
    {
     "name": "stdout",
     "output_type": "stream",
     "text": [
      "-40 11.474195063198822\n",
      "-70 10.107876627167585\n"
     ]
    }
   ],
   "source": [
    "print('-40', (np.mean(df.p_nb_conv[(df.tmean_tab<-40)]/df.p_nb_nz[(df.tmean_tab<-40)]))*100.)\n",
    "print('-70', (np.mean(df.p_nb_conv[(df.tmean_tab<-70)]/df.p_nb_nz[(df.tmean_tab<-70)]))*100.)"
   ]
  },
  {
   "cell_type": "code",
   "execution_count": 47,
   "metadata": {
    "collapsed": true
   },
   "outputs": [],
   "source": [
    "dfg = pd.read_pickle('/users/global/cornkle/C_paper/MCS_blobs/df_allPT_inMCS.pkl')"
   ]
  },
  {
   "cell_type": "code",
   "execution_count": 48,
   "metadata": {
    "collapsed": false
   },
   "outputs": [
    {
     "data": {
      "text/html": [
       "<div>\n",
       "<table border=\"1\" class=\"dataframe\">\n",
       "  <thead>\n",
       "    <tr style=\"text-align: right;\">\n",
       "      <th></th>\n",
       "      <th>all_p_nz</th>\n",
       "      <th>all_t_nz</th>\n",
       "    </tr>\n",
       "  </thead>\n",
       "  <tbody>\n",
       "    <tr>\n",
       "      <th>0</th>\n",
       "      <td>1.5</td>\n",
       "      <td>-40</td>\n",
       "    </tr>\n",
       "    <tr>\n",
       "      <th>1</th>\n",
       "      <td>3.2</td>\n",
       "      <td>-41</td>\n",
       "    </tr>\n",
       "    <tr>\n",
       "      <th>2</th>\n",
       "      <td>1.0</td>\n",
       "      <td>-40</td>\n",
       "    </tr>\n",
       "    <tr>\n",
       "      <th>3</th>\n",
       "      <td>11.3</td>\n",
       "      <td>-40</td>\n",
       "    </tr>\n",
       "    <tr>\n",
       "      <th>4</th>\n",
       "      <td>7.9</td>\n",
       "      <td>-40</td>\n",
       "    </tr>\n",
       "  </tbody>\n",
       "</table>\n",
       "</div>"
      ],
      "text/plain": [
       "   all_p_nz  all_t_nz\n",
       "0       1.5       -40\n",
       "1       3.2       -41\n",
       "2       1.0       -40\n",
       "3      11.3       -40\n",
       "4       7.9       -40"
      ]
     },
     "execution_count": 48,
     "metadata": {},
     "output_type": "execute_result"
    }
   ],
   "source": [
    "dfg.head()"
   ]
  },
  {
   "cell_type": "code",
   "execution_count": 49,
   "metadata": {
    "collapsed": false
   },
   "outputs": [
    {
     "data": {
      "text/plain": [
       "28.699999999999999"
      ]
     },
     "execution_count": 49,
     "metadata": {},
     "output_type": "execute_result"
    }
   ],
   "source": [
    "np.percentile(dfg.all_p_nz, 98)"
   ]
  },
  {
   "cell_type": "code",
   "execution_count": 70,
   "metadata": {
    "collapsed": false
   },
   "outputs": [
    {
     "data": {
      "text/plain": [
       "(array([], dtype=int64),)"
      ]
     },
     "execution_count": 70,
     "metadata": {},
     "output_type": "execute_result"
    }
   ],
   "source": [
    "np.where(dfg.all_p_nz == 0)"
   ]
  },
  {
   "cell_type": "code",
   "execution_count": 71,
   "metadata": {
    "collapsed": false
   },
   "outputs": [
    {
     "data": {
      "text/html": [
       "<div>\n",
       "<table border=\"1\" class=\"dataframe\">\n",
       "  <thead>\n",
       "    <tr style=\"text-align: right;\">\n",
       "      <th></th>\n",
       "      <th>area_tab</th>\n",
       "      <th>hod</th>\n",
       "      <th>lat</th>\n",
       "      <th>lon</th>\n",
       "      <th>mon</th>\n",
       "      <th>p98</th>\n",
       "      <th>p_nb_conv</th>\n",
       "      <th>p_nb_gt30</th>\n",
       "      <th>p_nb_nz</th>\n",
       "      <th>pmax</th>\n",
       "      <th>pmean</th>\n",
       "      <th>tmean</th>\n",
       "      <th>tmean_tab</th>\n",
       "      <th>tmin</th>\n",
       "      <th>yr</th>\n",
       "    </tr>\n",
       "  </thead>\n",
       "  <tbody>\n",
       "    <tr>\n",
       "      <th>0</th>\n",
       "      <td>108706</td>\n",
       "      <td>10</td>\n",
       "      <td>12.7</td>\n",
       "      <td>-8.5</td>\n",
       "      <td>6</td>\n",
       "      <td>22.624</td>\n",
       "      <td>133</td>\n",
       "      <td>10</td>\n",
       "      <td>737</td>\n",
       "      <td>52.8</td>\n",
       "      <td>3.509905</td>\n",
       "      <td>-42.519674</td>\n",
       "      <td>-48.21</td>\n",
       "      <td>-48</td>\n",
       "      <td>2004</td>\n",
       "    </tr>\n",
       "    <tr>\n",
       "      <th>1</th>\n",
       "      <td>191386</td>\n",
       "      <td>21</td>\n",
       "      <td>10.8</td>\n",
       "      <td>7.4</td>\n",
       "      <td>6</td>\n",
       "      <td>23.124</td>\n",
       "      <td>404</td>\n",
       "      <td>28</td>\n",
       "      <td>2948</td>\n",
       "      <td>70.4</td>\n",
       "      <td>3.878460</td>\n",
       "      <td>-59.585821</td>\n",
       "      <td>-60.38</td>\n",
       "      <td>-82</td>\n",
       "      <td>2004</td>\n",
       "    </tr>\n",
       "    <tr>\n",
       "      <th>2</th>\n",
       "      <td>302712</td>\n",
       "      <td>22</td>\n",
       "      <td>11.7</td>\n",
       "      <td>-11.3</td>\n",
       "      <td>6</td>\n",
       "      <td>47.156</td>\n",
       "      <td>501</td>\n",
       "      <td>92</td>\n",
       "      <td>1912</td>\n",
       "      <td>111.3</td>\n",
       "      <td>6.476046</td>\n",
       "      <td>-62.786611</td>\n",
       "      <td>-59.76</td>\n",
       "      <td>-81</td>\n",
       "      <td>2004</td>\n",
       "    </tr>\n",
       "    <tr>\n",
       "      <th>3</th>\n",
       "      <td>163243</td>\n",
       "      <td>6</td>\n",
       "      <td>11.3</td>\n",
       "      <td>-1.2</td>\n",
       "      <td>6</td>\n",
       "      <td>19.300</td>\n",
       "      <td>311</td>\n",
       "      <td>15</td>\n",
       "      <td>2287</td>\n",
       "      <td>65.4</td>\n",
       "      <td>4.398819</td>\n",
       "      <td>-55.781373</td>\n",
       "      <td>-56.81</td>\n",
       "      <td>-81</td>\n",
       "      <td>2004</td>\n",
       "    </tr>\n",
       "    <tr>\n",
       "      <th>4</th>\n",
       "      <td>119379</td>\n",
       "      <td>2</td>\n",
       "      <td>12.3</td>\n",
       "      <td>9.1</td>\n",
       "      <td>6</td>\n",
       "      <td>8.256</td>\n",
       "      <td>3</td>\n",
       "      <td>0</td>\n",
       "      <td>923</td>\n",
       "      <td>29.8</td>\n",
       "      <td>2.678332</td>\n",
       "      <td>-53.302275</td>\n",
       "      <td>-60.85</td>\n",
       "      <td>-64</td>\n",
       "      <td>2004</td>\n",
       "    </tr>\n",
       "  </tbody>\n",
       "</table>\n",
       "</div>"
      ],
      "text/plain": [
       "   area_tab  hod   lat   lon  mon     p98  p_nb_conv  p_nb_gt30  p_nb_nz  \\\n",
       "0    108706   10  12.7  -8.5    6  22.624        133         10      737   \n",
       "1    191386   21  10.8   7.4    6  23.124        404         28     2948   \n",
       "2    302712   22  11.7 -11.3    6  47.156        501         92     1912   \n",
       "3    163243    6  11.3  -1.2    6  19.300        311         15     2287   \n",
       "4    119379    2  12.3   9.1    6   8.256          3          0      923   \n",
       "\n",
       "    pmax     pmean      tmean  tmean_tab  tmin    yr  \n",
       "0   52.8  3.509905 -42.519674     -48.21   -48  2004  \n",
       "1   70.4  3.878460 -59.585821     -60.38   -82  2004  \n",
       "2  111.3  6.476046 -62.786611     -59.76   -81  2004  \n",
       "3   65.4  4.398819 -55.781373     -56.81   -81  2004  \n",
       "4   29.8  2.678332 -53.302275     -60.85   -64  2004  "
      ]
     },
     "execution_count": 71,
     "metadata": {},
     "output_type": "execute_result"
    }
   ],
   "source": [
    "df.head()"
   ]
  },
  {
   "cell_type": "code",
   "execution_count": null,
   "metadata": {
    "collapsed": true
   },
   "outputs": [],
   "source": [
    "df."
   ]
  }
 ],
 "metadata": {
  "kernelspec": {
   "display_name": "Python 3",
   "language": "python",
   "name": "python3"
  },
  "language_info": {
   "codemirror_mode": {
    "name": "ipython",
    "version": 3
   },
   "file_extension": ".py",
   "mimetype": "text/x-python",
   "name": "python",
   "nbconvert_exporter": "python",
   "pygments_lexer": "ipython3",
   "version": "3.5.2"
  }
 },
 "nbformat": 4,
 "nbformat_minor": 0
}
