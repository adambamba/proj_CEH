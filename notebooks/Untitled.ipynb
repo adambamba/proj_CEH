{
 "cells": [
  {
   "cell_type": "code",
   "execution_count": null,
   "metadata": {},
   "outputs": [],
   "source": [
    "from utils import u_time as ut\n",
    "from utils import u_arrays as ua\n",
    "from eod import msg, trmm\n",
    "import salem\n",
    "import numpy as np\n",
    "from scipy.ndimage.measurements import label \n",
    "import pyproj\n",
    "import matplotlib.pyplot as plt\n",
    "from mpl_toolkits.basemap import Basemap\n",
    "from scipy.interpolate import griddata\n",
    "import cartopy.crs as ccrs\n",
    "import cartopy.feature as cfeature\n",
    "import matplotlib.pylab as pylab\n",
    "import cartopy.feature as cfeature\n",
    "from wavelet import util\n",
    "import cleo\n",
    "import pickle as pkl\n",
    "import os\n",
    "from scipy import ndimage\n",
    "from skimage.feature import match_template\n",
    "from skimage.measure import compare_ssim\n",
    "import xarray as xr\n",
    "from netCDF4 import Dataset\n",
    "\n",
    "pylab.rcParams['figure.figsize'] = 20., 12.\n",
    "%matplotlib inline"
   ]
  },
  {
   "cell_type": "code",
   "execution_count": null,
   "metadata": {},
   "outputs": [],
   "source": [
    "dd = {'y' : [], 'm' : [], 'perc' : [], 'max' : [], 'p' : []}\n",
    "files = ua.locate(\".nc\", '/users/global/cornkle/MCSfiles/WA30')\n"
   ]
  },
  {
   "cell_type": "code",
   "execution_count": null,
   "metadata": {
    "collapsed": true
   },
   "outputs": [],
   "source": [
    "for f in files:\n",
    "    \n",
    "    dic = xr.open_dataset(f)\n",
    "    tmask=dic['tmask'].values.copy()    \n",
    "    p=dic['p'].values.copy()\n",
    "    \n",
    "    pp=p[np.where(tmask==1)]\n",
    "    perc=np.percentile(pp[np.isfinite(pp)], 99)\n",
    "    maxi=np.max(pp[np.isfinite(pp)])\n",
    "    #print(dic['time.year'].values)\n",
    "    dd['y'].append(dic['time.year'].values)\n",
    "    dd['m'].append(dic['time.month'].values)\n",
    "    dd['perc'].append(perc)\n",
    "    dd['max'].append(maxi)\n",
    "    dd['p'].append(pp[np.isfinite(pp)])    "
   ]
  },
  {
   "cell_type": "code",
   "execution_count": null,
   "metadata": {},
   "outputs": [],
   "source": [
    "f = files[0]\n",
    "di = xr.open_dataset(f)\n",
    "di.keys()"
   ]
  },
  {
   "cell_type": "code",
   "execution_count": null,
   "metadata": {},
   "outputs": [],
   "source": [
    "\n",
    "ax = plt.axes(projection=ccrs.PlateCarree())\n",
    "ax.coastlines()\n",
    "\n",
    "#plt.contourf(di.lon, di.lat, di.p, levels=np.arange(0,20, 0.1), transform=ccrs.PlateCarree())\n",
    "plt.contour(di.lon, di.lat, di.p , levels=np.arange(-0.5,2, 0.5), transform=ccrs.PlateCarree(), )\n",
    "plt.colorbar"
   ]
  },
  {
   "cell_type": "code",
   "execution_count": null,
   "metadata": {},
   "outputs": [],
   "source": [
    "perc=[]\n",
    "for y in range(2004,2015):\n",
    "   # for m in range(8,10):\n",
    "        ok = np.where((np.array(dd['y'])==y) & ((np.array(dd['m'])==9) ))#^ (np.array(dd['m'])==9)) )\n",
    "        #print(ok[0].size)\n",
    "        mmean=np.mean(np.array(dd['perc'])[ok])\n",
    "        perc.append(mmean)"
   ]
  },
  {
   "cell_type": "code",
   "execution_count": null,
   "metadata": {},
   "outputs": [],
   "source": [
    "perc=[]\n",
    "for y in range(2004,2015):\n",
    "    #for m in range(9,10):\n",
    "        ok = np.where((np.array(dd['y'])==y) & ((np.array(dd['m'])==9) ))\n",
    "        dlist=[]\n",
    "        for a in np.array(dd['p'])[ok]:\n",
    "            dlist.extend(a)\n",
    "        mmean=np.percentile(np.array(dlist), 99)\n",
    "        perc.append(mmean)        "
   ]
  },
  {
   "cell_type": "code",
   "execution_count": null,
   "metadata": {},
   "outputs": [],
   "source": [
    "xtick=list(range(2004,2015,2))\n",
    "\n",
    "fig, ax = plt.subplots()\n",
    "plt.plot(perc)\n",
    "ax.set_xticklabels(xtick)\n",
    "ax.set_ylabel('Precip (mm h-1)')\n",
    "ax.set_title('99th perc pixel of all pixels in MCS < -40 | > 25,000 km2')\n",
    "\n",
    "plt.savefig('/users/global/cornkle/C_paper/figs/TRMM_MCS_trend.jpg')"
   ]
  },
  {
   "cell_type": "code",
   "execution_count": null,
   "metadata": {
    "collapsed": true
   },
   "outputs": [],
   "source": [
    "perc=[]\n",
    "for y in range(2004,2015):\n",
    "        ok = np.where((np.array(dd['y'])==y))\n",
    "        mmean=np.max(np.array(dd['perc'])[ok])\n",
    "        perc.append(mmean)"
   ]
  },
  {
   "cell_type": "code",
   "execution_count": null,
   "metadata": {
    "collapsed": true
   },
   "outputs": [],
   "source": [
    "perc=[]\n",
    "for y in range(2004,2015):\n",
    "   \n",
    "        ok = np.where((np.array(dd['y'])==y))\n",
    "        dlist=[]\n",
    "        for a in np.array(dd['p'])[ok]:\n",
    "            dlist.extend(a)\n",
    "        mmean=np.percentile(np.array(dlist), 99)\n",
    "        perc.append(mmean)"
   ]
  },
  {
   "cell_type": "code",
   "execution_count": null,
   "metadata": {},
   "outputs": [],
   "source": [
    "plt.plot(perc)"
   ]
  },
  {
   "cell_type": "code",
   "execution_count": null,
   "metadata": {},
   "outputs": [],
   "source": [
    "files = ua.locate(\".nc\", '/users/global/cornkle/MCSfiles/WA30')\n",
    "dic = xr.open_dataset(files[0])\n",
    "dic['time.year'].values"
   ]
  },
  {
   "cell_type": "code",
   "execution_count": null,
   "metadata": {},
   "outputs": [],
   "source": [
    "tmask=dic['tmask'].values.copy()\n",
    "pmask=dic['pmask'].values.copy()\n",
    "t=dic['t_lag0'].values.copy()\n",
    "p=dic['p'].values.copy()\n",
    "\n"
   ]
  },
  {
   "cell_type": "code",
   "execution_count": null,
   "metadata": {},
   "outputs": [],
   "source": [
    "t[np.where(tmask==0)]=np.nan\n",
    "p[np.where(tmask==0)]=np.nan"
   ]
  },
  {
   "cell_type": "code",
   "execution_count": null,
   "metadata": {},
   "outputs": [],
   "source": [
    "ax = plt.axes(projection=ccrs.PlateCarree())\n",
    "plt.contourf(dic['lon'], dic['lat'], t, levels=np.arange(-70,-40,5), transform=ccrs.PlateCarree(), cmap='jet')\n",
    "plt.contour(dic['lon'], dic['lat'], p, levels=np.arange(1,15,2), transform=ccrs.PlateCarree())\n",
    "\n",
    "ax.coastlines()\n",
    "cbar=plt.colorbar()"
   ]
  },
  {
   "cell_type": "code",
   "execution_count": null,
   "metadata": {},
   "outputs": [],
   "source": [
    "pp=p[np.where(tmask==1)]\n",
    "np.percentile(pp[np.isfinite(pp)], 99)"
   ]
  },
  {
   "cell_type": "code",
   "execution_count": null,
   "metadata": {},
   "outputs": [],
   "source": [
    "outt=np.array(dic['tc_lag3'].values.copy())\n",
    "                        \n",
    "outt[np.isnan(outt)]=150\n",
    "outt[outt>-40]=150\n",
    "grad=np.gradient(outt)\n",
    "outt[outt>-40]=-55\n",
    "o2=outt.copy()\n",
    "nok = np.where(abs(grad[0]) > 80)\n",
    "d=2\n",
    "i=nok[0]\n",
    "j=nok[1]    \n",
    "        \n",
    "for ii,jj in zip(i,j):    \n",
    "    kernel=o2[ii-d:ii+d+1, jj-d:jj+d+1]\n",
    "              #  if not kernel.any():\n",
    "                 #   continue\n",
    "         #   else:    \n",
    "    o2[ii-d:ii+d+1, jj-d:jj+d+1]=ndimage.gaussian_filter(kernel, 3, mode='nearest')\n",
    "print(outp.shape)\n",
    "print(o2.shape)\n",
    "wav = util.waveletTP_localMax(o2, outp, 5) \n",
    "print(wav['p'].shape)\n",
    "print(wav['t'].shape)\n",
    "o2[np.where(dic['pmask'].values==0)]=np.nan   \n",
    "\n",
    "z = wav['z'] \n",
    "y = wav['y']  \n",
    "x = wav['x']"
   ]
  },
  {
   "cell_type": "code",
   "execution_count": null,
   "metadata": {},
   "outputs": [],
   "source": [
    "o2[np.isnan(o2)]=0\n",
    "plt.pcolormesh(dic['tc_lag3'])\n",
    "plt.plot(x,y,'ro')"
   ]
  },
  {
   "cell_type": "code",
   "execution_count": null,
   "metadata": {},
   "outputs": [],
   "source": [
    "i=1\n",
    "zz=z[i]\n",
    "xx=x[i]\n",
    "yy=y[i]\n",
    "iscale = (np.ceil(wav['scales'][zz]/2./5.)).astype(int)\n",
    "                \n",
    "tw = wav['t'][zz, :, :].copy()\n",
    "pw = wav['p'][zz, :, :].copy()   #copy??\n",
    "                \n",
    "#tw[np.isnan(tw)]=0\n",
    "#pw[np.isnan(pw)]=0\n",
    "tw[np.where(dic['pmask'].values==0)]=np.nan            \n",
    "pw[np.where(dic['pmask'].values==0)]=np.nan     \n",
    " \n",
    "twmax=tw[yy,xx]   \n",
    "\n",
    "#Find all indices within the local circle of radius iscale...\n",
    "# ... Then average over those indices\n",
    "xloc1 = np.arange(xx-iscale,xx+iscale+1)\n",
    "yloc1 = np.arange(yy-iscale,yy+iscale+1)\n",
    "xloc,yloc = np.meshgrid(xloc1,yloc1)\n",
    "distloc = ( (xloc-xx)**2 + (yloc-yy)**2 ) ** .5\n",
    "#\n",
    "indloc = (distloc <= iscale).nonzero()\n",
    "ycirc = indloc[0] - iscale + yy\n",
    "xcirc = indloc[1] - iscale + xx "
   ]
  },
  {
   "cell_type": "code",
   "execution_count": null,
   "metadata": {},
   "outputs": [],
   "source": [
    " noky=np.where(ycirc==pw.shape[0])   # if the circle is off the edge                               \n",
    "if noky[0].size>0:\n",
    "    ycirc=np.delete(ycirc,noky)\n",
    "    xcirc=np.delete(xcirc,noky)\n",
    "#                    \n",
    "nokx=np.where(xcirc==pw.shape[1])                                  \n",
    "if nokx[0].size>0:\n",
    "    ycirc=np.delete(ycirc,nokx)\n",
    "    xcirc=np.delete(xcirc,nokx)  "
   ]
  },
  {
   "cell_type": "code",
   "execution_count": null,
   "metadata": {},
   "outputs": [],
   "source": [
    "xcirc"
   ]
  },
  {
   "cell_type": "code",
   "execution_count": null,
   "metadata": {},
   "outputs": [],
   "source": [
    "outt=dic['tc_lag0'].values.copy()\n",
    "mmeans=np.percentile(outt[np.isfinite(outt)], 30)\n",
    "print(mmeans)\n",
    "maxi=np.nanmin(outt)\n",
    "thresh=maxi+15\n",
    "print(thresh)"
   ]
  },
  {
   "cell_type": "code",
   "execution_count": null,
   "metadata": {},
   "outputs": [],
   "source": [
    "outp=dic['p'].values.copy()\n",
    "outp[np.isnan(outp)]=-10**-5\n",
    "outt[np.isnan(outt)]=150 \n",
    "outt[outt>-40]=150\n",
    "grad=np.gradient(outt)\n",
    "\n",
    "outt[outt>-40]=-60#-40#-150\n",
    "mmeans=dic.meanT_cut"
   ]
  },
  {
   "cell_type": "code",
   "execution_count": null,
   "metadata": {
    "scrolled": true
   },
   "outputs": [],
   "source": [
    "\n",
    "plt.pcolormesh(grad[1])\n",
    "plt.colorbar()\n",
    "\n",
    "nok = np.where(abs(grad[0]) > 80)"
   ]
  },
  {
   "cell_type": "code",
   "execution_count": null,
   "metadata": {},
   "outputs": [],
   "source": [
    "o2=outt.copy()\n",
    "#o1=outt.copy()\n",
    "#o2[o2<-100]=mmeans\n",
    "d=2\n",
    "i=nok[0]\n",
    "j=nok[1]"
   ]
  },
  {
   "cell_type": "code",
   "execution_count": null,
   "metadata": {},
   "outputs": [],
   "source": [
    "for ii,jj in zip(i,j):\n",
    "    \n",
    "    kernel=o2[ii-d:ii+d+1, jj-d:jj+d+1]\n",
    "    if not kernel.any():\n",
    "        continue\n",
    "    else:    \n",
    "        o2[ii-d:ii+d+1, jj-d:jj+d+1]=ndimage.gaussian_filter(kernel, 3, mode='nearest')"
   ]
  },
  {
   "cell_type": "code",
   "execution_count": null,
   "metadata": {},
   "outputs": [],
   "source": [
    "plt.pcolormesh(o2)\n",
    "plt.colorbar()\n",
    "plt.title('Smooth edges')"
   ]
  },
  {
   "cell_type": "code",
   "execution_count": null,
   "metadata": {},
   "outputs": [],
   "source": [
    "pos=3\n",
    "\n",
    "wav = util.waveletTP_localMax(o2, outp, 5)\n",
    "print(wav['scales'][pos])\n",
    "tt=wav['t'][pos,:,:]\n",
    "pp=wav['p'][pos,:, :]\n",
    "#tt[np.where(dic['pmask'].values==0)]=0\n",
    "#pm=pp.max()\n",
    "#tm=tt.max()\n",
    "#tt=tt/tm\n",
    "#pp=pp/pm\n",
    "#tt[tt>0.1]=1\n",
    "#pp[pp>0.1]=1\n",
    "#tt[tt<=0.1]=0\n",
    "#pp[pp<=0.1]=0\n",
    "wav['x']"
   ]
  },
  {
   "cell_type": "code",
   "execution_count": null,
   "metadata": {},
   "outputs": [],
   "source": [
    "plt.pcolormesh(tt, )\n",
    "plt.colorbar()\n",
    "plt.plot(wav['x'],wav['y'], 'ro')"
   ]
  },
  {
   "cell_type": "code",
   "execution_count": null,
   "metadata": {},
   "outputs": [],
   "source": [
    "plt.pcolormesh(tt, )\n",
    "plt.colorbar()\n",
    "tp=tt.copy()\n",
    "tp[tp<10]=0"
   ]
  },
  {
   "cell_type": "code",
   "execution_count": null,
   "metadata": {
    "collapsed": true
   },
   "outputs": [],
   "source": []
  },
  {
   "cell_type": "code",
   "execution_count": null,
   "metadata": {},
   "outputs": [],
   "source": [
    "ax = plt.axes(projection=ccrs.PlateCarree())\n",
    "#plt.contourf(dic['lon'], dic['lat'], o2, levels=np.arange(-80,-40,1), transform=ccrs.PlateCarree(), cmap='jet')\n",
    "plt.contourf(dic['lon'], dic['lat'], tt, levels=np.arange(1,50,2), transform=ccrs.PlateCarree())\n",
    "#plt.contourf(dic['lon'], dic['lat'], outp, levels=np.arange(0,10,1), transform=ccrs.PlateCarree())\n",
    "ax.coastlines()\n",
    "cbar=plt.colorbar()"
   ]
  },
  {
   "cell_type": "code",
   "execution_count": null,
   "metadata": {},
   "outputs": [],
   "source": [
    "thing=match_template(tt, pp[5:-5, 5:-5])\n",
    "print(max(thing.flatten()))\n",
    "y,x = np.unravel_index(np.argmax(thing), thing.shape)\n",
    "print(y, x)\n",
    "print(y-5, x-5)"
   ]
  },
  {
   "cell_type": "code",
   "execution_count": null,
   "metadata": {},
   "outputs": [],
   "source": [
    "plt.pcolormesh(thing)\n",
    "plt.colorbar()\n",
    "plt.plot(5,5, 'bo')"
   ]
  },
  {
   "cell_type": "code",
   "execution_count": null,
   "metadata": {},
   "outputs": [],
   "source": [
    "plt.pcolormesh(nl_resh)#, levels=np.arange(0.25,0.7,0.01))\n",
    "plt.xticks(rise, arr)\n",
    "plt.yticks(rise, arr)\n",
    "plt.colorbar()\n",
    "plt.plot(x,rise, 'ro') # x, y convention cause numpy is stupid and confusing\n",
    "plt.plot(rise,y, 'bo')\n",
    "plt.ylabel('Temperature')\n",
    "plt.xlabel('Precip')\n",
    "plt.savefig('/users/global/cornkle/MCSfiles/save/TP_scales.pdf')"
   ]
  },
  {
   "cell_type": "code",
   "execution_count": null,
   "metadata": {},
   "outputs": [],
   "source": [
    "wave = pkl.load( open ('/users/global/cornkle/MCSfiles/save/MCScorr_scales_allyears.p', 'rb'))\n",
    "       \n",
    "arr=np.array([15,   16,   17,   18,   19,   20,   21,   22,   24,\n",
    "         25,   27,   28,   30,   32,   34,   36,   38,   40,\n",
    "         42,   45,   48,   50,   53,   57,   60], dtype=str)\n",
    "l=[]\n",
    "for k in arr:\n",
    "    for kk in arr:\n",
    "        l.append(np.mean(wave[k][kk]['corr']))         \n",
    "                \n",
    "nl=np.array(l)\n",
    "nl_resh=nl.reshape(25,25)\n",
    "y = np.argmax(nl_resh, axis=0)  #temperature for P, index for getting the right T if you decide on a size for P\n",
    "x = np.argmax(nl_resh, axis=1) # precipitation for T, index for getting the right P if you decide on a size for T\n",
    "rise=range(25)\n",
    "     \n",
    "PforT=arr[np.array(x)] # p for T\n",
    "TforP=arr[np.array(y)] # T for p \n",
    "PforT=PforT.astype(np.str)\n",
    "TforP=TforP.astype(np.str)\n",
    "    \n",
    "non = lambda s: s if s<0 else None\n",
    "mom = lambda s: max(0,s)\n",
    "\n",
    "dic={'p': [], 't' : []}"
   ]
  },
  {
   "cell_type": "code",
   "execution_count": null,
   "metadata": {
    "collapsed": true
   },
   "outputs": [],
   "source": [
    "tpos=arr[12]      # use 12\n",
    "ppos=PforT[12]\n",
    "tt=wave[tpos][ppos]['twavelet']\n",
    "pp=wave[tpos][ppos]['pwavelet']\n",
    "porig=wave[tpos][ppos]['porig']\n",
    "torig=wave[tpos][ppos]['torig']\n",
    "xx=wave[tpos][ppos]['x']\n",
    "yy=wave[tpos][ppos]['y']"
   ]
  },
  {
   "cell_type": "code",
   "execution_count": null,
   "metadata": {},
   "outputs": [],
   "source": [
    "pos=15       # use 10\n",
    "t=tt[pos] \n",
    "p=pp[pos]\n",
    "po=porig[pos]\n",
    "to=torig[pos]\n",
    "x=xx[pos] \n",
    "y=yy[pos] \n",
    "                                    \n",
    "ox, oy = x-5, y-5\n",
    "\n",
    "shift_p = np.zeros_like(p)\n",
    "shift_p[mom(oy):non(oy), mom(ox):non(ox)] = p[mom(-oy):non(-oy), mom(-ox):non(-ox)]    \n",
    "            \n",
    "shift_po = np.zeros_like(po)\n",
    "shift_po[mom(oy):non(oy), mom(ox):non(ox)] = po[mom(-oy):non(-oy), mom(-ox):non(-ox)]                  \n",
    "ok = np.where(shift_p > 1)\n",
    "            \n",
    "pout=shift_po[ok]\n",
    "tout=t[ok]"
   ]
  },
  {
   "cell_type": "code",
   "execution_count": null,
   "metadata": {},
   "outputs": [],
   "source": [
    "plt.pcolormesh(shift_p)"
   ]
  },
  {
   "cell_type": "code",
   "execution_count": null,
   "metadata": {},
   "outputs": [],
   "source": [
    "plt.pcolormesh(p)"
   ]
  },
  {
   "cell_type": "code",
   "execution_count": null,
   "metadata": {},
   "outputs": [],
   "source": [
    "plt.pcolormesh(t)\n",
    "plt.colorbar()"
   ]
  },
  {
   "cell_type": "code",
   "execution_count": null,
   "metadata": {},
   "outputs": [],
   "source": [
    "plt.pcolormesh(po)"
   ]
  },
  {
   "cell_type": "code",
   "execution_count": null,
   "metadata": {},
   "outputs": [],
   "source": [
    "arr=np.array([15,   16,   17,   18,   19,   20,   21,   22,   24,\n",
    "         25,   27,   28,   30,   32,   34,   36,   38,   40,\n",
    "         42,   45,   48,   50,   53,   57,   60], dtype=str)\n",
    "         \n",
    "ext=np.array([20,30,40], dtype=str)      \n",
    "rrange=list(range(arr.size))\n",
    "scales=np.in1d(arr, ext)\n",
    "rpos=np.array(rrange)[scales]\n",
    "arr[rpos]"
   ]
  },
  {
   "cell_type": "code",
   "execution_count": null,
   "metadata": {},
   "outputs": [],
   "source": [
    "wavelet = pkl.load( open ('/users/global/cornkle/MCSfiles/save/MCS_wavelet_allyears_perc.p', 'rb'))"
   ]
  },
  {
   "cell_type": "code",
   "execution_count": null,
   "metadata": {},
   "outputs": [],
   "source": [
    "wavelet.keys()"
   ]
  },
  {
   "cell_type": "code",
   "execution_count": null,
   "metadata": {},
   "outputs": [],
   "source": [
    "np.percentile(wavelet['torig1'][0], 99)\n",
    "#wavelet['torig1'][0].min()"
   ]
  },
  {
   "cell_type": "code",
   "execution_count": null,
   "metadata": {},
   "outputs": [],
   "source": [
    "len(wavelet['30']['twavelet1_max'])\n",
    "len(wavelet['30']['pwavelet_max'])"
   ]
  },
  {
   "cell_type": "code",
   "execution_count": null,
   "metadata": {},
   "outputs": [],
   "source": [
    "plt.scatter(wavelet['torig1_max'],wavelet['porig_max'] )"
   ]
  },
  {
   "cell_type": "code",
   "execution_count": null,
   "metadata": {},
   "outputs": [],
   "source": [
    "plt.scatter(wavelet['40']['twavelet1_max'],wavelet['40']['pwavelet_max'] )"
   ]
  },
  {
   "cell_type": "code",
   "execution_count": null,
   "metadata": {},
   "outputs": [],
   "source": [
    "wavelet['torig1'][0].min()\n",
    "wavelet['torig1_min'][0]"
   ]
  },
  {
   "cell_type": "code",
   "execution_count": null,
   "metadata": {},
   "outputs": [],
   "source": [
    "plt.pcolormesh(wavelet['torig1'][3])\n",
    "plt.colorbar()"
   ]
  },
  {
   "cell_type": "code",
   "execution_count": null,
   "metadata": {},
   "outputs": [],
   "source": [
    "print(wavelet['30']['pwavelet_max'][60])"
   ]
  },
  {
   "cell_type": "code",
   "execution_count": null,
   "metadata": {
    "collapsed": true
   },
   "outputs": [],
   "source": []
  }
 ],
 "metadata": {
  "kernelspec": {
   "display_name": "Python 3",
   "language": "python",
   "name": "python3"
  },
  "language_info": {
   "codemirror_mode": {
    "name": "ipython",
    "version": 3
   },
   "file_extension": ".py",
   "mimetype": "text/x-python",
   "name": "python",
   "nbconvert_exporter": "python",
   "pygments_lexer": "ipython3",
   "version": "3.5.3"
  }
 },
 "nbformat": 4,
 "nbformat_minor": 1
}
