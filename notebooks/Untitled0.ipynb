{
 "metadata": {
  "name": "",
  "signature": "sha256:4099fe77f67a89a17bb9a3d3d67b644ca62b80400648fc40a97ea593889f2445"
 },
 "nbformat": 3,
 "nbformat_minor": 0,
 "worksheets": [
  {
   "cells": [
    {
     "cell_type": "code",
     "collapsed": false,
     "input": [
      "import numpy as np\n",
      "import pandas as pd\n",
      "from pandas import *\n",
      "import datetime as dt\n",
      "from datetime import datetime, timedelta\n",
      "from utils import u_arrays as uarr\n",
      "import matplotlib.pyplot as plt\n",
      "%matplotlib inline\n",
      "from os import walk"
     ],
     "language": "python",
     "metadata": {},
     "outputs": [],
     "prompt_number": 219
    },
    {
     "cell_type": "code",
     "collapsed": false,
     "input": [
      "root = '/users/global/cornkle/data/OBS/meteosat/bigcell_area_table/'\n",
      "tab = root + 'cell_40C_slot01_JJAS_0415_MSG.txt'\n",
      "print tab\n"
     ],
     "language": "python",
     "metadata": {},
     "outputs": [
      {
       "output_type": "stream",
       "stream": "stdout",
       "text": [
        "/users/global/cornkle/data/OBS/meteosat/bigcell_area_table/cell_40C_slot01_JJAS_0415_MSG.txt\n"
       ]
      }
     ],
     "prompt_number": 199
    },
    {
     "cell_type": "code",
     "collapsed": false,
     "input": [
      "dt.datetime.strptime('2004_601', '%Y_%m%d')\n",
      "parser = lambda date: pd.datetime.strptime(date, '%Y_%m%d')"
     ],
     "language": "python",
     "metadata": {},
     "outputs": [],
     "prompt_number": 183
    },
    {
     "cell_type": "code",
     "collapsed": false,
     "input": [
      "df1 = pd.read_csv(tab, sep='\\s+', header=None, names=[\"Year\", \"Mday\", \"Slot\", \"x\", \"Area\", \"Lat\", \"Lon\", \"Mincol\", \"a\", \"b\", \"c\", \"Temp\", \"Tresh\"])\n",
      "df1.head()"
     ],
     "language": "python",
     "metadata": {},
     "outputs": [
      {
       "html": [
        "<div style=\"max-height:1000px;max-width:1500px;overflow:auto;\">\n",
        "<table border=\"1\" class=\"dataframe\">\n",
        "  <thead>\n",
        "    <tr style=\"text-align: right;\">\n",
        "      <th></th>\n",
        "      <th>Year</th>\n",
        "      <th>Mday</th>\n",
        "      <th>Slot</th>\n",
        "      <th>x</th>\n",
        "      <th>Area</th>\n",
        "      <th>Lat</th>\n",
        "      <th>Lon</th>\n",
        "      <th>Mincol</th>\n",
        "      <th>a</th>\n",
        "      <th>b</th>\n",
        "      <th>c</th>\n",
        "      <th>Temp</th>\n",
        "      <th>Tresh</th>\n",
        "    </tr>\n",
        "  </thead>\n",
        "  <tbody>\n",
        "    <tr>\n",
        "      <th>0</th>\n",
        "      <td> 2004</td>\n",
        "      <td> 601</td>\n",
        "      <td> 1</td>\n",
        "      <td> 313</td>\n",
        "      <td> 3195</td>\n",
        "      <td> 20.2</td>\n",
        "      <td> 6.5</td>\n",
        "      <td> 814</td>\n",
        "      <td> 852</td>\n",
        "      <td> 567</td>\n",
        "      <td> 580</td>\n",
        "      <td>-42.83</td>\n",
        "      <td>-47</td>\n",
        "    </tr>\n",
        "    <tr>\n",
        "      <th>1</th>\n",
        "      <td> 2004</td>\n",
        "      <td> 601</td>\n",
        "      <td> 1</td>\n",
        "      <td>   4</td>\n",
        "      <td>   41</td>\n",
        "      <td> 20.3</td>\n",
        "      <td> 7.1</td>\n",
        "      <td> 851</td>\n",
        "      <td> 854</td>\n",
        "      <td> 579</td>\n",
        "      <td> 579</td>\n",
        "      <td>-40.50</td>\n",
        "      <td>-41</td>\n",
        "    </tr>\n",
        "    <tr>\n",
        "      <th>2</th>\n",
        "      <td> 2004</td>\n",
        "      <td> 601</td>\n",
        "      <td> 1</td>\n",
        "      <td>   4</td>\n",
        "      <td>   41</td>\n",
        "      <td> 20.1</td>\n",
        "      <td> 5.9</td>\n",
        "      <td> 809</td>\n",
        "      <td> 811</td>\n",
        "      <td> 574</td>\n",
        "      <td> 575</td>\n",
        "      <td>-40.50</td>\n",
        "      <td>-41</td>\n",
        "    </tr>\n",
        "    <tr>\n",
        "      <th>3</th>\n",
        "      <td> 2004</td>\n",
        "      <td> 601</td>\n",
        "      <td> 1</td>\n",
        "      <td>   1</td>\n",
        "      <td>   10</td>\n",
        "      <td> 20.0</td>\n",
        "      <td> 6.6</td>\n",
        "      <td> 834</td>\n",
        "      <td> 834</td>\n",
        "      <td> 569</td>\n",
        "      <td> 569</td>\n",
        "      <td>-40.00</td>\n",
        "      <td>-40</td>\n",
        "    </tr>\n",
        "    <tr>\n",
        "      <th>4</th>\n",
        "      <td> 2004</td>\n",
        "      <td> 601</td>\n",
        "      <td> 1</td>\n",
        "      <td> 219</td>\n",
        "      <td> 2224</td>\n",
        "      <td> 19.3</td>\n",
        "      <td> 7.6</td>\n",
        "      <td> 857</td>\n",
        "      <td> 887</td>\n",
        "      <td> 537</td>\n",
        "      <td> 554</td>\n",
        "      <td>-41.16</td>\n",
        "      <td>-44</td>\n",
        "    </tr>\n",
        "  </tbody>\n",
        "</table>\n",
        "</div>"
       ],
       "metadata": {},
       "output_type": "pyout",
       "prompt_number": 184,
       "text": [
        "   Year  Mday  Slot    x  Area   Lat  Lon  Mincol    a    b    c   Temp  Tresh\n",
        "0  2004   601     1  313  3195  20.2  6.5     814  852  567  580 -42.83    -47\n",
        "1  2004   601     1    4    41  20.3  7.1     851  854  579  579 -40.50    -41\n",
        "2  2004   601     1    4    41  20.1  5.9     809  811  574  575 -40.50    -41\n",
        "3  2004   601     1    1    10  20.0  6.6     834  834  569  569 -40.00    -40\n",
        "4  2004   601     1  219  2224  19.3  7.6     857  887  537  554 -41.16    -44"
       ]
      }
     ],
     "prompt_number": 184
    },
    {
     "cell_type": "code",
     "collapsed": false,
     "input": [
      "small=df1.loc[:, [\"Slot\", \"Area\", \"Lat\", \"Lon\", \"Mincol\", \"Temp\", \"Tresh\"]]"
     ],
     "language": "python",
     "metadata": {},
     "outputs": [],
     "prompt_number": 185
    },
    {
     "cell_type": "code",
     "collapsed": false,
     "input": [
      "small.head()"
     ],
     "language": "python",
     "metadata": {},
     "outputs": [
      {
       "html": [
        "<div style=\"max-height:1000px;max-width:1500px;overflow:auto;\">\n",
        "<table border=\"1\" class=\"dataframe\">\n",
        "  <thead>\n",
        "    <tr style=\"text-align: right;\">\n",
        "      <th></th>\n",
        "      <th>Slot</th>\n",
        "      <th>Area</th>\n",
        "      <th>Lat</th>\n",
        "      <th>Lon</th>\n",
        "      <th>Mincol</th>\n",
        "      <th>Temp</th>\n",
        "      <th>Tresh</th>\n",
        "    </tr>\n",
        "  </thead>\n",
        "  <tbody>\n",
        "    <tr>\n",
        "      <th>0</th>\n",
        "      <td> 1</td>\n",
        "      <td> 3195</td>\n",
        "      <td> 20.2</td>\n",
        "      <td> 6.5</td>\n",
        "      <td> 814</td>\n",
        "      <td>-42.83</td>\n",
        "      <td>-47</td>\n",
        "    </tr>\n",
        "    <tr>\n",
        "      <th>1</th>\n",
        "      <td> 1</td>\n",
        "      <td>   41</td>\n",
        "      <td> 20.3</td>\n",
        "      <td> 7.1</td>\n",
        "      <td> 851</td>\n",
        "      <td>-40.50</td>\n",
        "      <td>-41</td>\n",
        "    </tr>\n",
        "    <tr>\n",
        "      <th>2</th>\n",
        "      <td> 1</td>\n",
        "      <td>   41</td>\n",
        "      <td> 20.1</td>\n",
        "      <td> 5.9</td>\n",
        "      <td> 809</td>\n",
        "      <td>-40.50</td>\n",
        "      <td>-41</td>\n",
        "    </tr>\n",
        "    <tr>\n",
        "      <th>3</th>\n",
        "      <td> 1</td>\n",
        "      <td>   10</td>\n",
        "      <td> 20.0</td>\n",
        "      <td> 6.6</td>\n",
        "      <td> 834</td>\n",
        "      <td>-40.00</td>\n",
        "      <td>-40</td>\n",
        "    </tr>\n",
        "    <tr>\n",
        "      <th>4</th>\n",
        "      <td> 1</td>\n",
        "      <td> 2224</td>\n",
        "      <td> 19.3</td>\n",
        "      <td> 7.6</td>\n",
        "      <td> 857</td>\n",
        "      <td>-41.16</td>\n",
        "      <td>-44</td>\n",
        "    </tr>\n",
        "  </tbody>\n",
        "</table>\n",
        "</div>"
       ],
       "metadata": {},
       "output_type": "pyout",
       "prompt_number": 127,
       "text": [
        "   Slot  Area   Lat  Lon  Mincol   Temp  Tresh\n",
        "0     1  3195  20.2  6.5     814 -42.83    -47\n",
        "1     1    41  20.3  7.1     851 -40.50    -41\n",
        "2     1    41  20.1  5.9     809 -40.50    -41\n",
        "3     1    10  20.0  6.6     834 -40.00    -40\n",
        "4     1  2224  19.3  7.6     857 -41.16    -44"
       ]
      }
     ],
     "prompt_number": 127
    },
    {
     "cell_type": "code",
     "collapsed": false,
     "input": [
      "small[\"Date\"] = df1.Year.astype(str).str.cat(df1.Mday.astype(str), sep='_')"
     ],
     "language": "python",
     "metadata": {},
     "outputs": [],
     "prompt_number": 186
    },
    {
     "cell_type": "code",
     "collapsed": false,
     "input": [
      "small[\"Date\"] = pd.to_datetime(small[\"Date\"], format='%Y_%m%d')"
     ],
     "language": "python",
     "metadata": {},
     "outputs": [],
     "prompt_number": 187
    },
    {
     "cell_type": "code",
     "collapsed": false,
     "input": [
      "small.head()"
     ],
     "language": "python",
     "metadata": {},
     "outputs": [
      {
       "html": [
        "<div style=\"max-height:1000px;max-width:1500px;overflow:auto;\">\n",
        "<table border=\"1\" class=\"dataframe\">\n",
        "  <thead>\n",
        "    <tr style=\"text-align: right;\">\n",
        "      <th></th>\n",
        "      <th>Slot</th>\n",
        "      <th>Area</th>\n",
        "      <th>Lat</th>\n",
        "      <th>Lon</th>\n",
        "      <th>Mincol</th>\n",
        "      <th>Temp</th>\n",
        "      <th>Tresh</th>\n",
        "      <th>Date</th>\n",
        "    </tr>\n",
        "  </thead>\n",
        "  <tbody>\n",
        "    <tr>\n",
        "      <th>0</th>\n",
        "      <td> 5</td>\n",
        "      <td> 173</td>\n",
        "      <td> 19.7</td>\n",
        "      <td> 6.7</td>\n",
        "      <td> 838</td>\n",
        "      <td>-40.76</td>\n",
        "      <td>-42</td>\n",
        "      <td>2004-06-01</td>\n",
        "    </tr>\n",
        "    <tr>\n",
        "      <th>1</th>\n",
        "      <td> 5</td>\n",
        "      <td>  10</td>\n",
        "      <td> 19.7</td>\n",
        "      <td> 6.6</td>\n",
        "      <td> 835</td>\n",
        "      <td>-40.00</td>\n",
        "      <td>-40</td>\n",
        "      <td>2004-06-01</td>\n",
        "    </tr>\n",
        "    <tr>\n",
        "      <th>2</th>\n",
        "      <td> 5</td>\n",
        "      <td>  41</td>\n",
        "      <td> 19.6</td>\n",
        "      <td> 6.6</td>\n",
        "      <td> 834</td>\n",
        "      <td>-40.00</td>\n",
        "      <td>-40</td>\n",
        "      <td>2004-06-01</td>\n",
        "    </tr>\n",
        "    <tr>\n",
        "      <th>3</th>\n",
        "      <td> 5</td>\n",
        "      <td>  41</td>\n",
        "      <td> 19.5</td>\n",
        "      <td> 6.2</td>\n",
        "      <td> 823</td>\n",
        "      <td>-40.00</td>\n",
        "      <td>-40</td>\n",
        "      <td>2004-06-01</td>\n",
        "    </tr>\n",
        "    <tr>\n",
        "      <th>4</th>\n",
        "      <td> 5</td>\n",
        "      <td>  20</td>\n",
        "      <td> 19.5</td>\n",
        "      <td> 6.3</td>\n",
        "      <td> 826</td>\n",
        "      <td>-40.00</td>\n",
        "      <td>-40</td>\n",
        "      <td>2004-06-01</td>\n",
        "    </tr>\n",
        "  </tbody>\n",
        "</table>\n",
        "</div>"
       ],
       "metadata": {},
       "output_type": "pyout",
       "prompt_number": 173,
       "text": [
        "   Slot  Area   Lat  Lon  Mincol   Temp  Tresh       Date\n",
        "0     5   173  19.7  6.7     838 -40.76    -42 2004-06-01\n",
        "1     5    10  19.7  6.6     835 -40.00    -40 2004-06-01\n",
        "2     5    41  19.6  6.6     834 -40.00    -40 2004-06-01\n",
        "3     5    41  19.5  6.2     823 -40.00    -40 2004-06-01\n",
        "4     5    20  19.5  6.3     826 -40.00    -40 2004-06-01"
       ]
      }
     ],
     "prompt_number": 173
    },
    {
     "cell_type": "code",
     "collapsed": false,
     "input": [
      "isec = small[\"Slot\"].values*30.*60.\n",
      "isec=isec.tolist()"
     ],
     "language": "python",
     "metadata": {},
     "outputs": [],
     "prompt_number": 188
    },
    {
     "cell_type": "code",
     "collapsed": false,
     "input": [
      "small[\"Slot\"].values"
     ],
     "language": "python",
     "metadata": {},
     "outputs": [
      {
       "metadata": {},
       "output_type": "pyout",
       "prompt_number": 189,
       "text": [
        "array([1, 1, 1, ..., 1, 1, 1])"
       ]
      }
     ],
     "prompt_number": 189
    },
    {
     "cell_type": "code",
     "collapsed": false,
     "input": [
      "sec = timedelta(seconds=int(isec[0]))\n",
      "d = datetime(1,1,1) + sec"
     ],
     "language": "python",
     "metadata": {},
     "outputs": [],
     "prompt_number": 190
    },
    {
     "cell_type": "code",
     "collapsed": false,
     "input": [
      "d"
     ],
     "language": "python",
     "metadata": {},
     "outputs": [
      {
       "metadata": {},
       "output_type": "pyout",
       "prompt_number": 191,
       "text": [
        "datetime.datetime(1, 1, 1, 0, 30)"
       ]
      }
     ],
     "prompt_number": 191
    },
    {
     "cell_type": "code",
     "collapsed": false,
     "input": [
      "small[\"Hour\"] = small[\"Slot\"]*0+d.hour"
     ],
     "language": "python",
     "metadata": {},
     "outputs": [],
     "prompt_number": 192
    },
    {
     "cell_type": "code",
     "collapsed": false,
     "input": [
      "small['Date'][].year"
     ],
     "language": "python",
     "metadata": {},
     "outputs": [
      {
       "ename": "SyntaxError",
       "evalue": "invalid syntax (<ipython-input-198-d86c853e3f0c>, line 1)",
       "output_type": "pyerr",
       "traceback": [
        "\u001b[1;36m  File \u001b[1;32m\"<ipython-input-198-d86c853e3f0c>\"\u001b[1;36m, line \u001b[1;32m1\u001b[0m\n\u001b[1;33m    small['Date'][*].year\u001b[0m\n\u001b[1;37m                  ^\u001b[0m\n\u001b[1;31mSyntaxError\u001b[0m\u001b[1;31m:\u001b[0m invalid syntax\n"
       ]
      }
     ],
     "prompt_number": 198
    },
    {
     "cell_type": "code",
     "collapsed": false,
     "input": [
      "path = \"/users/global/cornkle/data/OBS/meteosat/bigcell_area_table/\"    \n",
      "out = path + 'rewrite/'\n",
      "    \n",
      "bla=uarr.locate(\"*.txt\", path)"
     ],
     "language": "python",
     "metadata": {},
     "outputs": [],
     "prompt_number": 220
    },
    {
     "cell_type": "code",
     "collapsed": false,
     "input": [
      "bla"
     ],
     "language": "python",
     "metadata": {},
     "outputs": [
      {
       "metadata": {},
       "output_type": "pyout",
       "prompt_number": 221,
       "text": [
        "<generator object locate at 0x7f59d86b2500>"
       ]
      }
     ],
     "prompt_number": 221
    },
    {
     "cell_type": "code",
     "collapsed": false,
     "input": [
      "tminute=45\n",
      "minute = 0   # guessing that t.minute is shortly after full\n",
      "                \n",
      "if tminute > 15 and tminute < 45: \n",
      "    minute = 30               \n",
      "\n",
      "print minute"
     ],
     "language": "python",
     "metadata": {},
     "outputs": [
      {
       "output_type": "stream",
       "stream": "stdout",
       "text": [
        "0\n"
       ]
      }
     ],
     "prompt_number": 234
    },
    {
     "cell_type": "code",
     "collapsed": false,
     "input": [
      "abs(tminute-30)"
     ],
     "language": "python",
     "metadata": {},
     "outputs": [
      {
       "metadata": {},
       "output_type": "pyout",
       "prompt_number": 224,
       "text": [
        "29"
       ]
      }
     ],
     "prompt_number": 224
    },
    {
     "cell_type": "code",
     "collapsed": false,
     "input": [
      "abs(tminute-60)"
     ],
     "language": "python",
     "metadata": {},
     "outputs": [
      {
       "metadata": {},
       "output_type": "pyout",
       "prompt_number": 225,
       "text": [
        "1"
       ]
      }
     ],
     "prompt_number": 225
    },
    {
     "cell_type": "code",
     "collapsed": false,
     "input": [
      "abs(tminute)"
     ],
     "language": "python",
     "metadata": {},
     "outputs": [
      {
       "metadata": {},
       "output_type": "pyout",
       "prompt_number": 226,
       "text": [
        "59"
       ]
      }
     ],
     "prompt_number": 226
    },
    {
     "cell_type": "code",
     "collapsed": false,
     "input": [],
     "language": "python",
     "metadata": {},
     "outputs": []
    }
   ],
   "metadata": {}
  }
 ]
}