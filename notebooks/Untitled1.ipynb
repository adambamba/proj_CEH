{
 "cells": [
  {
   "cell_type": "code",
   "execution_count": 1,
   "metadata": {
    "collapsed": false
   },
   "outputs": [],
   "source": [
    "import xarray as xr\n",
    "import matplotlib.pyplot as plt\n",
    "import numpy as np\n",
    "from utils import u_arrays as ua\n",
    "import cartopy \n",
    "import cartopy.crs as ccrs\n",
    "#%pylab inline"
   ]
  },
  {
   "cell_type": "code",
   "execution_count": 2,
   "metadata": {
    "collapsed": false
   },
   "outputs": [],
   "source": [
    "files = ua.locate(\".nc\", '/users/global/cornkle/TRMMfiles/new')\n",
    "tl = []\n",
    "pl = []\n",
    "for f in files:\n",
    "    dic = xr.open_dataset(f)\n",
    "    if not 't' in dic:\n",
    "        print('not in')\n",
    "        continue\n",
    "    t = np.array(dic['t'].values) \n",
    "    p = np.array(dic['p'].values)\n",
    "    tl.extend(t.flatten())  \n",
    "    pl.extend(p.flatten())\n"
   ]
  },
  {
   "cell_type": "code",
   "execution_count": 3,
   "metadata": {
    "collapsed": false
   },
   "outputs": [],
   "source": [
    "plt.scatter(tl,pl)\n",
    "plt.show()"
   ]
  },
  {
   "cell_type": "code",
   "execution_count": 4,
   "metadata": {
    "collapsed": false
   },
   "outputs": [],
   "source": [
    "dic = xr.open_dataset(files[660])\n",
    "ax = plt.axes(projection=ccrs.PlateCarree())\n",
    "#dic['p'].plot.pcolormesh(ax=ax, vmax=6, transform=ccrs.PlateCarree(), x='lon', y='lat')\n",
    "dic['t'].plot.pcolormesh(ax=ax, transform=ccrs.PlateCarree(), x='lon', y='lat')\n",
    "ax.coastlines(); \n",
    "# Gridlines\n",
    "xl = ax.gridlines(draw_labels=True);\n",
    "xl.xlabels_top = False\n",
    "xl.ylabels_right = False\n",
    "# Countries\n",
    "ax.add_feature(cartopy.feature.BORDERS, linestyle='--');"
   ]
  },
  {
   "cell_type": "code",
   "execution_count": null,
   "metadata": {
    "collapsed": true
   },
   "outputs": [],
   "source": []
  }
 ],
 "metadata": {
  "kernelspec": {
   "display_name": "Python 3",
   "language": "python",
   "name": "python3"
  },
  "language_info": {
   "codemirror_mode": {
    "name": "ipython",
    "version": 3
   },
   "file_extension": ".py",
   "mimetype": "text/x-python",
   "name": "python",
   "nbconvert_exporter": "python",
   "pygments_lexer": "ipython3",
   "version": "3.5.2"
  }
 },
 "nbformat": 4,
 "nbformat_minor": 0
}
