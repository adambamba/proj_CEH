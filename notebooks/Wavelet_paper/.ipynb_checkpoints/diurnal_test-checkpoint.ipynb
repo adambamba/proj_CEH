{
 "cells": [
  {
   "cell_type": "code",
   "execution_count": 1,
   "metadata": {
    "collapsed": false
   },
   "outputs": [],
   "source": [
    "#%pylab inline\n",
    "import os\n",
    "import seaborn as sns\n",
    "import pickle as pkl\n",
    "pal = sns.color_palette('Blues')\n",
    "sns.set_context(\"paper\", font_scale=1.5)\n",
    "sns.set_style(\"ticks\")\n",
    "#sns.set(color_codes=True)\n",
    "from scipy.stats import gaussian_kde\n",
    "import pandas as pd\n",
    "import numpy as np\n",
    "import matplotlib.pyplot as plt"
   ]
  },
  {
   "cell_type": "code",
   "execution_count": 6,
   "metadata": {
    "collapsed": true
   },
   "outputs": [],
   "source": [
    "df = pd.read_pickle('/users/global/cornkle/C_paper/wavelet/saves/pandas/15kradius.pkl')"
   ]
  },
  {
   "cell_type": "code",
   "execution_count": 7,
   "metadata": {
    "collapsed": false
   },
   "outputs": [],
   "source": [
    "scales = df['scale'].unique()"
   ]
  },
  {
   "cell_type": "code",
   "execution_count": 9,
   "metadata": {
    "collapsed": false
   },
   "outputs": [],
   "source": [
    "ll1 = []\n",
    "ll2 = []\n",
    "ll3 = []\n",
    "ll4 = []\n",
    "for s in scales:\n",
    "    sums = np.sum(df['sum'][(df['scale']==s)&  (df['clon']<=10)])\n",
    "    sums30 = np.sum(df['sum30'][(df['scale']==s)&  (df['clon']<=10)])\n",
    "    nz =  np.sum(df['sumnz'][(df['scale']==s)])\n",
    "    valid =  np.sum(df['sumvalid'][(df['scale']==s)&  (df['clon']<=10)])\n",
    "    mean = sums/nz\n",
    "    exmean = sums30/nz\n",
    "    meanval = sums/valid\n",
    "    exmeanval = sums30/valid\n",
    "    ll1.append(mean)\n",
    "    ll2.append(exmean)   \n",
    "    ll3.append(meanval)  \n",
    "    ll4.append(exmeanval)  "
   ]
  },
  {
   "cell_type": "code",
   "execution_count": 10,
   "metadata": {
    "collapsed": false
   },
   "outputs": [
    {
     "name": "stdout",
     "output_type": "stream",
     "text": [
      "Using matplotlib backend: Qt4Agg\n"
     ]
    },
    {
     "data": {
      "text/plain": [
       "<matplotlib.legend.Legend at 0x7fd488e505c0>"
      ]
     },
     "execution_count": 10,
     "metadata": {},
     "output_type": "execute_result"
    }
   ],
   "source": [
    "%matplotlib\n",
    "f = plt.figure()\n",
    "\n",
    "ax = f.add_subplot(221)\n",
    "plt.title('Precip sum / nb: all scales')\n",
    "plt.scatter(scales,ll1, label='Mean nozero')  \n",
    "plt.text(0.7, 0.3, scales[np.argmax(ll1)], transform=ax.transAxes, fontsize=15)\n",
    "plt.legend()\n",
    "ax = f.add_subplot(222)\n",
    "plt.scatter(scales,ll2, label='Extreme nozero')\n",
    "plt.text(0.7, 0.3,  scales[np.argmax(ll2)], transform=ax.transAxes, fontsize=15)\n",
    "plt.legend()\n",
    "ax = f.add_subplot(223)\n",
    "plt.scatter(scales,ll3, label='Mean all valid')\n",
    "plt.text(0.7, 0.3,  scales[np.argmax(ll3)], transform=ax.transAxes, fontsize=15)\n",
    "plt.legend()\n",
    "ax = f.add_subplot(224)\n",
    "plt.scatter(scales,ll4, label='Extreme all valid')\n",
    "plt.text(0.7, 0.3,  scales[np.argmax(ll4)], transform=ax.transAxes, fontsize=15)\n",
    "plt.legend()\n"
   ]
  },
  {
   "cell_type": "code",
   "execution_count": 11,
   "metadata": {
    "collapsed": false
   },
   "outputs": [
    {
     "ename": "KeyboardInterrupt",
     "evalue": "",
     "output_type": "error",
     "traceback": [
      "\u001b[1;31m---------------------------------------------------------------------------\u001b[0m",
      "\u001b[1;31mKeyboardInterrupt\u001b[0m                         Traceback (most recent call last)",
      "\u001b[1;32m<ipython-input-11-ce4765e15643>\u001b[0m in \u001b[0;36m<module>\u001b[1;34m()\u001b[0m\n\u001b[0;32m     11\u001b[0m         \u001b[0msums\u001b[0m \u001b[1;33m=\u001b[0m \u001b[0mnp\u001b[0m\u001b[1;33m.\u001b[0m\u001b[0msum\u001b[0m\u001b[1;33m(\u001b[0m\u001b[0mdf\u001b[0m\u001b[1;33m[\u001b[0m\u001b[1;34m'sum'\u001b[0m\u001b[1;33m]\u001b[0m\u001b[1;33m[\u001b[0m\u001b[1;33m(\u001b[0m\u001b[0mdf\u001b[0m\u001b[1;33m[\u001b[0m\u001b[1;34m'scale'\u001b[0m\u001b[1;33m]\u001b[0m\u001b[1;33m==\u001b[0m\u001b[0ms\u001b[0m\u001b[1;33m)\u001b[0m \u001b[1;33m&\u001b[0m  \u001b[1;33m(\u001b[0m\u001b[0mdf\u001b[0m\u001b[1;33m[\u001b[0m\u001b[1;34m'area'\u001b[0m\u001b[1;33m]\u001b[0m\u001b[1;33m==\u001b[0m\u001b[0mar\u001b[0m\u001b[1;33m)\u001b[0m \u001b[1;33m&\u001b[0m  \u001b[1;33m(\u001b[0m\u001b[0mdf\u001b[0m\u001b[1;33m[\u001b[0m\u001b[1;34m'clon'\u001b[0m\u001b[1;33m]\u001b[0m\u001b[1;33m<=\u001b[0m\u001b[1;36m10\u001b[0m\u001b[1;33m)\u001b[0m\u001b[1;33m]\u001b[0m\u001b[1;33m)\u001b[0m\u001b[1;33m\u001b[0m\u001b[0m\n\u001b[0;32m     12\u001b[0m         \u001b[0msums30\u001b[0m \u001b[1;33m=\u001b[0m \u001b[0mnp\u001b[0m\u001b[1;33m.\u001b[0m\u001b[0msum\u001b[0m\u001b[1;33m(\u001b[0m\u001b[0mdf\u001b[0m\u001b[1;33m[\u001b[0m\u001b[1;34m'sum30'\u001b[0m\u001b[1;33m]\u001b[0m\u001b[1;33m[\u001b[0m\u001b[1;33m(\u001b[0m\u001b[0mdf\u001b[0m\u001b[1;33m[\u001b[0m\u001b[1;34m'scale'\u001b[0m\u001b[1;33m]\u001b[0m\u001b[1;33m==\u001b[0m\u001b[0ms\u001b[0m\u001b[1;33m)\u001b[0m \u001b[1;33m&\u001b[0m  \u001b[1;33m(\u001b[0m\u001b[0mdf\u001b[0m\u001b[1;33m[\u001b[0m\u001b[1;34m'area'\u001b[0m\u001b[1;33m]\u001b[0m\u001b[1;33m==\u001b[0m\u001b[0mar\u001b[0m\u001b[1;33m)\u001b[0m \u001b[1;33m&\u001b[0m  \u001b[1;33m(\u001b[0m\u001b[0mdf\u001b[0m\u001b[1;33m[\u001b[0m\u001b[1;34m'clon'\u001b[0m\u001b[1;33m]\u001b[0m\u001b[1;33m<=\u001b[0m\u001b[1;36m10\u001b[0m\u001b[1;33m)\u001b[0m\u001b[1;33m]\u001b[0m\u001b[1;33m)\u001b[0m\u001b[1;33m\u001b[0m\u001b[0m\n\u001b[1;32m---> 13\u001b[1;33m         \u001b[0mnz\u001b[0m \u001b[1;33m=\u001b[0m  \u001b[0mnp\u001b[0m\u001b[1;33m.\u001b[0m\u001b[0msum\u001b[0m\u001b[1;33m(\u001b[0m\u001b[0mdf\u001b[0m\u001b[1;33m[\u001b[0m\u001b[1;34m'sumnz'\u001b[0m\u001b[1;33m]\u001b[0m\u001b[1;33m[\u001b[0m\u001b[1;33m(\u001b[0m\u001b[0mdf\u001b[0m\u001b[1;33m[\u001b[0m\u001b[1;34m'scale'\u001b[0m\u001b[1;33m]\u001b[0m\u001b[1;33m==\u001b[0m\u001b[0ms\u001b[0m\u001b[1;33m)\u001b[0m \u001b[1;33m&\u001b[0m  \u001b[1;33m(\u001b[0m\u001b[0mdf\u001b[0m\u001b[1;33m[\u001b[0m\u001b[1;34m'area'\u001b[0m\u001b[1;33m]\u001b[0m\u001b[1;33m==\u001b[0m\u001b[0mar\u001b[0m\u001b[1;33m)\u001b[0m\u001b[1;33m]\u001b[0m\u001b[1;33m)\u001b[0m\u001b[1;33m\u001b[0m\u001b[0m\n\u001b[0m\u001b[0;32m     14\u001b[0m         \u001b[0mvalid\u001b[0m \u001b[1;33m=\u001b[0m  \u001b[0mnp\u001b[0m\u001b[1;33m.\u001b[0m\u001b[0msum\u001b[0m\u001b[1;33m(\u001b[0m\u001b[0mdf\u001b[0m\u001b[1;33m[\u001b[0m\u001b[1;34m'sumvalid'\u001b[0m\u001b[1;33m]\u001b[0m\u001b[1;33m[\u001b[0m\u001b[1;33m(\u001b[0m\u001b[0mdf\u001b[0m\u001b[1;33m[\u001b[0m\u001b[1;34m'scale'\u001b[0m\u001b[1;33m]\u001b[0m\u001b[1;33m==\u001b[0m\u001b[0ms\u001b[0m\u001b[1;33m)\u001b[0m \u001b[1;33m&\u001b[0m  \u001b[1;33m(\u001b[0m\u001b[0mdf\u001b[0m\u001b[1;33m[\u001b[0m\u001b[1;34m'area'\u001b[0m\u001b[1;33m]\u001b[0m\u001b[1;33m==\u001b[0m\u001b[0mar\u001b[0m \u001b[1;33m&\u001b[0m  \u001b[1;33m(\u001b[0m\u001b[0mdf\u001b[0m\u001b[1;33m[\u001b[0m\u001b[1;34m'clon'\u001b[0m\u001b[1;33m]\u001b[0m\u001b[1;33m<=\u001b[0m\u001b[1;36m10\u001b[0m\u001b[1;33m)\u001b[0m\u001b[1;33m)\u001b[0m\u001b[1;33m]\u001b[0m\u001b[1;33m)\u001b[0m\u001b[1;33m\u001b[0m\u001b[0m\n\u001b[0;32m     15\u001b[0m         \u001b[1;32mif\u001b[0m \u001b[0mnz\u001b[0m \u001b[1;33m==\u001b[0m \u001b[1;36m0\u001b[0m\u001b[1;33m:\u001b[0m\u001b[1;33m\u001b[0m\u001b[0m\n",
      "\u001b[1;32m/users/global/cornkle/miniconda3/lib/python3.5/site-packages/pandas/core/series.py\u001b[0m in \u001b[0;36m__getitem__\u001b[1;34m(self, key)\u001b[0m\n\u001b[0;32m    599\u001b[0m             \u001b[0mkey\u001b[0m \u001b[1;33m=\u001b[0m \u001b[0mcheck_bool_indexer\u001b[0m\u001b[1;33m(\u001b[0m\u001b[0mself\u001b[0m\u001b[1;33m.\u001b[0m\u001b[0mindex\u001b[0m\u001b[1;33m,\u001b[0m \u001b[0mkey\u001b[0m\u001b[1;33m)\u001b[0m\u001b[1;33m\u001b[0m\u001b[0m\n\u001b[0;32m    600\u001b[0m \u001b[1;33m\u001b[0m\u001b[0m\n\u001b[1;32m--> 601\u001b[1;33m         \u001b[1;32mreturn\u001b[0m \u001b[0mself\u001b[0m\u001b[1;33m.\u001b[0m\u001b[0m_get_with\u001b[0m\u001b[1;33m(\u001b[0m\u001b[0mkey\u001b[0m\u001b[1;33m)\u001b[0m\u001b[1;33m\u001b[0m\u001b[0m\n\u001b[0m\u001b[0;32m    602\u001b[0m \u001b[1;33m\u001b[0m\u001b[0m\n\u001b[0;32m    603\u001b[0m     \u001b[1;32mdef\u001b[0m \u001b[0m_get_with\u001b[0m\u001b[1;33m(\u001b[0m\u001b[0mself\u001b[0m\u001b[1;33m,\u001b[0m \u001b[0mkey\u001b[0m\u001b[1;33m)\u001b[0m\u001b[1;33m:\u001b[0m\u001b[1;33m\u001b[0m\u001b[0m\n",
      "\u001b[1;32m/users/global/cornkle/miniconda3/lib/python3.5/site-packages/pandas/core/series.py\u001b[0m in \u001b[0;36m_get_with\u001b[1;34m(self, key)\u001b[0m\n\u001b[0;32m    635\u001b[0m                     \u001b[1;32mreturn\u001b[0m \u001b[0mself\u001b[0m\u001b[1;33m.\u001b[0m\u001b[0m_get_values\u001b[0m\u001b[1;33m(\u001b[0m\u001b[0mkey\u001b[0m\u001b[1;33m)\u001b[0m\u001b[1;33m\u001b[0m\u001b[0m\n\u001b[0;32m    636\u001b[0m             \u001b[1;32melif\u001b[0m \u001b[0mkey_type\u001b[0m \u001b[1;33m==\u001b[0m \u001b[1;34m'boolean'\u001b[0m\u001b[1;33m:\u001b[0m\u001b[1;33m\u001b[0m\u001b[0m\n\u001b[1;32m--> 637\u001b[1;33m                 \u001b[1;32mreturn\u001b[0m \u001b[0mself\u001b[0m\u001b[1;33m.\u001b[0m\u001b[0m_get_values\u001b[0m\u001b[1;33m(\u001b[0m\u001b[0mkey\u001b[0m\u001b[1;33m)\u001b[0m\u001b[1;33m\u001b[0m\u001b[0m\n\u001b[0m\u001b[0;32m    638\u001b[0m             \u001b[1;32melse\u001b[0m\u001b[1;33m:\u001b[0m\u001b[1;33m\u001b[0m\u001b[0m\n\u001b[0;32m    639\u001b[0m                 \u001b[1;32mtry\u001b[0m\u001b[1;33m:\u001b[0m\u001b[1;33m\u001b[0m\u001b[0m\n",
      "\u001b[1;32m/users/global/cornkle/miniconda3/lib/python3.5/site-packages/pandas/core/series.py\u001b[0m in \u001b[0;36m_get_values\u001b[1;34m(self, indexer)\u001b[0m\n\u001b[0;32m    666\u001b[0m     \u001b[1;32mdef\u001b[0m \u001b[0m_get_values\u001b[0m\u001b[1;33m(\u001b[0m\u001b[0mself\u001b[0m\u001b[1;33m,\u001b[0m \u001b[0mindexer\u001b[0m\u001b[1;33m)\u001b[0m\u001b[1;33m:\u001b[0m\u001b[1;33m\u001b[0m\u001b[0m\n\u001b[0;32m    667\u001b[0m         \u001b[1;32mtry\u001b[0m\u001b[1;33m:\u001b[0m\u001b[1;33m\u001b[0m\u001b[0m\n\u001b[1;32m--> 668\u001b[1;33m             return self._constructor(self._data.get_slice(indexer),\n\u001b[0m\u001b[0;32m    669\u001b[0m                                      fastpath=True).__finalize__(self)\n\u001b[0;32m    670\u001b[0m         \u001b[1;32mexcept\u001b[0m \u001b[0mException\u001b[0m\u001b[1;33m:\u001b[0m\u001b[1;33m\u001b[0m\u001b[0m\n",
      "\u001b[1;32m/users/global/cornkle/miniconda3/lib/python3.5/site-packages/pandas/core/internals.py\u001b[0m in \u001b[0;36mget_slice\u001b[1;34m(self, slobj, axis)\u001b[0m\n\u001b[0;32m   3808\u001b[0m \u001b[1;33m\u001b[0m\u001b[0m\n\u001b[0;32m   3809\u001b[0m         return self.__class__(self._block._slice(slobj),\n\u001b[1;32m-> 3810\u001b[1;33m                               self.index[slobj], fastpath=True)\n\u001b[0m\u001b[0;32m   3811\u001b[0m \u001b[1;33m\u001b[0m\u001b[0m\n\u001b[0;32m   3812\u001b[0m     \u001b[1;33m@\u001b[0m\u001b[0mproperty\u001b[0m\u001b[1;33m\u001b[0m\u001b[0m\n",
      "\u001b[1;32m/users/global/cornkle/miniconda3/lib/python3.5/site-packages/pandas/core/internals.py\u001b[0m in \u001b[0;36m__init__\u001b[1;34m(self, block, axis, do_integrity_check, fastpath)\u001b[0m\n\u001b[0;32m   3711\u001b[0m     \u001b[0m__slots__\u001b[0m \u001b[1;33m=\u001b[0m \u001b[1;33m(\u001b[0m\u001b[1;33m)\u001b[0m\u001b[1;33m\u001b[0m\u001b[0m\n\u001b[0;32m   3712\u001b[0m \u001b[1;33m\u001b[0m\u001b[0m\n\u001b[1;32m-> 3713\u001b[1;33m     \u001b[1;32mdef\u001b[0m \u001b[0m__init__\u001b[0m\u001b[1;33m(\u001b[0m\u001b[0mself\u001b[0m\u001b[1;33m,\u001b[0m \u001b[0mblock\u001b[0m\u001b[1;33m,\u001b[0m \u001b[0maxis\u001b[0m\u001b[1;33m,\u001b[0m \u001b[0mdo_integrity_check\u001b[0m\u001b[1;33m=\u001b[0m\u001b[1;32mFalse\u001b[0m\u001b[1;33m,\u001b[0m \u001b[0mfastpath\u001b[0m\u001b[1;33m=\u001b[0m\u001b[1;32mFalse\u001b[0m\u001b[1;33m)\u001b[0m\u001b[1;33m:\u001b[0m\u001b[1;33m\u001b[0m\u001b[0m\n\u001b[0m\u001b[0;32m   3714\u001b[0m \u001b[1;33m\u001b[0m\u001b[0m\n\u001b[0;32m   3715\u001b[0m         \u001b[1;32mif\u001b[0m \u001b[0misinstance\u001b[0m\u001b[1;33m(\u001b[0m\u001b[0maxis\u001b[0m\u001b[1;33m,\u001b[0m \u001b[0mlist\u001b[0m\u001b[1;33m)\u001b[0m\u001b[1;33m:\u001b[0m\u001b[1;33m\u001b[0m\u001b[0m\n",
      "\u001b[1;31mKeyboardInterrupt\u001b[0m: "
     ]
    }
   ],
   "source": [
    "\n",
    "ll1=[]\n",
    "ll2=[]\n",
    "ll3=[]\n",
    "ll4=[]\n",
    "sscales=[]\n",
    "for ar in df['area'].unique():\n",
    "\n",
    "    for s in scales:\n",
    "        \n",
    "        sums = np.sum(df['sum'][(df['scale']==s) &  (df['area']==ar) &  (df['clon']<=10)])\n",
    "        sums30 = np.sum(df['sum30'][(df['scale']==s) &  (df['area']==ar) &  (df['clon']<=10)])\n",
    "        nz =  np.sum(df['sumnz'][(df['scale']==s) &  (df['area']==ar)])\n",
    "        valid =  np.sum(df['sumvalid'][(df['scale']==s) &  (df['area']==ar) &  (df['clon']<=10)])\n",
    "        if nz == 0:\n",
    "            continue\n",
    "        if valid == 0:\n",
    "            continue   \n",
    "        mean = sums/nz\n",
    "        exmean = sums30/nz\n",
    "        meanval = sums/valid\n",
    "        exmeanval = sums30/valid\n",
    "        ll1.append(mean)\n",
    "        ll2.append(exmean)   \n",
    "        ll3.append(meanval)  \n",
    "        sscales.append(s)\n",
    "        ll4.append(exmeanval)  \n",
    "   # max_ll1.append(scales[np.argmax(ll1)])  \n",
    "   # max_ll2.append(scales[np.argmax(ll2)])\n",
    "   # max_ll3.append(scales[np.argmax(ll3)])\n",
    "   # max_ll4.append(scales[np.argmax(ll4)])\n",
    "        "
   ]
  },
  {
   "cell_type": "code",
   "execution_count": 200,
   "metadata": {
    "collapsed": false
   },
   "outputs": [
    {
     "name": "stdout",
     "output_type": "stream",
     "text": [
      "Using matplotlib backend: Qt4Agg\n"
     ]
    },
    {
     "data": {
      "text/plain": [
       "<matplotlib.collections.PathCollection at 0x7fd698d4d0f0>"
      ]
     },
     "execution_count": 200,
     "metadata": {},
     "output_type": "execute_result"
    }
   ],
   "source": [
    "%matplotlib\n",
    "plt.scatter(sscales, ll1)"
   ]
  },
  {
   "cell_type": "code",
   "execution_count": 178,
   "metadata": {
    "collapsed": false
   },
   "outputs": [],
   "source": [
    "a1, b1 = np.polyfit(center**.5, max_ll1, 1)\n",
    "a2, b2 = np.polyfit(center**.5, max_ll2, 1)\n",
    "a3, b3 = np.polyfit(center**.5, max_ll3, 1)\n",
    "a4, b4 = np.polyfit(center**.5, max_ll4, 1)"
   ]
  },
  {
   "cell_type": "code",
   "execution_count": 181,
   "metadata": {
    "collapsed": false
   },
   "outputs": [
    {
     "name": "stdout",
     "output_type": "stream",
     "text": [
      "Using matplotlib backend: Qt4Agg\n"
     ]
    },
    {
     "data": {
      "text/plain": [
       "<matplotlib.legend.Legend at 0x7fd69ada13c8>"
      ]
     },
     "execution_count": 181,
     "metadata": {},
     "output_type": "execute_result"
    }
   ],
   "source": [
    "%matplotlib\n",
    "f = plt.figure()\n",
    "x = center**.5\n",
    "ax = f.add_subplot(221)\n",
    "plt.title('Precip sum / nb: all scales')\n",
    "plt.scatter(center**.5,max_ll1, label='Mean nozero')  \n",
    "plt.text(0.7, 0.3, scales[np.argmax(ll1)], transform=ax.transAxes, fontsize=15)\n",
    "plt.plot(center**.5, a1*x + b1)\n",
    "plt.legend()\n",
    "ax = f.add_subplot(222)\n",
    "plt.scatter(center**.5,max_ll2, label='Extreme nozero')\n",
    "plt.text(0.7, 0.3,  scales[np.argmax(ll2)], transform=ax.transAxes, fontsize=15)\n",
    "plt.plot(center**.5, a2*x + b2)\n",
    "plt.legend()\n",
    "ax = f.add_subplot(223)\n",
    "plt.scatter(center**.5,max_ll3, label='Mean all valid')\n",
    "plt.text(0.7, 0.3,  scales[np.argmax(ll3)], transform=ax.transAxes, fontsize=15)\n",
    "plt.plot(center**.5, a3*x + b3)\n",
    "plt.legend()\n",
    "ax = f.add_subplot(224)\n",
    "plt.scatter(center**.5,max_ll4, label='Extreme all valid')\n",
    "plt.text(0.7, 0.3,  scales[np.argmax(ll4)], transform=ax.transAxes, fontsize=15)\n",
    "plt.plot(center**.5, a4*x + b4)\n",
    "plt.legend()\n"
   ]
  },
  {
   "cell_type": "code",
   "execution_count": 110,
   "metadata": {
    "collapsed": false
   },
   "outputs": [],
   "source": [
    "ll1 = []\n",
    "for s in scales:\n",
    "    sums = np.sum(df['sum'][(df['scale']==s) &  (df['area']*25>=50000)])\n",
    "    nz =  np.sum(df['sumnz'][(df['scale']==s) & (df['area']*25>=50000)])\n",
    "    shape =  np.sum(df['shape'][(df['scale']==s) & (df['area']*25>=50000)])\n",
    "    mean = sums\n",
    "    ll1.append(mean)\n",
    "ll2 = []\n",
    "for s in scales:\n",
    "    sums = np.sum(df['sum'][(df['scale']==s) &  (df['area']*25<50000)])\n",
    "    nz =  np.sum(df['sumnz'][(df['scale']==s) & (df['area']*25<50000)])\n",
    "    shape =  np.sum(df['shape'][(df['scale']==s) & (df['area']*25<50000)])\n",
    "    mean = sums# sums/nz\n",
    "    ll2.append(mean)   "
   ]
  },
  {
   "cell_type": "code",
   "execution_count": 111,
   "metadata": {
    "collapsed": false
   },
   "outputs": [
    {
     "name": "stdout",
     "output_type": "stream",
     "text": [
      "Using matplotlib backend: Qt4Agg\n"
     ]
    },
    {
     "data": {
      "text/plain": [
       "<matplotlib.text.Text at 0x7fd6a93ada20>"
      ]
     },
     "execution_count": 111,
     "metadata": {},
     "output_type": "execute_result"
    }
   ],
   "source": [
    "%matplotlib\n",
    "f = plt.figure()\n",
    "ax = f.add_subplot(121)\n",
    "plt.scatter(scales,ll1, label='ge 50000')  \n",
    "plt.legend()\n",
    "ax = f.add_subplot(122)\n",
    "plt.scatter(scales,ll2, label='lt 50000')\n",
    "plt.legend()\n",
    "plt.title('Precip sum / valid points')"
   ]
  },
  {
   "cell_type": "code",
   "execution_count": 88,
   "metadata": {
    "collapsed": true
   },
   "outputs": [],
   "source": [
    "ll1 = []\n",
    "for s in scales:\n",
    "    sums = np.sum(df['sum'][(df['scale']==s) &  (df['area']*25>=50000)])\n",
    "    nz =  np.sum(df['sumvalid'][(df['scale']==s) & (df['area']*25>=50000)])\n",
    "    mean = sums/nz\n",
    "    ll1.append(mean)\n",
    "ll2 = []\n",
    "for s in scales:\n",
    "    sums = np.sum(df['sum'][(df['scale']==s) &  (df['area']*25<50000)])\n",
    "    nz =  np.sum(df['sumvalid'][(df['scale']==s) & (df['area']*25<50000)])\n",
    "    mean = sums/nz\n",
    "    ll2.append(mean)   "
   ]
  },
  {
   "cell_type": "code",
   "execution_count": 90,
   "metadata": {
    "collapsed": false
   },
   "outputs": [
    {
     "name": "stdout",
     "output_type": "stream",
     "text": [
      "Using matplotlib backend: Qt4Agg\n"
     ]
    },
    {
     "data": {
      "text/plain": [
       "<matplotlib.text.Text at 0x7fd6aa963390>"
      ]
     },
     "execution_count": 90,
     "metadata": {},
     "output_type": "execute_result"
    }
   ],
   "source": [
    "%matplotlib\n",
    "f = plt.figure()\n",
    "ax = f.add_subplot(121)\n",
    "plt.scatter(scales,ll1, label='ge 50000')  \n",
    "plt.legend()\n",
    "ax = f.add_subplot(122)\n",
    "plt.scatter(scales,ll2, label='lt 50000')\n",
    "plt.legend()\n",
    "plt.title('Precip sum / nozero points')"
   ]
  },
  {
   "cell_type": "code",
   "execution_count": 21,
   "metadata": {
    "collapsed": false
   },
   "outputs": [],
   "source": [
    "ll = []\n",
    "for s in scales:\n",
    "    sums = np.sum(df['sum'][(df['scale']==s) & ((df['hour']>=21) ^ (df['hour']<3)) & (df['clat']>=10)])\n",
    "    nz =  np.sum(df['sumvalid'][(df['scale']==s) & ((df['hour']>=21) ^ (df['hour']<3)) & (df['clat']>=10)])\n",
    "    mean = sums/nz\n",
    "    ll.append(mean)"
   ]
  },
  {
   "cell_type": "code",
   "execution_count": 22,
   "metadata": {
    "collapsed": false
   },
   "outputs": [
    {
     "name": "stdout",
     "output_type": "stream",
     "text": [
      "Using matplotlib backend: Qt4Agg\n"
     ]
    },
    {
     "data": {
      "text/plain": [
       "<matplotlib.collections.PathCollection at 0x7fd6c6a6ef28>"
      ]
     },
     "execution_count": 22,
     "metadata": {},
     "output_type": "execute_result"
    }
   ],
   "source": []
  },
  {
   "cell_type": "code",
   "execution_count": 23,
   "metadata": {
    "collapsed": false
   },
   "outputs": [],
   "source": [
    "ll = []\n",
    "for s in scales:\n",
    "    sums = np.sum(df['sum'][(df['scale']==s)& (df['hour']>=15) & (df['hour']<21) & (df['clat']>=10)])\n",
    "    nz =  np.sum(df['sumvalid'][(df['scale']==s) & (df['hour']>=15) & (df['hour']<21) & (df['clat']>=10)])\n",
    "    \n",
    "    mean = sums/nz\n",
    "    ll.append(mean)"
   ]
  },
  {
   "cell_type": "code",
   "execution_count": 24,
   "metadata": {
    "collapsed": false
   },
   "outputs": [
    {
     "data": {
      "text/plain": [
       "<matplotlib.collections.PathCollection at 0x7fd6cb8ab4e0>"
      ]
     },
     "execution_count": 24,
     "metadata": {},
     "output_type": "execute_result"
    }
   ],
   "source": [
    "plt.figure()\n",
    "plt.scatter(scales,ll)"
   ]
  },
  {
   "cell_type": "code",
   "execution_count": 22,
   "metadata": {
    "collapsed": false
   },
   "outputs": [],
   "source": [
    "bla = df['area'][((df['hour']>=21) ^ (df['hour']<3)) & (df['clat']>=10)]*25\n",
    "bla2 = df['area'][(df['hour']>=15) & (df['hour']<21) & (df['clat']>=10)]*25\n",
    "\n",
    "weight1 = np.ones_like(bla.unique())/float(len(bla.unique()))\n",
    "weight2 = np.ones_like(bla2.unique())/float(len(bla2.unique()))"
   ]
  },
  {
   "cell_type": "code",
   "execution_count": 23,
   "metadata": {
    "collapsed": false
   },
   "outputs": [
    {
     "name": "stdout",
     "output_type": "stream",
     "text": [
      "Using matplotlib backend: Qt4Agg\n"
     ]
    },
    {
     "data": {
      "text/plain": [
       "<matplotlib.legend.Legend at 0x7ff7b4ac3d68>"
      ]
     },
     "execution_count": 23,
     "metadata": {},
     "output_type": "execute_result"
    }
   ],
   "source": [
    "%matplotlib\n",
    "f=plt.figure()\n",
    "plt.hist(bla.unique(), bins=15, range=(15000,1000000), weights=weight1, label='21-3h')\n",
    "plt.hist(bla2.unique(), bins=15, color='r', alpha=0.5, range=(15000,1000000), weights=weight2, label='15-21h')\n",
    "plt.legend()\n"
   ]
  },
  {
   "cell_type": "code",
   "execution_count": 106,
   "metadata": {
    "collapsed": false
   },
   "outputs": [
    {
     "name": "stdout",
     "output_type": "stream",
     "text": [
      "Using matplotlib backend: Qt4Agg\n"
     ]
    },
    {
     "data": {
      "text/plain": [
       "(array([ 16293.,   3377.,   2115.,    835.,    475.,    391.,    118.,\n",
       "             0.,     40.,     46.]),\n",
       " array([  15125.,  105670.,  196215.,  286760.,  377305.,  467850.,\n",
       "         558395.,  648940.,  739485.,  830030.,  920575.]),\n",
       " <a list of 10 Patch objects>)"
      ]
     },
     "execution_count": 106,
     "metadata": {},
     "output_type": "execute_result"
    }
   ],
   "source": [
    "%matplotlib\n",
    "plt.hist(df['area'][(df['hour']>=15) & (df['hour']<=18) & (df['clat']>=10)]*25)"
   ]
  },
  {
   "cell_type": "code",
   "execution_count": null,
   "metadata": {
    "collapsed": true
   },
   "outputs": [],
   "source": []
  }
 ],
 "metadata": {
  "kernelspec": {
   "display_name": "Python 3",
   "language": "python",
   "name": "python3"
  },
  "language_info": {
   "codemirror_mode": {
    "name": "ipython",
    "version": 3
   },
   "file_extension": ".py",
   "mimetype": "text/x-python",
   "name": "python",
   "nbconvert_exporter": "python",
   "pygments_lexer": "ipython3",
   "version": "3.5.2"
  }
 },
 "nbformat": 4,
 "nbformat_minor": 0
}
