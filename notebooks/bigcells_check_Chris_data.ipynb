{
 "metadata": {
  "name": "",
  "signature": "sha256:917741e1adcabba92d7729f2e86c7e5019d3fa980a1480c11e9654187c82d499"
 },
 "nbformat": 3,
 "nbformat_minor": 0,
 "worksheets": [
  {
   "cells": [
    {
     "cell_type": "code",
     "collapsed": false,
     "input": [
      "import numpy as np\n",
      "import os.path\n",
      "from scipy import ndimage\n",
      "import itertools\n",
      "import matplotlib as mpl\n",
      "import math\n",
      "import random\n",
      "import matplotlib.pyplot as plt\n",
      "from utils import u_time as ut\n",
      "from eod import msg\n",
      "from mpl_toolkits.basemap import Basemap\n",
      "import cartopy.crs as ccrs\n",
      "import cartopy.feature as cfeature\n",
      "import matplotlib.pylab as pylab\n",
      "pylab.rcParams['figure.figsize'] = (16., 9.)\n",
      "%matplotlib inline\n",
      "import datetime"
     ],
     "language": "python",
     "metadata": {},
     "outputs": [],
     "prompt_number": 3
    },
    {
     "cell_type": "code",
     "collapsed": false,
     "input": [
      "path = \"/users/global/cornkle/data/OBS/meteosat/cell_blob_files/2013/08/\"\n",
      "filename = \"201308011930.gra\"\n",
      "files = path + filename\n",
      "rrShape = (580,1640)\n",
      "rrMDI = np.uint16()\n",
      "rr = np.fromfile(files,dtype=rrMDI.dtype) \n",
      "print rr.shape\n",
      "rr.shape = rrShape\n",
      "#rr = rr.astype(np.int32) "
     ],
     "language": "python",
     "metadata": {},
     "outputs": [
      {
       "output_type": "stream",
       "stream": "stdout",
       "text": [
        "(951200,)\n"
       ]
      }
     ],
     "prompt_number": 16
    },
    {
     "cell_type": "code",
     "collapsed": false,
     "input": [
      "llpath='/users/global/cornkle/data/OBS/meteosat/MSG_1640_580_lat_lon.gra'\n",
      "llShape = (580,1640)\n",
      "rrMDI = np.float32(13.5)\n",
      "ll = np.fromfile(llpath,dtype=rrMDI.dtype)\n",
      "tlon = ll[0:580*1640]\n",
      "tlat = ll[580*1640:]\n",
      "tlat.shape = llShape\n",
      "tlon.shape = llShape"
     ],
     "language": "python",
     "metadata": {},
     "outputs": [],
     "prompt_number": 3
    },
    {
     "cell_type": "code",
     "collapsed": false,
     "input": [
      "tlon"
     ],
     "language": "python",
     "metadata": {},
     "outputs": [
      {
       "metadata": {},
       "output_type": "pyout",
       "prompt_number": 4,
       "text": [
        "array([[-16.78334045, -16.75442505, -16.72542572, ...,  29.9120388 ,\n",
        "         29.94599342,  29.97984695],\n",
        "       [-16.78399658, -16.75512695, -16.72608948, ...,  29.91338921,\n",
        "         29.94740486,  29.98128319],\n",
        "       [-16.78469658, -16.7557888 , -16.72675133, ...,  29.91474724,\n",
        "         29.94878006,  29.98265457],\n",
        "       ..., \n",
        "       [-18.10335732, -18.07187271, -18.04026794, ...,  32.63406372,\n",
        "         32.67257309,  32.71074677],\n",
        "       [-18.10758209, -18.07614136, -18.04448891, ...,  32.64305115,\n",
        "         32.68159866,  32.72000122],\n",
        "       [-18.11196518, -18.08051872, -18.04885483, ...,  32.65229416,\n",
        "         32.69068527,  32.72912598]], dtype=float32)"
       ]
      }
     ],
     "prompt_number": 4
    },
    {
     "cell_type": "code",
     "collapsed": false,
     "input": [
      "ax = plt.axes(projection=ccrs.PlateCarree())\n",
      "plt.contourf(tlon, tlat, rr, 10, transform=ccrs.PlateCarree())\n",
      "ax.coastlines()"
     ],
     "language": "python",
     "metadata": {},
     "outputs": [
      {
       "metadata": {},
       "output_type": "pyout",
       "prompt_number": 18,
       "text": [
        "<cartopy.mpl.feature_artist.FeatureArtist at 0x7fed7ebad350>"
       ]
      },
      {
       "metadata": {},
       "output_type": "display_data",
       "png": "[encoded data removed]",
       "text": [
        "<matplotlib.figure.Figure at 0x7fed7d7b6cd0>"
       ]
      }
     ],
     "prompt_number": 18
    },
    {
     "cell_type": "code",
     "collapsed": false,
     "input": [
      "path = \"/users/global/cornkle/data/OBS/TRMM/trmm_swaths_WA/2013/08/\"\n",
      "filename = \"2A25.20130817.89738.7.gra\"\n",
      "files = path + filename\n",
      "trs=msg.readTRMMswath(files)"
     ],
     "language": "python",
     "metadata": {},
     "outputs": [],
     "prompt_number": 4
    },
    {
     "cell_type": "code",
     "collapsed": false,
     "input": [
      "lat=trs['lats'].copy()"
     ],
     "language": "python",
     "metadata": {},
     "outputs": [],
     "prompt_number": 10
    },
    {
     "cell_type": "code",
     "collapsed": false,
     "input": [
      "test=np.where((laty<=21) & (laty>=0))"
     ],
     "language": "python",
     "metadata": {},
     "outputs": [],
     "prompt_number": 56
    },
    {
     "cell_type": "code",
     "collapsed": false,
     "input": [
      "rain=rainr[test, :]\n",
      "lont=lon[test, :]\n",
      "latt=lat[test, :]\n",
      "yy=rain.size/49\n"
     ],
     "language": "python",
     "metadata": {},
     "outputs": [
      {
       "metadata": {},
       "output_type": "pyout",
       "prompt_number": 62,
       "text": [
        "(2256, 49)"
       ]
      }
     ],
     "prompt_number": 62
    },
    {
     "cell_type": "code",
     "collapsed": false,
     "input": [
      "rain=rain.reshape(yy,49)\n",
      "lont=lont.reshape(yy,49)\n",
      "latt=latt.reshape(yy,49)\n",
      "lont.shape"
     ],
     "language": "python",
     "metadata": {},
     "outputs": [
      {
       "metadata": {},
       "output_type": "pyout",
       "prompt_number": 63,
       "text": [
        "(978, 49)"
       ]
      }
     ],
     "prompt_number": 63
    },
    {
     "cell_type": "code",
     "collapsed": false,
     "input": [
      "ax = plt.axes(projection=ccrs.PlateCarree())\n",
      "plt.contour(lon, lat, rainr, levels=np.arange(0,10,0.5), transform=ccrs.PlateCarree())\n",
      "ax.coastlines()"
     ],
     "language": "python",
     "metadata": {},
     "outputs": [
      {
       "metadata": {},
       "output_type": "pyout",
       "prompt_number": 60,
       "text": [
        "<cartopy.mpl.feature_artist.FeatureArtist at 0x7fed7ba59390>"
       ]
      },
      {
       "metadata": {},
       "output_type": "display_data",
       "png": "[encoded data removed]",
       "text": [
        "<matplotlib.figure.Figure at 0x7fed7bd10750>"
       ]
      }
     ],
     "prompt_number": 60
    },
    {
     "cell_type": "code",
     "collapsed": false,
     "input": [
      "24./1.5"
     ],
     "language": "python",
     "metadata": {},
     "outputs": []
    },
    {
     "cell_type": "code",
     "collapsed": false,
     "input": [
      "#create map\n",
      "map = Basemap(projection='geos',resolution='i', lon_0=0, \\\n",
      "            llcrnrlat =latmin,urcrnrlat=latmax, \\\n",
      "            llcrnrlon =lonmin,urcrnrlon=lonmax)\n",
      "print lon[0:10]"
     ],
     "language": "python",
     "metadata": {},
     "outputs": [
      {
       "output_type": "stream",
       "stream": "stdout",
       "text": [
        "[[-10.36 -10.39 -10.41 -10.43 -10.45 -10.48 -10.5  -10.52 -10.54 -10.56\n",
        "  -10.59 -10.61 -10.63 -10.65 -10.67 -10.69 -10.71 -10.73 -10.75 -10.77\n",
        "  -10.79 -10.81 -10.83 -10.85 -10.87 -10.89 -10.91 -10.93 -10.95 -10.97\n",
        "  -10.99 -11.01 -11.03 -11.05 -11.06 -11.08 -11.1  -11.12 -11.14 -11.16\n",
        "  -11.18 -11.2  -11.22 -11.24 -11.26 -11.28 -11.3  -11.32 -11.34]\n",
        " [-10.33 -10.35 -10.37 -10.4  -10.42 -10.44 -10.46 -10.48 -10.51 -10.53\n",
        "  -10.55 -10.57 -10.59 -10.61 -10.63 -10.65 -10.67 -10.69 -10.71 -10.73\n",
        "  -10.75 -10.77 -10.79 -10.81 -10.83 -10.85 -10.87 -10.89 -10.91 -10.93\n",
        "  -10.95 -10.97 -10.99 -11.01 -11.03 -11.05 -11.07 -11.09 -11.11 -11.13\n",
        "  -11.15 -11.17 -11.19 -11.21 -11.23 -11.25 -11.27 -11.29 -11.31]\n",
        " [-10.29 -10.31 -10.34 -10.36 -10.38 -10.4  -10.42 -10.45 -10.47 -10.49\n",
        "  -10.51 -10.53 -10.55 -10.57 -10.59 -10.62 -10.64 -10.66 -10.68 -10.7\n",
        "  -10.72 -10.74 -10.76 -10.78 -10.8  -10.82 -10.83 -10.85 -10.87 -10.89\n",
        "  -10.91 -10.93 -10.95 -10.97 -10.99 -11.01 -11.03 -11.05 -11.07 -11.09\n",
        "  -11.11 -11.13 -11.15 -11.17 -11.19 -11.21 -11.23 -11.25 -11.27]\n",
        " [-10.25 -10.28 -10.3  -10.32 -10.34 -10.37 -10.39 -10.41 -10.43 -10.45\n",
        "  -10.47 -10.5  -10.52 -10.54 -10.56 -10.58 -10.6  -10.62 -10.64 -10.66\n",
        "  -10.68 -10.7  -10.72 -10.74 -10.76 -10.78 -10.8  -10.82 -10.84 -10.86\n",
        "  -10.88 -10.9  -10.92 -10.94 -10.95 -10.97 -10.99 -11.01 -11.03 -11.05\n",
        "  -11.07 -11.09 -11.11 -11.13 -11.15 -11.17 -11.19 -11.21 -11.23]\n",
        " [-10.22 -10.24 -10.26 -10.28 -10.31 -10.33 -10.35 -10.37 -10.39 -10.42\n",
        "  -10.44 -10.46 -10.48 -10.5  -10.52 -10.54 -10.56 -10.58 -10.6  -10.62\n",
        "  -10.64 -10.66 -10.68 -10.7  -10.72 -10.74 -10.76 -10.78 -10.8  -10.82\n",
        "  -10.84 -10.86 -10.88 -10.9  -10.92 -10.94 -10.96 -10.98 -11.   -11.02\n",
        "  -11.04 -11.06 -11.08 -11.1  -11.12 -11.14 -11.16 -11.18 -11.2 ]\n",
        " [-10.18 -10.2  -10.22 -10.25 -10.27 -10.29 -10.31 -10.34 -10.36 -10.38\n",
        "  -10.4  -10.42 -10.44 -10.46 -10.48 -10.5  -10.52 -10.55 -10.57 -10.59\n",
        "  -10.61 -10.63 -10.65 -10.67 -10.69 -10.7  -10.72 -10.74 -10.76 -10.78\n",
        "  -10.8  -10.82 -10.84 -10.86 -10.88 -10.9  -10.92 -10.94 -10.96 -10.98\n",
        "  -11.   -11.02 -11.04 -11.06 -11.08 -11.1  -11.12 -11.14 -11.16]\n",
        " [-10.14 -10.16 -10.19 -10.21 -10.23 -10.25 -10.28 -10.3  -10.32 -10.34\n",
        "  -10.36 -10.38 -10.41 -10.43 -10.45 -10.47 -10.49 -10.51 -10.53 -10.55\n",
        "  -10.57 -10.59 -10.61 -10.63 -10.65 -10.67 -10.69 -10.71 -10.73 -10.75\n",
        "  -10.77 -10.79 -10.81 -10.82 -10.84 -10.86 -10.88 -10.9  -10.92 -10.94\n",
        "  -10.96 -10.98 -11.   -11.02 -11.04 -11.06 -11.08 -11.1  -11.12]\n",
        " [-10.1  -10.13 -10.15 -10.17 -10.2  -10.22 -10.24 -10.26 -10.28 -10.3\n",
        "  -10.33 -10.35 -10.37 -10.39 -10.41 -10.43 -10.45 -10.47 -10.49 -10.51\n",
        "  -10.53 -10.55 -10.57 -10.59 -10.61 -10.63 -10.65 -10.67 -10.69 -10.71\n",
        "  -10.73 -10.75 -10.77 -10.79 -10.81 -10.83 -10.85 -10.87 -10.89 -10.91\n",
        "  -10.93 -10.95 -10.97 -10.99 -11.01 -11.03 -11.05 -11.07 -11.09]\n",
        " [-10.07 -10.09 -10.11 -10.14 -10.16 -10.18 -10.2  -10.22 -10.25 -10.27\n",
        "  -10.29 -10.31 -10.33 -10.35 -10.37 -10.39 -10.41 -10.43 -10.45 -10.47\n",
        "  -10.49 -10.51 -10.53 -10.55 -10.57 -10.59 -10.61 -10.63 -10.65 -10.67\n",
        "  -10.69 -10.71 -10.73 -10.75 -10.77 -10.79 -10.81 -10.83 -10.85 -10.87\n",
        "  -10.89 -10.91 -10.93 -10.95 -10.97 -10.99 -11.01 -11.03 -11.05]\n",
        " [-10.03 -10.05 -10.08 -10.1  -10.12 -10.14 -10.17 -10.19 -10.21 -10.23\n",
        "  -10.25 -10.27 -10.29 -10.32 -10.34 -10.36 -10.38 -10.4  -10.42 -10.44\n",
        "  -10.46 -10.48 -10.5  -10.52 -10.54 -10.56 -10.58 -10.6  -10.62 -10.64\n",
        "  -10.66 -10.68 -10.69 -10.71 -10.73 -10.75 -10.77 -10.79 -10.81 -10.83\n",
        "  -10.85 -10.87 -10.89 -10.91 -10.93 -10.95 -10.97 -10.99 -11.01]]\n"
       ]
      }
     ],
     "prompt_number": 9
    },
    {
     "cell_type": "code",
     "collapsed": false,
     "input": [
      "map.drawcoastlines()\n",
      "map.drawcountries()\n",
      "#create latitudes\n",
      "parallels = np.arange(-90.,90.,2)\n",
      "map.drawparallels(parallels, labels =[1,0,0,0], linewidth = 0.5, fontsize=13)\n",
      "#create longitudes\n",
      "meridians = np.arange(-180.,180.,2)\n",
      "map.drawmeridians(meridians, labels =[0,0,0,1], linewidth = 0.5, fontsize=13)\n",
      "#map.drawmapboundary()\n",
      "#compute native map projection coordinates of lat/lon grid\n",
      "#xmap, ymap=map(range(-50,50,10),range(-40, 40, 10))\n",
      "#set contour data\n",
      "#cs=map.contourf(xmap, ymap, rainr)\n",
      "#cbar = plt.colorbar(cs)\n",
      "plt.figure()\n",
      "#plt.show()"
     ],
     "language": "python",
     "metadata": {},
     "outputs": []
    },
    {
     "cell_type": "code",
     "collapsed": false,
     "input": [
      "a=[\"a\", \"b\", \"c\"]\n",
      "a.extend([1,2,3])\n",
      "print a"
     ],
     "language": "python",
     "metadata": {},
     "outputs": []
    },
    {
     "cell_type": "code",
     "collapsed": false,
     "input": [
      "sorted(a, key=lambda *args: random.random())"
     ],
     "language": "python",
     "metadata": {},
     "outputs": []
    },
    {
     "cell_type": "code",
     "collapsed": false,
     "input": [
      "print a"
     ],
     "language": "python",
     "metadata": {},
     "outputs": []
    },
    {
     "cell_type": "code",
     "collapsed": false,
     "input": [],
     "language": "python",
     "metadata": {},
     "outputs": []
    }
   ],
   "metadata": {}
  }
 ]
}