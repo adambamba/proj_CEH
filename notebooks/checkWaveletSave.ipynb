{
 "metadata": {
  "name": "",
  "signature": "sha256:34797399daae73ae2c590847b0fb5bd86935d816250834bc4bab71d7f83380ad"
 },
 "nbformat": 3,
 "nbformat_minor": 0,
 "worksheets": [
  {
   "cells": [
    {
     "cell_type": "code",
     "collapsed": false,
     "input": [
      "import numpy as np"
     ],
     "language": "python",
     "metadata": {},
     "outputs": [],
     "prompt_number": 2
    },
    {
     "cell_type": "code",
     "collapsed": false,
     "input": [
      "outfile=\"/users/global/cornkle/data/pythonWorkspace/proj_CEH/wavelet/saves/wavelet_2012-2012.npz\"\n",
      "npz = np.load(outfile)"
     ],
     "language": "python",
     "metadata": {},
     "outputs": [],
     "prompt_number": 4
    },
    {
     "cell_type": "code",
     "collapsed": false,
     "input": [
      "npz.files"
     ],
     "language": "python",
     "metadata": {},
     "outputs": [
      {
       "metadata": {},
       "output_type": "pyout",
       "prompt_number": 5,
       "text": [
        "['days',\n",
        " 'Scales',\n",
        " 'xLocs',\n",
        " 'months',\n",
        " 'tirmin',\n",
        " 'tirloc',\n",
        " 'hours',\n",
        " 'yLocs',\n",
        " 'tirmean',\n",
        " 'years',\n",
        " 'Powers']"
       ]
      }
     ],
     "prompt_number": 5
    },
    {
     "cell_type": "code",
     "collapsed": false,
     "input": [
      "sc=npz['Powers']"
     ],
     "language": "python",
     "metadata": {},
     "outputs": [],
     "prompt_number": 9
    },
    {
     "cell_type": "code",
     "collapsed": false,
     "input": [
      "sc"
     ],
     "language": "python",
     "metadata": {},
     "outputs": [
      {
       "metadata": {},
       "output_type": "pyout",
       "prompt_number": 10,
       "text": [
        "array([   2.47302395,    1.41620763,    5.7684823 , ...,   21.77206002,\n",
        "        159.25251986,  164.44771208])"
       ]
      }
     ],
     "prompt_number": 10
    },
    {
     "cell_type": "code",
     "collapsed": false,
     "input": [
      "sc.shape"
     ],
     "language": "python",
     "metadata": {},
     "outputs": [
      {
       "metadata": {},
       "output_type": "pyout",
       "prompt_number": 11,
       "text": [
        "(687700,)"
       ]
      }
     ],
     "prompt_number": 11
    },
    {
     "cell_type": "code",
     "collapsed": false,
     "input": [],
     "language": "python",
     "metadata": {},
     "outputs": []
    }
   ],
   "metadata": {}
  }
 ]
}