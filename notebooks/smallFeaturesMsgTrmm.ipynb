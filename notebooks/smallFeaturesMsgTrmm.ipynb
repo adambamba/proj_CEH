{
 "cells": [
  {
   "cell_type": "code",
   "execution_count": 1,
   "metadata": {
    "collapsed": false
   },
   "outputs": [],
   "source": [
    "import numpy as np\n",
    "import os.path\n",
    "from scipy import ndimage\n",
    "from scipy.interpolate import griddata\n",
    "import itertools\n",
    "import matplotlib as mpl\n",
    "import math\n",
    "import matplotlib.pyplot as plt\n",
    "from mapping import creategrid as grd\n",
    "from mpl_toolkits.basemap import Basemap\n",
    "import cartopy.crs as ccrs\n",
    "import cartopy.feature as cfeature\n",
    "import matplotlib.pylab as pylab\n",
    "import pandas as pd\n",
    "from eod import msg as msg\n",
    "pylab.rcParams['figure.figsize'] = 20., 12.\n",
    "%matplotlib inline\n",
    "import pyproj\n",
    "#from mapping import proj"
   ]
  },
  {
   "cell_type": "code",
   "execution_count": 2,
   "metadata": {
    "collapsed": false
   },
   "outputs": [
    {
     "name": "stdout",
     "output_type": "stream",
     "text": [
      "4559\n"
     ]
    }
   ],
   "source": [
    "HOD=range(24)   # hours of day\n",
    "CFAC=-781648343\n",
    "LFAC=-781648343\n",
    "COFF=1856\n",
    "LOFF=1856\n",
    "YRANGE=range(2004,2014)\n",
    "\n",
    "tpath= \"/users/global/cornkle/data/OBS/TRMM/trmm_swaths_WA/\"\n",
    "tf=msg.extract_TRMMfile(tpath, hod=HOD, yrange=YRANGE)\n",
    "tf.keys()\n",
    "print(len(tf['fpath']))"
   ]
  },
  {
   "cell_type": "code",
   "execution_count": 11,
   "metadata": {
    "collapsed": false
   },
   "outputs": [],
   "source": [
    "date=tf['date'].get_str([3,4,5])"
   ]
  },
  {
   "cell_type": "code",
   "execution_count": 12,
   "metadata": {
    "collapsed": false
   },
   "outputs": [
    {
     "data": {
      "text/plain": [
       "['20040602 13:00:00', '20040602 11:30:00', '20040602 03:30:00']"
      ]
     },
     "execution_count": 12,
     "metadata": {},
     "output_type": "execute_result"
    }
   ],
   "source": [
    "date"
   ]
  },
  {
   "cell_type": "code",
   "execution_count": 110,
   "metadata": {
    "collapsed": false
   },
   "outputs": [],
   "source": [
    "dmsg, dtrmm=msg.quickreadTrmmMSG(tf, nb=0)"
   ]
  },
  {
   "cell_type": "code",
   "execution_count": 111,
   "metadata": {
    "collapsed": false
   },
   "outputs": [
    {
     "name": "stdout",
     "output_type": "stream",
     "text": [
      "(1030, 49)\n",
      "(580, 1640)\n"
     ]
    }
   ],
   "source": [
    "mlat=dmsg['lats']\n",
    "mlon=dmsg['lons']\n",
    "md=dmsg['t']\n",
    "tlat=dtrmm['lats']\n",
    "tlon=dtrmm['lons']\n",
    "td=dtrmm['pcp']\n",
    "mins=tf['tmins']\n",
    "print td.shape\n",
    "print md.shape"
   ]
  },
  {
   "cell_type": "code",
   "execution_count": 115,
   "metadata": {
    "collapsed": false
   },
   "outputs": [
    {
     "data": {
      "text/plain": [
       "<matplotlib.colorbar.Colorbar instance at 0x7fa8ff919ab8>"
      ]
     },
     "execution_count": 115,
     "metadata": {},
     "output_type": "execute_result"
    },
    {
     "data": {
      "image/png": "[encoded data removed]",
      "text/plain": [
       "<matplotlib.figure.Figure at 0x7fa901742450>"
      ]
     },
     "metadata": {},
     "output_type": "display_data"
    }
   ],
   "source": [
    "dy1=150\n",
    "dy2=400\n",
    "dx1=900\n",
    "dx2=1100\n",
    "ax = plt.axes(projection=ccrs.PlateCarree())\n",
    "plt.contourf(tlon[320:410, :], tlat[320:410, :], td[320:410, :],levels=np.arange(0,30, 0.5), transform=ccrs.PlateCarree())\n",
    "plt.contourf(mlon[dy1:dy2, dx1:dx2], mlat[dy1:dy2, dx1:dx2], md[dy1:dy2, dx1:dx2], levels=np.arange(-80,-40,1), transform=ccrs.PlateCarree())\n",
    "plt.contourf(tlon[320:410, :], tlat[320:410, :], td[320:410, :],levels=np.arange(5,40, 0.5), transform=ccrs.PlateCarree())\n",
    "ax.coastlines()\n",
    "plt.colorbar()\n",
    "#plt.savefig('/users/global/cornkle/msgbig_t.pdf')"
   ]
  },
  {
   "cell_type": "code",
   "execution_count": 74,
   "metadata": {
    "collapsed": false
   },
   "outputs": [
    {
     "data": {
      "text/plain": [
       "<matplotlib.colorbar.Colorbar instance at 0x7fa904370908>"
      ]
     },
     "execution_count": 74,
     "metadata": {},
     "output_type": "execute_result"
    },
    {
     "data": {
      "image/png": "[encoded data removed]",
      "text/plain": [
       "<matplotlib.figure.Figure at 0x7fa904833050>"
      ]
     },
     "metadata": {},
     "output_type": "display_data"
    }
   ],
   "source": [
    "ax = plt.axes(projection=ccrs.PlateCarree())\n",
    "plt.contourf(tlon, tlat, td,levels=np.arange(1,15, 0.5), transform=ccrs.PlateCarree()) \n",
    "ax.coastlines()\n",
    "plt.colorbar()"
   ]
  },
  {
   "cell_type": "code",
   "execution_count": 142,
   "metadata": {
    "collapsed": false
   },
   "outputs": [
    {
     "name": "stdout",
     "output_type": "stream",
     "text": [
      "[   7   27   31   34   42   62   66   67   88   92   99  100  103  108  109\n",
      "  111  116  124  128  129  132  141  142  146  154  158  162  163  167  174\n",
      "  182  187  192  197  201  210  216  231  236  249  254  256  267  285  298\n",
      "  301  304  321  334  336  347  349  358  363  371  378  394  399  411  420\n",
      "  433  436  441  447  449  465  469  474  482  501  512  521  524  547  548\n",
      "  553  562  566  574  579  583  588  590  597  601  619  623  624  651  660\n",
      "  667  668  682  684  694  707  710  720  729  737  738  740  741  746  748\n",
      "  751  768  789  790  799  810  820  822  840  846  854  855  858  881  886\n",
      "  895  906  908  912  916  920  922  931  940  943  947  951  953  967  971\n",
      "  979  988  996 1001 1018 1020 1021 1024 1028 1030 1035 1039 1045 1049 1061]\n",
      "[ 0  0 30  0  0 30  0 30 30 30  0 30  0 30  0  0  0 30  0 30  0  0  0  0  0\n",
      " 30  0 30  0 30 30 30 30 30 30  0 30  0 30 30  0  0 30 30  0 30 30  0  0  0\n",
      "  0  0 30 30  0 30 30 30  0 30 30  0 30  0  0 30 30  0  0 30  0  0 30 30  0\n",
      " 30 30  0 30  0  0  0 30 30  0  0 30  0  0  0 30  0 30  0  0 30  0 30  0 30\n",
      " 30  0 30 30  0 30  0 30  0 30  0 30  0  0 30  0 30  0  0 30 30  0  0  0  0\n",
      " 30  0 30  0  0  0  0  0  0  0 30  0 30 30  0  0  0  0  0 30 30  0 30  0  0]\n"
     ]
    }
   ],
   "source": [
    "mins=tf['tmins']\n",
    "minis=np.array(mins)\n",
    "\n",
    "mask=(minis==0) | (minis==30) \n",
    "tnb=np.array(range(len(tf['fpath'])))[mask]\n",
    "print tnb\n",
    "print np.array(mins)[mask]"
   ]
  },
  {
   "cell_type": "code",
   "execution_count": 1,
   "metadata": {
    "collapsed": false
   },
   "outputs": [
    {
     "ename": "NameError",
     "evalue": "name 'np' is not defined",
     "output_type": "error",
     "traceback": [
      "\u001b[1;31m---------------------------------------------------------------------------\u001b[0m\n\u001b[1;31mNameError\u001b[0m                                 Traceback (most recent call last)",
      "\u001b[1;32m<ipython-input-1-acfc87fe2fbb>\u001b[0m in \u001b[0;36m<module>\u001b[1;34m()\u001b[0m\n\u001b[1;32m----> 1\u001b[1;33m \u001b[0mtnb\u001b[0m\u001b[1;33m=\u001b[0m\u001b[0mnp\u001b[0m\u001b[1;33m.\u001b[0m\u001b[0marray\u001b[0m\u001b[1;33m(\u001b[0m\u001b[0mrange\u001b[0m\u001b[1;33m(\u001b[0m\u001b[0mlen\u001b[0m\u001b[1;33m(\u001b[0m\u001b[0mtf\u001b[0m\u001b[1;33m[\u001b[0m\u001b[1;34m'fpath'\u001b[0m\u001b[1;33m]\u001b[0m\u001b[1;33m)\u001b[0m\u001b[1;33m)\u001b[0m\u001b[1;33m)\u001b[0m\u001b[1;33m\u001b[0m\u001b[0m\n\u001b[0m\u001b[0;32m      2\u001b[0m \u001b[0mmaxs\u001b[0m\u001b[1;33m=\u001b[0m\u001b[1;33m[\u001b[0m\u001b[1;33m]\u001b[0m\u001b[1;33m\u001b[0m\u001b[0m\n\u001b[0;32m      3\u001b[0m \u001b[1;32mfor\u001b[0m \u001b[0mtp\u001b[0m \u001b[1;32min\u001b[0m \u001b[0mtnb\u001b[0m\u001b[1;33m:\u001b[0m\u001b[1;33m\u001b[0m\u001b[0m\n\u001b[0;32m      4\u001b[0m     \u001b[0mdmsg\u001b[0m\u001b[1;33m,\u001b[0m \u001b[0mdtrmm\u001b[0m\u001b[1;33m=\u001b[0m\u001b[0mmsg\u001b[0m\u001b[1;33m.\u001b[0m\u001b[0mquickreadTrmmMSG\u001b[0m\u001b[1;33m(\u001b[0m\u001b[0mtf\u001b[0m\u001b[1;33m,\u001b[0m \u001b[0mnb\u001b[0m\u001b[1;33m=\u001b[0m\u001b[0mtp\u001b[0m\u001b[1;33m)\u001b[0m\u001b[1;33m\u001b[0m\u001b[0m\n\u001b[0;32m      5\u001b[0m     \u001b[0mtd\u001b[0m\u001b[1;33m=\u001b[0m\u001b[0mdtrmm\u001b[0m\u001b[1;33m[\u001b[0m\u001b[1;34m'pcp'\u001b[0m\u001b[1;33m]\u001b[0m\u001b[1;33m.\u001b[0m\u001b[0mmean\u001b[0m\u001b[1;33m(\u001b[0m\u001b[1;33m)\u001b[0m\u001b[1;33m.\u001b[0m\u001b[0mmax\u001b[0m\u001b[1;33m(\u001b[0m\u001b[1;33m)\u001b[0m\u001b[1;33m\u001b[0m\u001b[0m\n",
      "\u001b[1;31mNameError\u001b[0m: name 'np' is not defined"
     ]
    }
   ],
   "source": [
    "tnb=np.array(range(len(tf['fpath'])))\n",
    "maxs=[]\n",
    "for tp in tnb:\n",
    "    dmsg, dtrmm=msg.quickreadTrmmMSG(tf, nb=tp)\n",
    "    td=dtrmm['pcp'].mean().max()\n",
    "    maxs.append(td)\n",
    "sort_max, sort_nbs = zip(*sorted(zip(maxs, tnb), reverse=True))"
   ]
  },
  {
   "cell_type": "code",
   "execution_count": 157,
   "metadata": {
    "collapsed": false
   },
   "outputs": [
    {
     "name": "stdout",
     "output_type": "stream",
     "text": [
      "(1.4574619424317103, 0.65031134146780456, 0.6369253931080634, 0.60149659863945171, 0.56668484187567958, 0.56345929254339822, 0.52383658008657841, 0.52154539057002114, 0.51517665729320417, 0.51117386902541595)\n",
      "(334, 31, 132, 436, 623, 660, 746, 187, 566, 321)\n"
     ]
    }
   ],
   "source": [
    "print sort_max[0:10]\n",
    "print sort_nbs[0:10]"
   ]
  },
  {
   "cell_type": "code",
   "execution_count": 158,
   "metadata": {
    "collapsed": false
   },
   "outputs": [
    {
     "name": "stdout",
     "output_type": "stream",
     "text": [
      "(334, 31, 132, 436, 623)\n"
     ]
    }
   ],
   "source": [
    "top5=sort_nbs[0:5]\n",
    "print top5"
   ]
  },
  {
   "cell_type": "code",
   "execution_count": 188,
   "metadata": {
    "collapsed": false
   },
   "outputs": [
    {
     "name": "stdout",
     "output_type": "stream",
     "text": [
      "0\n"
     ]
    }
   ],
   "source": [
    "NB=top5[3]\n",
    "mi=tf['tmins'][NB]\n",
    "dmsg, dtrmm=msg.quickreadTrmmMSG(tf, nb=NB)\n",
    "mlat=dmsg['lats']\n",
    "mlon=dmsg['lons']\n",
    "md=dmsg['t']\n",
    "tlat=dtrmm['lats']\n",
    "tlon=dtrmm['lons']\n",
    "td=dtrmm['pcp']\n",
    "print mi"
   ]
  },
  {
   "cell_type": "code",
   "execution_count": 189,
   "metadata": {
    "collapsed": false
   },
   "outputs": [
    {
     "data": {
      "image/png": "[encoded data removed]",
      "text/plain": [
       "<matplotlib.figure.Figure at 0x7ff839be4c10>"
      ]
     },
     "metadata": {},
     "output_type": "display_data"
    }
   ],
   "source": [
    "dy1=70\n",
    "dy2=550\n",
    "dx1=0\n",
    "dx2=400\n",
    "tdy1=0\n",
    "tdy2=-1\n",
    "\n",
    "ax = plt.axes(projection=ccrs.PlateCarree())\n",
    "plt.contourf(tlon[tdy1:tdy2, :], tlat[tdy1:tdy2, :], td[tdy1:tdy2, :],levels=np.arange(0,100, 0.5), transform=ccrs.PlateCarree(), cmap='Pastel1')\n",
    "plt.contourf(mlon[dy1:dy2, dx1:dx2], mlat[dy1:dy2, dx1:dx2], md[dy1:dy2, dx1:dx2], levels=np.arange(-80,-30,1), transform=ccrs.PlateCarree())\n",
    "cbar=plt.colorbar()\n",
    "cbar.set_label('T (degC)', rotation=270, labelpad=+11)\n",
    "plt.contourf(tlon[tdy1:tdy2, :], tlat[tdy1:tdy2, :], td[tdy1:tdy2, :],levels=np.arange(5,70, 0.5), transform=ccrs.PlateCarree())\n",
    "\n",
    "ax.coastlines()\n",
    "cbar=plt.colorbar()\n",
    "cbar.set_label('PCP (mm h-1)', rotation=270, labelpad=+11)\n",
    "plt.savefig('/users/global/cornkle/'+str(NB)+'_msgtd0_p_'+str(mi)+'.pdf')\n"
   ]
  },
  {
   "cell_type": "code",
   "execution_count": 190,
   "metadata": {
    "collapsed": false
   },
   "outputs": [
    {
     "data": {
      "image/png": "[encoded data removed]",
      "text/plain": [
       "<matplotlib.figure.Figure at 0x7ff83a436c50>"
      ]
     },
     "metadata": {},
     "output_type": "display_data"
    }
   ],
   "source": [
    "ax = plt.axes(projection=ccrs.PlateCarree())\n",
    "plt.contourf(tlon[tdy1:tdy2, :], tlat[tdy1:tdy2, :], td[tdy1:tdy2, :],levels=np.arange(0,100, 0.5), transform=ccrs.PlateCarree(), cmap='Pastel1')\n",
    "plt.contourf(mlon[dy1:dy2, dx1:dx2], mlat[dy1:dy2, dx1:dx2], md[dy1:dy2, dx1:dx2], levels=np.arange(-80,-30,1), transform=ccrs.PlateCarree())\n",
    "cbar=plt.colorbar()\n",
    "cbar.set_label('T (degC)', rotation=270, labelpad=+11)\n",
    "ax.coastlines()\n",
    "plt.savefig('/users/global/cornkle/'+str(NB)+'_msgtd0.pdf')"
   ]
  },
  {
   "cell_type": "code",
   "execution_count": 84,
   "metadata": {
    "collapsed": false
   },
   "outputs": [
    {
     "data": {
      "text/plain": [
       "array([0, 1, 2, 3, 4, 5])"
      ]
     },
     "execution_count": 84,
     "metadata": {},
     "output_type": "execute_result"
    }
   ],
   "source": [
    "m = Basemap(width=12000000,height=9000000,projection='mercator',\n",
    "            resolution='c',lat_1=45.,lat_2=55,lat_0=50,lon_0=-107.)"
   ]
  },
  {
   "cell_type": "code",
   "execution_count": 194,
   "metadata": {
    "collapsed": false
   },
   "outputs": [],
   "source": [
    "mercator=pyproj.Proj(\"+init=EPSG:3857\")"
   ]
  },
  {
   "cell_type": "code",
   "execution_count": 198,
   "metadata": {
    "collapsed": false
   },
   "outputs": [],
   "source": [
    "x, y=mercator(mlon, mlat)"
   ]
  },
  {
   "cell_type": "code",
   "execution_count": 201,
   "metadata": {
    "collapsed": false
   },
   "outputs": [
    {
     "data": {
      "text/plain": [
       "array([[  3.94719744,   3.94708943,   3.9469614 , ...,   4.02024937,\n",
       "          4.02049541,   4.02072763],\n",
       "       [  3.97467399,   3.97457552,   3.97443843, ...,   4.04824352,\n",
       "          4.04849911,   4.04873514],\n",
       "       [  4.00216055,   4.00205374,   4.00191498, ...,   4.07623863,\n",
       "          4.07649755,   4.07673502],\n",
       "       ..., \n",
       "       [ 20.41603279,  20.41537476,  20.41458893, ...,  20.8565979 ,\n",
       "         20.85813713,  20.85949516],\n",
       "       [ 20.44630051,  20.44569588,  20.44486427, ...,  20.8877697 ,\n",
       "         20.8893261 ,  20.89079285],\n",
       "       [ 20.47672844,  20.4761219 ,  20.47529411, ...,  20.91907501,\n",
       "         20.92054749,  20.92202568]], dtype=float32)"
      ]
     },
     "execution_count": 201,
     "metadata": {},
     "output_type": "execute_result"
    }
   ],
   "source": [
    "mlat"
   ]
  },
  {
   "cell_type": "code",
   "execution_count": null,
   "metadata": {
    "collapsed": false
   },
   "outputs": [],
   "source": []
  }
 ],
 "metadata": {
  "kernelspec": {
   "display_name": "Python 3",
   "language": "python",
   "name": "python3"
  },
  "language_info": {
   "codemirror_mode": {
    "name": "ipython",
    "version": 3
   },
   "file_extension": ".py",
   "mimetype": "text/x-python",
   "name": "python",
   "nbconvert_exporter": "python",
   "pygments_lexer": "ipython3",
   "version": "3.5.1"
  }
 },
 "nbformat": 4,
 "nbformat_minor": 0
}
