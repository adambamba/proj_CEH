{
 "metadata": {
  "name": "",
  "signature": "sha256:02ec9b01f60191a111f7d9688a0dec4604d4b1b80ce0f3dc4404f633ea5dbfc2"
 },
 "nbformat": 3,
 "nbformat_minor": 0,
 "worksheets": [
  {
   "cells": [
    {
     "cell_type": "code",
     "collapsed": false,
     "input": [
      "import numpy as np\n",
      "import os.path\n",
      "from scipy import ndimage\n",
      "import itertools\n",
      "import matplotlib as mpl\n",
      "import math\n",
      "import matplotlib.pyplot as plt\n",
      "from mapping import creategrid as grd\n",
      "from mpl_toolkits.basemap import Basemap\n",
      "import cartopy.crs as ccrs\n",
      "import cartopy.feature as cfeature\n",
      "import matplotlib.pylab as pylab\n",
      "import pandas as pd\n",
      "from eod import msg as msg\n",
      "pylab.rcParams['figure.figsize'] = (16., 9.)\n",
      "%matplotlib inline"
     ],
     "language": "python",
     "metadata": {},
     "outputs": [],
     "prompt_number": 1
    },
    {
     "cell_type": "code",
     "collapsed": false,
     "input": [
      "# read only trmm files that I need and give out proper lons lats etc\n",
      "path = \"/users/global/cornkle/data/OBS/TRMM/trmm_swaths_WA/2009/08/\"\n",
      "filename = \"2A25.20090802.66735.7.gra\"\n",
      "files = path + filename\n",
      "rr = np.fromfile(files,dtype=np.int16) \n",
      "x = 49\n",
      "nb = rr.size\n",
      "single = nb/4 # variables lon lat rainrate flag\n",
      "\n",
      "lons = rr[0:single]\n",
      "lats = rr[single:2*single]\n",
      "rainrs = rr[2*single:3*single]\n",
      "flags = rr[3*single:4*single]"
     ],
     "language": "python",
     "metadata": {},
     "outputs": [],
     "prompt_number": 2
    },
    {
     "cell_type": "code",
     "collapsed": false,
     "input": [
      "y = lons.size/x\n",
      "lons = np.resize(lons, (y,x))\n",
      "lats = np.resize(lats, (y,x))\n",
      "rainrs = np.resize(rainrs, (y,x))\n",
      "flags = np.resize(flags, (y,x))\n",
      "lon=lons/100.\n",
      "lat=lats/100.\n",
      "rainr=rainrs/10.\n",
      "lonmin, lonmax=np.amin(lon),np.amax(lon)\n",
      "latmin, latmax=np.amin(lat),np.amax(lat)\n",
      "lonx=lon[0,:]\n",
      "laty=lat[:,0]"
     ],
     "language": "python",
     "metadata": {},
     "outputs": [],
     "prompt_number": 3
    },
    {
     "cell_type": "code",
     "collapsed": false,
     "input": [
      "import os, fnmatch\n",
      "\n",
      "def locate(pattern, root_path):\n",
      "    for path, dirs, files in os.walk(os.path.abspath(root_path)):\n",
      "        for filename in fnmatch.filter(files, pattern):\n",
      "            yield os.path.join(path, filename)"
     ],
     "language": "python",
     "metadata": {},
     "outputs": [],
     "prompt_number": 4
    },
    {
     "cell_type": "code",
     "collapsed": false,
     "input": [
      "path = \"/users/global/cornkle/data/OBS/TRMM/trmm_swaths_WA/\"\n",
      "pattern = path + '{0:d}/{1:02d}/2A25.{0:d}{1:02d}{2:02d}.*.7.gra' "
     ],
     "language": "python",
     "metadata": {},
     "outputs": [],
     "prompt_number": 5
    },
    {
     "cell_type": "code",
     "collapsed": false,
     "input": [
      "date = np.array([2014,6,30,20,0])\n",
      "rrFile = pattern.format(date[0],date[1],date[2])\n",
      "print rrFile"
     ],
     "language": "python",
     "metadata": {},
     "outputs": [
      {
       "output_type": "stream",
       "stream": "stdout",
       "text": [
        "/users/global/cornkle/data/OBS/TRMM/trmm_swaths_WA/2014/06/2A25.20140630.*.7.gra\n"
       ]
      }
     ],
     "prompt_number": 6
    },
    {
     "cell_type": "code",
     "collapsed": false,
     "input": [
      "extpath=rrFile\n",
      "print extpath"
     ],
     "language": "python",
     "metadata": {},
     "outputs": [
      {
       "output_type": "stream",
       "stream": "stdout",
       "text": [
        "/users/global/cornkle/data/OBS/TRMM/trmm_swaths_WA/2014/06/2A25.20140630.*.7.gra\n"
       ]
      }
     ],
     "prompt_number": 7
    },
    {
     "cell_type": "code",
     "collapsed": false,
     "input": [
      "import glob\n",
      "a=glob.glob(extpath)\n",
      "print a[1]"
     ],
     "language": "python",
     "metadata": {},
     "outputs": [
      {
       "output_type": "stream",
       "stream": "stdout",
       "text": [
        "/users/global/cornkle/data/OBS/TRMM/trmm_swaths_WA/2014/06/2A25.20140630.94684.7.gra\n"
       ]
      }
     ],
     "prompt_number": 8
    },
    {
     "cell_type": "code",
     "collapsed": false,
     "input": [
      "for root, dirs, files in os.walk(extpath):\n",
      "    for dir in dirs:\n",
      "        print os.path.join(root, dir)\n",
      "    for file in files:\n",
      "        print os.path.join(root, file)"
     ],
     "language": "python",
     "metadata": {},
     "outputs": [],
     "prompt_number": 9
    },
    {
     "cell_type": "code",
     "collapsed": false,
     "input": [
      "msgs  = \"/users/global/cornkle/data/OBS/meteosat/bigcell_area_table/rewrite/\"\n",
      "tpath=\"/users/global/cornkle/data/OBS/TRMM/trmm_swaths_WA/\"\n",
      "trmm = msg.extract_TRMMfile(tpath)\n",
      "   \n",
      "hs = trmm['date'].hours[0]\n",
      "mins = trmm['date'].minutes[0]"
     ],
     "language": "python",
     "metadata": {},
     "outputs": [],
     "prompt_number": 15
    },
    {
     "cell_type": "code",
     "collapsed": false,
     "input": [],
     "language": "python",
     "metadata": {},
     "outputs": []
    },
    {
     "cell_type": "code",
     "collapsed": false,
     "input": [
      "df = pd.read_csv(msgs+'cell_40c_'+str(hs).zfill(2)+str(mins).zfill(2)+'_JJAS.txt')\n",
      "df.set_index('Date', inplace=True, drop=True)\n",
      "df.head()"
     ],
     "language": "python",
     "metadata": {},
     "outputs": [
      {
       "html": [
        "<div style=\"max-height:1000px;max-width:1500px;overflow:auto;\">\n",
        "<table border=\"1\" class=\"dataframe\">\n",
        "  <thead>\n",
        "    <tr style=\"text-align: right;\">\n",
        "      <th></th>\n",
        "      <th>Unnamed: 0</th>\n",
        "      <th>Area</th>\n",
        "      <th>Lat</th>\n",
        "      <th>Lon</th>\n",
        "      <th>Mincol</th>\n",
        "      <th>Temp</th>\n",
        "      <th>Tresh</th>\n",
        "    </tr>\n",
        "    <tr>\n",
        "      <th>Date</th>\n",
        "      <th></th>\n",
        "      <th></th>\n",
        "      <th></th>\n",
        "      <th></th>\n",
        "      <th></th>\n",
        "      <th></th>\n",
        "      <th></th>\n",
        "    </tr>\n",
        "  </thead>\n",
        "  <tbody>\n",
        "    <tr>\n",
        "      <th>2004-06-01 02:00:00</th>\n",
        "      <td> 0</td>\n",
        "      <td> 102</td>\n",
        "      <td> 19.7</td>\n",
        "      <td>  6.6</td>\n",
        "      <td>  832</td>\n",
        "      <td>-40.10</td>\n",
        "      <td>-41</td>\n",
        "    </tr>\n",
        "    <tr>\n",
        "      <th>2004-06-01 02:00:00</th>\n",
        "      <td> 1</td>\n",
        "      <td> 101</td>\n",
        "      <td> 19.4</td>\n",
        "      <td>  5.9</td>\n",
        "      <td>  812</td>\n",
        "      <td>-40.80</td>\n",
        "      <td>-42</td>\n",
        "    </tr>\n",
        "    <tr>\n",
        "      <th>2004-06-01 02:00:00</th>\n",
        "      <td> 2</td>\n",
        "      <td>  10</td>\n",
        "      <td> 18.9</td>\n",
        "      <td>  8.5</td>\n",
        "      <td>  903</td>\n",
        "      <td>-40.00</td>\n",
        "      <td>-40</td>\n",
        "    </tr>\n",
        "    <tr>\n",
        "      <th>2004-06-01 02:00:00</th>\n",
        "      <td> 3</td>\n",
        "      <td> 325</td>\n",
        "      <td> 17.1</td>\n",
        "      <td>  4.8</td>\n",
        "      <td>  775</td>\n",
        "      <td>-42.55</td>\n",
        "      <td>-47</td>\n",
        "    </tr>\n",
        "    <tr>\n",
        "      <th>2004-06-01 02:00:00</th>\n",
        "      <td> 4</td>\n",
        "      <td>  65</td>\n",
        "      <td> 16.8</td>\n",
        "      <td> 19.4</td>\n",
        "      <td> 1273</td>\n",
        "      <td>-43.17</td>\n",
        "      <td>-46</td>\n",
        "    </tr>\n",
        "  </tbody>\n",
        "</table>\n",
        "</div>"
       ],
       "metadata": {},
       "output_type": "pyout",
       "prompt_number": 39,
       "text": [
        "                     Unnamed: 0  Area   Lat   Lon  Mincol   Temp  Tresh\n",
        "Date                                                                   \n",
        "2004-06-01 02:00:00           0   102  19.7   6.6     832 -40.10    -41\n",
        "2004-06-01 02:00:00           1   101  19.4   5.9     812 -40.80    -42\n",
        "2004-06-01 02:00:00           2    10  18.9   8.5     903 -40.00    -40\n",
        "2004-06-01 02:00:00           3   325  17.1   4.8     775 -42.55    -47\n",
        "2004-06-01 02:00:00           4    65  16.8  19.4    1273 -43.17    -46"
       ]
      }
     ],
     "prompt_number": 39
    },
    {
     "cell_type": "code",
     "collapsed": false,
     "input": [
      "sel = df.loc['2004-06-01 02:00:00']"
     ],
     "language": "python",
     "metadata": {},
     "outputs": [],
     "prompt_number": 40
    },
    {
     "cell_type": "code",
     "collapsed": false,
     "input": [
      "sel.tail()"
     ],
     "language": "python",
     "metadata": {},
     "outputs": [
      {
       "html": [
        "<div style=\"max-height:1000px;max-width:1500px;overflow:auto;\">\n",
        "<table border=\"1\" class=\"dataframe\">\n",
        "  <thead>\n",
        "    <tr style=\"text-align: right;\">\n",
        "      <th></th>\n",
        "      <th>Unnamed: 0</th>\n",
        "      <th>Area</th>\n",
        "      <th>Lat</th>\n",
        "      <th>Lon</th>\n",
        "      <th>Mincol</th>\n",
        "      <th>Temp</th>\n",
        "      <th>Tresh</th>\n",
        "    </tr>\n",
        "    <tr>\n",
        "      <th>Date</th>\n",
        "      <th></th>\n",
        "      <th></th>\n",
        "      <th></th>\n",
        "      <th></th>\n",
        "      <th></th>\n",
        "      <th></th>\n",
        "      <th></th>\n",
        "    </tr>\n",
        "  </thead>\n",
        "  <tbody>\n",
        "    <tr>\n",
        "      <th>2004-06-01 02:00:00</th>\n",
        "      <td> 185</td>\n",
        "      <td> 288</td>\n",
        "      <td> 4.0</td>\n",
        "      <td> 24.0</td>\n",
        "      <td> 1450</td>\n",
        "      <td>-46.48</td>\n",
        "      <td>-57</td>\n",
        "    </tr>\n",
        "    <tr>\n",
        "      <th>2004-06-01 02:00:00</th>\n",
        "      <td> 186</td>\n",
        "      <td> 110</td>\n",
        "      <td> 3.9</td>\n",
        "      <td> -4.7</td>\n",
        "      <td>  431</td>\n",
        "      <td>-43.50</td>\n",
        "      <td>-47</td>\n",
        "    </tr>\n",
        "    <tr>\n",
        "      <th>2004-06-01 02:00:00</th>\n",
        "      <td> 187</td>\n",
        "      <td>  27</td>\n",
        "      <td> 3.9</td>\n",
        "      <td> -4.1</td>\n",
        "      <td>  458</td>\n",
        "      <td>-40.67</td>\n",
        "      <td>-41</td>\n",
        "    </tr>\n",
        "    <tr>\n",
        "      <th>2004-06-01 02:00:00</th>\n",
        "      <td> 188</td>\n",
        "      <td>  36</td>\n",
        "      <td> 3.9</td>\n",
        "      <td> -3.8</td>\n",
        "      <td>  468</td>\n",
        "      <td>-40.25</td>\n",
        "      <td>-41</td>\n",
        "    </tr>\n",
        "    <tr>\n",
        "      <th>2004-06-01 02:00:00</th>\n",
        "      <td> 189</td>\n",
        "      <td>  18</td>\n",
        "      <td> 3.9</td>\n",
        "      <td> -3.3</td>\n",
        "      <td>  487</td>\n",
        "      <td>-40.00</td>\n",
        "      <td>-40</td>\n",
        "    </tr>\n",
        "  </tbody>\n",
        "</table>\n",
        "</div>"
       ],
       "metadata": {},
       "output_type": "pyout",
       "prompt_number": 18,
       "text": [
        "                     Unnamed: 0  Area  Lat   Lon  Mincol   Temp  Tresh\n",
        "Date                                                                  \n",
        "2004-06-01 02:00:00         185   288  4.0  24.0    1450 -46.48    -57\n",
        "2004-06-01 02:00:00         186   110  3.9  -4.7     431 -43.50    -47\n",
        "2004-06-01 02:00:00         187    27  3.9  -4.1     458 -40.67    -41\n",
        "2004-06-01 02:00:00         188    36  3.9  -3.8     468 -40.25    -41\n",
        "2004-06-01 02:00:00         189    18  3.9  -3.3     487 -40.00    -40"
       ]
      }
     ],
     "prompt_number": 18
    },
    {
     "cell_type": "code",
     "collapsed": false,
     "input": [
      "path = \"/users/global/cornkle/data/OBS/meteosat/cell_blob_files/2004/06/\"\n",
      "filename = \"200406010200.gra\"\n",
      "files = path + filename\n",
      "rrShape = (580,1640)\n",
      "rrMDI = np.uint16()\n",
      "rr = np.fromfile(files,dtype=rrMDI.dtype) \n",
      "print rr.shape\n",
      "rr.shape = rrShape"
     ],
     "language": "python",
     "metadata": {},
     "outputs": [
      {
       "output_type": "stream",
       "stream": "stdout",
       "text": [
        "(951200,)\n"
       ]
      }
     ],
     "prompt_number": 48
    },
    {
     "cell_type": "code",
     "collapsed": false,
     "input": [
      "img=plt.contourf(rr, [118,119, 120], interpolation='none')\n",
      "plt.colorbar()"
     ],
     "language": "python",
     "metadata": {},
     "outputs": []
    },
    {
     "cell_type": "code",
     "collapsed": false,
     "input": [
      "fig, ax = plt.subplots()\n",
      "cax = ax.imshow(rr, interpolation='none')\n",
      "cbar = fig.colorbar(cax)"
     ],
     "language": "python",
     "metadata": {},
     "outputs": []
    },
    {
     "cell_type": "code",
     "collapsed": false,
     "input": [
      "sel['Area']"
     ],
     "language": "python",
     "metadata": {},
     "outputs": [
      {
       "metadata": {},
       "output_type": "pyout",
       "prompt_number": 19,
       "text": [
        "Date\n",
        "2004-06-01 02:00:00     102\n",
        "2004-06-01 02:00:00     101\n",
        "2004-06-01 02:00:00      10\n",
        "2004-06-01 02:00:00     325\n",
        "2004-06-01 02:00:00      65\n",
        "2004-06-01 02:00:00      22\n",
        "2004-06-01 02:00:00     469\n",
        "2004-06-01 02:00:00    3284\n",
        "2004-06-01 02:00:00     614\n",
        "2004-06-01 02:00:00      10\n",
        "2004-06-01 02:00:00      39\n",
        "2004-06-01 02:00:00     343\n",
        "2004-06-01 02:00:00     594\n",
        "2004-06-01 02:00:00      45\n",
        "2004-06-01 02:00:00     231\n",
        "...\n",
        "2004-06-01 02:00:00     419\n",
        "2004-06-01 02:00:00    2842\n",
        "2004-06-01 02:00:00     692\n",
        "2004-06-01 02:00:00       9\n",
        "2004-06-01 02:00:00     163\n",
        "2004-06-01 02:00:00     651\n",
        "2004-06-01 02:00:00      37\n",
        "2004-06-01 02:00:00     475\n",
        "2004-06-01 02:00:00     192\n",
        "2004-06-01 02:00:00     100\n",
        "2004-06-01 02:00:00     288\n",
        "2004-06-01 02:00:00     110\n",
        "2004-06-01 02:00:00      27\n",
        "2004-06-01 02:00:00      36\n",
        "2004-06-01 02:00:00      18\n",
        "Name: Area, Length: 190, dtype: int64"
       ]
      }
     ],
     "prompt_number": 19
    },
    {
     "cell_type": "code",
     "collapsed": false,
     "input": [
      "small = sel.loc[sel['Area'] < 25000]\n",
      "#test = small.loc[sel['Area'] >= 25000]\n",
      "#test"
     ],
     "language": "python",
     "metadata": {},
     "outputs": [],
     "prompt_number": 36
    },
    {
     "cell_type": "code",
     "collapsed": false,
     "input": [
      "if test.empty: print 'Empty!'"
     ],
     "language": "python",
     "metadata": {},
     "outputs": [
      {
       "output_type": "stream",
       "stream": "stdout",
       "text": [
        "Empty!\n"
       ]
      }
     ],
     "prompt_number": 35
    },
    {
     "cell_type": "code",
     "collapsed": false,
     "input": [
      "big = sel.loc[sel['Area'] >= 25000]\n",
      "#big.set_index('Area', inplace=True, drop=True)"
     ],
     "language": "python",
     "metadata": {},
     "outputs": [],
     "prompt_number": 41
    },
    {
     "cell_type": "code",
     "collapsed": false,
     "input": [
      "big.head()"
     ],
     "language": "python",
     "metadata": {},
     "outputs": [
      {
       "html": [
        "<div style=\"max-height:1000px;max-width:1500px;overflow:auto;\">\n",
        "<table border=\"1\" class=\"dataframe\">\n",
        "  <thead>\n",
        "    <tr style=\"text-align: right;\">\n",
        "      <th></th>\n",
        "      <th>Unnamed: 0</th>\n",
        "      <th>Area</th>\n",
        "      <th>Lat</th>\n",
        "      <th>Lon</th>\n",
        "      <th>Mincol</th>\n",
        "      <th>Temp</th>\n",
        "      <th>Tresh</th>\n",
        "    </tr>\n",
        "    <tr>\n",
        "      <th>Date</th>\n",
        "      <th></th>\n",
        "      <th></th>\n",
        "      <th></th>\n",
        "      <th></th>\n",
        "      <th></th>\n",
        "      <th></th>\n",
        "      <th></th>\n",
        "    </tr>\n",
        "  </thead>\n",
        "  <tbody>\n",
        "    <tr>\n",
        "      <th>2004-06-01 02:00:00</th>\n",
        "      <td>  25</td>\n",
        "      <td> 347918</td>\n",
        "      <td>  9.4</td>\n",
        "      <td> 20.3</td>\n",
        "      <td> 1161</td>\n",
        "      <td>-53.92</td>\n",
        "      <td>-87</td>\n",
        "    </tr>\n",
        "    <tr>\n",
        "      <th>2004-06-01 02:00:00</th>\n",
        "      <td>  44</td>\n",
        "      <td>  50965</td>\n",
        "      <td> 11.4</td>\n",
        "      <td>  6.5</td>\n",
        "      <td>  789</td>\n",
        "      <td>-50.69</td>\n",
        "      <td>-71</td>\n",
        "    </tr>\n",
        "    <tr>\n",
        "      <th>2004-06-01 02:00:00</th>\n",
        "      <td> 102</td>\n",
        "      <td>  46938</td>\n",
        "      <td>  5.2</td>\n",
        "      <td> -4.7</td>\n",
        "      <td>  384</td>\n",
        "      <td>-56.78</td>\n",
        "      <td>-78</td>\n",
        "    </tr>\n",
        "  </tbody>\n",
        "</table>\n",
        "</div>"
       ],
       "metadata": {},
       "output_type": "pyout",
       "prompt_number": 42,
       "text": [
        "                     Unnamed: 0    Area   Lat   Lon  Mincol   Temp  Tresh\n",
        "Date                                                                     \n",
        "2004-06-01 02:00:00          25  347918   9.4  20.3    1161 -53.92    -87\n",
        "2004-06-01 02:00:00          44   50965  11.4   6.5     789 -50.69    -71\n",
        "2004-06-01 02:00:00         102   46938   5.2  -4.7     384 -56.78    -78"
       ]
      }
     ],
     "prompt_number": 42
    },
    {
     "cell_type": "code",
     "collapsed": false,
     "input": [
      "d=dict()"
     ],
     "language": "python",
     "metadata": {},
     "outputs": [],
     "prompt_number": 44
    },
    {
     "cell_type": "code",
     "collapsed": false,
     "input": [
      "d['lat']=big['Lat'].values.tolist()\n",
      "d['lon']=big['Lon'].values.tolist()\n",
      "lat=d['lat'][2]\n",
      "lon=d['lon'][2]\n",
      "lat, lon"
     ],
     "language": "python",
     "metadata": {},
     "outputs": [
      {
       "metadata": {},
       "output_type": "pyout",
       "prompt_number": 45,
       "text": [
        "(5.2, -4.7)"
       ]
      }
     ],
     "prompt_number": 45
    },
    {
     "cell_type": "code",
     "collapsed": false,
     "input": [
      "msg_latlon=np.load('/users/global/cornkle/data/OBS/meteosat/MSG_1640_580_lat_lon.npz')\n",
      "mlon = msg_latlon['lon']\n",
      "mlat = msg_latlon['lat']\n",
      "mlon.max(), mlat.max()"
     ],
     "language": "python",
     "metadata": {},
     "outputs": [
      {
       "metadata": {},
       "output_type": "pyout",
       "prompt_number": 46,
       "text": [
        "(32.729126, 20.922026)"
       ]
      }
     ],
     "prompt_number": 46
    },
    {
     "cell_type": "code",
     "collapsed": false,
     "input": [
      "a = abs(mlat - lat) + abs(mlon - lon)\n",
      "#i,j = np.unravel_index(a.argmin(), a.shape)\n",
      "#nb = rr[i,j]\n",
      "nb = rr.flatten()[a.argmin()]"
     ],
     "language": "python",
     "metadata": {},
     "outputs": [],
     "prompt_number": 68
    },
    {
     "cell_type": "code",
     "collapsed": false,
     "input": [
      "nb\n",
      "rr"
     ],
     "language": "python",
     "metadata": {},
     "outputs": [
      {
       "metadata": {},
       "output_type": "pyout",
       "prompt_number": 71,
       "text": [
        "array([[0, 0, 0, ..., 0, 0, 0],\n",
        "       [0, 0, 0, ..., 0, 0, 0],\n",
        "       [0, 0, 0, ..., 0, 0, 0],\n",
        "       ..., \n",
        "       [0, 0, 0, ..., 0, 0, 0],\n",
        "       [0, 0, 0, ..., 0, 0, 0],\n",
        "       [0, 0, 0, ..., 0, 0, 0]], dtype=uint16)"
       ]
      }
     ],
     "prompt_number": 71
    },
    {
     "cell_type": "code",
     "collapsed": false,
     "input": [
      "isblob = np.where(rr == nb)"
     ],
     "language": "python",
     "metadata": {},
     "outputs": [],
     "prompt_number": 72
    },
    {
     "cell_type": "code",
     "collapsed": false,
     "input": [
      "isblob"
     ],
     "language": "python",
     "metadata": {},
     "outputs": [
      {
       "metadata": {},
       "output_type": "pyout",
       "prompt_number": 73,
       "text": [
        "(array([  0,   0,   0, ..., 105, 105, 106]),\n",
        " array([385, 386, 387, ..., 464, 465, 464]))"
       ]
      }
     ],
     "prompt_number": 73
    },
    {
     "cell_type": "code",
     "collapsed": false,
     "input": [
      "isblob[0]"
     ],
     "language": "python",
     "metadata": {},
     "outputs": []
    },
    {
     "cell_type": "code",
     "collapsed": false,
     "input": [
      "rr[isblob]"
     ],
     "language": "python",
     "metadata": {},
     "outputs": []
    },
    {
     "cell_type": "code",
     "collapsed": false,
     "input": [
      "blats=mlat[isblob]\n",
      "blons=mlon[isblob]"
     ],
     "language": "python",
     "metadata": {},
     "outputs": []
    },
    {
     "cell_type": "code",
     "collapsed": false,
     "input": [
      "blons"
     ],
     "language": "python",
     "metadata": {},
     "outputs": []
    },
    {
     "cell_type": "code",
     "collapsed": false,
     "input": [
      "h = [2,3,4,5,6,7]\n",
      "p = 3\n"
     ],
     "language": "python",
     "metadata": {},
     "outputs": [],
     "prompt_number": 88
    },
    {
     "cell_type": "code",
     "collapsed": false,
     "input": [
      "if not p in xrange(2,8): print 'bla'"
     ],
     "language": "python",
     "metadata": {},
     "outputs": [],
     "prompt_number": 89
    },
    {
     "cell_type": "code",
     "collapsed": false,
     "input": [
      "xrange(24)"
     ],
     "language": "python",
     "metadata": {},
     "outputs": [
      {
       "metadata": {},
       "output_type": "pyout",
       "prompt_number": 86,
       "text": [
        "xrange(24)"
       ]
      }
     ],
     "prompt_number": 86
    },
    {
     "cell_type": "code",
     "collapsed": false,
     "input": [],
     "language": "python",
     "metadata": {},
     "outputs": []
    }
   ],
   "metadata": {}
  }
 ]
}