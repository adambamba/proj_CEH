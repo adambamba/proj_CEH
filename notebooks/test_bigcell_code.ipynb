{
 "cells": [
  {
   "cell_type": "code",
   "execution_count": 35,
   "metadata": {
    "collapsed": false
   },
   "outputs": [],
   "source": [
    "import numpy as np\n",
    "import os.path\n",
    "from scipy import ndimage\n",
    "import itertools\n",
    "import matplotlib as mpl\n",
    "import math\n",
    "import matplotlib.pyplot as plt\n",
    "from mapping import creategrid as grd\n",
    "\n",
    "import cartopy.crs as ccrs\n",
    "import cartopy.feature as cfeature\n",
    "import matplotlib.pylab as pylab\n",
    "import pandas as pd\n",
    "from eod import msg as msg\n",
    "pylab.rcParams['figure.figsize'] = (16., 16.)\n",
    "%matplotlib inline"
   ]
  },
  {
   "cell_type": "markdown",
   "metadata": {},
   "source": [
    "###### Choose a TRMM swath file: 12.06.2011, 21:30 (excludes all cases with \"no TRMM overpass\")"
   ]
  },
  {
   "cell_type": "code",
   "execution_count": 3,
   "metadata": {
    "collapsed": false
   },
   "outputs": [],
   "source": [
    "# read only trmm files that I need and give out proper lons lats etc\n",
    "files = \"/users/global/cornkle/data/OBS/TRMM/trmm_swaths_WA/2011/06/2A25.20110612.77322.7.gra\"\n",
    " # /2011/06/2A25.20110612.77322.7.gra\"  good to show\n",
    "trr = np.fromfile(files,dtype=np.int16) \n",
    "x = 49\n",
    "nb = trr.size\n",
    "single = int(nb/4) # variables lon lat rainrate flag\n",
    "\n",
    "lons = trr[0:single]\n",
    "lats = trr[single:2*single]\n",
    "rainrs = trr[2*single:3*single]\n",
    "flags = trr[3*single:4*single]"
   ]
  },
  {
   "cell_type": "code",
   "execution_count": 4,
   "metadata": {
    "collapsed": false
   },
   "outputs": [
    {
     "name": "stdout",
     "output_type": "stream",
     "text": [
      "163\n",
      "0\n",
      "0000000010100011\n"
     ]
    }
   ],
   "source": [
    "flags=np.array([163])\n",
    "bla=flags.astype(int)\n",
    "npfalse=[]\n",
    "\n",
    "for b, i in zip(np.nditer(bla), range(bla.size)): \n",
    "    print(b)\n",
    "    print(i)\n",
    "    bb='{0:016b}'.format(int(b))   \n",
    "    print(bb)\n",
    "    npfalse.append(int(bb[-6]))"
   ]
  },
  {
   "cell_type": "code",
   "execution_count": 5,
   "metadata": {
    "collapsed": false
   },
   "outputs": [
    {
     "data": {
      "text/plain": [
       "(1159, 49)"
      ]
     },
     "execution_count": 5,
     "metadata": {},
     "output_type": "execute_result"
    }
   ],
   "source": [
    "y = int(lons.size/x)\n",
    "lons = np.resize(lons, (y,x))\n",
    "lats = np.resize(lats, (y,x))\n",
    "rainrs = np.resize(rainrs, (y,x))\n",
    "flags = np.resize(flags, (y,x))\n",
    "lon=lons/100.\n",
    "lat=lats/100.\n",
    "rainr=rainrs/10.\n",
    "lonmin, lonmax=np.amin(lon),np.amax(lon)\n",
    "latmin, latmax=np.amin(lat),np.amax(lat)\n",
    "lonx=lon[0,:]\n",
    "laty=lat[:,0]\n",
    "rainrs.shape"
   ]
  },
  {
   "cell_type": "markdown",
   "metadata": {},
   "source": [
    "###### Remark: TRMM times are assigned to closest full or half hour! Can be a max. difference of 15 minutes! Filter might be needed. "
   ]
  },
  {
   "cell_type": "markdown",
   "metadata": {},
   "source": [
    "Get the mask for convective pixels"
   ]
  },
  {
   "cell_type": "code",
   "execution_count": 6,
   "metadata": {
    "collapsed": false
   },
   "outputs": [],
   "source": [
    "mask=msg.getTRMMconv(flags)"
   ]
  },
  {
   "cell_type": "markdown",
   "metadata": {},
   "source": [
    "Have a look at our current swath:"
   ]
  },
  {
   "cell_type": "code",
   "execution_count": 7,
   "metadata": {
    "collapsed": false
   },
   "outputs": [
    {
     "data": {
      "text/plain": [
       "<matplotlib.colorbar.Colorbar at 0x7efd3d4ebf98>"
      ]
     },
     "execution_count": 7,
     "metadata": {},
     "output_type": "execute_result"
    },
    {
     "data": {
      "image/png": "[encoded data removed]",
      "text/plain": [
       "<matplotlib.figure.Figure at 0x7efd4213c6a0>"
      ]
     },
     "metadata": {},
     "output_type": "display_data"
    }
   ],
   "source": [
    "ax = plt.axes(projection=ccrs.PlateCarree())\n",
    "plt.contourf(lon, lat, rainrs, levels=np.arange(1,15, 0.5), transform=ccrs.PlateCarree())\n",
    "ax.coastlines()\n",
    "plt.colorbar()"
   ]
  },
  {
   "cell_type": "markdown",
   "metadata": {},
   "source": [
    "###### Get your corresponding MSG blob file!"
   ]
  },
  {
   "cell_type": "code",
   "execution_count": 10,
   "metadata": {
    "collapsed": false
   },
   "outputs": [
    {
     "name": "stdout",
     "output_type": "stream",
     "text": [
      "(580, 1640)\n"
     ]
    }
   ],
   "source": [
    "path = \"/users/global/cornkle/data/OBS/meteosat_WA30/cell_blob_files/2011/06/\"  # 201106122130 good to show\n",
    "filename = \"201106122130.gra\"\n",
    "files = path + filename\n",
    "rrShape = (580,1640)\n",
    "rrMDI = np.uint16()\n",
    "rr = np.fromfile(files,dtype=rrMDI.dtype) \n",
    "\n",
    "rr.shape = rrShape\n",
    "print(rr.shape)"
   ]
  },
  {
   "cell_type": "code",
   "execution_count": 12,
   "metadata": {
    "collapsed": false
   },
   "outputs": [],
   "source": [
    "msg_latlon=np.load('/users/global/cornkle/data/OBS/meteosat_WA30/MSG_1640_580_lat_lon.npz')\n",
    "mlon = msg_latlon['lon']\n",
    "mlat = msg_latlon['lat']"
   ]
  },
  {
   "cell_type": "code",
   "execution_count": 40,
   "metadata": {
    "collapsed": false
   },
   "outputs": [
    {
     "data": {
      "image/png": "[encoded data removed]",
      "text/plain": [
       "<matplotlib.figure.Figure at 0x7efd39584cc0>"
      ]
     },
     "metadata": {},
     "output_type": "display_data"
    }
   ],
   "source": [
    "ax = plt.axes(projection=ccrs.PlateCarree())\n",
    "plt.contourf(lon, lat, rainrs, levels=np.arange(0,15, 0.5), transform=ccrs.PlateCarree())\n",
    "cbar=plt.colorbar()\n",
    "cbar.set_label('mm h-1', rotation=270, labelpad=+11)\n",
    "plt.contourf(mlon, mlat, rr, levels=np.arange(1,max(rr.flatten()),1), transform=ccrs.PlateCarree())\n",
    "#plt.contour(lon, lat, rainrs, levels=np.arange(1,15, 0.5), transform=ccrs.PlateCarree())\n",
    "\n",
    "plt.title('MCS -40C | TRMM: 29.06.2011 17:30')\n",
    "#plt.contourf(mlon, mlat, maski, levels=np.arange(999,1001,1), transform=ccrs.PlateCarree())\n",
    "#plt.contour(lon, lat, rtest+200, levels=np.arange(1000,1200,10), transform=ccrs.PlateCarree())\n",
    "ax.coastlines()\n",
    "plt.savefig('/users/global/cornkle/grpm/no_swath.png', dpi=300)"
   ]
  },
  {
   "cell_type": "markdown",
   "metadata": {},
   "source": [
    "Thats blob 30!"
   ]
  },
  {
   "cell_type": "code",
   "execution_count": 16,
   "metadata": {
    "collapsed": false
   },
   "outputs": [
    {
     "data": {
      "text/plain": [
       "<matplotlib.colorbar.Colorbar instance at 0x7f97f0c7e368>"
      ]
     },
     "execution_count": 16,
     "metadata": {},
     "output_type": "execute_result"
    },
    {
     "data": {
      "image/png": "[encoded data removed]",
      "text/plain": [
       "<matplotlib.figure.Figure at 0x7f97f0eb1f10>"
      ]
     },
     "metadata": {},
     "output_type": "display_data"
    }
   ],
   "source": [
    "img=plt.contourf(rr, [29, 30, 31], interpolation='none')\n",
    "plt.colorbar()"
   ]
  },
  {
   "cell_type": "markdown",
   "metadata": {},
   "source": [
    "###### We also need the actual MSG temperatures, so here we go!"
   ]
  },
  {
   "cell_type": "code",
   "execution_count": 2,
   "metadata": {
    "collapsed": false
   },
   "outputs": [],
   "source": [
    "rfile='/users/global/cmt/msg/WAfrica/archive_WAfrica/ch9/2011/06/201106122130.gra' #works!\n",
    "\n",
    "rShape = (580,1640)\n",
    "rMDI = np.uint8(255)\n",
    "r = np.fromfile(rfile,dtype=rMDI.dtype)\n",
    "r.shape = rShape\n",
    "r = r.astype(np.int32) - 173"
   ]
  },
  {
   "cell_type": "code",
   "execution_count": 3,
   "metadata": {
    "collapsed": false
   },
   "outputs": [
    {
     "ename": "NameError",
     "evalue": "name 'mlon' is not defined",
     "output_type": "error",
     "traceback": [
      "\u001b[1;31m---------------------------------------------------------------------------\u001b[0m\n\u001b[1;31mNameError\u001b[0m                                 Traceback (most recent call last)",
      "\u001b[1;32m<ipython-input-3-dac67cd51224>\u001b[0m in \u001b[0;36m<module>\u001b[1;34m()\u001b[0m\n\u001b[0;32m      1\u001b[0m \u001b[0max\u001b[0m \u001b[1;33m=\u001b[0m \u001b[0mplt\u001b[0m\u001b[1;33m.\u001b[0m\u001b[0maxes\u001b[0m\u001b[1;33m(\u001b[0m\u001b[0mprojection\u001b[0m\u001b[1;33m=\u001b[0m\u001b[0mccrs\u001b[0m\u001b[1;33m.\u001b[0m\u001b[0mPlateCarree\u001b[0m\u001b[1;33m(\u001b[0m\u001b[1;33m)\u001b[0m\u001b[1;33m)\u001b[0m\u001b[1;33m\u001b[0m\u001b[0m\n\u001b[1;32m----> 2\u001b[1;33m \u001b[0mplt\u001b[0m\u001b[1;33m.\u001b[0m\u001b[0mcontourf\u001b[0m\u001b[1;33m(\u001b[0m\u001b[0mmlon\u001b[0m\u001b[1;33m,\u001b[0m \u001b[0mmlat\u001b[0m\u001b[1;33m,\u001b[0m \u001b[0mr\u001b[0m\u001b[1;33m,\u001b[0m \u001b[0mlevels\u001b[0m\u001b[1;33m=\u001b[0m\u001b[0mnp\u001b[0m\u001b[1;33m.\u001b[0m\u001b[0marange\u001b[0m\u001b[1;33m(\u001b[0m\u001b[1;33m-\u001b[0m\u001b[1;36m80\u001b[0m\u001b[1;33m,\u001b[0m\u001b[1;36m0\u001b[0m\u001b[1;33m,\u001b[0m\u001b[1;36m2\u001b[0m\u001b[1;33m)\u001b[0m\u001b[1;33m,\u001b[0m \u001b[0mtransform\u001b[0m\u001b[1;33m=\u001b[0m\u001b[0mccrs\u001b[0m\u001b[1;33m.\u001b[0m\u001b[0mPlateCarree\u001b[0m\u001b[1;33m(\u001b[0m\u001b[1;33m)\u001b[0m\u001b[1;33m)\u001b[0m\u001b[1;33m\u001b[0m\u001b[0m\n\u001b[0m\u001b[0;32m      3\u001b[0m \u001b[0max\u001b[0m\u001b[1;33m.\u001b[0m\u001b[0mcoastlines\u001b[0m\u001b[1;33m(\u001b[0m\u001b[1;33m)\u001b[0m\u001b[1;33m\u001b[0m\u001b[0m\n\u001b[0;32m      4\u001b[0m \u001b[0mplt\u001b[0m\u001b[1;33m.\u001b[0m\u001b[0mcolorbar\u001b[0m\u001b[1;33m(\u001b[0m\u001b[1;33m)\u001b[0m\u001b[1;33m\u001b[0m\u001b[0m\n",
      "\u001b[1;31mNameError\u001b[0m: name 'mlon' is not defined"
     ]
    },
    {
     "data": {
      "image/png": "[encoded data removed]",
      "text/plain": [
       "<matplotlib.figure.Figure at 0x7fdf47002c50>"
      ]
     },
     "metadata": {},
     "output_type": "display_data"
    }
   ],
   "source": [
    "ax = plt.axes(projection=ccrs.PlateCarree())\n",
    "plt.contourf(mlon, mlat, r, levels=np.arange(-80,0,2), transform=ccrs.PlateCarree())\n",
    "ax.coastlines()\n",
    "plt.colorbar()"
   ]
  },
  {
   "cell_type": "code",
   "execution_count": 10,
   "metadata": {
    "collapsed": false
   },
   "outputs": [
    {
     "name": "stdout",
     "output_type": "stream",
     "text": [
      "yes\n",
      "[False]\n"
     ]
    }
   ],
   "source": [
    "msgp=msg.readMSGraw('/users/global/cmt/msg/WAfrica/archive_WAfrica/ch9/2011/06/201114122130.gra')\n",
    "if not msgp:\n",
    "           print 'yes'\n",
    "print msgp        "
   ]
  },
  {
   "cell_type": "markdown",
   "metadata": {},
   "source": [
    "###### Instead of checking the area of every single blob in the blob file, we use the ready table! Makes things run faster and we just look at all blobs > 25.000km².  Here, we get 5 of them"
   ]
  },
  {
   "cell_type": "code",
   "execution_count": 19,
   "metadata": {
    "collapsed": false
   },
   "outputs": [
    {
     "data": {
      "text/html": [
       "<div style=\"max-height:1000px;max-width:1500px;overflow:auto;\">\n",
       "<table border=\"1\" class=\"dataframe\">\n",
       "  <thead>\n",
       "    <tr style=\"text-align: right;\">\n",
       "      <th></th>\n",
       "      <th>Unnamed: 0</th>\n",
       "      <th>Area</th>\n",
       "      <th>Lat</th>\n",
       "      <th>Lon</th>\n",
       "      <th>Mincol</th>\n",
       "      <th>Temp</th>\n",
       "      <th>Tresh</th>\n",
       "      <th>Date</th>\n",
       "    </tr>\n",
       "  </thead>\n",
       "  <tbody>\n",
       "    <tr>\n",
       "      <th>43501</th>\n",
       "      <td> 43501</td>\n",
       "      <td>  26486</td>\n",
       "      <td> 17.3</td>\n",
       "      <td>  6.6</td>\n",
       "      <td>  806</td>\n",
       "      <td>-50.95</td>\n",
       "      <td>-78</td>\n",
       "      <td> 2011-06-12 21:30:00</td>\n",
       "    </tr>\n",
       "    <tr>\n",
       "      <th>43511</th>\n",
       "      <td> 43511</td>\n",
       "      <td>  25026</td>\n",
       "      <td> 14.7</td>\n",
       "      <td> 18.1</td>\n",
       "      <td> 1211</td>\n",
       "      <td>-53.97</td>\n",
       "      <td>-77</td>\n",
       "      <td> 2011-06-12 21:30:00</td>\n",
       "    </tr>\n",
       "    <tr>\n",
       "      <th>43519</th>\n",
       "      <td> 43519</td>\n",
       "      <td>  61346</td>\n",
       "      <td> 12.6</td>\n",
       "      <td> 22.3</td>\n",
       "      <td> 1342</td>\n",
       "      <td>-65.45</td>\n",
       "      <td>-81</td>\n",
       "      <td> 2011-06-12 21:30:00</td>\n",
       "    </tr>\n",
       "    <tr>\n",
       "      <th>43523</th>\n",
       "      <td> 43523</td>\n",
       "      <td>  94640</td>\n",
       "      <td> 11.2</td>\n",
       "      <td> 10.4</td>\n",
       "      <td>  919</td>\n",
       "      <td>-60.19</td>\n",
       "      <td>-86</td>\n",
       "      <td> 2011-06-12 21:30:00</td>\n",
       "    </tr>\n",
       "    <tr>\n",
       "      <th>43531</th>\n",
       "      <td> 43531</td>\n",
       "      <td> 148267</td>\n",
       "      <td>  9.6</td>\n",
       "      <td>-14.0</td>\n",
       "      <td>    6</td>\n",
       "      <td>-62.30</td>\n",
       "      <td>-91</td>\n",
       "      <td> 2011-06-12 21:30:00</td>\n",
       "    </tr>\n",
       "  </tbody>\n",
       "</table>\n",
       "</div>"
      ],
      "text/plain": [
       "       Unnamed: 0    Area   Lat   Lon  Mincol   Temp  Tresh  \\\n",
       "43501       43501   26486  17.3   6.6     806 -50.95    -78   \n",
       "43511       43511   25026  14.7  18.1    1211 -53.97    -77   \n",
       "43519       43519   61346  12.6  22.3    1342 -65.45    -81   \n",
       "43523       43523   94640  11.2  10.4     919 -60.19    -86   \n",
       "43531       43531  148267   9.6 -14.0       6 -62.30    -91   \n",
       "\n",
       "                      Date  \n",
       "43501  2011-06-12 21:30:00  \n",
       "43511  2011-06-12 21:30:00  \n",
       "43519  2011-06-12 21:30:00  \n",
       "43523  2011-06-12 21:30:00  \n",
       "43531  2011-06-12 21:30:00  "
      ]
     },
     "execution_count": 19,
     "metadata": {},
     "output_type": "execute_result"
    }
   ],
   "source": [
    "df = pd.read_csv(\"/users/global/cornkle/data/OBS/meteosat/bigcell_area_table/rewrite/cell_40c_2130_JJAS.txt\")\n",
    "sel=df.loc[df['Date'] == '2011-06-12 21:30:00']\n",
    "#print sel\n",
    "#if '2013-09-01 20:00:00' in df['Date'].as_matrix(): print 'yes'\n",
    "big = sel.loc[sel['Area'] >= 25000]\n",
    "big.head()"
   ]
  },
  {
   "cell_type": "markdown",
   "metadata": {},
   "source": [
    "###### Now we use Eddy's magic to assign an MSG x,y index to all lat lons"
   ]
  },
  {
   "cell_type": "code",
   "execution_count": 5,
   "metadata": {
    "collapsed": false
   },
   "outputs": [],
   "source": [
    "mll = msg.ll_toMSG(mlon,mlat)"
   ]
  },
  {
   "cell_type": "markdown",
   "metadata": {},
   "source": [
    "So where is the nb 30 in our blob file - here we get the indices "
   ]
  },
  {
   "cell_type": "code",
   "execution_count": 8,
   "metadata": {
    "collapsed": false
   },
   "outputs": [],
   "source": [
    "isblob = np.where(rr == 30)\n",
    "my=mll['y'][isblob]\n",
    "mx=mll['x'][isblob]  \n",
    "\n",
    "myy=mll['y']\n",
    "mxx=mll['x']\n",
    "mxy=(mxx+myy)*(mxx+myy+1)/2+myy  "
   ]
  },
  {
   "cell_type": "code",
   "execution_count": 10,
   "metadata": {
    "collapsed": false
   },
   "outputs": [
    {
     "data": {
      "text/plain": [
       "<matplotlib.colorbar.Colorbar instance at 0x7f669dd50b48>"
      ]
     },
     "execution_count": 10,
     "metadata": {},
     "output_type": "execute_result"
    },
    {
     "data": {
      "image/png": "[encoded data removed]",
      "text/plain": [
       "<matplotlib.figure.Figure at 0x7f669fc864d0>"
      ]
     },
     "metadata": {},
     "output_type": "display_data"
    }
   ],
   "source": [
    "ax = plt.axes(projection=ccrs.PlateCarree())\n",
    "plt.contourf(mlon, mlat, mll['y'], levels=np.arange(1000,3000,1), transform=ccrs.PlateCarree())\n",
    "ax.coastlines()\n",
    "plt.colorbar()"
   ]
  },
  {
   "cell_type": "markdown",
   "metadata": {},
   "source": [
    "Do the same with TRMM lat lons of the swath!"
   ]
  },
  {
   "cell_type": "code",
   "execution_count": 23,
   "metadata": {
    "collapsed": false
   },
   "outputs": [],
   "source": [
    "ll_trmm = msg.ll_toMSG(lon,lat) #rainr                          "
   ]
  },
  {
   "cell_type": "code",
   "execution_count": 24,
   "metadata": {
    "collapsed": false
   },
   "outputs": [],
   "source": [
    "tx = ll_trmm['x']\n",
    "ty = ll_trmm['y']"
   ]
  },
  {
   "cell_type": "code",
   "execution_count": 25,
   "metadata": {
    "collapsed": false
   },
   "outputs": [
    {
     "data": {
      "text/plain": [
       "<matplotlib.colorbar.Colorbar instance at 0x7f97ee7afea8>"
      ]
     },
     "execution_count": 25,
     "metadata": {},
     "output_type": "execute_result"
    },
    {
     "data": {
      "image/png": "[encoded data removed]",
      "text/plain": [
       "<matplotlib.figure.Figure at 0x7f97f063fb10>"
      ]
     },
     "metadata": {},
     "output_type": "display_data"
    }
   ],
   "source": [
    "ax = plt.axes(projection=ccrs.PlateCarree())\n",
    "plt.contour(lon, lat, tx, levels=np.arange(1000,3000,1), transform=ccrs.PlateCarree())\n",
    "ax.coastlines()\n",
    "plt.colorbar()"
   ]
  },
  {
   "cell_type": "markdown",
   "metadata": {},
   "source": [
    "Combine the x,y integers to a unique number (Cantor pairing function)"
   ]
  },
  {
   "cell_type": "code",
   "execution_count": 27,
   "metadata": {
    "collapsed": false
   },
   "outputs": [],
   "source": [
    "mpair=(mx+my)*(mx+my+1)/2+my\n",
    "tpair=(tx+ty)*(tx+ty+1)/2+ty    "
   ]
  },
  {
   "cell_type": "markdown",
   "metadata": {},
   "source": [
    "Create a mask of the blob - just for testing"
   ]
  },
  {
   "cell_type": "code",
   "execution_count": 28,
   "metadata": {
    "collapsed": false
   },
   "outputs": [
    {
     "data": {
      "text/plain": [
       "(array([197, 198, 198, ..., 358, 358, 358]),\n",
       " array([1009, 1007, 1008, ...,  964,  965,  966]))"
      ]
     },
     "execution_count": 28,
     "metadata": {},
     "output_type": "execute_result"
    }
   ],
   "source": [
    "maski=np.zeros_like(rr)\n",
    "maski[isblob]=1000\n",
    "np.where(maski>999)"
   ]
  },
  {
   "cell_type": "code",
   "execution_count": 499,
   "metadata": {
    "collapsed": false
   },
   "outputs": [
    {
     "data": {
      "text/plain": [
       "(array([197, 198, 198, ..., 294, 295, 295]),\n",
       " array([1009, 1008, 1011, ..., 1020, 1018, 1019]))"
      ]
     },
     "execution_count": 499,
     "metadata": {},
     "output_type": "execute_result"
    }
   ],
   "source": []
  },
  {
   "cell_type": "markdown",
   "metadata": {},
   "source": [
    "Find the intersecting uniq pairs for MSG blob (nb=30) and TRMM swath. Also..do the reverse to find the correct pixels in the raw MSG temperature"
   ]
  },
  {
   "cell_type": "code",
   "execution_count": 90,
   "metadata": {
    "collapsed": false
   },
   "outputs": [
    {
     "name": "stdout",
     "output_type": "stream",
     "text": [
      "2043\n",
      "2043\n",
      "10361\n",
      "-57.2971120901\n"
     ]
    }
   ],
   "source": [
    "# Returns bolean array the same length as ar1 that is True where an element of ar1 is in ar2. Otherwise false\n",
    "\n",
    "inter=np.in1d(tpair, mpair)    #returns false and true! whole grid\n",
    "inter_rev=np.in1d(mpair, tpair.flat[inter])    #returns false and true! whole grid\n",
    "\n",
    "# No intersection between Trmm and MSG? Continue!\n",
    "if not inter.any(): \n",
    "    print 'No intersec'\n",
    "print sum(inter)\n",
    "print sum(inter_rev)\n",
    "print len(isblob[0])\n",
    "print r[isblob].flat[inter_rev].mean()"
   ]
  },
  {
   "cell_type": "code",
   "execution_count": 121,
   "metadata": {
    "collapsed": false
   },
   "outputs": [
    {
     "data": {
      "text/plain": [
       "2043"
      ]
     },
     "execution_count": 121,
     "metadata": {},
     "output_type": "execute_result"
    }
   ],
   "source": [
    "rtest=np.copy(rainr)     # check the TRMM pixels identified       \n",
    "rtest.flat[inter]=1000   #np.where(inter)\n",
    "\n",
    "maskr=np.zeros_like(rr)\n",
    "maskr[isblob]=1000\n",
    "#np.where(maskr>999)\n",
    "\n",
    "mxinter=np.in1d(mxy, mpair[inter_rev])\n",
    "maskrr=np.zeros_like(rr)\n",
    "maskrr.flat[mxinter]=1000\n",
    "sum(mxinter)"
   ]
  },
  {
   "cell_type": "code",
   "execution_count": 120,
   "metadata": {
    "collapsed": false
   },
   "outputs": [
    {
     "data": {
      "text/plain": [
       "<cartopy.mpl.feature_artist.FeatureArtist at 0x7f97e1cc9710>"
      ]
     },
     "execution_count": 120,
     "metadata": {},
     "output_type": "execute_result"
    },
    {
     "data": {
      "image/png": "[encoded data removed]",
      "text/plain": [
       "<matplotlib.figure.Figure at 0x7f97e2215e90>"
      ]
     },
     "metadata": {},
     "output_type": "display_data"
    }
   ],
   "source": [
    "ax = plt.axes(projection=ccrs.PlateCarree())\n",
    "#plt.contourf(lon, lat, rainrs, levels=np.arange(0,15, 0.5), transform=ccrs.PlateCarree())\n",
    "\n",
    "plt.contourf(mlon, mlat, maskr, levels=np.arange(900,1100,5), transform=ccrs.PlateCarree())  # green, MSG blob\n",
    "plt.contourf(lon, lat, rtest+200, levels=np.arange(1000,1800,10), transform=ccrs.PlateCarree()) #identified TRMM pixel\n",
    "# Identified MSG temperatures, problem: only nearest to TRMM, omits MSG pixels\n",
    "plt.contourf(mlon, mlat, maskrr, levels=np.arange(900,1100,5), transform=ccrs.PlateCarree())  # green, MSG blob\n",
    "ax.coastlines()"
   ]
  },
  {
   "cell_type": "code",
   "execution_count": null,
   "metadata": {
    "collapsed": false
   },
   "outputs": [],
   "source": []
  }
 ],
 "metadata": {
  "kernelspec": {
   "display_name": "Python 3",
   "language": "python",
   "name": "python3"
  },
  "language_info": {
   "codemirror_mode": {
    "name": "ipython",
    "version": 3
   },
   "file_extension": ".py",
   "mimetype": "text/x-python",
   "name": "python",
   "nbconvert_exporter": "python",
   "pygments_lexer": "ipython3",
   "version": "3.5.1"
  }
 },
 "nbformat": 4,
 "nbformat_minor": 0
}
