{
 "metadata": {
  "name": "",
  "signature": "sha256:2efe6c4f02378c6c425a23f168acb4a0bc5e8e316d5dfaf4f70ca9037e87fb4b"
 },
 "nbformat": 3,
 "nbformat_minor": 0,
 "worksheets": [
  {
   "cells": [
    {
     "cell_type": "code",
     "collapsed": false,
     "input": [
      "import numpy as np\n",
      "import os.path\n",
      "from scipy import ndimage\n",
      "import itertools\n",
      "import matplotlib as mpl\n",
      "import math\n",
      "import matplotlib.pyplot as plt\n",
      "from mapping import creategrid as grd\n",
      "from mpl_toolkits.basemap import Basemap\n",
      "import cartopy.crs as ccrs\n",
      "import cartopy.feature as cfeature\n",
      "import matplotlib.pylab as pylab\n",
      "import pandas as pd\n",
      "from eod import msg as msg\n",
      "pylab.rcParams['figure.figsize'] = (16., 9.)\n",
      "%matplotlib inline"
     ],
     "language": "python",
     "metadata": {},
     "outputs": [],
     "prompt_number": 69
    },
    {
     "cell_type": "code",
     "collapsed": false,
     "input": [
      "# read only trmm files that I need and give out proper lons lats etc\n",
      "path = \"/users/global/cornkle/data/OBS/TRMM/trmm_swaths_WA/2009/08/\"\n",
      "filename = \"2A25.20090802.66735.7.gra\"\n",
      "files = path + filename\n",
      "rr = np.fromfile(files,dtype=np.int16) \n",
      "x = 49\n",
      "nb = rr.size\n",
      "single = nb/4 # variables lon lat rainrate flag\n",
      "\n",
      "lons = rr[0:single]\n",
      "lats = rr[single:2*single]\n",
      "rainrs = rr[2*single:3*single]\n",
      "flags = rr[3*single:4*single]"
     ],
     "language": "python",
     "metadata": {},
     "outputs": [],
     "prompt_number": 70
    },
    {
     "cell_type": "code",
     "collapsed": false,
     "input": [
      "y = lons.size/x\n",
      "lons = np.resize(lons, (y,x))\n",
      "lats = np.resize(lats, (y,x))\n",
      "rainrs = np.resize(rainrs, (y,x))\n",
      "flags = np.resize(flags, (y,x))\n",
      "lon=lons/100.\n",
      "lat=lats/100.\n",
      "rainr=rainrs/10.\n",
      "lonmin, lonmax=np.amin(lon),np.amax(lon)\n",
      "latmin, latmax=np.amin(lat),np.amax(lat)\n",
      "lonx=lon[0,:]\n",
      "laty=lat[:,0]"
     ],
     "language": "python",
     "metadata": {},
     "outputs": [],
     "prompt_number": 45
    },
    {
     "cell_type": "code",
     "collapsed": false,
     "input": [
      "trll = msg.ll_toMSG(lon,lat)\n",
      "plt.plot((trll['x']+trll['y']).flatten()[0:100])"
     ],
     "language": "python",
     "metadata": {},
     "outputs": [
      {
       "metadata": {},
       "output_type": "pyout",
       "prompt_number": 52,
       "text": [
        "[<matplotlib.lines.Line2D at 0x7f7bca7a3410>]"
       ]
      },
      {
       "metadata": {},
       "output_type": "display_data",
       "png": "[encoded data removed]",
       "text": [
        "<matplotlib.figure.Figure at 0x7f7bcac32890>"
       ]
      }
     ],
     "prompt_number": 52
    },
    {
     "cell_type": "code",
     "collapsed": false,
     "input": [
      "df = pd.read_csv(msgs+'cell_40c_'+str(hs).zfill(2)+str(mins).zfill(2)+'_JJAS.txt')\n",
      "df.head()"
     ],
     "language": "python",
     "metadata": {},
     "outputs": [
      {
       "html": [
        "<div style=\"max-height:1000px;max-width:1500px;overflow:auto;\">\n",
        "<table border=\"1\" class=\"dataframe\">\n",
        "  <thead>\n",
        "    <tr style=\"text-align: right;\">\n",
        "      <th></th>\n",
        "      <th>Unnamed: 0</th>\n",
        "      <th>Area</th>\n",
        "      <th>Lat</th>\n",
        "      <th>Lon</th>\n",
        "      <th>Mincol</th>\n",
        "      <th>Temp</th>\n",
        "      <th>Tresh</th>\n",
        "      <th>Date</th>\n",
        "    </tr>\n",
        "  </thead>\n",
        "  <tbody>\n",
        "    <tr>\n",
        "      <th>0</th>\n",
        "      <td> 0</td>\n",
        "      <td> 16611</td>\n",
        "      <td> 19.8</td>\n",
        "      <td> 1.9</td>\n",
        "      <td> 645</td>\n",
        "      <td>-44.39</td>\n",
        "      <td>-56</td>\n",
        "      <td> 2004-06-01 19:00:00</td>\n",
        "    </tr>\n",
        "    <tr>\n",
        "      <th>1</th>\n",
        "      <td> 1</td>\n",
        "      <td>   269</td>\n",
        "      <td> 18.9</td>\n",
        "      <td> 0.7</td>\n",
        "      <td> 628</td>\n",
        "      <td>-44.26</td>\n",
        "      <td>-49</td>\n",
        "      <td> 2004-06-01 19:00:00</td>\n",
        "    </tr>\n",
        "    <tr>\n",
        "      <th>2</th>\n",
        "      <td> 2</td>\n",
        "      <td>   259</td>\n",
        "      <td> 18.9</td>\n",
        "      <td> 0.9</td>\n",
        "      <td> 635</td>\n",
        "      <td>-44.42</td>\n",
        "      <td>-49</td>\n",
        "      <td> 2004-06-01 19:00:00</td>\n",
        "    </tr>\n",
        "    <tr>\n",
        "      <th>3</th>\n",
        "      <td> 3</td>\n",
        "      <td>    30</td>\n",
        "      <td> 18.1</td>\n",
        "      <td> 0.8</td>\n",
        "      <td> 637</td>\n",
        "      <td>-41.00</td>\n",
        "      <td>-42</td>\n",
        "      <td> 2004-06-01 19:00:00</td>\n",
        "    </tr>\n",
        "    <tr>\n",
        "      <th>4</th>\n",
        "      <td> 4</td>\n",
        "      <td>    39</td>\n",
        "      <td> 18.0</td>\n",
        "      <td> 0.8</td>\n",
        "      <td> 636</td>\n",
        "      <td>-41.50</td>\n",
        "      <td>-42</td>\n",
        "      <td> 2004-06-01 19:00:00</td>\n",
        "    </tr>\n",
        "  </tbody>\n",
        "</table>\n",
        "</div>"
       ],
       "metadata": {},
       "output_type": "pyout",
       "prompt_number": 11,
       "text": [
        "   Unnamed: 0   Area   Lat  Lon  Mincol   Temp  Tresh                 Date\n",
        "0           0  16611  19.8  1.9     645 -44.39    -56  2004-06-01 19:00:00\n",
        "1           1    269  18.9  0.7     628 -44.26    -49  2004-06-01 19:00:00\n",
        "2           2    259  18.9  0.9     635 -44.42    -49  2004-06-01 19:00:00\n",
        "3           3     30  18.1  0.8     637 -41.00    -42  2004-06-01 19:00:00\n",
        "4           4     39  18.0  0.8     636 -41.50    -42  2004-06-01 19:00:00"
       ]
      }
     ],
     "prompt_number": 11
    },
    {
     "cell_type": "code",
     "collapsed": false,
     "input": [
      "sel=df.loc[df['Date'] == '2006-06-01 19:00:00'] "
     ],
     "language": "python",
     "metadata": {},
     "outputs": [],
     "prompt_number": 12
    },
    {
     "cell_type": "code",
     "collapsed": false,
     "input": [
      "sel.tail()"
     ],
     "language": "python",
     "metadata": {},
     "outputs": [
      {
       "html": [
        "<div style=\"max-height:1000px;max-width:1500px;overflow:auto;\">\n",
        "<table border=\"1\" class=\"dataframe\">\n",
        "  <thead>\n",
        "    <tr style=\"text-align: right;\">\n",
        "      <th></th>\n",
        "      <th>Unnamed: 0</th>\n",
        "      <th>Area</th>\n",
        "      <th>Lat</th>\n",
        "      <th>Lon</th>\n",
        "      <th>Mincol</th>\n",
        "      <th>Temp</th>\n",
        "      <th>Tresh</th>\n",
        "      <th>Date</th>\n",
        "    </tr>\n",
        "  </thead>\n",
        "  <tbody>\n",
        "    <tr>\n",
        "      <th>12952</th>\n",
        "      <td> 12952</td>\n",
        "      <td> 123</td>\n",
        "      <td> 4.0</td>\n",
        "      <td>-12.5</td>\n",
        "      <td> 148</td>\n",
        "      <td>-41.23</td>\n",
        "      <td>-44</td>\n",
        "      <td> 2006-06-01 19:00:00</td>\n",
        "    </tr>\n",
        "    <tr>\n",
        "      <th>12953</th>\n",
        "      <td> 12953</td>\n",
        "      <td> 119</td>\n",
        "      <td> 4.0</td>\n",
        "      <td> -5.9</td>\n",
        "      <td> 387</td>\n",
        "      <td>-41.69</td>\n",
        "      <td>-44</td>\n",
        "      <td> 2006-06-01 19:00:00</td>\n",
        "    </tr>\n",
        "    <tr>\n",
        "      <th>12954</th>\n",
        "      <td> 12954</td>\n",
        "      <td> 128</td>\n",
        "      <td> 4.0</td>\n",
        "      <td> -5.7</td>\n",
        "      <td> 395</td>\n",
        "      <td>-43.07</td>\n",
        "      <td>-49</td>\n",
        "      <td> 2006-06-01 19:00:00</td>\n",
        "    </tr>\n",
        "    <tr>\n",
        "      <th>12955</th>\n",
        "      <td> 12955</td>\n",
        "      <td> 191</td>\n",
        "      <td> 3.9</td>\n",
        "      <td>  0.0</td>\n",
        "      <td> 606</td>\n",
        "      <td>-50.71</td>\n",
        "      <td>-60</td>\n",
        "      <td> 2006-06-01 19:00:00</td>\n",
        "    </tr>\n",
        "    <tr>\n",
        "      <th>12956</th>\n",
        "      <td> 12956</td>\n",
        "      <td>  54</td>\n",
        "      <td> 4.0</td>\n",
        "      <td> -0.4</td>\n",
        "      <td> 594</td>\n",
        "      <td>-49.50</td>\n",
        "      <td>-60</td>\n",
        "      <td> 2006-06-01 19:00:00</td>\n",
        "    </tr>\n",
        "  </tbody>\n",
        "</table>\n",
        "</div>"
       ],
       "metadata": {},
       "output_type": "pyout",
       "prompt_number": 13,
       "text": [
        "       Unnamed: 0  Area  Lat   Lon  Mincol   Temp  Tresh                 Date\n",
        "12952       12952   123  4.0 -12.5     148 -41.23    -44  2006-06-01 19:00:00\n",
        "12953       12953   119  4.0  -5.9     387 -41.69    -44  2006-06-01 19:00:00\n",
        "12954       12954   128  4.0  -5.7     395 -43.07    -49  2006-06-01 19:00:00\n",
        "12955       12955   191  3.9   0.0     606 -50.71    -60  2006-06-01 19:00:00\n",
        "12956       12956    54  4.0  -0.4     594 -49.50    -60  2006-06-01 19:00:00"
       ]
      }
     ],
     "prompt_number": 13
    },
    {
     "cell_type": "code",
     "collapsed": false,
     "input": [
      "path = \"/users/global/cornkle/data/OBS/meteosat/cell_blob_files/2006/06/\"\n",
      "filename = \"200606011900.gra\"\n",
      "files = path + filename\n",
      "rrShape = (580,1640)\n",
      "rrMDI = np.uint16()\n",
      "rr = np.fromfile(files,dtype=rrMDI.dtype) \n",
      "print rr.shape\n",
      "rr.shape = rrShape"
     ],
     "language": "python",
     "metadata": {},
     "outputs": [
      {
       "output_type": "stream",
       "stream": "stdout",
       "text": [
        "(951200,)\n"
       ]
      }
     ],
     "prompt_number": 78
    },
    {
     "cell_type": "code",
     "collapsed": false,
     "input": [
      "img=plt.contourf(rr, [999,1000, 1001], interpolation='none')\n",
      "plt.colorbar()"
     ],
     "language": "python",
     "metadata": {},
     "outputs": [
      {
       "metadata": {},
       "output_type": "pyout",
       "prompt_number": 79,
       "text": [
        "<matplotlib.colorbar.Colorbar instance at 0x7f7bca54a248>"
       ]
      },
      {
       "metadata": {},
       "output_type": "display_data",
       "png": "[encoded data removed]",
       "text": [
        "<matplotlib.figure.Figure at 0x7f7bca89d210>"
       ]
      }
     ],
     "prompt_number": 79
    },
    {
     "cell_type": "code",
     "collapsed": false,
     "input": [
      "fig, ax = plt.subplots()\n",
      "cax = ax.imshow(rr, interpolation='none')\n",
      "cbar = fig.colorbar(cax)"
     ],
     "language": "python",
     "metadata": {},
     "outputs": [
      {
       "metadata": {},
       "output_type": "display_data",
       "png": "[encoded data removed]",
       "text": [
        "<matplotlib.figure.Figure at 0x7f7bca5c3f90>"
       ]
      }
     ],
     "prompt_number": 80
    },
    {
     "cell_type": "code",
     "collapsed": false,
     "input": [
      "big = sel.loc[sel['Area'] >= 25000]\n"
     ],
     "language": "python",
     "metadata": {},
     "outputs": [],
     "prompt_number": 81
    },
    {
     "cell_type": "code",
     "collapsed": false,
     "input": [
      "lon=big['Lon'].as_matrix()\n",
      "lat=big['Lat'].as_matrix()\n",
      "lat[0], lon[0]"
     ],
     "language": "python",
     "metadata": {},
     "outputs": [
      {
       "metadata": {},
       "output_type": "pyout",
       "prompt_number": 82,
       "text": [
        "(15.0, -5.0)"
       ]
      }
     ],
     "prompt_number": 82
    },
    {
     "cell_type": "code",
     "collapsed": false,
     "input": [
      "msg_latlon=np.load('/users/global/cornkle/data/OBS/meteosat/MSG_1640_580_lat_lon.npz')\n",
      "mlon = msg_latlon['lon']\n",
      "mlat = msg_latlon['lat']\n",
      "ind=mlat.min()\n",
      "ind"
     ],
     "language": "python",
     "metadata": {},
     "outputs": [
      {
       "metadata": {},
       "output_type": "pyout",
       "prompt_number": 83,
       "text": [
        "3.9123871"
       ]
      }
     ],
     "prompt_number": 83
    },
    {
     "cell_type": "code",
     "collapsed": false,
     "input": [
      "a = abs(mlat - lat[0]) + abs(mlon - lon[0])\n",
      "#i,j = np.unravel_index(a.argmin(), a.shape)\n",
      "#nb = rr[i,j]\n",
      "nb = rr.flatten()[a.argmin()]\n",
      "nb"
     ],
     "language": "python",
     "metadata": {},
     "outputs": [
      {
       "metadata": {},
       "output_type": "pyout",
       "prompt_number": 84,
       "text": [
        "2"
       ]
      }
     ],
     "prompt_number": 84
    },
    {
     "cell_type": "code",
     "collapsed": false,
     "input": [
      "isblob = np.where(rr == nb)\n",
      "isblob"
     ],
     "language": "python",
     "metadata": {},
     "outputs": [
      {
       "metadata": {},
       "output_type": "pyout",
       "prompt_number": 92,
       "text": [
        "(array([371, 371, 371, ..., 428, 428, 428]),\n",
        " array([403, 404, 405, ..., 457, 458, 459]))"
       ]
      }
     ],
     "prompt_number": 92
    },
    {
     "cell_type": "code",
     "collapsed": false,
     "input": [
      "rr[isblob]=1000"
     ],
     "language": "python",
     "metadata": {},
     "outputs": [],
     "prompt_number": 22
    },
    {
     "cell_type": "code",
     "collapsed": false,
     "input": [
      "mll = msg.ll_toMSG(mlon,mlat)"
     ],
     "language": "python",
     "metadata": {},
     "outputs": [],
     "prompt_number": 85
    },
    {
     "cell_type": "code",
     "collapsed": false,
     "input": [
      "pp = msg.ll_toMSG(lon[0],lat[0])"
     ],
     "language": "python",
     "metadata": {},
     "outputs": [],
     "prompt_number": 86
    },
    {
     "cell_type": "code",
     "collapsed": false,
     "input": [
      "point=np.where((mll['x']==pp['x']) & (mll['y']==pp['y']))"
     ],
     "language": "python",
     "metadata": {},
     "outputs": [],
     "prompt_number": 87
    },
    {
     "cell_type": "code",
     "collapsed": false,
     "input": [
      "xx=mll['x'][isblob]\n",
      "yy=mll['y'][isblob]\n",
      "(xx+yy)*(xx+yy+1)/2+yy"
     ],
     "language": "python",
     "metadata": {},
     "outputs": [
      {
       "metadata": {},
       "output_type": "pyout",
       "prompt_number": 95,
       "text": [
        "array([ 9821467.,  9817036.,  9812606., ...,  9834823.,  9830389.,\n",
        "        9825956.])"
       ]
      }
     ],
     "prompt_number": 95
    },
    {
     "cell_type": "code",
     "collapsed": false,
     "input": [
      "rr[ok]"
     ],
     "language": "python",
     "metadata": {},
     "outputs": [
      {
       "metadata": {},
       "output_type": "pyout",
       "prompt_number": 89,
       "text": [
        "array([2], dtype=uint16)"
       ]
      }
     ],
     "prompt_number": 89
    },
    {
     "cell_type": "code",
     "collapsed": false,
     "input": [
      "tx = np.array([range(2,30)])\n",
      "mx = np.array([range(15,25)])\n",
      "ty = np.array([range(1,29)])\n",
      "my = np.array([range(14,24)])\n",
      "prcp=np.array([range(2,30)])"
     ],
     "language": "python",
     "metadata": {},
     "outputs": [],
     "prompt_number": 104
    },
    {
     "cell_type": "code",
     "collapsed": false,
     "input": [
      "mpair = (mx+my)*(mx+my+1)/2+my\n",
      "tpair = (tx+ty)*(tx+ty+1)/2+ty"
     ],
     "language": "python",
     "metadata": {},
     "outputs": [],
     "prompt_number": 99
    },
    {
     "cell_type": "code",
     "collapsed": false,
     "input": [
      "inter=np.in1d(tpair, mpair)  "
     ],
     "language": "python",
     "metadata": {},
     "outputs": [],
     "prompt_number": 102
    },
    {
     "cell_type": "code",
     "collapsed": false,
     "input": [
      "inter"
     ],
     "language": "python",
     "metadata": {},
     "outputs": [
      {
       "metadata": {},
       "output_type": "pyout",
       "prompt_number": 103,
       "text": [
        "array([False, False, False, False, False, False, False, False, False,\n",
        "       False, False, False, False,  True,  True,  True,  True,  True,\n",
        "        True,  True,  True,  True,  True, False, False, False, False, False], dtype=bool)"
       ]
      }
     ],
     "prompt_number": 103
    },
    {
     "cell_type": "code",
     "collapsed": false,
     "input": [
      "np.mean(prcp.flatten()[inter])"
     ],
     "language": "python",
     "metadata": {},
     "outputs": [
      {
       "metadata": {},
       "output_type": "pyout",
       "prompt_number": 106,
       "text": [
        "19.5"
       ]
      }
     ],
     "prompt_number": 106
    },
    {
     "cell_type": "code",
     "collapsed": false,
     "input": [
      "ff=np.array([False, True, False, False])"
     ],
     "language": "python",
     "metadata": {},
     "outputs": [],
     "prompt_number": 118
    },
    {
     "cell_type": "code",
     "collapsed": false,
     "input": [
      "if not ff.any(): print 'false'"
     ],
     "language": "python",
     "metadata": {},
     "outputs": [],
     "prompt_number": 119
    },
    {
     "cell_type": "code",
     "collapsed": false,
     "input": [
      "test=np.load('/users/global/cornkle/data/OBS/test.npy').item()"
     ],
     "language": "python",
     "metadata": {},
     "outputs": [],
     "prompt_number": 124
    },
    {
     "cell_type": "code",
     "collapsed": false,
     "input": [
      "m=test['m']\n",
      "t=test['t']"
     ],
     "language": "python",
     "metadata": {},
     "outputs": [],
     "prompt_number": 127
    },
    {
     "cell_type": "code",
     "collapsed": false,
     "input": [
      "m.max()"
     ],
     "language": "python",
     "metadata": {},
     "outputs": [
      {
       "metadata": {},
       "output_type": "pyout",
       "prompt_number": 132,
       "text": [
        "6426445.0"
       ]
      }
     ],
     "prompt_number": 132
    },
    {
     "cell_type": "code",
     "collapsed": false,
     "input": [
      "t.max()"
     ],
     "language": "python",
     "metadata": {},
     "outputs": [
      {
       "metadata": {},
       "output_type": "pyout",
       "prompt_number": 133,
       "text": [
        "9056625.0"
       ]
      }
     ],
     "prompt_number": 133
    },
    {
     "cell_type": "code",
     "collapsed": false,
     "input": [],
     "language": "python",
     "metadata": {},
     "outputs": []
    }
   ],
   "metadata": {}
  }
 ]
}