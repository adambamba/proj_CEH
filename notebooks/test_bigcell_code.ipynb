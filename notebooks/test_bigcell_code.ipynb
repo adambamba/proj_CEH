{
 "metadata": {
  "name": "",
  "signature": "sha256:adf6dfa60ffacca6fa79205794575783b340d7205269dea3ca53fa156df99eb9"
 },
 "nbformat": 3,
 "nbformat_minor": 0,
 "worksheets": [
  {
   "cells": [
    {
     "cell_type": "code",
     "collapsed": false,
     "input": [
      "import numpy as np\n",
      "import os.path\n",
      "from scipy import ndimage\n",
      "import itertools\n",
      "import matplotlib as mpl\n",
      "import math\n",
      "import matplotlib.pyplot as plt\n",
      "from mapping import creategrid as grd\n",
      "from mpl_toolkits.basemap import Basemap\n",
      "import cartopy.crs as ccrs\n",
      "import cartopy.feature as cfeature\n",
      "import matplotlib.pylab as pylab\n",
      "import pandas as pd\n",
      "from eod import msg as msg\n",
      "pylab.rcParams['figure.figsize'] = (16., 9.)\n",
      "%matplotlib inline"
     ],
     "language": "python",
     "metadata": {},
     "outputs": [],
     "prompt_number": 2
    },
    {
     "cell_type": "code",
     "collapsed": false,
     "input": [
      "# read only trmm files that I need and give out proper lons lats etc\n",
      "path = \"/users/global/cornkle/data/OBS/TRMM/trmm_swaths_WA/2009/08/\"\n",
      "filename = \"2A25.20090802.66735.7.gra\"\n",
      "files = path + filename\n",
      "rr = np.fromfile(files,dtype=np.int16) \n",
      "x = 49\n",
      "nb = rr.size\n",
      "single = nb/4 # variables lon lat rainrate flag\n",
      "\n",
      "lons = rr[0:single]\n",
      "lats = rr[single:2*single]\n",
      "rainrs = rr[2*single:3*single]\n",
      "flags = rr[3*single:4*single]"
     ],
     "language": "python",
     "metadata": {},
     "outputs": [],
     "prompt_number": 4
    },
    {
     "cell_type": "code",
     "collapsed": false,
     "input": [
      "y = lons.size/x\n",
      "lons = np.resize(lons, (y,x))\n",
      "lats = np.resize(lats, (y,x))\n",
      "rainrs = np.resize(rainrs, (y,x))\n",
      "flags = np.resize(flags, (y,x))\n",
      "lon=lons/100.\n",
      "lat=lats/100.\n",
      "rainr=rainrs/10.\n",
      "lonmin, lonmax=np.amin(lon),np.amax(lon)\n",
      "latmin, latmax=np.amin(lat),np.amax(lat)\n",
      "lonx=lon[0,:]\n",
      "laty=lat[:,0]"
     ],
     "language": "python",
     "metadata": {},
     "outputs": [],
     "prompt_number": 5
    },
    {
     "cell_type": "code",
     "collapsed": false,
     "input": [
      "import os, fnmatch\n",
      "\n",
      "def locate(pattern, root_path):\n",
      "    for path, dirs, files in os.walk(os.path.abspath(root_path)):\n",
      "        for filename in fnmatch.filter(files, pattern):\n",
      "            yield os.path.join(path, filename)"
     ],
     "language": "python",
     "metadata": {},
     "outputs": [],
     "prompt_number": 4
    },
    {
     "cell_type": "code",
     "collapsed": false,
     "input": [
      "path = \"/users/global/cornkle/data/OBS/TRMM/trmm_swaths_WA/\"\n",
      "pattern = path + '{0:d}/{1:02d}/2A25.{0:d}{1:02d}{2:02d}.*.7.gra' "
     ],
     "language": "python",
     "metadata": {},
     "outputs": [],
     "prompt_number": 5
    },
    {
     "cell_type": "code",
     "collapsed": false,
     "input": [
      "date = np.array([2014,6,30,20,0])\n",
      "rrFile = pattern.format(date[0],date[1],date[2])\n",
      "print rrFile"
     ],
     "language": "python",
     "metadata": {},
     "outputs": [
      {
       "output_type": "stream",
       "stream": "stdout",
       "text": [
        "/users/global/cornkle/data/OBS/TRMM/trmm_swaths_WA/2014/06/2A25.20140630.*.7.gra\n"
       ]
      }
     ],
     "prompt_number": 6
    },
    {
     "cell_type": "code",
     "collapsed": false,
     "input": [
      "extpath=rrFile\n",
      "print extpath"
     ],
     "language": "python",
     "metadata": {},
     "outputs": [
      {
       "output_type": "stream",
       "stream": "stdout",
       "text": [
        "/users/global/cornkle/data/OBS/TRMM/trmm_swaths_WA/2014/06/2A25.20140630.*.7.gra\n"
       ]
      }
     ],
     "prompt_number": 7
    },
    {
     "cell_type": "code",
     "collapsed": false,
     "input": [
      "import glob\n",
      "a=glob.glob(extpath)\n",
      "print a[1]"
     ],
     "language": "python",
     "metadata": {},
     "outputs": [
      {
       "output_type": "stream",
       "stream": "stdout",
       "text": [
        "/users/global/cornkle/data/OBS/TRMM/trmm_swaths_WA/2014/06/2A25.20140630.94684.7.gra\n"
       ]
      }
     ],
     "prompt_number": 8
    },
    {
     "cell_type": "code",
     "collapsed": false,
     "input": [
      "for root, dirs, files in os.walk(extpath):\n",
      "    for dir in dirs:\n",
      "        print os.path.join(root, dir)\n",
      "    for file in files:\n",
      "        print os.path.join(root, file)"
     ],
     "language": "python",
     "metadata": {},
     "outputs": [],
     "prompt_number": 9
    },
    {
     "cell_type": "code",
     "collapsed": false,
     "input": [
      "msgs  = \"/users/global/cornkle/data/OBS/meteosat/bigcell_area_table/rewrite/\"\n",
      "tpath=\"/users/global/cornkle/data/OBS/TRMM/trmm_swaths_WA/\"\n",
      "trmm = msg.extract_TRMMfile(tpath, hod=range(18,19))\n",
      "   \n",
      "hs = trmm['date'].hours[0]\n",
      "mins = trmm['date'].minutes[0]"
     ],
     "language": "python",
     "metadata": {},
     "outputs": [
      {
       "output_type": "stream",
       "stream": "stdout",
       "text": [
        "/users/global/cornkle/data/OBS/TRMM/trmm_swaths_WA/2011/08/2A25.20110805.78162.7.gra\n",
        "/users/global/cornkle/data/OBS/TRMM/trmm_swaths_WA/2011/08/2A25.20110806.78177.7.gra\n",
        "/users/global/cornkle/data/OBS/TRMM/trmm_swaths_WA/2011/08/2A25.20110807.78193.7.gra\n",
        "/users/global/cornkle/data/OBS/TRMM/trmm_swaths_WA/2011/08/2A25.20110809.78224.7.gra\n",
        "/users/global/cornkle/data/OBS/TRMM/trmm_swaths_WA/2011/08/2A25.20110821.78411.7.gra\n",
        "/users/global/cornkle/data/OBS/TRMM/trmm_swaths_WA/2011/08/2A25.20110823.78442.7.gra\n",
        "/users/global/cornkle/data/OBS/TRMM/trmm_swaths_WA/2011/08/2A25.20110825.78473.7.gra\n",
        "/users/global/cornkle/data/OBS/TRMM/trmm_swaths_WA/2011/08/2A25.20110827.78504.7.gra"
       ]
      },
      {
       "output_type": "stream",
       "stream": "stdout",
       "text": [
        "\n",
        "/users/global/cornkle/data/OBS/TRMM/trmm_swaths_WA/2011/09/2A25.20110921.78894.7.gra"
       ]
      },
      {
       "output_type": "stream",
       "stream": "stdout",
       "text": [
        "\n",
        "/users/global/cornkle/data/OBS/TRMM/trmm_swaths_WA/2011/09/2A25.20110922.78910.7.gra\n",
        "/users/global/cornkle/data/OBS/TRMM/trmm_swaths_WA/2011/09/2A25.20110924.78941.7.gra\n",
        "/users/global/cornkle/data/OBS/TRMM/trmm_swaths_WA/2011/09/2A25.20110926.78972.7.gra\n",
        "/users/global/cornkle/data/OBS/TRMM/trmm_swaths_WA/2012/08/2A25.20120818.84069.7.gra"
       ]
      },
      {
       "output_type": "stream",
       "stream": "stdout",
       "text": [
        "\n",
        "/users/global/cornkle/data/OBS/TRMM/trmm_swaths_WA/2012/08/2A25.20120820.84100.7.gra\n",
        "/users/global/cornkle/data/OBS/TRMM/trmm_swaths_WA/2012/08/2A25.20120822.84131.7.gra\n",
        "/users/global/cornkle/data/OBS/TRMM/trmm_swaths_WA/2012/09/2A25.20120905.84349.7.gra\n",
        "/users/global/cornkle/data/OBS/TRMM/trmm_swaths_WA/2012/09/2A25.20120907.84380.7.gra"
       ]
      },
      {
       "output_type": "stream",
       "stream": "stdout",
       "text": [
        "\n",
        "/users/global/cornkle/data/OBS/TRMM/trmm_swaths_WA/2012/09/2A25.20120909.84411.7.gra\n",
        "/users/global/cornkle/data/OBS/TRMM/trmm_swaths_WA/2013/08/2A25.20130802.89508.7.gra"
       ]
      },
      {
       "output_type": "stream",
       "stream": "stdout",
       "text": [
        "\n",
        "/users/global/cornkle/data/OBS/TRMM/trmm_swaths_WA/2013/08/2A25.20130804.89539.7.gra\n",
        "/users/global/cornkle/data/OBS/TRMM/trmm_swaths_WA/2013/08/2A25.20130806.89570.7.gra\n",
        "/users/global/cornkle/data/OBS/TRMM/trmm_swaths_WA/2013/08/2A25.20130830.89945.7.gra"
       ]
      },
      {
       "output_type": "stream",
       "stream": "stdout",
       "text": [
        "\n",
        "/users/global/cornkle/data/OBS/TRMM/trmm_swaths_WA/2013/09/2A25.20130901.89976.7.gra\n",
        "/users/global/cornkle/data/OBS/TRMM/trmm_swaths_WA/2013/09/2A25.20130903.90007.7.gra\n",
        "/users/global/cornkle/data/OBS/TRMM/trmm_swaths_WA/2013/09/2A25.20130905.90038.7.gra\n",
        "/users/global/cornkle/data/OBS/TRMM/trmm_swaths_WA/2013/09/2A25.20130919.90256.7.gra"
       ]
      },
      {
       "output_type": "stream",
       "stream": "stdout",
       "text": [
        "\n",
        "/users/global/cornkle/data/OBS/TRMM/trmm_swaths_WA/2013/09/2A25.20130921.90287.7.gra\n",
        "/users/global/cornkle/data/OBS/TRMM/trmm_swaths_WA/2013/09/2A25.20130922.90303.7.gra\n"
       ]
      }
     ],
     "prompt_number": 3
    },
    {
     "cell_type": "code",
     "collapsed": false,
     "input": [],
     "language": "python",
     "metadata": {},
     "outputs": [],
     "prompt_number": 10
    },
    {
     "cell_type": "code",
     "collapsed": false,
     "input": [
      "df = pd.read_csv(msgs+'cell_40c_'+str(hs).zfill(2)+str(mins).zfill(2)+'_JJAS.txt')\n",
      "df.set_index('Date', inplace=True, drop=True)\n",
      "df.head()"
     ],
     "language": "python",
     "metadata": {},
     "outputs": [
      {
       "html": [
        "<div style=\"max-height:1000px;max-width:1500px;overflow:auto;\">\n",
        "<table border=\"1\" class=\"dataframe\">\n",
        "  <thead>\n",
        "    <tr style=\"text-align: right;\">\n",
        "      <th></th>\n",
        "      <th>Unnamed: 0</th>\n",
        "      <th>Area</th>\n",
        "      <th>Lat</th>\n",
        "      <th>Lon</th>\n",
        "      <th>Mincol</th>\n",
        "      <th>Temp</th>\n",
        "      <th>Tresh</th>\n",
        "    </tr>\n",
        "    <tr>\n",
        "      <th>Date</th>\n",
        "      <th></th>\n",
        "      <th></th>\n",
        "      <th></th>\n",
        "      <th></th>\n",
        "      <th></th>\n",
        "      <th></th>\n",
        "      <th></th>\n",
        "    </tr>\n",
        "  </thead>\n",
        "  <tbody>\n",
        "    <tr>\n",
        "      <th>2004-06-01 06:00:00</th>\n",
        "      <td> 0</td>\n",
        "      <td>   88</td>\n",
        "      <td> 16.6</td>\n",
        "      <td>  4.0</td>\n",
        "      <td>  749</td>\n",
        "      <td>-40.67</td>\n",
        "      <td>-43</td>\n",
        "    </tr>\n",
        "    <tr>\n",
        "      <th>2004-06-01 06:00:00</th>\n",
        "      <td> 1</td>\n",
        "      <td>  147</td>\n",
        "      <td> 16.5</td>\n",
        "      <td>  3.9</td>\n",
        "      <td>  742</td>\n",
        "      <td>-41.53</td>\n",
        "      <td>-44</td>\n",
        "    </tr>\n",
        "    <tr>\n",
        "      <th>2004-06-01 06:00:00</th>\n",
        "      <td> 2</td>\n",
        "      <td>  299</td>\n",
        "      <td> 15.1</td>\n",
        "      <td>  2.8</td>\n",
        "      <td>  705</td>\n",
        "      <td>-46.48</td>\n",
        "      <td>-58</td>\n",
        "    </tr>\n",
        "    <tr>\n",
        "      <th>2004-06-01 06:00:00</th>\n",
        "      <td> 3</td>\n",
        "      <td>   52</td>\n",
        "      <td> 14.3</td>\n",
        "      <td> 16.9</td>\n",
        "      <td> 1199</td>\n",
        "      <td>-42.00</td>\n",
        "      <td>-43</td>\n",
        "    </tr>\n",
        "    <tr>\n",
        "      <th>2004-06-01 06:00:00</th>\n",
        "      <td> 4</td>\n",
        "      <td> 8690</td>\n",
        "      <td> 13.8</td>\n",
        "      <td> 22.7</td>\n",
        "      <td> 1365</td>\n",
        "      <td>-48.00</td>\n",
        "      <td>-60</td>\n",
        "    </tr>\n",
        "  </tbody>\n",
        "</table>\n",
        "</div>"
       ],
       "metadata": {},
       "output_type": "pyout",
       "prompt_number": 11,
       "text": [
        "                     Unnamed: 0  Area   Lat   Lon  Mincol   Temp  Tresh\n",
        "Date                                                                   \n",
        "2004-06-01 06:00:00           0    88  16.6   4.0     749 -40.67    -43\n",
        "2004-06-01 06:00:00           1   147  16.5   3.9     742 -41.53    -44\n",
        "2004-06-01 06:00:00           2   299  15.1   2.8     705 -46.48    -58\n",
        "2004-06-01 06:00:00           3    52  14.3  16.9    1199 -42.00    -43\n",
        "2004-06-01 06:00:00           4  8690  13.8  22.7    1365 -48.00    -60"
       ]
      }
     ],
     "prompt_number": 11
    },
    {
     "cell_type": "code",
     "collapsed": false,
     "input": [
      "sel = df.loc['2004-06-01 02:00:00']"
     ],
     "language": "python",
     "metadata": {},
     "outputs": [
      {
       "ename": "KeyError",
       "evalue": "'the label [2004-06-01 02:00:00] is not in the [index]'",
       "output_type": "pyerr",
       "traceback": [
        "\u001b[1;31m---------------------------------------------------------------------------\u001b[0m\n\u001b[1;31mKeyError\u001b[0m                                  Traceback (most recent call last)",
        "\u001b[1;32m<ipython-input-12-892c320d3c92>\u001b[0m in \u001b[0;36m<module>\u001b[1;34m()\u001b[0m\n\u001b[1;32m----> 1\u001b[1;33m \u001b[0msel\u001b[0m \u001b[1;33m=\u001b[0m \u001b[0mdf\u001b[0m\u001b[1;33m.\u001b[0m\u001b[0mloc\u001b[0m\u001b[1;33m[\u001b[0m\u001b[1;34m'2004-06-01 02:00:00'\u001b[0m\u001b[1;33m]\u001b[0m\u001b[1;33m\u001b[0m\u001b[0m\n\u001b[0m",
        "\u001b[1;32m/usr/lib64/python2.7/site-packages/pandas/core/indexing.pyc\u001b[0m in \u001b[0;36m__getitem__\u001b[1;34m(self, key)\u001b[0m\n\u001b[0;32m   1200\u001b[0m             \u001b[1;32mreturn\u001b[0m \u001b[0mself\u001b[0m\u001b[1;33m.\u001b[0m\u001b[0m_getitem_tuple\u001b[0m\u001b[1;33m(\u001b[0m\u001b[0mkey\u001b[0m\u001b[1;33m)\u001b[0m\u001b[1;33m\u001b[0m\u001b[0m\n\u001b[0;32m   1201\u001b[0m         \u001b[1;32melse\u001b[0m\u001b[1;33m:\u001b[0m\u001b[1;33m\u001b[0m\u001b[0m\n\u001b[1;32m-> 1202\u001b[1;33m             \u001b[1;32mreturn\u001b[0m \u001b[0mself\u001b[0m\u001b[1;33m.\u001b[0m\u001b[0m_getitem_axis\u001b[0m\u001b[1;33m(\u001b[0m\u001b[0mkey\u001b[0m\u001b[1;33m,\u001b[0m \u001b[0maxis\u001b[0m\u001b[1;33m=\u001b[0m\u001b[1;36m0\u001b[0m\u001b[1;33m)\u001b[0m\u001b[1;33m\u001b[0m\u001b[0m\n\u001b[0m\u001b[0;32m   1203\u001b[0m \u001b[1;33m\u001b[0m\u001b[0m\n\u001b[0;32m   1204\u001b[0m     \u001b[1;32mdef\u001b[0m \u001b[0m_getitem_axis\u001b[0m\u001b[1;33m(\u001b[0m\u001b[0mself\u001b[0m\u001b[1;33m,\u001b[0m \u001b[0mkey\u001b[0m\u001b[1;33m,\u001b[0m \u001b[0maxis\u001b[0m\u001b[1;33m=\u001b[0m\u001b[1;36m0\u001b[0m\u001b[1;33m)\u001b[0m\u001b[1;33m:\u001b[0m\u001b[1;33m\u001b[0m\u001b[0m\n",
        "\u001b[1;32m/usr/lib64/python2.7/site-packages/pandas/core/indexing.pyc\u001b[0m in \u001b[0;36m_getitem_axis\u001b[1;34m(self, key, axis)\u001b[0m\n\u001b[0;32m   1343\u001b[0m \u001b[1;33m\u001b[0m\u001b[0m\n\u001b[0;32m   1344\u001b[0m         \u001b[1;31m# fall thru to straight lookup\u001b[0m\u001b[1;33m\u001b[0m\u001b[1;33m\u001b[0m\u001b[0m\n\u001b[1;32m-> 1345\u001b[1;33m         \u001b[0mself\u001b[0m\u001b[1;33m.\u001b[0m\u001b[0m_has_valid_type\u001b[0m\u001b[1;33m(\u001b[0m\u001b[0mkey\u001b[0m\u001b[1;33m,\u001b[0m \u001b[0maxis\u001b[0m\u001b[1;33m)\u001b[0m\u001b[1;33m\u001b[0m\u001b[0m\n\u001b[0m\u001b[0;32m   1346\u001b[0m         \u001b[1;32mreturn\u001b[0m \u001b[0mself\u001b[0m\u001b[1;33m.\u001b[0m\u001b[0m_get_label\u001b[0m\u001b[1;33m(\u001b[0m\u001b[0mkey\u001b[0m\u001b[1;33m,\u001b[0m \u001b[0maxis\u001b[0m\u001b[1;33m=\u001b[0m\u001b[0maxis\u001b[0m\u001b[1;33m)\u001b[0m\u001b[1;33m\u001b[0m\u001b[0m\n\u001b[0;32m   1347\u001b[0m \u001b[1;33m\u001b[0m\u001b[0m\n",
        "\u001b[1;32m/usr/lib64/python2.7/site-packages/pandas/core/indexing.pyc\u001b[0m in \u001b[0;36m_has_valid_type\u001b[1;34m(self, key, axis)\u001b[0m\n\u001b[0;32m   1305\u001b[0m                 \u001b[1;32mraise\u001b[0m\u001b[1;33m\u001b[0m\u001b[0m\n\u001b[0;32m   1306\u001b[0m             \u001b[1;32mexcept\u001b[0m\u001b[1;33m:\u001b[0m\u001b[1;33m\u001b[0m\u001b[0m\n\u001b[1;32m-> 1307\u001b[1;33m                 \u001b[0merror\u001b[0m\u001b[1;33m(\u001b[0m\u001b[1;33m)\u001b[0m\u001b[1;33m\u001b[0m\u001b[0m\n\u001b[0m\u001b[0;32m   1308\u001b[0m \u001b[1;33m\u001b[0m\u001b[0m\n\u001b[0;32m   1309\u001b[0m         \u001b[1;32mreturn\u001b[0m \u001b[0mTrue\u001b[0m\u001b[1;33m\u001b[0m\u001b[0m\n",
        "\u001b[1;32m/usr/lib64/python2.7/site-packages/pandas/core/indexing.pyc\u001b[0m in \u001b[0;36merror\u001b[1;34m()\u001b[0m\n\u001b[0;32m   1292\u001b[0m                         \"cannot use label indexing with a null key\")\n\u001b[0;32m   1293\u001b[0m                 raise KeyError(\"the label [%s] is not in the [%s]\" %\n\u001b[1;32m-> 1294\u001b[1;33m                                (key, self.obj._get_axis_name(axis)))\n\u001b[0m\u001b[0;32m   1295\u001b[0m \u001b[1;33m\u001b[0m\u001b[0m\n\u001b[0;32m   1296\u001b[0m             \u001b[1;32mtry\u001b[0m\u001b[1;33m:\u001b[0m\u001b[1;33m\u001b[0m\u001b[0m\n",
        "\u001b[1;31mKeyError\u001b[0m: 'the label [2004-06-01 02:00:00] is not in the [index]'"
       ]
      }
     ],
     "prompt_number": 12
    },
    {
     "cell_type": "code",
     "collapsed": false,
     "input": [
      "sel.tail()"
     ],
     "language": "python",
     "metadata": {},
     "outputs": []
    },
    {
     "cell_type": "code",
     "collapsed": false,
     "input": [
      "path = \"/users/global/cornkle/data/OBS/meteosat/cell_blob_files/2004/06/\"\n",
      "filename = \"200406010200.gra\"\n",
      "files = path + filename\n",
      "rrShape = (580,1640)\n",
      "rrMDI = np.uint16()\n",
      "rr = np.fromfile(files,dtype=rrMDI.dtype) \n",
      "print rr.shape\n",
      "rr.shape = rrShape"
     ],
     "language": "python",
     "metadata": {},
     "outputs": []
    },
    {
     "cell_type": "code",
     "collapsed": false,
     "input": [
      "img=plt.contourf(rr, [118,119, 120], interpolation='none')\n",
      "plt.colorbar()"
     ],
     "language": "python",
     "metadata": {},
     "outputs": []
    },
    {
     "cell_type": "code",
     "collapsed": false,
     "input": [
      "fig, ax = plt.subplots()\n",
      "cax = ax.imshow(rr, interpolation='none')\n",
      "cbar = fig.colorbar(cax)"
     ],
     "language": "python",
     "metadata": {},
     "outputs": []
    },
    {
     "cell_type": "code",
     "collapsed": false,
     "input": [
      "sel['Area']"
     ],
     "language": "python",
     "metadata": {},
     "outputs": []
    },
    {
     "cell_type": "code",
     "collapsed": false,
     "input": [
      "small = sel.loc[sel['Area'] < 25000]\n",
      "#test = small.loc[sel['Area'] >= 25000]\n",
      "#test"
     ],
     "language": "python",
     "metadata": {},
     "outputs": []
    },
    {
     "cell_type": "code",
     "collapsed": false,
     "input": [
      "if test.empty: print 'Empty!'"
     ],
     "language": "python",
     "metadata": {},
     "outputs": []
    },
    {
     "cell_type": "code",
     "collapsed": false,
     "input": [
      "big = sel.loc[sel['Area'] >= 25000]\n",
      "#big.set_index('Area', inplace=True, drop=True)"
     ],
     "language": "python",
     "metadata": {},
     "outputs": []
    },
    {
     "cell_type": "code",
     "collapsed": false,
     "input": [
      "big.head()"
     ],
     "language": "python",
     "metadata": {},
     "outputs": []
    },
    {
     "cell_type": "code",
     "collapsed": false,
     "input": [
      "d=dict()"
     ],
     "language": "python",
     "metadata": {},
     "outputs": []
    },
    {
     "cell_type": "code",
     "collapsed": false,
     "input": [
      "d['lat']=big['Lat'].values.tolist()\n",
      "d['lon']=big['Lon'].values.tolist()\n",
      "lat=d['lat'][2]\n",
      "lon=d['lon'][2]\n",
      "lat, lon"
     ],
     "language": "python",
     "metadata": {},
     "outputs": []
    },
    {
     "cell_type": "code",
     "collapsed": false,
     "input": [
      "msg_latlon=np.load('/users/global/cornkle/data/OBS/meteosat/MSG_1640_580_lat_lon.npz')\n",
      "mlon = msg_latlon['lon']\n",
      "mlat = msg_latlon['lat']\n",
      "ind=mlat.min()\n",
      "ind"
     ],
     "language": "python",
     "metadata": {},
     "outputs": [
      {
       "metadata": {},
       "output_type": "pyout",
       "prompt_number": 12,
       "text": [
        "3.9123871"
       ]
      }
     ],
     "prompt_number": 12
    },
    {
     "cell_type": "code",
     "collapsed": false,
     "input": [
      "a = abs(mlat - lat) + abs(mlon - lon)\n",
      "#i,j = np.unravel_index(a.argmin(), a.shape)\n",
      "#nb = rr[i,j]\n",
      "nb = rr.flatten()[a.argmin()]"
     ],
     "language": "python",
     "metadata": {},
     "outputs": []
    },
    {
     "cell_type": "code",
     "collapsed": false,
     "input": [
      "bla=np.array([2,5,4,7,6])\n",
      "ok = np.where((bla < 9) & (bla < 5))\n",
      "ok = np.array(ok)\n",
      "if ok.size:\n",
      "    bla = bla[ok]\n",
      "print bla"
     ],
     "language": "python",
     "metadata": {},
     "outputs": [
      {
       "output_type": "stream",
       "stream": "stdout",
       "text": [
        "[[2 4]]\n"
       ]
      }
     ],
     "prompt_number": 36
    },
    {
     "cell_type": "code",
     "collapsed": false,
     "input": [
      "isblob = np.where(rr == nb)"
     ],
     "language": "python",
     "metadata": {},
     "outputs": []
    },
    {
     "cell_type": "code",
     "collapsed": false,
     "input": [
      "isblob"
     ],
     "language": "python",
     "metadata": {},
     "outputs": []
    },
    {
     "cell_type": "code",
     "collapsed": false,
     "input": [
      "isblob[0]"
     ],
     "language": "python",
     "metadata": {},
     "outputs": []
    },
    {
     "cell_type": "code",
     "collapsed": false,
     "input": [
      "rr[isblob]"
     ],
     "language": "python",
     "metadata": {},
     "outputs": []
    },
    {
     "cell_type": "code",
     "collapsed": false,
     "input": [
      "blats=mlat[isblob]\n",
      "blons=mlon[isblob]"
     ],
     "language": "python",
     "metadata": {},
     "outputs": []
    },
    {
     "cell_type": "code",
     "collapsed": false,
     "input": [
      "blons"
     ],
     "language": "python",
     "metadata": {},
     "outputs": []
    },
    {
     "cell_type": "code",
     "collapsed": false,
     "input": [
      "h = [2,3,4,5,6,7]\n",
      "p = 3\n"
     ],
     "language": "python",
     "metadata": {},
     "outputs": []
    },
    {
     "cell_type": "code",
     "collapsed": false,
     "input": [
      "if not p in xrange(2,8): print 'bla'"
     ],
     "language": "python",
     "metadata": {},
     "outputs": []
    },
    {
     "cell_type": "code",
     "collapsed": false,
     "input": [
      "xrange(24)"
     ],
     "language": "python",
     "metadata": {},
     "outputs": []
    },
    {
     "cell_type": "code",
     "collapsed": false,
     "input": [
      "ar=np.array([[1,2,3,4], [2,3,4,5]])"
     ],
     "language": "python",
     "metadata": {},
     "outputs": [],
     "prompt_number": 59
    },
    {
     "cell_type": "code",
     "collapsed": false,
     "input": [
      "ar.shape"
     ],
     "language": "python",
     "metadata": {},
     "outputs": [
      {
       "metadata": {},
       "output_type": "pyout",
       "prompt_number": 60,
       "text": [
        "(2, 4)"
       ]
      }
     ],
     "prompt_number": 60
    },
    {
     "cell_type": "code",
     "collapsed": false,
     "input": [
      "t=np.where(ar == 1, True, False)"
     ],
     "language": "python",
     "metadata": {},
     "outputs": [],
     "prompt_number": 75
    },
    {
     "cell_type": "code",
     "collapsed": false,
     "input": [
      "if ~t.all(): print 'yes!'"
     ],
     "language": "python",
     "metadata": {},
     "outputs": [
      {
       "output_type": "stream",
       "stream": "stdout",
       "text": [
        "yes!\n"
       ]
      }
     ],
     "prompt_number": 79
    },
    {
     "cell_type": "code",
     "collapsed": false,
     "input": [
      "t"
     ],
     "language": "python",
     "metadata": {},
     "outputs": [
      {
       "metadata": {},
       "output_type": "pyout",
       "prompt_number": 78,
       "text": [
        "array([[ True, False, False, False],\n",
        "       [False, False, False, False]], dtype=bool)"
       ]
      }
     ],
     "prompt_number": 78
    },
    {
     "cell_type": "code",
     "collapsed": false,
     "input": [
      "ar[~t]=-999"
     ],
     "language": "python",
     "metadata": {},
     "outputs": [],
     "prompt_number": 81
    },
    {
     "cell_type": "code",
     "collapsed": false,
     "input": [
      "ar"
     ],
     "language": "python",
     "metadata": {},
     "outputs": [
      {
       "metadata": {},
       "output_type": "pyout",
       "prompt_number": 82,
       "text": [
        "array([[   1, -999, -999, -999],\n",
        "       [-999, -999, -999, -999]])"
       ]
      }
     ],
     "prompt_number": 82
    },
    {
     "cell_type": "code",
     "collapsed": false,
     "input": [
      "a = 8.4154643"
     ],
     "language": "python",
     "metadata": {},
     "outputs": [],
     "prompt_number": 85
    },
    {
     "cell_type": "code",
     "collapsed": false,
     "input": [
      "round(a)"
     ],
     "language": "python",
     "metadata": {},
     "outputs": [
      {
       "metadata": {},
       "output_type": "pyout",
       "prompt_number": 86,
       "text": [
        "8.0"
       ]
      }
     ],
     "prompt_number": 86
    },
    {
     "cell_type": "code",
     "collapsed": false,
     "input": [],
     "language": "python",
     "metadata": {},
     "outputs": [],
     "prompt_number": 116
    },
    {
     "cell_type": "code",
     "collapsed": false,
     "input": [
      "lats=-90\n",
      "lats = np.array([lats])\n",
      "xx = np.empty_like(lats)"
     ],
     "language": "python",
     "metadata": {},
     "outputs": [],
     "prompt_number": 185
    },
    {
     "cell_type": "code",
     "collapsed": false,
     "input": [
      "dotprod=np.array([-6.42354])\n",
      "dotprod"
     ],
     "language": "python",
     "metadata": {},
     "outputs": [
      {
       "metadata": {},
       "output_type": "pyout",
       "prompt_number": 186,
       "text": [
        "array([-6.42354])"
       ]
      }
     ],
     "prompt_number": 186
    },
    {
     "cell_type": "code",
     "collapsed": false,
     "input": [
      "t=np.where(np.array([-1.]) > 0., True, False)"
     ],
     "language": "python",
     "metadata": {},
     "outputs": [],
     "prompt_number": 200
    },
    {
     "cell_type": "code",
     "collapsed": false,
     "input": [
      "if ~t.all():\n",
      "        lats[~t]=-999"
     ],
     "language": "python",
     "metadata": {},
     "outputs": [],
     "prompt_number": 201
    },
    {
     "cell_type": "code",
     "collapsed": false,
     "input": [
      "lats"
     ],
     "language": "python",
     "metadata": {},
     "outputs": [
      {
       "metadata": {},
       "output_type": "pyout",
       "prompt_number": 192,
       "text": [
        "array([-999])"
       ]
      }
     ],
     "prompt_number": 192
    },
    {
     "cell_type": "code",
     "collapsed": false,
     "input": [
      "lats.size"
     ],
     "language": "python",
     "metadata": {},
     "outputs": [
      {
       "metadata": {},
       "output_type": "pyout",
       "prompt_number": 133,
       "text": [
        "1"
       ]
      }
     ],
     "prompt_number": 133
    },
    {
     "cell_type": "code",
     "collapsed": false,
     "input": [
      "lats"
     ],
     "language": "python",
     "metadata": {},
     "outputs": [
      {
       "metadata": {},
       "output_type": "pyout",
       "prompt_number": 115,
       "text": [
        "array(-91)"
       ]
      }
     ],
     "prompt_number": 115
    },
    {
     "cell_type": "code",
     "collapsed": false,
     "input": [
      "np.array(-90)"
     ],
     "language": "python",
     "metadata": {},
     "outputs": [
      {
       "metadata": {},
       "output_type": "pyout",
       "prompt_number": 146,
       "text": [
        "array(-90)"
       ]
      }
     ],
     "prompt_number": 146
    },
    {
     "cell_type": "code",
     "collapsed": false,
     "input": [
      "np.array([-90.453])"
     ],
     "language": "python",
     "metadata": {},
     "outputs": [
      {
       "metadata": {},
       "output_type": "pyout",
       "prompt_number": 202,
       "text": [
        "array([-90.453])"
       ]
      }
     ],
     "prompt_number": 202
    },
    {
     "cell_type": "code",
     "collapsed": false,
     "input": [
      "np.round([-90.553])"
     ],
     "language": "python",
     "metadata": {},
     "outputs": [
      {
       "metadata": {},
       "output_type": "pyout",
       "prompt_number": 204,
       "text": [
        "array([-91.])"
       ]
      }
     ],
     "prompt_number": 204
    },
    {
     "cell_type": "code",
     "collapsed": false,
     "input": [
      "lats[-1]"
     ],
     "language": "python",
     "metadata": {},
     "outputs": [
      {
       "metadata": {},
       "output_type": "pyout",
       "prompt_number": 205,
       "text": [
        "-999"
       ]
      }
     ],
     "prompt_number": 205
    },
    {
     "cell_type": "code",
     "collapsed": false,
     "input": [
      "lats"
     ],
     "language": "python",
     "metadata": {},
     "outputs": [
      {
       "metadata": {},
       "output_type": "pyout",
       "prompt_number": 206,
       "text": [
        "array([-999])"
       ]
      }
     ],
     "prompt_number": 206
    },
    {
     "cell_type": "code",
     "collapsed": false,
     "input": [],
     "language": "python",
     "metadata": {},
     "outputs": []
    }
   ],
   "metadata": {}
  }
 ]
}