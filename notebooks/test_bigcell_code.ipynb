{
 "metadata": {
  "name": "",
  "signature": "sha256:ab1508dedb410a2094a44d6a20ef8a3675d8756559432de01be72a4a608d3bc6"
 },
 "nbformat": 3,
 "nbformat_minor": 0,
 "worksheets": [
  {
   "cells": [
    {
     "cell_type": "code",
     "collapsed": false,
     "input": [
      "import numpy as np\n",
      "import os.path\n",
      "from scipy import ndimage\n",
      "import itertools\n",
      "import matplotlib as mpl\n",
      "import math\n",
      "import matplotlib.pyplot as plt\n",
      "from mapping import creategrid as grd\n",
      "from mpl_toolkits.basemap import Basemap\n",
      "import cartopy.crs as ccrs\n",
      "import cartopy.feature as cfeature\n",
      "import matplotlib.pylab as pylab\n",
      "import pandas as pd\n",
      "from eod import msg as msg\n",
      "pylab.rcParams['figure.figsize'] = (16., 9.)\n",
      "%matplotlib inline"
     ],
     "language": "python",
     "metadata": {},
     "outputs": [],
     "prompt_number": 72
    },
    {
     "cell_type": "code",
     "collapsed": false,
     "input": [
      "# read only trmm files that I need and give out proper lons lats etc\n",
      "files = \"/users/global/cornkle/data/OBS/TRMM/trmm_swaths_WA/2011/06/2A25.20110612.77322.7.gra\"\n",
      " # /2011/06/2A25.20110612.77322.7.gra\"  good to show\n",
      "rr = np.fromfile(files,dtype=np.int16) \n",
      "x = 49\n",
      "nb = rr.size\n",
      "single = nb/4 # variables lon lat rainrate flag\n",
      "\n",
      "lons = rr[0:single]\n",
      "lats = rr[single:2*single]\n",
      "rainrs = rr[2*single:3*single]\n",
      "flags = rr[3*single:4*single]"
     ],
     "language": "python",
     "metadata": {},
     "outputs": [],
     "prompt_number": 116
    },
    {
     "cell_type": "code",
     "collapsed": false,
     "input": [
      "y = lons.size/x\n",
      "lons = np.resize(lons, (y,x))\n",
      "lats = np.resize(lats, (y,x))\n",
      "rainrs = np.resize(rainrs, (y,x))\n",
      "flags = np.resize(flags, (y,x))\n",
      "lon=lons/100.\n",
      "lat=lats/100.\n",
      "rainr=rainrs/10.\n",
      "lonmin, lonmax=np.amin(lon),np.amax(lon)\n",
      "latmin, latmax=np.amin(lat),np.amax(lat)\n",
      "lonx=lon[0,:]\n",
      "laty=lat[:,0]\n",
      "rainrs.shape"
     ],
     "language": "python",
     "metadata": {},
     "outputs": [
      {
       "metadata": {},
       "output_type": "pyout",
       "prompt_number": 117,
       "text": [
        "(1159, 49)"
       ]
      }
     ],
     "prompt_number": 117
    },
    {
     "cell_type": "code",
     "collapsed": false,
     "input": [
      "ax = plt.axes(projection=ccrs.PlateCarree())\n",
      "plt.contour(lon, lat, rainrs, levels=np.arange(0,15,0.5), transform=ccrs.PlateCarree())\n",
      "ax.coastlines()"
     ],
     "language": "python",
     "metadata": {},
     "outputs": [
      {
       "metadata": {},
       "output_type": "pyout",
       "prompt_number": 118,
       "text": [
        "<cartopy.mpl.feature_artist.FeatureArtist at 0x7f5cde31a290>"
       ]
      },
      {
       "metadata": {},
       "output_type": "display_data",
       "png": "[encoded data removed]",
       "text": [
        "<matplotlib.figure.Figure at 0x7f5cde6b7250>"
       ]
      }
     ],
     "prompt_number": 118
    },
    {
     "cell_type": "code",
     "collapsed": false,
     "input": [
      "path = \"/users/global/cornkle/data/OBS/meteosat/cell_blob_files/2011/06/\"  # 201106122130 good to show\n",
      "filename = \"201106122130.gra\"\n",
      "files = path + filename\n",
      "rrShape = (580,1640)\n",
      "rrMDI = np.uint16()\n",
      "rr = np.fromfile(files,dtype=rrMDI.dtype) \n",
      "print rr.shape\n",
      "rr.shape = rrShape\n",
      "rr"
     ],
     "language": "python",
     "metadata": {},
     "outputs": [
      {
       "output_type": "stream",
       "stream": "stdout",
       "text": [
        "(951200,)\n"
       ]
      },
      {
       "metadata": {},
       "output_type": "pyout",
       "prompt_number": 119,
       "text": [
        "array([[0, 0, 0, ..., 0, 0, 0],\n",
        "       [0, 0, 0, ..., 0, 0, 0],\n",
        "       [0, 0, 0, ..., 0, 0, 0],\n",
        "       ..., \n",
        "       [0, 0, 0, ..., 0, 0, 0],\n",
        "       [0, 0, 0, ..., 0, 0, 0],\n",
        "       [0, 0, 0, ..., 0, 0, 0]], dtype=uint16)"
       ]
      }
     ],
     "prompt_number": 119
    },
    {
     "cell_type": "code",
     "collapsed": false,
     "input": [
      "ax = plt.axes(projection=ccrs.PlateCarree())\n",
      "plt.contourf(mlon, mlat, rr, levels=np.arange(1,100,1), transform=ccrs.PlateCarree())\n",
      "ax.coastlines()\n"
     ],
     "language": "python",
     "metadata": {},
     "outputs": [
      {
       "metadata": {},
       "output_type": "pyout",
       "prompt_number": 120,
       "text": [
        "<cartopy.mpl.feature_artist.FeatureArtist at 0x7f5cddf53a10>"
       ]
      },
      {
       "metadata": {},
       "output_type": "display_data",
       "png": "[encoded data removed]",
       "text": [
        "<matplotlib.figure.Figure at 0x7f5cde5fdd90>"
       ]
      }
     ],
     "prompt_number": 120
    },
    {
     "cell_type": "code",
     "collapsed": false,
     "input": [
      "img=plt.contourf(rr, [29,30, 31], interpolation='none')\n",
      "plt.colorbar()"
     ],
     "language": "python",
     "metadata": {},
     "outputs": [
      {
       "metadata": {},
       "output_type": "pyout",
       "prompt_number": 122,
       "text": [
        "<matplotlib.colorbar.Colorbar instance at 0x7f5cddcd2320>"
       ]
      },
      {
       "metadata": {},
       "output_type": "display_data",
       "png": "[encoded data removed]",
       "text": [
        "<matplotlib.figure.Figure at 0x7f5cde6a4390>"
       ]
      }
     ],
     "prompt_number": 122
    },
    {
     "cell_type": "code",
     "collapsed": false,
     "input": [
      "rfile='/users/global/cmt/msg/WAfrica/archive_WAfrica/ch9/2011/06/201106122130.gra' #works!\n",
      "\n",
      "rShape = (580,1640)\n",
      "rMDI = np.uint8(255)\n",
      "r = np.fromfile(rfile,dtype=rrMDI.dtype)\n",
      "r.shape = rShape\n",
      "r = r.astype(np.int32) - 173"
     ],
     "language": "python",
     "metadata": {},
     "outputs": [],
     "prompt_number": 163
    },
    {
     "cell_type": "code",
     "collapsed": false,
     "input": [
      "ax = plt.axes(projection=ccrs.PlateCarree())\n",
      "plt.contourf(mlon, mlat, r, levels=np.arange(-80,0,2), transform=ccrs.PlateCarree())\n",
      "ax.coastlines()\n",
      "plt.colorbar()"
     ],
     "language": "python",
     "metadata": {},
     "outputs": [
      {
       "metadata": {},
       "output_type": "pyout",
       "prompt_number": 168,
       "text": [
        "<matplotlib.colorbar.Colorbar instance at 0x7f5cc19fc560>"
       ]
      },
      {
       "metadata": {},
       "output_type": "display_data",
       "png": "[encoded data removed]",
       "text": [
        "<matplotlib.figure.Figure at 0x7f5cc1f9d110>"
       ]
      }
     ],
     "prompt_number": 168
    },
    {
     "cell_type": "code",
     "collapsed": false,
     "input": [
      " ll_trmm = ll_toMSG(lons,lats)\n",
      "          \n",
      "tx = ll_trmm['x']\n",
      "ty = ll_trmm['y']\n",
      "          \n",
      "tpair = (tx+ty)*(tx+ty+1)/2+ty               \n",
      "inter=np.in1d(tpair, mpair) \n",
      "inter_rev=np.in1d(mpair, tpair.flatten()[inter])\n",
      "          \n",
      "# No intersection between Trmm and MSG? Continue!\n",
      "if not inter.any(): \n",
      "print 'No intersec'\n",
      "          \n",
      "bprcp=trs['pcp'].flatten()[inter] \n",
      "flags=trs['flags'].flatten()[inter] \n",
      "\n",
      "\n",
      "mtt=msg_raw[isblob].flatten()[inter_rev]    CHECK THIS!!"
     ],
     "language": "python",
     "metadata": {},
     "outputs": []
    },
    {
     "cell_type": "code",
     "collapsed": false,
     "input": [
      "df = pd.read_csv(\"/users/global/cornkle/data/OBS/meteosat/bigcell_area_table/rewrite/cell_40c_2130_JJAS.txt\")\n",
      "sel=df.loc[df['Date'] == '2011-06-12 21:30:00']\n",
      "#print sel\n",
      "#if '2013-09-01 20:00:00' in df['Date'].as_matrix(): print 'yes'\n",
      "big = sel.loc[sel['Area'] >= 25000]\n",
      "big.head()"
     ],
     "language": "python",
     "metadata": {},
     "outputs": [
      {
       "html": [
        "<div style=\"max-height:1000px;max-width:1500px;overflow:auto;\">\n",
        "<table border=\"1\" class=\"dataframe\">\n",
        "  <thead>\n",
        "    <tr style=\"text-align: right;\">\n",
        "      <th></th>\n",
        "      <th>Unnamed: 0</th>\n",
        "      <th>Area</th>\n",
        "      <th>Lat</th>\n",
        "      <th>Lon</th>\n",
        "      <th>Mincol</th>\n",
        "      <th>Temp</th>\n",
        "      <th>Tresh</th>\n",
        "      <th>Date</th>\n",
        "    </tr>\n",
        "  </thead>\n",
        "  <tbody>\n",
        "    <tr>\n",
        "      <th>43501</th>\n",
        "      <td> 43501</td>\n",
        "      <td>  26486</td>\n",
        "      <td> 17.3</td>\n",
        "      <td>  6.6</td>\n",
        "      <td>  806</td>\n",
        "      <td>-50.95</td>\n",
        "      <td>-78</td>\n",
        "      <td> 2011-06-12 21:30:00</td>\n",
        "    </tr>\n",
        "    <tr>\n",
        "      <th>43511</th>\n",
        "      <td> 43511</td>\n",
        "      <td>  25026</td>\n",
        "      <td> 14.7</td>\n",
        "      <td> 18.1</td>\n",
        "      <td> 1211</td>\n",
        "      <td>-53.97</td>\n",
        "      <td>-77</td>\n",
        "      <td> 2011-06-12 21:30:00</td>\n",
        "    </tr>\n",
        "    <tr>\n",
        "      <th>43519</th>\n",
        "      <td> 43519</td>\n",
        "      <td>  61346</td>\n",
        "      <td> 12.6</td>\n",
        "      <td> 22.3</td>\n",
        "      <td> 1342</td>\n",
        "      <td>-65.45</td>\n",
        "      <td>-81</td>\n",
        "      <td> 2011-06-12 21:30:00</td>\n",
        "    </tr>\n",
        "    <tr>\n",
        "      <th>43523</th>\n",
        "      <td> 43523</td>\n",
        "      <td>  94640</td>\n",
        "      <td> 11.2</td>\n",
        "      <td> 10.4</td>\n",
        "      <td>  919</td>\n",
        "      <td>-60.19</td>\n",
        "      <td>-86</td>\n",
        "      <td> 2011-06-12 21:30:00</td>\n",
        "    </tr>\n",
        "    <tr>\n",
        "      <th>43531</th>\n",
        "      <td> 43531</td>\n",
        "      <td> 148267</td>\n",
        "      <td>  9.6</td>\n",
        "      <td>-14.0</td>\n",
        "      <td>    6</td>\n",
        "      <td>-62.30</td>\n",
        "      <td>-91</td>\n",
        "      <td> 2011-06-12 21:30:00</td>\n",
        "    </tr>\n",
        "  </tbody>\n",
        "</table>\n",
        "</div>"
       ],
       "metadata": {},
       "output_type": "pyout",
       "prompt_number": 123,
       "text": [
        "       Unnamed: 0    Area   Lat   Lon  Mincol   Temp  Tresh  \\\n",
        "43501       43501   26486  17.3   6.6     806 -50.95    -78   \n",
        "43511       43511   25026  14.7  18.1    1211 -53.97    -77   \n",
        "43519       43519   61346  12.6  22.3    1342 -65.45    -81   \n",
        "43523       43523   94640  11.2  10.4     919 -60.19    -86   \n",
        "43531       43531  148267   9.6 -14.0       6 -62.30    -91   \n",
        "\n",
        "                      Date  \n",
        "43501  2011-06-12 21:30:00  \n",
        "43511  2011-06-12 21:30:00  \n",
        "43519  2011-06-12 21:30:00  \n",
        "43523  2011-06-12 21:30:00  \n",
        "43531  2011-06-12 21:30:00  "
       ]
      }
     ],
     "prompt_number": 123
    },
    {
     "cell_type": "code",
     "collapsed": false,
     "input": [
      "msg_latlon=np.load('/users/global/cornkle/data/OBS/meteosat/MSG_1640_580_lat_lon.npz')\n",
      "mlon = msg_latlon['lon']\n",
      "mlat = msg_latlon['lat']\n",
      "mlat"
     ],
     "language": "python",
     "metadata": {},
     "outputs": [
      {
       "metadata": {},
       "output_type": "pyout",
       "prompt_number": 112,
       "text": [
        "array([[  3.94719744,   3.94708943,   3.9469614 , ...,   4.02024937,\n",
        "          4.02049541,   4.02072763],\n",
        "       [  3.97467399,   3.97457552,   3.97443843, ...,   4.04824352,\n",
        "          4.04849911,   4.04873514],\n",
        "       [  4.00216055,   4.00205374,   4.00191498, ...,   4.07623863,\n",
        "          4.07649755,   4.07673502],\n",
        "       ..., \n",
        "       [ 20.41603279,  20.41537476,  20.41458893, ...,  20.8565979 ,\n",
        "         20.85813713,  20.85949516],\n",
        "       [ 20.44630051,  20.44569588,  20.44486427, ...,  20.8877697 ,\n",
        "         20.8893261 ,  20.89079285],\n",
        "       [ 20.47672844,  20.4761219 ,  20.47529411, ...,  20.91907501,\n",
        "         20.92054749,  20.92202568]], dtype=float32)"
       ]
      }
     ],
     "prompt_number": 112
    },
    {
     "cell_type": "code",
     "collapsed": false,
     "input": [
      "a = abs(mlat - lat[0]) + abs(mlon - lon[0])\n",
      "#i,j = np.unravel_index(a.argmin(), a.shape)\n",
      "#nb = rr[i,j]\n",
      "nb = rr.flatten()[a.argmin()]"
     ],
     "language": "python",
     "metadata": {},
     "outputs": []
    },
    {
     "cell_type": "code",
     "collapsed": false,
     "input": [
      "isblob = np.where(rr == 146)\n",
      "isblob[1].size"
     ],
     "language": "python",
     "metadata": {},
     "outputs": [
      {
       "metadata": {},
       "output_type": "pyout",
       "prompt_number": 111,
       "text": [
        "4"
       ]
      }
     ],
     "prompt_number": 111
    },
    {
     "cell_type": "code",
     "collapsed": false,
     "input": [
      " ll_trmm = ll_toMSG(trs['lons'],trs['lats'])\n",
      "          \n",
      "          tx = ll_trmm['x']\n",
      "          ty = ll_trmm['y']\n",
      "          \n",
      "          tpair = (tx+ty)*(tx+ty+1)/2+ty               \n",
      "          inter=np.in1d(tpair, mpair) \n",
      "          inter_rev=np.in1d(mpair, tpair.flatten()[inter])\n",
      "          \n",
      "          # No intersection between Trmm and MSG? Continue!\n",
      "          if not inter.any(): \n",
      "              continue\n",
      "          \n",
      "          #Problem: taking parts of systems to compute rainfall, but mean T s for whole system\n",
      "          # Trmm swath are never as wide as the big systems!! \n",
      "          \n",
      "          bprcp=trs['pcp'].flatten()[inter] \n",
      "          flags=trs['flags'].flatten()[inter] \n",
      "          mtt=msg_raw[isblob].flatten()[inter_rev]    CHECK THIS!!"
     ],
     "language": "python",
     "metadata": {},
     "outputs": []
    }
   ],
   "metadata": {}
  }
 ]
}