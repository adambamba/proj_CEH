{
 "cells": [
  {
   "cell_type": "code",
   "execution_count": null,
   "metadata": {},
   "outputs": [],
   "source": [
    "import numpy as np\n",
    "import matplotlib.pyplot as plt\n",
    "from wavelet.old_dani import twod_dani_old as w2d\n",
    "import matplotlib as mpl\n",
    "import matplotlib.pyplot as plt\n",
    "from utils import u_arrays as ua\n",
    "from scipy import ndimage\n",
    "import matplotlib.pylab as pylab\n",
    "pylab.rcParams['figure.figsize'] = (16., 9.)\n",
    "%matplotlib inline\n"
   ]
  },
  {
   "cell_type": "markdown",
   "metadata": {},
   "source": [
    "Create homogeneous circle with sharp edges and bell-shaped curve to compare wavelet analysis on those shapes"
   ]
  },
  {
   "cell_type": "code",
   "execution_count": null,
   "metadata": {
    "collapsed": true
   },
   "outputs": [],
   "source": [
    "ellipse = np.zeros((300,300))\n",
    "short =17\n",
    "xcirc, ycirc = ua.draw_circle(150,150,short)\n",
    "ellipse[ycirc,xcirc] = -1    #  full shape is -1\n",
    "\n",
    "res = 5\n",
    "mother2d = w2d.Mexican_hat()"
   ]
  },
  {
   "cell_type": "code",
   "execution_count": null,
   "metadata": {
    "collapsed": true
   },
   "outputs": [],
   "source": [
    "x1 = np.arange(300)\n",
    "y1 = np.arange(300)\n",
    "x,y = np.meshgrid(x1,y1)\n",
    "bell = np.exp(-( (x-150)**2/100. + (y-150)**2/3600. ))* -1   # minimum is -1"
   ]
  },
  {
   "cell_type": "code",
   "execution_count": null,
   "metadata": {},
   "outputs": [],
   "source": [
    "wavel_circ, scales_circ, freqs_circ = w2d.cwt2d(ellipse, res, res, dj=0.09, s0=5, J=55)\n",
    "wavel_bell, scales_bell, freqs_bell = w2d.cwt2d(bell, res, res, dj=0.09, s0=5, J=55)\n",
    "\n",
    "def calc(wavel_in, scales_in, freq_in):\n",
    "    wavel = wavel_in.copy()\n",
    "    wavel[np.real(wavel>=0)] = 0 \n",
    "    power = (np.abs(wavel)) **2\n",
    "    period = 1. / freq_in\n",
    "    scales = scales_in.copy()\n",
    "    scales.shape = (len(scales),1,1)\n",
    "    power_norm = power / (scales**2)\n",
    "    real_scales = period / 2. #(period/3.) * 2 #\n",
    "    \n",
    "    return wavel, power_norm, period, real_scales\n",
    "\n",
    "wavel_circ_pos, power_circ, period_circ, scale_circ = calc(wavel_circ, scales_circ, freqs_circ)\n",
    "wavel_bell_pos, power_bell, period_bell, scale_bell = calc(wavel_bell, scales_bell, freqs_bell)\n"
   ]
  },
  {
   "cell_type": "code",
   "execution_count": null,
   "metadata": {},
   "outputs": [],
   "source": [
    "print(scale_circ)\n",
    "print(scale_bell)"
   ]
  },
  {
   "cell_type": "code",
   "execution_count": null,
   "metadata": {},
   "outputs": [],
   "source": [
    "def calc_max_2d(power):\n",
    "    wll = power\n",
    "    maxs = np.zeros_like(wll)\n",
    "    yl = []\n",
    "    xl = []\n",
    "    zl = []\n",
    "    for nb in range(power.shape[0]):\n",
    "\n",
    "        wll = power\n",
    "        wl = power[nb, :, :]\n",
    "\n",
    "        maxout = (\n",
    "            wl == ndimage.maximum_filter(wl, (5, 5), mode='constant', cval=np.amax(wl) + 1))  # (np.round(orig / 5))\n",
    "\n",
    "        try:\n",
    "            yy, xx = np.where((maxout == 1))\n",
    "        except IndexError:\n",
    "            continue\n",
    "\n",
    "        for y, x in zip(yy, xx):\n",
    "            #print(arr[nb],y,x)\n",
    "\n",
    "            maxs[nb,y,x] = 1\n",
    "            #print('Power value',wll[nb,y,x])\n",
    "            yl.append(y)\n",
    "            xl.append(x)\n",
    "            zl.append(nb)\n",
    "    print('finish loop')\n",
    "    \n",
    "    return zl, yl, xl, maxs\n",
    "\n",
    "z_circ, y_circ, x_circ, max_circ = calc_max_2d(power_circ)\n",
    "z_bell, y_bell, x_bell, max_bell = calc_max_2d(power_bell)"
   ]
  },
  {
   "cell_type": "code",
   "execution_count": null,
   "metadata": {
    "collapsed": true
   },
   "outputs": [],
   "source": [
    "def calc_max_3d(power):\n",
    "    wll = power \n",
    "    maxout2 = (\n",
    "        wll == ndimage.maximum_filter(wll, (5, 5,5), mode='reflect', cval=np.amax(wl) + 1))  # (np.round(orig / 5))\n",
    "    zl, yl, xl = np.where((maxout2==1))  #  & (wll > arr.repeat(300*300,axis=0).reshape((nb+1,300,300)) ** .5)\n",
    "    "
   ]
  },
  {
   "cell_type": "code",
   "execution_count": null,
   "metadata": {},
   "outputs": [],
   "source": [
    "print('Circ power max', power_circ.max())\n",
    "print('Bell power max', power_bell.max())\n",
    "print(np.max(power_circ[:,150,150]))\n",
    "print(np.max(power_bell[:,150,150]))\n",
    "\n",
    "maxpos_circ = np.argmax(power_circ[:,150,150])\n",
    "maxpos_bell = np.argmax(power_bell[:,150,150])\n",
    "print('Max scale circ', scale_circ[maxpos_circ])\n",
    "print('Max scale bell', scale_bell[maxpos_bell])\n",
    "\n",
    "plt.figure()\n",
    "plt.plot(wavel_circ_pos[maxpos_circ,150,:], color='orange')\n",
    "plt.plot(ellipse[150,:], color='r')\n",
    "plt.plot(bell[150,:], linestyle='--', color='k')\n",
    "plt.plot(wavel_bell_pos[maxpos_bell,150,:], color='grey')\n",
    "\n",
    "plt.figure()\n",
    "plt.plot(power_circ[maxpos_circ,150,:], 'r')\n",
    "plt.plot(power_bell[maxpos_bell,150,:], 'k')\n",
    "\n",
    "print(np.sum(ellipse[150,:]<0))\n",
    "print(np.sum(bell[150,:]<-0.1))"
   ]
  },
  {
   "cell_type": "code",
   "execution_count": null,
   "metadata": {},
   "outputs": [],
   "source": [
    "def doPrints(power, scale, zl, yl, xl, maxs, res=res, short=short):\n",
    "    wlmax = np.max(power[zl,yl,xl])\n",
    "    pl = np.where(power == wlmax)\n",
    "\n",
    "    zll, yll, xll = np.where((maxs == 1))\n",
    "    wllmax = np.max(power[zll,yll,xll])\n",
    "    pll = np.where(power == wllmax)\n",
    "    #print('Available scales', scale)\n",
    "    print('Max point scales: ', scale[zl])\n",
    "\n",
    "    amax = np.unravel_index(np.argmax(power), power.shape)\n",
    "    print('Totalmax whole domain', scale[amax[0]])\n",
    "    print('Totalmax 3d', scale[pl[0]])\n",
    "    print('Totalmax 2d', scale[pll[0]])\n",
    "    print('Scale of perfect circle', (2*short+1)*res)\n",
    "    print('Pixel-adjusted perfect circle', (2 *short + 1 -2) *res)\n",
    "    print('Max scale in pixelacross', scale[amax[0]]/res)\n",
    "    print('Power max', np.max(power))\n",
    "    print(amax[0])\n",
    "    print('Scale', scale[amax[0]])\n",
    "    \n",
    "doPrints(power_circ, scale_circ, z_circ, y_circ, x_circ, max_circ, res=res, short=short)    \n",
    "doPrints(power_bell, scale_bell, z_bell, y_bell, x_bell, max_bell, res=res, short=short)    "
   ]
  },
  {
   "cell_type": "markdown",
   "metadata": {},
   "source": [
    "The result shows that period/2 returns a smaller 'discrete' scale than the actual discrete circle encompasses i.e. the true scale is underestimated for discrete features. 2/3 * period might be a more 'realistic' representation of discrete feature scales but period/2 might better represent the 'effective' scale i.e. not counting the low-value edges of features into the scale attribution. There is no simple objective way of doing/deciding this."
   ]
  },
  {
   "cell_type": "code",
   "execution_count": null,
   "metadata": {
    "collapsed": true
   },
   "outputs": [],
   "source": []
  }
 ],
 "metadata": {
  "kernelspec": {
   "display_name": "Python 3",
   "language": "python",
   "name": "python3"
  },
  "language_info": {
   "codemirror_mode": {
    "name": "ipython",
    "version": 3
   },
   "file_extension": ".py",
   "mimetype": "text/x-python",
   "name": "python",
   "nbconvert_exporter": "python",
   "pygments_lexer": "ipython3",
   "version": "3.5.3"
  }
 },
 "nbformat": 4,
 "nbformat_minor": 2
}
