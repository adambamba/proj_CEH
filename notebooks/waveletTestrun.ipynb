{
 "cells": [
  {
   "cell_type": "code",
   "execution_count": null,
   "metadata": {},
   "outputs": [],
   "source": [
    "import numpy as np\n",
    "import matplotlib.pyplot as plt\n",
    "from netCDF4 import Dataset\n",
    "from wavelet import twod as w2d\n",
    "import cartopy.crs as ccrs\n",
    "import matplotlib.pyplot as plt\n",
    "from scipy import signal\n",
    "from scipy import misc\n",
    "from scipy.ndimage.measurements import label\n",
    "from skimage import data\n",
    "from skimage.feature import match_template\n",
    "%matplotlib inline"
   ]
  },
  {
   "cell_type": "code",
   "execution_count": null,
   "metadata": {},
   "outputs": [],
   "source": [
    "#Read Conni's file\n",
    "ccfile = \"/users/global/cornkle/wtest/845_mt_wavelet_test.nc\"\n",
    "fh = Dataset(ccfile, mode='r')\n",
    "pcp = fh.variables['trmm'][:]\n",
    "tir = fh.variables['msg'][:]\n",
    "lat = fh.variables['lat'][:]\n",
    "lon = fh.variables['lon'][:]\n",
    "\n",
    "dt = 5. #grid spacing in km"
   ]
  },
  {
   "cell_type": "code",
   "execution_count": null,
   "metadata": {},
   "outputs": [],
   "source": [
    "ax = plt.axes(projection=ccrs.PlateCarree())\n",
    "plt.contourf(lon, lat ,tir,levels=np.arange(-60,-20,1), transform=ccrs.PlateCarree(), cmap='jet')\n",
    "cbar=plt.colorbar()\n",
    "cbar.set_label('Power_T', rotation=270, labelpad=+11)\n",
    "plt.contourf(lon, lat, t,levels=np.arange(1,200,5), transform=ccrs.PlateCarree())\n",
    "cbar=plt.colorbar()\n",
    "plt.savefig('/users/global/cornkle/test1.pdf')"
   ]
  },
  {
   "cell_type": "code",
   "execution_count": null,
   "metadata": {},
   "outputs": [],
   "source": [
    "ax = plt.axes(projection=ccrs.PlateCarree())\n",
    "plt.contourf(lon, lat ,tir,levels=np.arange(-60,-20,1), transform=ccrs.PlateCarree(), cmap='jet')\n",
    "#cbar=plt.colorbar()\n",
    "#cbar.set_label('Power_T', rotation=270, labelpad=+11)\n",
    "#plt.contourf(lon, lat, t,levels=np.arange(1,200,5), transform=ccrs.PlateCarree())\n",
    "#cbar=plt.colorbar()\n",
    "plt.savefig('/users/global/cornkle/test2.pdf')"
   ]
  },
  {
   "cell_type": "code",
   "execution_count": null,
   "metadata": {
    "collapsed": true
   },
   "outputs": [],
   "source": [
    "#2D continuous wavelet analysis:\n",
    "#TIR\n",
    "tiror = np.copy(tir)\n",
    "tir[tir>0] = 0\n",
    "tir = tir - np.mean(tir) \n",
    "mother2d = w2d.Mexican_hat()\n",
    "powerTIR, scales2d, freqs2d = w2d.cwt2d(tir, dt, dt, dj=1./12, s0=30./mother2d.flambda(), J=45)\n",
    "powerTIR[np.real(powerTIR>=0)] = 0.01\n",
    "powerTIR = (np.abs(powerTIR)) ** 2 # Normalized wavelet power spectrum\n",
    "period2d = 1. / freqs2d\n",
    "scales2d.shape = (len(scales2d),1,1)\n",
    "powerTIR = powerTIR / (scales2d**2)"
   ]
  },
  {
   "cell_type": "code",
   "execution_count": null,
   "metadata": {},
   "outputs": [],
   "source": [
    "(period2d/2).round()[20]"
   ]
  },
  {
   "cell_type": "code",
   "execution_count": null,
   "metadata": {},
   "outputs": [],
   "source": [
    "#Precip\n",
    "powerPCP, scales2d, freqs2d = w2d.cwt2d(pcp, dt, dt, dj=1./12, s0=30./mother2d.flambda(), J=45)\n",
    "powerPCP[np.real(powerPCP<=0)] = 0.01\n",
    "powerPCP = (np.abs(powerPCP)) ** 2 # Normalized wavelet power spectrum\n",
    "scales2d.shape = (len(scales2d),1,1)\n",
    "powerPCP = powerPCP / (scales2d**2)"
   ]
  },
  {
   "cell_type": "code",
   "execution_count": null,
   "metadata": {
    "collapsed": true
   },
   "outputs": [],
   "source": []
  },
  {
   "cell_type": "markdown",
   "metadata": {},
   "source": []
  },
  {
   "cell_type": "code",
   "execution_count": null,
   "metadata": {},
   "outputs": [],
   "source": [
    "t=powerTIR[20,:,:]\n",
    "p=powerPCP[20,:, :]\n",
    "\n",
    "#tc=1.*((t-t.mean())/t.std())/np.sqrt(len(tc.flatten()))\n",
    "#pc=1.*(p-p.mean())/p.std()/np.sqrt(len(tc.flatten()))\n"
   ]
  },
  {
   "cell_type": "code",
   "execution_count": null,
   "metadata": {},
   "outputs": [],
   "source": [
    "ax = plt.axes(projection=ccrs.PlateCarree())\n",
    "plt.contourf(lon, lat, tir,levels=np.arange(-70,-40,1), transform=ccrs.PlateCarree())\n",
    "cbar=plt.colorbar()\n",
    "cbar.set_label('T', rotation=270, labelpad=+11)\n",
    "#plt.contourf(lon, lat ,t,levels=np.arange(1,100,1), transform=ccrs.PlateCarree(), cmap='jet')\n",
    "cbar=plt.colorbar()\n",
    "cbar.set_label('Power_T', rotation=270, labelpad=+11)\n",
    "\n"
   ]
  },
  {
   "cell_type": "code",
   "execution_count": null,
   "metadata": {
    "collapsed": true
   },
   "outputs": [],
   "source": [
    "ax = plt.axes(projection=ccrs.PlateCarree())\n",
    "plt.contourf(lon, lat ,t,levels=np.arange(1,100,1), transform=ccrs.PlateCarree(), cmap='jet')\n",
    "cbar=plt.colorbar()\n",
    "cbar.set_label('Power_T', rotation=270, labelpad=+11)\n",
    "plt.contourf(lon, lat, p,levels=np.arange(1,100,5), transform=ccrs.PlateCarree())\n",
    "cbar=plt.colorbar()\n",
    "cbar.set_label('Power_P', rotation=270, labelpad=+11)\n",
    "plt.contour(lon, lat, p,levels=np.arange(1,100,5), transform=ccrs.PlateCarree())"
   ]
  },
  {
   "cell_type": "code",
   "execution_count": null,
   "metadata": {},
   "outputs": [],
   "source": [
    "corr = signal.correlate2d(tc, pc[5:-5,5:-5] , mode='valid')\n",
    "y, x = np.unravel_index(np.argmax(corr), corr.shape) # find the match~"
   ]
  },
  {
   "cell_type": "code",
   "execution_count": null,
   "metadata": {},
   "outputs": [],
   "source": [
    "plt.pcolormesh(corr)\n",
    "plt.colorbar()\n",
    "plt.plot(x, y, 'ro')"
   ]
  },
  {
   "cell_type": "code",
   "execution_count": null,
   "metadata": {},
   "outputs": [],
   "source": [
    "corr2 = match_template(t, p[5:-5, 5:-5])"
   ]
  },
  {
   "cell_type": "code",
   "execution_count": null,
   "metadata": {},
   "outputs": [],
   "source": [
    "corr2.shape\n",
    "y,x = np.unravel_index(np.argmax(corr2), corr2.shape)"
   ]
  },
  {
   "cell_type": "code",
   "execution_count": null,
   "metadata": {},
   "outputs": [],
   "source": [
    "plt.pcolormesh(corr2)\n",
    "plt.colorbar()\n",
    "plt.plot(x, y, 'ro')\n",
    "print(y,x)\n",
    "corr2.shape"
   ]
  },
  {
   "cell_type": "code",
   "execution_count": null,
   "metadata": {},
   "outputs": [],
   "source": [
    "xx=[]\n",
    "yy=[]\n",
    "for k in range(10,25):\n",
    "    \n",
    "    t=powerTIR[k,:,:]\n",
    "    p=powerPCP[k,:, :]\n",
    "    corr2 = match_template(t, p[10:-10, 10:-10])\n",
    "    y,x = np.unravel_index(np.argmax(corr2), corr2.shape)\n",
    "    xx.append(x)\n",
    "    yy.append(y)\n",
    "    print(int(period2d[k]/2.))\n",
    "print(int(period2d[16]/2.))\n",
    "print(xx)\n",
    "print(yy)"
   ]
  },
  {
   "cell_type": "code",
   "execution_count": null,
   "metadata": {},
   "outputs": [],
   "source": [
    "t=powerTIR[16,:,:]\n",
    "p=powerPCP[16,:, :]\n",
    "corr2 = match_template(t, p[10:-10, 10:-10])\n",
    "y,x = np.unravel_index(np.argmax(corr2), corr2.shape)"
   ]
  },
  {
   "cell_type": "code",
   "execution_count": null,
   "metadata": {},
   "outputs": [],
   "source": [
    "t=powerTIR[20,:,:]\n",
    "p=powerPCP[20,:, :]\n",
    "corr2 = match_template(t, p[10:-10, 10:-10])\n",
    "plt.pcolormesh(corr2)\n",
    "plt.colorbar()\n",
    "plt.plot(10,10, 'bo')\n",
    "for k in range(len(xx)):\n",
    "    plt.plot(xx[k],yy[k], 'ro')\n",
    "plt.savefig('/users/global/cornkle/730_26-60.pdf')"
   ]
  },
  {
   "cell_type": "code",
   "execution_count": null,
   "metadata": {
    "collapsed": true
   },
   "outputs": [],
   "source": []
  }
 ],
 "metadata": {
  "kernelspec": {
   "display_name": "Python 3",
   "language": "python",
   "name": "python3"
  },
  "language_info": {
   "codemirror_mode": {
    "name": "ipython",
    "version": 3
   },
   "file_extension": ".py",
   "mimetype": "text/x-python",
   "name": "python",
   "nbconvert_exporter": "python",
   "pygments_lexer": "ipython3",
   "version": "3.5.3"
  }
 },
 "nbformat": 4,
 "nbformat_minor": 1
}
